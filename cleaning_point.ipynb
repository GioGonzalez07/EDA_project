{
 "cells": [
  {
   "cell_type": "code",
   "execution_count": null,
   "metadata": {},
   "outputs": [],
   "source": [
    "# imports\n",
    "\n",
    "# standard import of pandas\n",
    "import pandas as pd"
   ]
  },
  {
   "cell_type": "code",
   "execution_count": null,
   "metadata": {},
   "outputs": [],
   "source": [
    "# getting dataframes\n",
    "\n",
    "%store -r start_orders\n",
    "%store -r start_order_process\n",
    "%store -r start_intern_study\n",
    "%store -r start_campaign"
   ]
  },
  {
   "cell_type": "code",
   "execution_count": null,
   "metadata": {},
   "outputs": [],
   "source": [
    "clean_orders = start_orders.copy()\n",
    "clean_order_process = start_order_process.copy()\n",
    "clean_intern_study = start_intern_study.copy()\n",
    "clean_campaign = start_campaign.copy()"
   ]
  },
  {
   "cell_type": "code",
   "execution_count": null,
   "metadata": {},
   "outputs": [],
   "source": [
    "# function to make all the columns lower and snake case\n",
    "\n",
    "def columns_format(data_frame):\n",
    "\tdata_frame.columns = data_frame.columns.str.lower()\n",
    "\tdata_frame.columns = data_frame.columns.str.replace(\" \", \"_\")\n"
   ]
  },
  {
   "cell_type": "code",
   "execution_count": null,
   "metadata": {},
   "outputs": [],
   "source": [
    "columns_format(clean_orders)\n",
    "columns_format(clean_order_process)\n",
    "columns_format(clean_intern_study)\n",
    "columns_format(clean_campaign)"
   ]
  },
  {
   "cell_type": "code",
   "execution_count": null,
   "metadata": {},
   "outputs": [],
   "source": [
    "# dropping columns in orders.csv\n",
    "\n",
    "clean_orders.drop([\"index\",\"customer_id\", \"customer_name\", \"origin_channel\",\"country/region\", \"city\", \"postal_code\", \"category\", \"sub-category\", \"product_id\", \"sales\", \"quantity\", \"discount\", \"profit\"], axis=1, inplace=True)\n",
    "clean_orders.drop_duplicates(inplace=True)\n",
    "clean_orders.head(2)\n",
    "clean_orders.duplicated().value_counts()"
   ]
  },
  {
   "cell_type": "code",
   "execution_count": null,
   "metadata": {},
   "outputs": [],
   "source": [
    "# dropping row_id\n",
    "\n",
    "clean_order_process.drop(\"row_id\", axis=1, inplace=True)\n",
    "clean_order_process.drop_duplicates(inplace=True)\n",
    "clean_order_process.head()\n",
    "clean_order_process.duplicated().value_counts()"
   ]
  },
  {
   "cell_type": "code",
   "execution_count": null,
   "metadata": {},
   "outputs": [],
   "source": [
    "# dropping duplicates in intern data\n",
    "\n",
    "clean_intern_study.drop_duplicates(inplace=True)\n",
    "clean_intern_study.head(2)\n",
    "clean_intern_study.duplicated().value_counts()"
   ]
  },
  {
   "cell_type": "code",
   "execution_count": null,
   "metadata": {},
   "outputs": [],
   "source": [
    "# dropping columns in campaign data\n",
    "\n",
    "clean_campaign.drop([\"customer_name\"], axis=1, inplace=True)\n",
    "clean_campaign.head(2)"
   ]
  },
  {
   "cell_type": "code",
   "execution_count": null,
   "metadata": {},
   "outputs": [],
   "source": [
    "first_merge = clean_orders.merge(clean_order_process, how=\"outer\", on=\"order_id\")\n",
    "\n",
    "first_merge"
   ]
  },
  {
   "cell_type": "code",
   "execution_count": null,
   "metadata": {},
   "outputs": [],
   "source": [
    "second_merge = first_merge.merge(clean_intern_study, how=\"outer\", on=\"order_id\")\n",
    "\n",
    "second_merge"
   ]
  },
  {
   "cell_type": "code",
   "execution_count": null,
   "metadata": {},
   "outputs": [],
   "source": [
    "final_merge = second_merge.merge(clean_campaign, how=\"outer\", on=\"order_id\")\n",
    "final_merge"
   ]
  },
  {
   "cell_type": "code",
   "execution_count": null,
   "metadata": {},
   "outputs": [],
   "source": [
    "final_merge[final_merge['ship_mode_y'].isnull()]"
   ]
  },
  {
   "cell_type": "code",
   "execution_count": null,
   "metadata": {},
   "outputs": [],
   "source": [
    "## fill null values from ship_mode:y with values from ship_mode_x\n",
    "final_merge['ship_mode_y'] = final_merge['ship_mode_y'].fillna(final_merge['ship_mode_x'])\n",
    "\n",
    "## check there are no null values in ship_mode_y\n",
    "final_merge[final_merge['ship_mode_y'].isnull()]\n",
    "\n",
    "final_merge.drop(\"ship_mode_x\", axis=1, inplace=True)\n",
    "final_merge.rename(columns={\"ship_mode_y\": \"ship_mode\"}, inplace=True)\n",
    "\n",
    "final_merge['ship_mode'].replace({'Standard Class': \"Standard Processing\"}, inplace=True)\n",
    "final_merge['ship_mode'].replace({'Second Class': \"Standard Processing\"}, inplace=True)\n",
    "final_merge['ship_mode'].replace({'First Class': \"Express\"}, inplace=True)\n",
    "final_merge.head()"
   ]
  },
  {
   "cell_type": "code",
   "execution_count": null,
   "metadata": {},
   "outputs": [],
   "source": [
    "final_merge.insert(2, \"order_date\", final_merge[\"order_date_x\"])\n",
    "final_merge.drop([\"order_date_x\", \"order_date_y\"], axis=1, inplace=True)\n",
    "final_merge.head(15)"
   ]
  },
  {
   "cell_type": "markdown",
   "metadata": {},
   "source": []
  },
  {
   "cell_type": "code",
   "execution_count": null,
   "metadata": {},
   "outputs": [],
   "source": [
    "#final_merge.insert(2, \"ship_mode\", final_merge[\"ship_mode_y\"])\n",
    "#final_merge.drop([\"ship_mode_x\", \"ship_mode_y\"], axis=1, inplace=True)\n",
    "final_merge.info()"
   ]
  },
  {
   "cell_type": "code",
   "execution_count": null,
   "metadata": {},
   "outputs": [],
   "source": [
    "final_merge['order_date'] = pd.to_datetime(final_merge[\"order_date\"], format=\"%d/%m/%Y\")\n",
    "final_merge['ready_to_ship_date'] = pd.to_datetime(final_merge[\"ready_to_ship_date\"], format=\"%d/%m/%Y\")\n",
    "final_merge['pickup_date'] = pd.to_datetime(final_merge[\"pickup_date\"], format=\"%d/%m/%Y\")\n",
    "final_merge['arrival_scan_date'] = pd.to_datetime(final_merge[\"arrival_scan_date\"], format=\"%d/%m/%Y\")\n",
    "final_merge['on_truck_scan_date'] = pd.to_datetime(final_merge[\"on_truck_scan_date\"], format=\"%d/%m/%Y\")"
   ]
  },
  {
   "cell_type": "code",
   "execution_count": null,
   "metadata": {},
   "outputs": [],
   "source": [
    "final_merge.info()"
   ]
  },
  {
   "cell_type": "code",
   "execution_count": null,
   "metadata": {},
   "outputs": [],
   "source": [
    "## fill null values from ship_mode:y with values from ship_mode_x\n",
    "final_merge['pickup_date'] = final_merge['pickup_date'].fillna(final_merge['on_truck_scan_date'])\n",
    "final_merge.drop(\"on_truck_scan_date\", axis=1, inplace=True)\n",
    "final_merge[final_merge['pickup_date'].isnull()]\n"
   ]
  },
  {
   "cell_type": "code",
   "execution_count": null,
   "metadata": {},
   "outputs": [],
   "source": [
    "%store final_merge"
   ]
  }
 ],
 "metadata": {
  "kernelspec": {
   "display_name": "nf_base",
   "language": "python",
   "name": "python3"
  },
  "language_info": {
   "codemirror_mode": {
    "name": "ipython",
    "version": 3
   },
   "file_extension": ".py",
   "mimetype": "text/x-python",
   "name": "python",
   "nbconvert_exporter": "python",
   "pygments_lexer": "ipython3",
   "version": "3.9.19"
  }
 },
 "nbformat": 4,
 "nbformat_minor": 2
}
