{
 "cells": [
  {
   "cell_type": "code",
   "execution_count": 1,
   "metadata": {},
   "outputs": [],
   "source": [
    "# imports\n",
    "\n",
    "# standard import of pandas\n",
    "import pandas as pd\n",
    "import matplotlib.pyplot as plt\n",
    "import seaborn as sns"
   ]
  },
  {
   "cell_type": "code",
   "execution_count": 2,
   "metadata": {},
   "outputs": [],
   "source": [
    "# Floats (decimal numbers) should be displayed rounded with 2 decimal places\n",
    "pd.options.display.float_format = \"{:,.2f}\".format\n",
    "# Set style for plots\n",
    "plt.style.use('fivethirtyeight') "
   ]
  },
  {
   "cell_type": "code",
   "execution_count": 3,
   "metadata": {},
   "outputs": [],
   "source": [
    "# getting dataframes\n",
    "\n",
    "%store -r final_merge\n"
   ]
  },
  {
   "cell_type": "markdown",
   "metadata": {},
   "source": [
    "### Order Lead Time = Days needed from order date & order arival scan date"
   ]
  },
  {
   "cell_type": "code",
   "execution_count": 4,
   "metadata": {},
   "outputs": [
    {
     "data": {
      "text/html": [
       "<div>\n",
       "<style scoped>\n",
       "    .dataframe tbody tr th:only-of-type {\n",
       "        vertical-align: middle;\n",
       "    }\n",
       "\n",
       "    .dataframe tbody tr th {\n",
       "        vertical-align: top;\n",
       "    }\n",
       "\n",
       "    .dataframe thead th {\n",
       "        text-align: right;\n",
       "    }\n",
       "</style>\n",
       "<table border=\"1\" class=\"dataframe\">\n",
       "  <thead>\n",
       "    <tr style=\"text-align: right;\">\n",
       "      <th></th>\n",
       "      <th>order_id</th>\n",
       "      <th>order_date</th>\n",
       "      <th>state</th>\n",
       "      <th>region</th>\n",
       "      <th>ship_mode</th>\n",
       "      <th>ready_to_ship_date</th>\n",
       "      <th>pickup_date</th>\n",
       "      <th>arrival_scan_date</th>\n",
       "    </tr>\n",
       "  </thead>\n",
       "  <tbody>\n",
       "    <tr>\n",
       "      <th>1325</th>\n",
       "      <td>CA-2017-164315</td>\n",
       "      <td>2017-04-02</td>\n",
       "      <td>Georgia</td>\n",
       "      <td>South</td>\n",
       "      <td>Standard Class</td>\n",
       "      <td>NaT</td>\n",
       "      <td>NaT</td>\n",
       "      <td>NaT</td>\n",
       "    </tr>\n",
       "    <tr>\n",
       "      <th>2489</th>\n",
       "      <td>CA-2017-113271</td>\n",
       "      <td>2017-07-09</td>\n",
       "      <td>California</td>\n",
       "      <td>West</td>\n",
       "      <td>Standard Class</td>\n",
       "      <td>NaT</td>\n",
       "      <td>NaT</td>\n",
       "      <td>NaT</td>\n",
       "    </tr>\n",
       "    <tr>\n",
       "      <th>2871</th>\n",
       "      <td>CA-2018-110765</td>\n",
       "      <td>2018-10-16</td>\n",
       "      <td>New York</td>\n",
       "      <td>East</td>\n",
       "      <td>Second Class</td>\n",
       "      <td>NaT</td>\n",
       "      <td>NaT</td>\n",
       "      <td>NaT</td>\n",
       "    </tr>\n",
       "    <tr>\n",
       "      <th>4001</th>\n",
       "      <td>CA-2019-103359</td>\n",
       "      <td>2019-12-22</td>\n",
       "      <td>New York</td>\n",
       "      <td>East</td>\n",
       "      <td>Standard Processing</td>\n",
       "      <td>NaT</td>\n",
       "      <td>2019-12-30</td>\n",
       "      <td>NaT</td>\n",
       "    </tr>\n",
       "    <tr>\n",
       "      <th>3252</th>\n",
       "      <td>CA-2020-144827</td>\n",
       "      <td>2020-12-21</td>\n",
       "      <td>California</td>\n",
       "      <td>West</td>\n",
       "      <td>Standard Processing</td>\n",
       "      <td>NaT</td>\n",
       "      <td>2020-12-30</td>\n",
       "      <td>NaT</td>\n",
       "    </tr>\n",
       "  </tbody>\n",
       "</table>\n",
       "</div>"
      ],
      "text/plain": [
       "            order_id order_date       state region            ship_mode  \\\n",
       "1325  CA-2017-164315 2017-04-02     Georgia  South       Standard Class   \n",
       "2489  CA-2017-113271 2017-07-09  California   West       Standard Class   \n",
       "2871  CA-2018-110765 2018-10-16    New York   East         Second Class   \n",
       "4001  CA-2019-103359 2019-12-22    New York   East  Standard Processing   \n",
       "3252  CA-2020-144827 2020-12-21  California   West  Standard Processing   \n",
       "\n",
       "     ready_to_ship_date pickup_date arrival_scan_date  \n",
       "1325                NaT         NaT               NaT  \n",
       "2489                NaT         NaT               NaT  \n",
       "2871                NaT         NaT               NaT  \n",
       "4001                NaT  2019-12-30               NaT  \n",
       "3252                NaT  2020-12-30               NaT  "
      ]
     },
     "execution_count": 4,
     "metadata": {},
     "output_type": "execute_result"
    }
   ],
   "source": [
    "final_merge.sample(5)"
   ]
  },
  {
   "cell_type": "code",
   "execution_count": 5,
   "metadata": {},
   "outputs": [],
   "source": [
    "# Create new data frame\n",
    "lead_time = final_merge.copy()\n",
    "\n",
    "## keep only necessary columns\n",
    "# new_df = old_df.filter(items=['col1', 'col2']).copy()\n",
    "lead_time = lead_time.filter(items=[\"order_date\", \"arrival_scan_date\"]).copy()"
   ]
  },
  {
   "cell_type": "code",
   "execution_count": 6,
   "metadata": {},
   "outputs": [
    {
     "data": {
      "text/plain": [
       "Index(['order_date', 'arrival_scan_date'], dtype='object')"
      ]
     },
     "execution_count": 6,
     "metadata": {},
     "output_type": "execute_result"
    }
   ],
   "source": [
    "lead_time.columns"
   ]
  },
  {
   "cell_type": "code",
   "execution_count": 7,
   "metadata": {},
   "outputs": [
    {
     "data": {
      "text/html": [
       "<div>\n",
       "<style scoped>\n",
       "    .dataframe tbody tr th:only-of-type {\n",
       "        vertical-align: middle;\n",
       "    }\n",
       "\n",
       "    .dataframe tbody tr th {\n",
       "        vertical-align: top;\n",
       "    }\n",
       "\n",
       "    .dataframe thead th {\n",
       "        text-align: right;\n",
       "    }\n",
       "</style>\n",
       "<table border=\"1\" class=\"dataframe\">\n",
       "  <thead>\n",
       "    <tr style=\"text-align: right;\">\n",
       "      <th></th>\n",
       "      <th>order_date</th>\n",
       "      <th>arrival_scan_date</th>\n",
       "    </tr>\n",
       "  </thead>\n",
       "  <tbody>\n",
       "    <tr>\n",
       "      <th>0</th>\n",
       "      <td>2019-01-16</td>\n",
       "      <td>NaT</td>\n",
       "    </tr>\n",
       "  </tbody>\n",
       "</table>\n",
       "</div>"
      ],
      "text/plain": [
       "  order_date arrival_scan_date\n",
       "0 2019-01-16               NaT"
      ]
     },
     "execution_count": 7,
     "metadata": {},
     "output_type": "execute_result"
    }
   ],
   "source": [
    "lead_time.head(1)"
   ]
  },
  {
   "cell_type": "code",
   "execution_count": 8,
   "metadata": {},
   "outputs": [
    {
     "data": {
      "text/plain": [
       "333"
      ]
     },
     "execution_count": 8,
     "metadata": {},
     "output_type": "execute_result"
    }
   ],
   "source": [
    "# show me no. of cells that are NOT NULL\n",
    "lead_time['arrival_scan_date'].notnull().sum()"
   ]
  },
  {
   "cell_type": "code",
   "execution_count": 9,
   "metadata": {},
   "outputs": [
    {
     "data": {
      "text/plain": [
       "4677"
      ]
     },
     "execution_count": 9,
     "metadata": {},
     "output_type": "execute_result"
    }
   ],
   "source": [
    "# show me no. of cells that ARE NULL\n",
    "lead_time['arrival_scan_date'].isnull().sum()"
   ]
  },
  {
   "cell_type": "code",
   "execution_count": 10,
   "metadata": {},
   "outputs": [],
   "source": [
    "# Drop rows if there are null values in column arrival scan date\n",
    "lead_time.dropna(subset=['arrival_scan_date'], inplace=True)"
   ]
  },
  {
   "cell_type": "code",
   "execution_count": 11,
   "metadata": {},
   "outputs": [
    {
     "name": "stdout",
     "output_type": "stream",
     "text": [
      "<class 'pandas.core.series.Series'>\n",
      "Index: 333 entries, 17 to 5005\n",
      "Series name: arrival_scan_date\n",
      "Non-Null Count  Dtype         \n",
      "--------------  -----         \n",
      "333 non-null    datetime64[ns]\n",
      "dtypes: datetime64[ns](1)\n",
      "memory usage: 5.2 KB\n"
     ]
    }
   ],
   "source": [
    "# should only have 333 rows of date confirmed below after dropping\n",
    "lead_time['arrival_scan_date'].info()"
   ]
  },
  {
   "cell_type": "code",
   "execution_count": 12,
   "metadata": {},
   "outputs": [],
   "source": [
    "# Create new column to display the calculated lead time\n",
    "lead_time[\"order_lead_time\"] = lead_time[\"arrival_scan_date\"] - lead_time[\"order_date\"]"
   ]
  },
  {
   "cell_type": "code",
   "execution_count": 13,
   "metadata": {},
   "outputs": [
    {
     "data": {
      "text/plain": [
       "17     12 days\n",
       "24     13 days\n",
       "40     11 days\n",
       "59     13 days\n",
       "80     10 days\n",
       "         ...  \n",
       "4978   14 days\n",
       "4981   11 days\n",
       "4984   14 days\n",
       "4987    7 days\n",
       "5005   11 days\n",
       "Name: order_lead_time, Length: 333, dtype: timedelta64[ns]"
      ]
     },
     "execution_count": 13,
     "metadata": {},
     "output_type": "execute_result"
    }
   ],
   "source": [
    "# Display new column Order Lead Time and results \n",
    "lead_time[\"order_lead_time\"]"
   ]
  },
  {
   "cell_type": "code",
   "execution_count": 14,
   "metadata": {},
   "outputs": [
    {
     "data": {
      "text/html": [
       "<div>\n",
       "<style scoped>\n",
       "    .dataframe tbody tr th:only-of-type {\n",
       "        vertical-align: middle;\n",
       "    }\n",
       "\n",
       "    .dataframe tbody tr th {\n",
       "        vertical-align: top;\n",
       "    }\n",
       "\n",
       "    .dataframe thead th {\n",
       "        text-align: right;\n",
       "    }\n",
       "</style>\n",
       "<table border=\"1\" class=\"dataframe\">\n",
       "  <thead>\n",
       "    <tr style=\"text-align: right;\">\n",
       "      <th></th>\n",
       "      <th>order_date</th>\n",
       "      <th>arrival_scan_date</th>\n",
       "      <th>order_lead_time</th>\n",
       "      <th>order_lead_time_i</th>\n",
       "    </tr>\n",
       "  </thead>\n",
       "  <tbody>\n",
       "    <tr>\n",
       "      <th>17</th>\n",
       "      <td>2019-09-11</td>\n",
       "      <td>2019-09-23</td>\n",
       "      <td>12 days</td>\n",
       "      <td>12</td>\n",
       "    </tr>\n",
       "    <tr>\n",
       "      <th>24</th>\n",
       "      <td>2019-04-23</td>\n",
       "      <td>2019-05-06</td>\n",
       "      <td>13 days</td>\n",
       "      <td>13</td>\n",
       "    </tr>\n",
       "  </tbody>\n",
       "</table>\n",
       "</div>"
      ],
      "text/plain": [
       "   order_date arrival_scan_date order_lead_time  order_lead_time_i\n",
       "17 2019-09-11        2019-09-23         12 days                 12\n",
       "24 2019-04-23        2019-05-06         13 days                 13"
      ]
     },
     "execution_count": 14,
     "metadata": {},
     "output_type": "execute_result"
    }
   ],
   "source": [
    "# Create new column for Days in INT format in case we need this for calculating\n",
    "lead_time[\"order_lead_time_i\"] = lead_time[\"order_lead_time\"].dt.days\n",
    "lead_time.head(2)"
   ]
  },
  {
   "cell_type": "code",
   "execution_count": 15,
   "metadata": {},
   "outputs": [
    {
     "data": {
      "text/html": [
       "<div>\n",
       "<style scoped>\n",
       "    .dataframe tbody tr th:only-of-type {\n",
       "        vertical-align: middle;\n",
       "    }\n",
       "\n",
       "    .dataframe tbody tr th {\n",
       "        vertical-align: top;\n",
       "    }\n",
       "\n",
       "    .dataframe thead th {\n",
       "        text-align: right;\n",
       "    }\n",
       "</style>\n",
       "<table border=\"1\" class=\"dataframe\">\n",
       "  <thead>\n",
       "    <tr style=\"text-align: right;\">\n",
       "      <th></th>\n",
       "      <th>order_date</th>\n",
       "      <th>arrival_scan_date</th>\n",
       "      <th>order_lead_time</th>\n",
       "      <th>order_lead_time_i</th>\n",
       "      <th>ordered_day</th>\n",
       "      <th>arrival_day</th>\n",
       "    </tr>\n",
       "  </thead>\n",
       "  <tbody>\n",
       "    <tr>\n",
       "      <th>4984</th>\n",
       "      <td>2019-11-25</td>\n",
       "      <td>2019-12-09</td>\n",
       "      <td>14 days</td>\n",
       "      <td>14</td>\n",
       "      <td>Monday</td>\n",
       "      <td>Monday</td>\n",
       "    </tr>\n",
       "    <tr>\n",
       "      <th>4987</th>\n",
       "      <td>2019-09-16</td>\n",
       "      <td>2019-09-23</td>\n",
       "      <td>7 days</td>\n",
       "      <td>7</td>\n",
       "      <td>Monday</td>\n",
       "      <td>Monday</td>\n",
       "    </tr>\n",
       "    <tr>\n",
       "      <th>5005</th>\n",
       "      <td>2019-10-31</td>\n",
       "      <td>2019-11-11</td>\n",
       "      <td>11 days</td>\n",
       "      <td>11</td>\n",
       "      <td>Thursday</td>\n",
       "      <td>Monday</td>\n",
       "    </tr>\n",
       "  </tbody>\n",
       "</table>\n",
       "</div>"
      ],
      "text/plain": [
       "     order_date arrival_scan_date order_lead_time  order_lead_time_i  \\\n",
       "4984 2019-11-25        2019-12-09         14 days                 14   \n",
       "4987 2019-09-16        2019-09-23          7 days                  7   \n",
       "5005 2019-10-31        2019-11-11         11 days                 11   \n",
       "\n",
       "     ordered_day arrival_day  \n",
       "4984      Monday      Monday  \n",
       "4987      Monday      Monday  \n",
       "5005    Thursday      Monday  "
      ]
     },
     "execution_count": 15,
     "metadata": {},
     "output_type": "execute_result"
    }
   ],
   "source": [
    "## Want to calculate what day of week the order was made on, and arrived on - to see later if there are correlations\n",
    "\n",
    "# Day of order\n",
    "lead_time[\"ordered_day\"] = lead_time[\"order_date\"].dt.day_name()\n",
    "\n",
    "# Day of arrival\n",
    "lead_time[\"arrival_day\"] = lead_time[\"arrival_scan_date\"].dt.day_name()\n",
    "lead_time.tail(3)"
   ]
  },
  {
   "cell_type": "code",
   "execution_count": 16,
   "metadata": {},
   "outputs": [
    {
     "name": "stdout",
     "output_type": "stream",
     "text": [
      "Stored 'lead_time' (DataFrame)\n"
     ]
    }
   ],
   "source": [
    "%store lead_time"
   ]
  },
  {
   "cell_type": "markdown",
   "metadata": {},
   "source": [
    "### What days do customers receive their orders?"
   ]
  },
  {
   "cell_type": "code",
   "execution_count": 17,
   "metadata": {},
   "outputs": [
    {
     "data": {
      "text/plain": [
       "array(['Monday', 'Friday', 'Thursday', 'Tuesday', 'Wednesday'],\n",
       "      dtype=object)"
      ]
     },
     "execution_count": 17,
     "metadata": {},
     "output_type": "execute_result"
    }
   ],
   "source": [
    "# What days do the customers receive their orders?\n",
    "lead_time.arrival_day.unique()\n",
    "\n",
    "## Customers have never received their delivery on a Saturday or Sunday"
   ]
  },
  {
   "cell_type": "markdown",
   "metadata": {},
   "source": [
    "### KPI: Order Lead Time observed"
   ]
  },
  {
   "cell_type": "code",
   "execution_count": 18,
   "metadata": {},
   "outputs": [
    {
     "data": {
      "text/plain": [
       "10.834834834834835"
      ]
     },
     "execution_count": 18,
     "metadata": {},
     "output_type": "execute_result"
    }
   ],
   "source": [
    "# Mean value = 10.83 days\n",
    "lead_time.order_lead_time_i.mean()"
   ]
  },
  {
   "cell_type": "code",
   "execution_count": 19,
   "metadata": {},
   "outputs": [
    {
     "data": {
      "text/plain": [
       "count   333.00\n",
       "mean     10.83\n",
       "std       2.86\n",
       "min       3.00\n",
       "25%       9.00\n",
       "50%      11.00\n",
       "75%      13.00\n",
       "max      17.00\n",
       "Name: order_lead_time_i, dtype: float64"
      ]
     },
     "execution_count": 19,
     "metadata": {},
     "output_type": "execute_result"
    }
   ],
   "source": [
    "# Describe the data\n",
    "lead_time.order_lead_time_i.describe()"
   ]
  },
  {
   "cell_type": "code",
   "execution_count": 28,
   "metadata": {},
   "outputs": [
    {
     "data": {
      "text/plain": [
       "Text(0, 0.5, 'Days')"
      ]
     },
     "execution_count": 28,
     "metadata": {},
     "output_type": "execute_result"
    },
    {
     "data": {
      "image/png": "[encoded data removed]",
      "text/plain": [
       "<Figure size 640x480 with 1 Axes>"
      ]
     },
     "metadata": {},
     "output_type": "display_data"
    }
   ],
   "source": [
    "plt.suptitle('Distribution of order lead time', fontsize=20)\n",
    "plt.subplots_adjust(hspace = .5, wspace = .2, top = .9) # adjusts the space between the single subplots\n",
    "lead_time.boxplot(column='order_lead_time_i') # creates boxplot for order lead time\n",
    "plt.ylabel('Days')\n",
    "#plt.set_xticklabels('test')\n"
   ]
  }
 ],
 "metadata": {
  "kernelspec": {
   "display_name": "nf_base",
   "language": "python",
   "name": "python3"
  },
  "language_info": {
   "codemirror_mode": {
    "name": "ipython",
    "version": 3
   },
   "file_extension": ".py",
   "mimetype": "text/x-python",
   "name": "python",
   "nbconvert_exporter": "python",
   "pygments_lexer": "ipython3",
   "version": "3.9.19"
  }
 },
 "nbformat": 4,
 "nbformat_minor": 2
}
