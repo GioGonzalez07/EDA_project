{
 "cells": [
  {
   "cell_type": "code",
   "execution_count": 1,
   "metadata": {},
   "outputs": [],
   "source": [
    "# imports\n",
    "\n",
    "# standard import of pandas\n",
    "import pandas as pd\n",
    "import matplotlib.pyplot as plt\n",
    "import seaborn as sns"
   ]
  },
  {
   "cell_type": "code",
   "execution_count": 2,
   "metadata": {},
   "outputs": [],
   "source": [
    "# Floats (decimal numbers) should be displayed rounded with 2 decimal places\n",
    "pd.options.display.float_format = \"{:,.2f}\".format\n",
    "# Set style for plots\n",
    "plt.style.use('fivethirtyeight') "
   ]
  },
  {
   "cell_type": "code",
   "execution_count": 3,
   "metadata": {},
   "outputs": [],
   "source": [
    "# getting dataframes\n",
    "\n",
    "%store -r final_merge\n"
   ]
  },
  {
   "cell_type": "markdown",
   "metadata": {},
   "source": [
    "### Order Lead Time = Days needed from order date & order arival scan date"
   ]
  },
  {
   "cell_type": "code",
   "execution_count": 4,
   "metadata": {},
   "outputs": [
    {
     "data": {
      "text/html": [
       "<div>\n",
       "<style scoped>\n",
       "    .dataframe tbody tr th:only-of-type {\n",
       "        vertical-align: middle;\n",
       "    }\n",
       "\n",
       "    .dataframe tbody tr th {\n",
       "        vertical-align: top;\n",
       "    }\n",
       "\n",
       "    .dataframe thead th {\n",
       "        text-align: right;\n",
       "    }\n",
       "</style>\n",
       "<table border=\"1\" class=\"dataframe\">\n",
       "  <thead>\n",
       "    <tr style=\"text-align: right;\">\n",
       "      <th></th>\n",
       "      <th>order_id</th>\n",
       "      <th>order_date</th>\n",
       "      <th>state</th>\n",
       "      <th>region</th>\n",
       "      <th>ship_mode</th>\n",
       "      <th>ready_to_ship_date</th>\n",
       "      <th>pickup_date</th>\n",
       "      <th>arrival_scan_date</th>\n",
       "    </tr>\n",
       "  </thead>\n",
       "  <tbody>\n",
       "    <tr>\n",
       "      <th>2775</th>\n",
       "      <td>US-2018-122910</td>\n",
       "      <td>2018-05-12</td>\n",
       "      <td>Colorado</td>\n",
       "      <td>West</td>\n",
       "      <td>Standard Processing</td>\n",
       "      <td>NaT</td>\n",
       "      <td>NaT</td>\n",
       "      <td>NaT</td>\n",
       "    </tr>\n",
       "    <tr>\n",
       "      <th>383</th>\n",
       "      <td>CA-2018-160171</td>\n",
       "      <td>2018-10-19</td>\n",
       "      <td>California</td>\n",
       "      <td>West</td>\n",
       "      <td>Standard Processing</td>\n",
       "      <td>NaT</td>\n",
       "      <td>NaT</td>\n",
       "      <td>NaT</td>\n",
       "    </tr>\n",
       "    <tr>\n",
       "      <th>760</th>\n",
       "      <td>CA-2018-114468</td>\n",
       "      <td>2018-08-23</td>\n",
       "      <td>Illinois</td>\n",
       "      <td>Central</td>\n",
       "      <td>Express</td>\n",
       "      <td>NaT</td>\n",
       "      <td>NaT</td>\n",
       "      <td>NaT</td>\n",
       "    </tr>\n",
       "    <tr>\n",
       "      <th>4306</th>\n",
       "      <td>CA-2020-108287</td>\n",
       "      <td>2020-12-18</td>\n",
       "      <td>North Carolina</td>\n",
       "      <td>South</td>\n",
       "      <td>Express</td>\n",
       "      <td>NaT</td>\n",
       "      <td>2020-12-21</td>\n",
       "      <td>NaT</td>\n",
       "    </tr>\n",
       "    <tr>\n",
       "      <th>4927</th>\n",
       "      <td>CA-2017-154893</td>\n",
       "      <td>2017-12-21</td>\n",
       "      <td>California</td>\n",
       "      <td>West</td>\n",
       "      <td>Standard Processing</td>\n",
       "      <td>NaT</td>\n",
       "      <td>NaT</td>\n",
       "      <td>NaT</td>\n",
       "    </tr>\n",
       "  </tbody>\n",
       "</table>\n",
       "</div>"
      ],
      "text/plain": [
       "            order_id order_date           state   region            ship_mode  \\\n",
       "2775  US-2018-122910 2018-05-12        Colorado     West  Standard Processing   \n",
       "383   CA-2018-160171 2018-10-19      California     West  Standard Processing   \n",
       "760   CA-2018-114468 2018-08-23        Illinois  Central              Express   \n",
       "4306  CA-2020-108287 2020-12-18  North Carolina    South              Express   \n",
       "4927  CA-2017-154893 2017-12-21      California     West  Standard Processing   \n",
       "\n",
       "     ready_to_ship_date pickup_date arrival_scan_date  \n",
       "2775                NaT         NaT               NaT  \n",
       "383                 NaT         NaT               NaT  \n",
       "760                 NaT         NaT               NaT  \n",
       "4306                NaT  2020-12-21               NaT  \n",
       "4927                NaT         NaT               NaT  "
      ]
     },
     "execution_count": 4,
     "metadata": {},
     "output_type": "execute_result"
    }
   ],
   "source": [
    "final_merge.sample(5)"
   ]
  },
  {
   "cell_type": "code",
   "execution_count": 5,
   "metadata": {},
   "outputs": [],
   "source": [
    "# Create new data frame\n",
    "lead_time = final_merge.copy()\n",
    "\n",
    "## keep only necessary columns\n",
    "# new_df = old_df.filter(items=['col1', 'col2']).copy()\n",
    "lead_time = lead_time.filter(items=[\"order_date\", \"ship_mode\", \"arrival_scan_date\"]).copy()"
   ]
  },
  {
   "cell_type": "code",
   "execution_count": 6,
   "metadata": {},
   "outputs": [
    {
     "data": {
      "text/plain": [
       "Index(['order_date', 'ship_mode', 'arrival_scan_date'], dtype='object')"
      ]
     },
     "execution_count": 6,
     "metadata": {},
     "output_type": "execute_result"
    }
   ],
   "source": [
    "lead_time.columns"
   ]
  },
  {
   "cell_type": "code",
   "execution_count": 7,
   "metadata": {},
   "outputs": [
    {
     "data": {
      "text/html": [
       "<div>\n",
       "<style scoped>\n",
       "    .dataframe tbody tr th:only-of-type {\n",
       "        vertical-align: middle;\n",
       "    }\n",
       "\n",
       "    .dataframe tbody tr th {\n",
       "        vertical-align: top;\n",
       "    }\n",
       "\n",
       "    .dataframe thead th {\n",
       "        text-align: right;\n",
       "    }\n",
       "</style>\n",
       "<table border=\"1\" class=\"dataframe\">\n",
       "  <thead>\n",
       "    <tr style=\"text-align: right;\">\n",
       "      <th></th>\n",
       "      <th>order_date</th>\n",
       "      <th>ship_mode</th>\n",
       "      <th>arrival_scan_date</th>\n",
       "    </tr>\n",
       "  </thead>\n",
       "  <tbody>\n",
       "    <tr>\n",
       "      <th>0</th>\n",
       "      <td>2019-01-16</td>\n",
       "      <td>Standard Processing</td>\n",
       "      <td>NaT</td>\n",
       "    </tr>\n",
       "  </tbody>\n",
       "</table>\n",
       "</div>"
      ],
      "text/plain": [
       "  order_date            ship_mode arrival_scan_date\n",
       "0 2019-01-16  Standard Processing               NaT"
      ]
     },
     "execution_count": 7,
     "metadata": {},
     "output_type": "execute_result"
    }
   ],
   "source": [
    "lead_time.head(1)"
   ]
  },
  {
   "cell_type": "code",
   "execution_count": 8,
   "metadata": {},
   "outputs": [
    {
     "data": {
      "text/plain": [
       "333"
      ]
     },
     "execution_count": 8,
     "metadata": {},
     "output_type": "execute_result"
    }
   ],
   "source": [
    "# show me no. of cells that are NOT NULL\n",
    "lead_time['arrival_scan_date'].notnull().sum()"
   ]
  },
  {
   "cell_type": "code",
   "execution_count": 9,
   "metadata": {},
   "outputs": [
    {
     "data": {
      "text/plain": [
       "4677"
      ]
     },
     "execution_count": 9,
     "metadata": {},
     "output_type": "execute_result"
    }
   ],
   "source": [
    "# show me no. of cells that ARE NULL\n",
    "lead_time['arrival_scan_date'].isnull().sum()"
   ]
  },
  {
   "cell_type": "code",
   "execution_count": 10,
   "metadata": {},
   "outputs": [],
   "source": [
    "# Drop rows if there are null values in column arrival scan date\n",
    "lead_time.dropna(subset=['arrival_scan_date'], inplace=True)"
   ]
  },
  {
   "cell_type": "code",
   "execution_count": 11,
   "metadata": {},
   "outputs": [
    {
     "name": "stdout",
     "output_type": "stream",
     "text": [
      "<class 'pandas.core.series.Series'>\n",
      "Index: 333 entries, 17 to 5005\n",
      "Series name: arrival_scan_date\n",
      "Non-Null Count  Dtype         \n",
      "--------------  -----         \n",
      "333 non-null    datetime64[ns]\n",
      "dtypes: datetime64[ns](1)\n",
      "memory usage: 5.2 KB\n"
     ]
    }
   ],
   "source": [
    "# should only have 333 rows of date confirmed below after dropping\n",
    "lead_time['arrival_scan_date'].info()"
   ]
  },
  {
   "cell_type": "code",
   "execution_count": 12,
   "metadata": {},
   "outputs": [],
   "source": [
    "# Create new column to display the calculated lead time\n",
    "lead_time[\"order_lead_time\"] = lead_time[\"arrival_scan_date\"] - lead_time[\"order_date\"]"
   ]
  },
  {
   "cell_type": "code",
   "execution_count": 13,
   "metadata": {},
   "outputs": [
    {
     "data": {
      "text/plain": [
       "17     12 days\n",
       "24     13 days\n",
       "40     11 days\n",
       "59     13 days\n",
       "80     10 days\n",
       "         ...  \n",
       "4978   14 days\n",
       "4981   11 days\n",
       "4984   14 days\n",
       "4987    7 days\n",
       "5005   11 days\n",
       "Name: order_lead_time, Length: 333, dtype: timedelta64[ns]"
      ]
     },
     "execution_count": 13,
     "metadata": {},
     "output_type": "execute_result"
    }
   ],
   "source": [
    "# Display new column Order Lead Time and results \n",
    "lead_time[\"order_lead_time\"]"
   ]
  },
  {
   "cell_type": "code",
   "execution_count": 14,
   "metadata": {},
   "outputs": [
    {
     "data": {
      "text/html": [
       "<div>\n",
       "<style scoped>\n",
       "    .dataframe tbody tr th:only-of-type {\n",
       "        vertical-align: middle;\n",
       "    }\n",
       "\n",
       "    .dataframe tbody tr th {\n",
       "        vertical-align: top;\n",
       "    }\n",
       "\n",
       "    .dataframe thead th {\n",
       "        text-align: right;\n",
       "    }\n",
       "</style>\n",
       "<table border=\"1\" class=\"dataframe\">\n",
       "  <thead>\n",
       "    <tr style=\"text-align: right;\">\n",
       "      <th></th>\n",
       "      <th>order_date</th>\n",
       "      <th>ship_mode</th>\n",
       "      <th>arrival_scan_date</th>\n",
       "      <th>order_lead_time</th>\n",
       "      <th>order_lead_time_i</th>\n",
       "    </tr>\n",
       "  </thead>\n",
       "  <tbody>\n",
       "    <tr>\n",
       "      <th>17</th>\n",
       "      <td>2019-09-11</td>\n",
       "      <td>Standard Processing</td>\n",
       "      <td>2019-09-23</td>\n",
       "      <td>12 days</td>\n",
       "      <td>12</td>\n",
       "    </tr>\n",
       "    <tr>\n",
       "      <th>24</th>\n",
       "      <td>2019-04-23</td>\n",
       "      <td>Standard Processing</td>\n",
       "      <td>2019-05-06</td>\n",
       "      <td>13 days</td>\n",
       "      <td>13</td>\n",
       "    </tr>\n",
       "  </tbody>\n",
       "</table>\n",
       "</div>"
      ],
      "text/plain": [
       "   order_date            ship_mode arrival_scan_date order_lead_time  \\\n",
       "17 2019-09-11  Standard Processing        2019-09-23         12 days   \n",
       "24 2019-04-23  Standard Processing        2019-05-06         13 days   \n",
       "\n",
       "    order_lead_time_i  \n",
       "17                 12  \n",
       "24                 13  "
      ]
     },
     "execution_count": 14,
     "metadata": {},
     "output_type": "execute_result"
    }
   ],
   "source": [
    "# Create new column for Days in INT format in case we need this for calculating\n",
    "lead_time[\"order_lead_time_i\"] = lead_time[\"order_lead_time\"].dt.days\n",
    "lead_time.head(2)"
   ]
  },
  {
   "cell_type": "code",
   "execution_count": 15,
   "metadata": {},
   "outputs": [
    {
     "data": {
      "text/html": [
       "<div>\n",
       "<style scoped>\n",
       "    .dataframe tbody tr th:only-of-type {\n",
       "        vertical-align: middle;\n",
       "    }\n",
       "\n",
       "    .dataframe tbody tr th {\n",
       "        vertical-align: top;\n",
       "    }\n",
       "\n",
       "    .dataframe thead th {\n",
       "        text-align: right;\n",
       "    }\n",
       "</style>\n",
       "<table border=\"1\" class=\"dataframe\">\n",
       "  <thead>\n",
       "    <tr style=\"text-align: right;\">\n",
       "      <th></th>\n",
       "      <th>order_date</th>\n",
       "      <th>ship_mode</th>\n",
       "      <th>arrival_scan_date</th>\n",
       "      <th>order_lead_time</th>\n",
       "      <th>order_lead_time_i</th>\n",
       "      <th>ordered_day</th>\n",
       "      <th>arrival_day</th>\n",
       "    </tr>\n",
       "  </thead>\n",
       "  <tbody>\n",
       "    <tr>\n",
       "      <th>4984</th>\n",
       "      <td>2019-11-25</td>\n",
       "      <td>Standard Processing</td>\n",
       "      <td>2019-12-09</td>\n",
       "      <td>14 days</td>\n",
       "      <td>14</td>\n",
       "      <td>Monday</td>\n",
       "      <td>Monday</td>\n",
       "    </tr>\n",
       "    <tr>\n",
       "      <th>4987</th>\n",
       "      <td>2019-09-16</td>\n",
       "      <td>Express</td>\n",
       "      <td>2019-09-23</td>\n",
       "      <td>7 days</td>\n",
       "      <td>7</td>\n",
       "      <td>Monday</td>\n",
       "      <td>Monday</td>\n",
       "    </tr>\n",
       "    <tr>\n",
       "      <th>5005</th>\n",
       "      <td>2019-10-31</td>\n",
       "      <td>Standard Processing</td>\n",
       "      <td>2019-11-11</td>\n",
       "      <td>11 days</td>\n",
       "      <td>11</td>\n",
       "      <td>Thursday</td>\n",
       "      <td>Monday</td>\n",
       "    </tr>\n",
       "  </tbody>\n",
       "</table>\n",
       "</div>"
      ],
      "text/plain": [
       "     order_date            ship_mode arrival_scan_date order_lead_time  \\\n",
       "4984 2019-11-25  Standard Processing        2019-12-09         14 days   \n",
       "4987 2019-09-16              Express        2019-09-23          7 days   \n",
       "5005 2019-10-31  Standard Processing        2019-11-11         11 days   \n",
       "\n",
       "      order_lead_time_i ordered_day arrival_day  \n",
       "4984                 14      Monday      Monday  \n",
       "4987                  7      Monday      Monday  \n",
       "5005                 11    Thursday      Monday  "
      ]
     },
     "execution_count": 15,
     "metadata": {},
     "output_type": "execute_result"
    }
   ],
   "source": [
    "## Want to calculate what day of week the order was made on, and arrived on - to see later if there are correlations\n",
    "\n",
    "# Day of order\n",
    "lead_time[\"ordered_day\"] = lead_time[\"order_date\"].dt.day_name()\n",
    "\n",
    "# Day of arrival\n",
    "lead_time[\"arrival_day\"] = lead_time[\"arrival_scan_date\"].dt.day_name()\n",
    "lead_time.tail(3)"
   ]
  },
  {
   "cell_type": "code",
   "execution_count": 16,
   "metadata": {},
   "outputs": [
    {
     "name": "stdout",
     "output_type": "stream",
     "text": [
      "Stored 'lead_time' (DataFrame)\n"
     ]
    }
   ],
   "source": [
    "%store lead_time"
   ]
  },
  {
   "cell_type": "markdown",
   "metadata": {},
   "source": [
    "### What days do customers receive their orders?"
   ]
  },
  {
   "cell_type": "code",
   "execution_count": 17,
   "metadata": {},
   "outputs": [
    {
     "data": {
      "text/plain": [
       "array(['Monday', 'Friday', 'Thursday', 'Tuesday', 'Wednesday'],\n",
       "      dtype=object)"
      ]
     },
     "execution_count": 17,
     "metadata": {},
     "output_type": "execute_result"
    }
   ],
   "source": [
    "# What days do the customers receive their orders?\n",
    "lead_time.arrival_day.unique()\n",
    "\n",
    "## Customers have never received their delivery on a Saturday or Sunday"
   ]
  },
  {
   "cell_type": "markdown",
   "metadata": {},
   "source": [
    "### KPI: Order Lead Time observed"
   ]
  },
  {
   "cell_type": "code",
   "execution_count": 18,
   "metadata": {},
   "outputs": [
    {
     "data": {
      "text/plain": [
       "10.834834834834835"
      ]
     },
     "execution_count": 18,
     "metadata": {},
     "output_type": "execute_result"
    }
   ],
   "source": [
    "# Mean value = 10.83 days\n",
    "lead_time.order_lead_time_i.mean()"
   ]
  },
  {
   "cell_type": "code",
   "execution_count": 19,
   "metadata": {},
   "outputs": [
    {
     "data": {
      "text/plain": [
       "count   333.00\n",
       "mean     10.83\n",
       "std       2.86\n",
       "min       3.00\n",
       "25%       9.00\n",
       "50%      11.00\n",
       "75%      13.00\n",
       "max      17.00\n",
       "Name: order_lead_time_i, dtype: float64"
      ]
     },
     "execution_count": 19,
     "metadata": {},
     "output_type": "execute_result"
    }
   ],
   "source": [
    "# Describe the data\n",
    "lead_time.order_lead_time_i.describe()"
   ]
  },
  {
   "cell_type": "code",
   "execution_count": 28,
   "metadata": {},
   "outputs": [
    {
     "data": {
      "text/plain": [
       "''"
      ]
     },
     "execution_count": 28,
     "metadata": {},
     "output_type": "execute_result"
    },
    {
     "data": {
      "image/png": "[encoded data removed]",
      "text/plain": [
       "<Figure size 640x480 with 1 Axes>"
      ]
     },
     "metadata": {},
     "output_type": "display_data"
    }
   ],
   "source": [
    "plt.suptitle('Distribution of order lead time', fontsize=20)\n",
    "plt.subplots_adjust(hspace = .5, wspace = .2, top = .9) # adjusts the space between the single subplots\n",
    "lead_time.boxplot(column='order_lead_time_i') # creates boxplot for order lead time\n",
    "plt.ylabel('Days')\n",
    "sns.set_style(\"white\")\n",
    "sns.despine(fig=None, ax=None, top=True, right=True, left=True, bottom=False, offset=None, trim=False)\n",
    "sns.set_style({'axes.facecolor':'white', 'grid.color': 'white'})\n",
    "\n",
    "\n",
    ";"
   ]
  },
  {
   "cell_type": "markdown",
   "metadata": {},
   "source": [
    "### What is the average order lead time based on shipping mode selected?"
   ]
  },
  {
   "cell_type": "code",
   "execution_count": 21,
   "metadata": {},
   "outputs": [
    {
     "data": {
      "text/html": [
       "<div>\n",
       "<style scoped>\n",
       "    .dataframe tbody tr th:only-of-type {\n",
       "        vertical-align: middle;\n",
       "    }\n",
       "\n",
       "    .dataframe tbody tr th {\n",
       "        vertical-align: top;\n",
       "    }\n",
       "\n",
       "    .dataframe thead th {\n",
       "        text-align: right;\n",
       "    }\n",
       "</style>\n",
       "<table border=\"1\" class=\"dataframe\">\n",
       "  <thead>\n",
       "    <tr style=\"text-align: right;\">\n",
       "      <th></th>\n",
       "      <th>order_date</th>\n",
       "      <th>ship_mode</th>\n",
       "      <th>arrival_scan_date</th>\n",
       "      <th>order_lead_time</th>\n",
       "      <th>order_lead_time_i</th>\n",
       "      <th>ordered_day</th>\n",
       "      <th>arrival_day</th>\n",
       "    </tr>\n",
       "  </thead>\n",
       "  <tbody>\n",
       "    <tr>\n",
       "      <th>17</th>\n",
       "      <td>2019-09-11</td>\n",
       "      <td>Standard Processing</td>\n",
       "      <td>2019-09-23</td>\n",
       "      <td>12 days</td>\n",
       "      <td>12</td>\n",
       "      <td>Wednesday</td>\n",
       "      <td>Monday</td>\n",
       "    </tr>\n",
       "  </tbody>\n",
       "</table>\n",
       "</div>"
      ],
      "text/plain": [
       "   order_date            ship_mode arrival_scan_date order_lead_time  \\\n",
       "17 2019-09-11  Standard Processing        2019-09-23         12 days   \n",
       "\n",
       "    order_lead_time_i ordered_day arrival_day  \n",
       "17                 12   Wednesday      Monday  "
      ]
     },
     "execution_count": 21,
     "metadata": {},
     "output_type": "execute_result"
    }
   ],
   "source": [
    "lead_time.head(1)"
   ]
  },
  {
   "cell_type": "code",
   "execution_count": 22,
   "metadata": {},
   "outputs": [
    {
     "data": {
      "text/html": [
       "<div>\n",
       "<style scoped>\n",
       "    .dataframe tbody tr th:only-of-type {\n",
       "        vertical-align: middle;\n",
       "    }\n",
       "\n",
       "    .dataframe tbody tr th {\n",
       "        vertical-align: top;\n",
       "    }\n",
       "\n",
       "    .dataframe thead th {\n",
       "        text-align: right;\n",
       "    }\n",
       "</style>\n",
       "<table border=\"1\" class=\"dataframe\">\n",
       "  <thead>\n",
       "    <tr style=\"text-align: right;\">\n",
       "      <th></th>\n",
       "      <th>order_count</th>\n",
       "      <th>avg_order_lead_time</th>\n",
       "    </tr>\n",
       "    <tr>\n",
       "      <th>ship_mode</th>\n",
       "      <th></th>\n",
       "      <th></th>\n",
       "    </tr>\n",
       "  </thead>\n",
       "  <tbody>\n",
       "    <tr>\n",
       "      <th>Express</th>\n",
       "      <td>62</td>\n",
       "      <td>7.05</td>\n",
       "    </tr>\n",
       "    <tr>\n",
       "      <th>Standard Processing</th>\n",
       "      <td>146</td>\n",
       "      <td>11.93</td>\n",
       "    </tr>\n",
       "  </tbody>\n",
       "</table>\n",
       "</div>"
      ],
      "text/plain": [
       "                     order_count  avg_order_lead_time\n",
       "ship_mode                                            \n",
       "Express                       62                 7.05\n",
       "Standard Processing          146                11.93"
      ]
     },
     "execution_count": 22,
     "metadata": {},
     "output_type": "execute_result"
    }
   ],
   "source": [
    "# create new DF sorted by ship mode and using unique values from the order_date column\n",
    "# then display a column with the COUNT for order_counter and MEAN value for avg_order_lead_time\n",
    "order_lead_with_ship_mode = lead_time.groupby('ship_mode').agg(order_count=('order_date',lambda x: x.nunique()),\n",
    "                                    avg_order_lead_time=('order_lead_time_i','mean'))\n",
    "\n",
    "order_lead_with_ship_mode\n",
    "\n",
    "# The lambda function lambda x: x in Python is an anonymous function that returns its input x unchanged. \n",
    "# In other words, it's an identity function.\n",
    "# When you pass lambda x: x to one of these functions, it effectively means \"do nothing\" because it returns the input unchanged. \n",
    "# This can be useful in cases where you need to pass a function as an argument to another function but don't want to alter the data."
   ]
  }
 ],
 "metadata": {
  "kernelspec": {
   "display_name": "nf_base",
   "language": "python",
   "name": "python3"
  },
  "language_info": {
   "codemirror_mode": {
    "name": "ipython",
    "version": 3
   },
   "file_extension": ".py",
   "mimetype": "text/x-python",
   "name": "python",
   "nbconvert_exporter": "python",
   "pygments_lexer": "ipython3",
   "version": "3.9.19"
  }
 },
 "nbformat": 4,
 "nbformat_minor": 2
}
