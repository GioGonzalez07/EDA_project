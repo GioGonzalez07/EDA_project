{
 "cells": [
  {
   "cell_type": "markdown",
   "metadata": {},
   "source": [
    "### KPIs (Key performance Indicator)\n",
    "\n",
    "#### \"They want to develop KPIs to help them keep track of the health of their business in order to improve the service they offer their customers.\"\n",
    "\n",
    "Goal of analysis goes form the time the customer order till the time the order in delivered to the customer\n",
    "\n",
    "1. Number or orders received per day, including weekends.<br>\n",
    "\ta. count of type of orders - express, normal.. \n",
    "2. Number of processed orders per day.\n",
    "3. Number of deliveries per week.\n",
    "4. Overall time from the order taking to the arrival to the customer.\n",
    "5. Time of delivery process for each stage of the delivery.<br>\n",
    "6. Time the order takes to be ready to ship.<br>\n",
    "6. Types of delivery per customer.<br>\n",
    "\ta. count how many times a specific type of delivery occurs.\n",
    "7. Number of orders that meet the expected delivery day - to check late deliveries (average of 3 days with normal delivery).\n",
    "8. Geographic locations and time related (states). It takes up to 3 days for all locations.\n",
    "9. Origin Channel of order.\n",
    "\n",
    "#### Extra\n",
    "10. Costs<br>\n",
    "\ta. Carrier.<br>\n",
    "\tb. Discount.\n",
    "11. Sales<br>\n",
    "\ta. Price per order.<br>\n",
    "\tb. Quantity per order.\n",
    "\n",
    "\n",
    "Recommendations: \n",
    "\n",
    "1. Get the data from the warehouse to the location distribution center.\n",
    "\t\n",
    "\n",
    "\n",
    "\n"
   ]
  }
 ],
 "metadata": {
  "language_info": {
   "name": "python"
  }
 },
 "nbformat": 4,
 "nbformat_minor": 2
}
