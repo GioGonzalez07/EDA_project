{
 "cells": [
  {
   "cell_type": "markdown",
   "metadata": {},
   "source": [
    "### KPIs (Key performance Indicator)\n",
    "\n",
    "#### \"They want to develop KPIs to help them keep track of the health of their business in order to improve the service they offer their customers.\"\n",
    "\n",
    "Goal of analysis goes form the time the customer order till the time the order in delivered to the customer\n",
    "\n",
    "1. Number or orders received per day, including weekends.\n",
    "\ta. count of type of orders - express, normal.. \n",
    "2. Number of processed orders per day.\n",
    "3. Number of deliveries per week.\n",
    "4. Overall time from the order taking to the arrival to the customer.\n",
    "5. Time of delivery process for each stage and between stages.<br>\n",
    "\ta. Time that the delivery spend in each stage.<br>\n",
    "\tb. Time the order takes to be ready to ship.<br>\n",
    "6. Types of delivery per customer.<br>\n",
    "\ta. count how many times a specific type of delivery occurs.\n",
    "7. Number of orders that meet the expected delivery day - to check late deliveries (average of 3 days with normal delivery).\n",
    "8. Time of delivery to the local distribution center.\n",
    "9. Geographic locations and time related (states).\n",
    "10. Origin Channel of order.\n",
    "11. Costs<br>\n",
    "\ta. Carrier.<br>\n",
    "\tb. Discount.\n",
    "12. Sales<br>\n",
    "\ta. Price per order.<br>\n",
    "\tb. Quantity per order.\n",
    "\t\n",
    "\n",
    "\n",
    "\n"
   ]
  }
 ],
 "metadata": {
  "language_info": {
   "name": "python"
  }
 },
 "nbformat": 4,
 "nbformat_minor": 2
}
