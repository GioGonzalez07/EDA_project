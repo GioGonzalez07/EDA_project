{
 "cells": [
  {
   "cell_type": "markdown",
   "metadata": {},
   "source": [
    "## Order pending time\n",
    "\n",
    "This KPI measures the amount of orders during a month and a year."
   ]
  },
  {
   "cell_type": "code",
   "execution_count": null,
   "metadata": {},
   "outputs": [],
   "source": [
    "# imports\n",
    "\n",
    "import pandas as pd\n",
    "from matplotlib import pyplot as plt\n",
    "import seaborn as sns"
   ]
  },
  {
   "cell_type": "code",
   "execution_count": null,
   "metadata": {},
   "outputs": [],
   "source": [
    "%store -r final_merge\n",
    "\n",
    "df = final_merge[[\"order_id\", \"order_date\", \"region\", \"state\"]].copy()\n",
    "df.head(3)"
   ]
  },
  {
   "cell_type": "code",
   "execution_count": null,
   "metadata": {},
   "outputs": [],
   "source": [
    "# extract year, month, dayofweek  information out of column order_date and build new column for each\n",
    "df[\"order_year\"] = df[\"order_date\"].dt.year\n",
    "df[\"order_month\"] = df[\"order_date\"].dt.month\n",
    "df[\"month_name\"] = df[\"order_date\"].dt.month_name()\n",
    "df[\"order_weekday\"] = df[\"order_date\"].dt.dayofweek\n",
    "df[\"weekday_day\"] = df[\"order_date\"].dt.day_name()\n",
    "\n",
    "\n",
    "df.head(2)"
   ]
  },
  {
   "cell_type": "code",
   "execution_count": null,
   "metadata": {},
   "outputs": [],
   "source": [
    "df[\"order_year\"].unique()"
   ]
  },
  {
   "cell_type": "code",
   "execution_count": null,
   "metadata": {},
   "outputs": [],
   "source": [
    "df_year_group = df.groupby(\"order_year\")\n",
    "\n",
    "df_2017 = df_year_group.get_group(2017)\n",
    "df_2018 = df_year_group.get_group(2018)\n",
    "df_2019 = df_year_group.get_group(2019)\n",
    "df_2020 = df_year_group.get_group(2020)\n",
    "\n",
    "#display(df_2017[\"month_name\"].value_counts())\n",
    "#display(df_2018[\"month_name\"].value_counts())\n",
    "#display(df_2019[\"month_name\"].value_counts())\n",
    "#display(df_2020[\"month_name\"].value_counts())"
   ]
  },
  {
   "cell_type": "code",
   "execution_count": null,
   "metadata": {},
   "outputs": [],
   "source": [
    "# Plot number of orders in the year 2017\n",
    "year_2017 = sns.countplot(x=df_2017['month_name']) \n",
    "year_2017.tick_params(axis='x', rotation=50)\n",
    "year_2017.set_ylabel(\"No of orders\", fontsize = 10); \n",
    "year_2017.set(xlabel=None) \n",
    "year_2017.set_title('Number of orders in the year 2017', fontsize=20);"
   ]
  },
  {
   "cell_type": "code",
   "execution_count": null,
   "metadata": {},
   "outputs": [],
   "source": [
    "# Plot number of orders in the year 2018\n",
    "year_2018 = sns.countplot(x=df_2018['month_name']) \n",
    "year_2018.tick_params(axis='x', rotation=50)\n",
    "year_2018.set_ylabel(\"No of orders\", fontsize = 10); \n",
    "year_2018.set(xlabel=None) \n",
    "year_2018.set_title('Number of orders in the year 2018', fontsize=20);"
   ]
  },
  {
   "cell_type": "code",
   "execution_count": null,
   "metadata": {},
   "outputs": [],
   "source": [
    "# Plot number of orders in the year 2019\n",
    "year_2019 = sns.countplot(x=df_2019['month_name']) \n",
    "year_2019.tick_params(axis='x', rotation=50)\n",
    "year_2019.set_ylabel(\"No of orders\", fontsize = 10); \n",
    "year_2019.set(xlabel=None) \n",
    "year_2019.set_title('Number of orders in the year 2019', fontsize=20);"
   ]
  },
  {
   "cell_type": "code",
   "execution_count": null,
   "metadata": {},
   "outputs": [],
   "source": [
    "# Plot number of orders in the year 2020\n",
    "year_2020 = sns.countplot(x=df_2020['month_name']) \n",
    "year_2020.tick_params(axis='x', rotation=50)\n",
    "year_2020.set_ylabel(\"No of orders\", fontsize = 10); \n",
    "year_2020.set(xlabel=None) \n",
    "year_2020.set_title('Number of orders in the year 2020', fontsize=20);"
   ]
  },
  {
   "cell_type": "code",
   "execution_count": null,
   "metadata": {},
   "outputs": [],
   "source": [
    "plt.figure(figsize=(8,4));\n",
    "all_years = sns.histplot(x = 'month_name', hue = 'order_year', bins=20, data= df);\n",
    "\n",
    "all_years.tick_params(axis='x', rotation=50)\n",
    "all_years.set(xlabel=None) \n",
    "all_years.set_ylabel(\"No of orders\", fontsize = 10); "
   ]
  },
  {
   "cell_type": "code",
   "execution_count": null,
   "metadata": {},
   "outputs": [],
   "source": [
    "agg_dict = {\"order_id\": \"count\"}\n",
    "\n",
    "group_year = df.groupby(\"order_year\").agg(agg_dict).reset_index()"
   ]
  },
  {
   "cell_type": "code",
   "execution_count": null,
   "metadata": {},
   "outputs": [],
   "source": [
    "# Plot number of orders per year 2018-2020\n",
    "per_year = sns.barplot(x=group_year['order_year'], y = group_year['order_id'])\n",
    "\n",
    "per_year.tick_params(axis='x', rotation=50)\n",
    "per_year.set_ylabel(\"No of orders\", fontsize = 10); \n",
    "per_year.set(xlabel=None) \n",
    "per_year.set_title('Number of orders for year 2018-2020', fontsize=20);"
   ]
  },
  {
   "cell_type": "markdown",
   "metadata": {},
   "source": [
    "#### Extra:\n",
    "\n",
    "check the number of orders per state or area"
   ]
  },
  {
   "cell_type": "code",
   "execution_count": null,
   "metadata": {},
   "outputs": [],
   "source": [
    "plt.figure(figsize=(8,4));\n",
    "all_years = sns.histplot(x = 'month_name', hue = 'region', multiple=\"dodge\", data= df);\n",
    "\n",
    "all_years.tick_params(axis='x', rotation=90)\n",
    "all_years.set(xlabel=None) \n",
    "all_years.set_ylabel(\"No of orders\", fontsize = 10); "
   ]
  }
 ],
 "metadata": {
  "kernelspec": {
   "display_name": "nf_base",
   "language": "python",
   "name": "python3"
  },
  "language_info": {
   "codemirror_mode": {
    "name": "ipython",
    "version": 3
   },
   "file_extension": ".py",
   "mimetype": "text/x-python",
   "name": "python",
   "nbconvert_exporter": "python",
   "pygments_lexer": "ipython3",
   "version": "3.9.19"
  }
 },
 "nbformat": 4,
 "nbformat_minor": 2
}
