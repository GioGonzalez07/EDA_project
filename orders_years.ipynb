{
 "cells": [
  {
   "cell_type": "code",
   "execution_count": 36,
   "metadata": {},
   "outputs": [],
   "source": [
    "import pandas as pd\n",
    "import matplotlib as plt\n",
    "import seaborn as sns"
   ]
  },
  {
   "cell_type": "code",
   "execution_count": 37,
   "metadata": {},
   "outputs": [],
   "source": [
    "%store -r  final_merge\n",
    "%store -r orders_weekdays"
   ]
  },
  {
   "cell_type": "code",
   "execution_count": 38,
   "metadata": {},
   "outputs": [],
   "source": [
    "orders_years = orders_weekdays.copy()"
   ]
  },
  {
   "cell_type": "code",
   "execution_count": 39,
   "metadata": {},
   "outputs": [],
   "source": [
    "orders_years['order_year'] = orders_weekdays['order_date'].dt.year"
   ]
  },
  {
   "cell_type": "code",
   "execution_count": 40,
   "metadata": {},
   "outputs": [
    {
     "data": {
      "text/plain": [
       "Index(['order_id', 'order_date', 'state', 'region', 'ship_mode',\n",
       "       'ready_to_ship_date', 'pickup_date', 'arrival_scan_date', 'order_day',\n",
       "       'order_weekend', 'ship_mode_cat', 'order_year'],\n",
       "      dtype='object')"
      ]
     },
     "execution_count": 40,
     "metadata": {},
     "output_type": "execute_result"
    }
   ],
   "source": [
    "orders_years.columns"
   ]
  },
  {
   "cell_type": "code",
   "execution_count": 41,
   "metadata": {},
   "outputs": [
    {
     "data": {
      "text/plain": [
       "order_year  region \n",
       "2017        West       313\n",
       "            East       261\n",
       "            Central    230\n",
       "            South      165\n",
       "2018        West       338\n",
       "            East       296\n",
       "            Central    234\n",
       "            South      170\n",
       "2019        West       422\n",
       "            East       374\n",
       "            Central    305\n",
       "            South      214\n",
       "2020        West       539\n",
       "            East       470\n",
       "            Central    406\n",
       "            South      273\n",
       "Name: count, dtype: int64"
      ]
     },
     "execution_count": 41,
     "metadata": {},
     "output_type": "execute_result"
    }
   ],
   "source": [
    "orders_years.groupby('order_year')['region'].value_counts()"
   ]
  },
  {
   "cell_type": "code",
   "execution_count": 42,
   "metadata": {},
   "outputs": [
    {
     "data": {
      "text/plain": [
       "order_year  ship_mode            region \n",
       "2017        Standard Processing  West       255\n",
       "                                 East       202\n",
       "                                 Central    187\n",
       "                                 South      132\n",
       "            Express              East        59\n",
       "                                 West        58\n",
       "                                 Central     43\n",
       "                                 South       33\n",
       "2018        Standard Processing  West       274\n",
       "                                 East       233\n",
       "                                 Central    190\n",
       "                                 South      145\n",
       "            Express              West        64\n",
       "                                 East        63\n",
       "                                 Central     44\n",
       "                                 South       25\n",
       "2019        Standard Processing  West       322\n",
       "                                 East       290\n",
       "                                 Central    250\n",
       "                                 South      164\n",
       "            Express              West       100\n",
       "                                 East        84\n",
       "                                 Central     55\n",
       "                                 South       50\n",
       "2020        Standard Processing  West       415\n",
       "                                 East       369\n",
       "                                 Central    312\n",
       "                                 South      218\n",
       "            Express              West       124\n",
       "                                 East       101\n",
       "                                 Central     94\n",
       "                                 South       55\n",
       "Name: count, dtype: int64"
      ]
     },
     "execution_count": 42,
     "metadata": {},
     "output_type": "execute_result"
    }
   ],
   "source": [
    "orders_years.groupby('order_year')[['ship_mode', 'region']].value_counts()"
   ]
  },
  {
   "cell_type": "code",
   "execution_count": 43,
   "metadata": {},
   "outputs": [
    {
     "data": {
      "image/png": "[encoded data removed]",
      "text/plain": [
       "<Figure size 692x500 with 1 Axes>"
      ]
     },
     "metadata": {},
     "output_type": "display_data"
    }
   ],
   "source": [
    "sns.catplot(x='region', data=orders_years, kind='count', hue='ship_mode');"
   ]
  },
  {
   "cell_type": "code",
   "execution_count": 44,
   "metadata": {},
   "outputs": [
    {
     "data": {
      "text/plain": [
       "5010"
      ]
     },
     "execution_count": 44,
     "metadata": {},
     "output_type": "execute_result"
    }
   ],
   "source": [
    "orders_years.order_year.count()"
   ]
  },
  {
   "cell_type": "code",
   "execution_count": 45,
   "metadata": {},
   "outputs": [
    {
     "name": "stdout",
     "output_type": "stream",
     "text": [
      "Stored 'orders_years' (DataFrame)\n"
     ]
    }
   ],
   "source": [
    "%store orders_years"
   ]
  }
 ],
 "metadata": {
  "kernelspec": {
   "display_name": "nf_base",
   "language": "python",
   "name": "python3"
  },
  "language_info": {
   "codemirror_mode": {
    "name": "ipython",
    "version": 3
   },
   "file_extension": ".py",
   "mimetype": "text/x-python",
   "name": "python",
   "nbconvert_exporter": "python",
   "pygments_lexer": "ipython3",
   "version": "3.9.19"
  }
 },
 "nbformat": 4,
 "nbformat_minor": 2
}
