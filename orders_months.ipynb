{
 "cells": [
  {
   "cell_type": "code",
   "execution_count": 1,
   "metadata": {},
   "outputs": [],
   "source": [
    "import pandas as pd\n",
    "import matplotlib as plt\n",
    "import seaborn as sns"
   ]
  },
  {
   "cell_type": "code",
   "execution_count": 10,
   "metadata": {},
   "outputs": [],
   "source": [
    "%store -r  final_merge\n",
    "%store -r orders_years"
   ]
  },
  {
   "cell_type": "code",
   "execution_count": 3,
   "metadata": {},
   "outputs": [],
   "source": [
    "orders_months = orders_years.copy()"
   ]
  },
  {
   "cell_type": "code",
   "execution_count": 4,
   "metadata": {},
   "outputs": [],
   "source": [
    "orders_months['order_month'] = orders_months['order_date'].dt.month"
   ]
  },
  {
   "cell_type": "code",
   "execution_count": 6,
   "metadata": {},
   "outputs": [
    {
     "data": {
      "text/plain": [
       "order_month\n",
       "11    753\n",
       "12    702\n",
       "9     689\n",
       "10    417\n",
       "5     369\n",
       "6     364\n",
       "3     354\n",
       "4     343\n",
       "8     341\n",
       "7     338\n",
       "1     178\n",
       "2     162\n",
       "Name: count, dtype: int64"
      ]
     },
     "execution_count": 6,
     "metadata": {},
     "output_type": "execute_result"
    }
   ],
   "source": [
    "orders_months.order_month.value_counts()"
   ]
  },
  {
   "cell_type": "code",
   "execution_count": 7,
   "metadata": {},
   "outputs": [
    {
     "data": {
      "text/html": [
       "<div>\n",
       "<style scoped>\n",
       "    .dataframe tbody tr th:only-of-type {\n",
       "        vertical-align: middle;\n",
       "    }\n",
       "\n",
       "    .dataframe tbody tr th {\n",
       "        vertical-align: top;\n",
       "    }\n",
       "\n",
       "    .dataframe thead th {\n",
       "        text-align: right;\n",
       "    }\n",
       "</style>\n",
       "<table border=\"1\" class=\"dataframe\">\n",
       "  <thead>\n",
       "    <tr style=\"text-align: right;\">\n",
       "      <th></th>\n",
       "      <th>order_date</th>\n",
       "      <th>ready_to_ship_date</th>\n",
       "      <th>pickup_date</th>\n",
       "      <th>arrival_scan_date</th>\n",
       "      <th>order_weekend</th>\n",
       "      <th>order_year</th>\n",
       "      <th>order_month</th>\n",
       "    </tr>\n",
       "  </thead>\n",
       "  <tbody>\n",
       "    <tr>\n",
       "      <th>count</th>\n",
       "      <td>5010</td>\n",
       "      <td>204</td>\n",
       "      <td>3003</td>\n",
       "      <td>333</td>\n",
       "      <td>5010.000000</td>\n",
       "      <td>5010.000000</td>\n",
       "      <td>5010.000000</td>\n",
       "    </tr>\n",
       "    <tr>\n",
       "      <th>mean</th>\n",
       "      <td>2019-05-08 11:57:24.790419200</td>\n",
       "      <td>2020-07-07 01:03:31.764705792</td>\n",
       "      <td>2020-03-07 00:00:00.000000256</td>\n",
       "      <td>2019-10-14 19:36:12.972973056</td>\n",
       "      <td>0.174451</td>\n",
       "      <td>2018.742914</td>\n",
       "      <td>7.811776</td>\n",
       "    </tr>\n",
       "    <tr>\n",
       "      <th>min</th>\n",
       "      <td>2017-01-03 00:00:00</td>\n",
       "      <td>2019-09-02 00:00:00</td>\n",
       "      <td>2019-01-07 00:00:00</td>\n",
       "      <td>2019-05-03 00:00:00</td>\n",
       "      <td>0.000000</td>\n",
       "      <td>2017.000000</td>\n",
       "      <td>1.000000</td>\n",
       "    </tr>\n",
       "    <tr>\n",
       "      <th>25%</th>\n",
       "      <td>2018-05-31 00:00:00</td>\n",
       "      <td>2019-09-24 00:00:00</td>\n",
       "      <td>2019-09-20 00:00:00</td>\n",
       "      <td>2019-09-09 00:00:00</td>\n",
       "      <td>0.000000</td>\n",
       "      <td>2018.000000</td>\n",
       "      <td>5.000000</td>\n",
       "    </tr>\n",
       "    <tr>\n",
       "      <th>50%</th>\n",
       "      <td>2019-07-10 00:00:00</td>\n",
       "      <td>2020-11-12 00:00:00</td>\n",
       "      <td>2020-03-25 00:00:00</td>\n",
       "      <td>2019-10-21 00:00:00</td>\n",
       "      <td>0.000000</td>\n",
       "      <td>2019.000000</td>\n",
       "      <td>9.000000</td>\n",
       "    </tr>\n",
       "    <tr>\n",
       "      <th>75%</th>\n",
       "      <td>2020-05-19 18:00:00</td>\n",
       "      <td>2020-11-23 00:00:00</td>\n",
       "      <td>2020-09-18 00:00:00</td>\n",
       "      <td>2019-12-16 00:00:00</td>\n",
       "      <td>0.000000</td>\n",
       "      <td>2020.000000</td>\n",
       "      <td>11.000000</td>\n",
       "    </tr>\n",
       "    <tr>\n",
       "      <th>max</th>\n",
       "      <td>2020-12-30 00:00:00</td>\n",
       "      <td>2020-12-07 00:00:00</td>\n",
       "      <td>2021-01-06 00:00:00</td>\n",
       "      <td>2020-05-15 00:00:00</td>\n",
       "      <td>1.000000</td>\n",
       "      <td>2020.000000</td>\n",
       "      <td>12.000000</td>\n",
       "    </tr>\n",
       "    <tr>\n",
       "      <th>std</th>\n",
       "      <td>NaN</td>\n",
       "      <td>NaN</td>\n",
       "      <td>NaN</td>\n",
       "      <td>NaN</td>\n",
       "      <td>0.379535</td>\n",
       "      <td>1.118893</td>\n",
       "      <td>3.289320</td>\n",
       "    </tr>\n",
       "  </tbody>\n",
       "</table>\n",
       "</div>"
      ],
      "text/plain": [
       "                          order_date             ready_to_ship_date  \\\n",
       "count                           5010                            204   \n",
       "mean   2019-05-08 11:57:24.790419200  2020-07-07 01:03:31.764705792   \n",
       "min              2017-01-03 00:00:00            2019-09-02 00:00:00   \n",
       "25%              2018-05-31 00:00:00            2019-09-24 00:00:00   \n",
       "50%              2019-07-10 00:00:00            2020-11-12 00:00:00   \n",
       "75%              2020-05-19 18:00:00            2020-11-23 00:00:00   \n",
       "max              2020-12-30 00:00:00            2020-12-07 00:00:00   \n",
       "std                              NaN                            NaN   \n",
       "\n",
       "                         pickup_date              arrival_scan_date  \\\n",
       "count                           3003                            333   \n",
       "mean   2020-03-07 00:00:00.000000256  2019-10-14 19:36:12.972973056   \n",
       "min              2019-01-07 00:00:00            2019-05-03 00:00:00   \n",
       "25%              2019-09-20 00:00:00            2019-09-09 00:00:00   \n",
       "50%              2020-03-25 00:00:00            2019-10-21 00:00:00   \n",
       "75%              2020-09-18 00:00:00            2019-12-16 00:00:00   \n",
       "max              2021-01-06 00:00:00            2020-05-15 00:00:00   \n",
       "std                              NaN                            NaN   \n",
       "\n",
       "       order_weekend   order_year  order_month  \n",
       "count    5010.000000  5010.000000  5010.000000  \n",
       "mean        0.174451  2018.742914     7.811776  \n",
       "min         0.000000  2017.000000     1.000000  \n",
       "25%         0.000000  2018.000000     5.000000  \n",
       "50%         0.000000  2019.000000     9.000000  \n",
       "75%         0.000000  2020.000000    11.000000  \n",
       "max         1.000000  2020.000000    12.000000  \n",
       "std         0.379535     1.118893     3.289320  "
      ]
     },
     "execution_count": 7,
     "metadata": {},
     "output_type": "execute_result"
    }
   ],
   "source": [
    "orders_months.describe()"
   ]
  },
  {
   "cell_type": "code",
   "execution_count": 8,
   "metadata": {},
   "outputs": [
    {
     "data": {
      "text/plain": [
       "0    11\n",
       "Name: order_month, dtype: int32"
      ]
     },
     "execution_count": 8,
     "metadata": {},
     "output_type": "execute_result"
    }
   ],
   "source": [
    "orders_months['order_month'].mode()"
   ]
  },
  {
   "cell_type": "code",
   "execution_count": 9,
   "metadata": {},
   "outputs": [
    {
     "name": "stdout",
     "output_type": "stream",
     "text": [
      "Stored 'orders_months' (DataFrame)\n"
     ]
    }
   ],
   "source": [
    "%store orders_months"
   ]
  }
 ],
 "metadata": {
  "kernelspec": {
   "display_name": "nf_base",
   "language": "python",
   "name": "python3"
  },
  "language_info": {
   "codemirror_mode": {
    "name": "ipython",
    "version": 3
   },
   "file_extension": ".py",
   "mimetype": "text/x-python",
   "name": "python",
   "nbconvert_exporter": "python",
   "pygments_lexer": "ipython3",
   "version": "3.9.19"
  }
 },
 "nbformat": 4,
 "nbformat_minor": 2
}
