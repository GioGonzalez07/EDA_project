{
 "cells": [
  {
   "cell_type": "code",
   "execution_count": 94,
   "metadata": {},
   "outputs": [],
   "source": [
    "import pandas as pd\n",
    "import matplotlib as plt\n",
    "import seaborn as sns\n",
    "import matplotlib.pyplot as plt"
   ]
  },
  {
   "cell_type": "code",
   "execution_count": 96,
   "metadata": {},
   "outputs": [],
   "source": [
    "%store -r  final_merge\n",
    "%store -r ready_df\n",
    "%store -r orders_months"
   ]
  },
  {
   "cell_type": "code",
   "execution_count": 48,
   "metadata": {},
   "outputs": [
    {
     "name": "stdout",
     "output_type": "stream",
     "text": [
      "<class 'pandas.core.frame.DataFrame'>\n",
      "RangeIndex: 5010 entries, 0 to 5009\n",
      "Data columns (total 8 columns):\n",
      " #   Column              Non-Null Count  Dtype         \n",
      "---  ------              --------------  -----         \n",
      " 0   order_id            5010 non-null   object        \n",
      " 1   order_date          5010 non-null   datetime64[ns]\n",
      " 2   state               5010 non-null   object        \n",
      " 3   region              5010 non-null   object        \n",
      " 4   ship_mode           5010 non-null   object        \n",
      " 5   ready_to_ship_date  204 non-null    datetime64[ns]\n",
      " 6   pickup_date         3003 non-null   datetime64[ns]\n",
      " 7   arrival_scan_date   333 non-null    datetime64[ns]\n",
      "dtypes: datetime64[ns](4), object(4)\n",
      "memory usage: 313.2+ KB\n"
     ]
    }
   ],
   "source": [
    "#creating new dataframe\n",
    "orders_weekdays = final_merge.copy()\n",
    "\n",
    "orders_weekdays.head(5)\n",
    "orders_weekdays.info()"
   ]
  },
  {
   "cell_type": "code",
   "execution_count": 50,
   "metadata": {},
   "outputs": [],
   "source": [
    "#creating weekdays for orders\n",
    "\n",
    "orders_weekdays['order_day'] = orders_weekdays['order_date'].dt.day_name()\n",
    "\n"
   ]
  },
  {
   "cell_type": "code",
   "execution_count": 51,
   "metadata": {},
   "outputs": [
    {
     "data": {
      "text/plain": [
       "order_day\n",
       "Thursday     885\n",
       "Tuesday      884\n",
       "Wednesday    846\n",
       "Friday       791\n",
       "Monday       730\n",
       "Saturday     458\n",
       "Sunday       416\n",
       "Name: count, dtype: int64"
      ]
     },
     "execution_count": 51,
     "metadata": {},
     "output_type": "execute_result"
    }
   ],
   "source": [
    "orders_weekdays.order_day.value_counts()"
   ]
  },
  {
   "cell_type": "code",
   "execution_count": 52,
   "metadata": {},
   "outputs": [
    {
     "data": {
      "text/plain": [
       "5010"
      ]
     },
     "execution_count": 52,
     "metadata": {},
     "output_type": "execute_result"
    }
   ],
   "source": [
    "orders_weekdays.order_day.size"
   ]
  },
  {
   "cell_type": "code",
   "execution_count": 53,
   "metadata": {},
   "outputs": [
    {
     "data": {
      "text/plain": [
       "0"
      ]
     },
     "execution_count": 53,
     "metadata": {},
     "output_type": "execute_result"
    }
   ],
   "source": [
    "orders_weekdays.order_day.isna().sum()"
   ]
  },
  {
   "cell_type": "code",
   "execution_count": 54,
   "metadata": {},
   "outputs": [
    {
     "data": {
      "text/plain": [
       "7"
      ]
     },
     "execution_count": 54,
     "metadata": {},
     "output_type": "execute_result"
    }
   ],
   "source": [
    "orders_weekdays.order_day.nunique()"
   ]
  },
  {
   "cell_type": "code",
   "execution_count": 55,
   "metadata": {},
   "outputs": [
    {
     "data": {
      "text/plain": [
       "0    Thursday\n",
       "Name: order_day, dtype: object"
      ]
     },
     "execution_count": 55,
     "metadata": {},
     "output_type": "execute_result"
    }
   ],
   "source": [
    "orders_weekdays.order_day.mode()"
   ]
  },
  {
   "cell_type": "code",
   "execution_count": 31,
   "metadata": {},
   "outputs": [],
   "source": [
    "# creating weekend days for orders\n",
    "\n",
    "orders_weekdays['order_weekend'] = orders_weekdays['order_day'].isin(['Saturday', 'Sunday']).astype(int)"
   ]
  },
  {
   "cell_type": "code",
   "execution_count": 32,
   "metadata": {},
   "outputs": [
    {
     "data": {
      "text/plain": [
       "0    0\n",
       "1    1\n",
       "2    0\n",
       "3    1\n",
       "4    1\n",
       "Name: order_weekend, dtype: int64"
      ]
     },
     "execution_count": 32,
     "metadata": {},
     "output_type": "execute_result"
    }
   ],
   "source": [
    "orders_weekdays.order_weekend.head(5)"
   ]
  },
  {
   "cell_type": "code",
   "execution_count": 35,
   "metadata": {},
   "outputs": [
    {
     "data": {
      "text/plain": [
       "0"
      ]
     },
     "execution_count": 35,
     "metadata": {},
     "output_type": "execute_result"
    }
   ],
   "source": [
    "orders_weekdays.order_weekend.isna().sum()"
   ]
  },
  {
   "cell_type": "code",
   "execution_count": 37,
   "metadata": {},
   "outputs": [
    {
     "data": {
      "text/plain": [
       "count    5010.000000\n",
       "mean        0.174451\n",
       "std         0.379535\n",
       "min         0.000000\n",
       "25%         0.000000\n",
       "50%         0.000000\n",
       "75%         0.000000\n",
       "max         1.000000\n",
       "Name: order_weekend, dtype: float64"
      ]
     },
     "execution_count": 37,
     "metadata": {},
     "output_type": "execute_result"
    }
   ],
   "source": [
    "orders_weekdays.order_weekend.describe()"
   ]
  },
  {
   "cell_type": "markdown",
   "metadata": {},
   "source": [
    "DESCRIPTIVE STATISTICS"
   ]
  },
  {
   "cell_type": "code",
   "execution_count": 39,
   "metadata": {},
   "outputs": [
    {
     "data": {
      "text/html": [
       "<div>\n",
       "<style scoped>\n",
       "    .dataframe tbody tr th:only-of-type {\n",
       "        vertical-align: middle;\n",
       "    }\n",
       "\n",
       "    .dataframe tbody tr th {\n",
       "        vertical-align: top;\n",
       "    }\n",
       "\n",
       "    .dataframe thead th {\n",
       "        text-align: right;\n",
       "    }\n",
       "</style>\n",
       "<table border=\"1\" class=\"dataframe\">\n",
       "  <thead>\n",
       "    <tr style=\"text-align: right;\">\n",
       "      <th></th>\n",
       "      <th>order_date</th>\n",
       "      <th>ready_to_ship_date</th>\n",
       "      <th>pickup_date</th>\n",
       "      <th>arrival_scan_date</th>\n",
       "      <th>order_weekend</th>\n",
       "    </tr>\n",
       "  </thead>\n",
       "  <tbody>\n",
       "    <tr>\n",
       "      <th>count</th>\n",
       "      <td>5010</td>\n",
       "      <td>204</td>\n",
       "      <td>3003</td>\n",
       "      <td>333</td>\n",
       "      <td>5010.000000</td>\n",
       "    </tr>\n",
       "    <tr>\n",
       "      <th>mean</th>\n",
       "      <td>2019-05-08 11:57:24.790419200</td>\n",
       "      <td>2020-07-07 01:03:31.764705792</td>\n",
       "      <td>2020-03-07 00:00:00.000000256</td>\n",
       "      <td>2019-10-14 19:36:12.972973056</td>\n",
       "      <td>0.174451</td>\n",
       "    </tr>\n",
       "    <tr>\n",
       "      <th>min</th>\n",
       "      <td>2017-01-03 00:00:00</td>\n",
       "      <td>2019-09-02 00:00:00</td>\n",
       "      <td>2019-01-07 00:00:00</td>\n",
       "      <td>2019-05-03 00:00:00</td>\n",
       "      <td>0.000000</td>\n",
       "    </tr>\n",
       "    <tr>\n",
       "      <th>25%</th>\n",
       "      <td>2018-05-31 00:00:00</td>\n",
       "      <td>2019-09-24 00:00:00</td>\n",
       "      <td>2019-09-20 00:00:00</td>\n",
       "      <td>2019-09-09 00:00:00</td>\n",
       "      <td>0.000000</td>\n",
       "    </tr>\n",
       "    <tr>\n",
       "      <th>50%</th>\n",
       "      <td>2019-07-10 00:00:00</td>\n",
       "      <td>2020-11-12 00:00:00</td>\n",
       "      <td>2020-03-25 00:00:00</td>\n",
       "      <td>2019-10-21 00:00:00</td>\n",
       "      <td>0.000000</td>\n",
       "    </tr>\n",
       "    <tr>\n",
       "      <th>75%</th>\n",
       "      <td>2020-05-19 18:00:00</td>\n",
       "      <td>2020-11-23 00:00:00</td>\n",
       "      <td>2020-09-18 00:00:00</td>\n",
       "      <td>2019-12-16 00:00:00</td>\n",
       "      <td>0.000000</td>\n",
       "    </tr>\n",
       "    <tr>\n",
       "      <th>max</th>\n",
       "      <td>2020-12-30 00:00:00</td>\n",
       "      <td>2020-12-07 00:00:00</td>\n",
       "      <td>2021-01-06 00:00:00</td>\n",
       "      <td>2020-05-15 00:00:00</td>\n",
       "      <td>1.000000</td>\n",
       "    </tr>\n",
       "    <tr>\n",
       "      <th>std</th>\n",
       "      <td>NaN</td>\n",
       "      <td>NaN</td>\n",
       "      <td>NaN</td>\n",
       "      <td>NaN</td>\n",
       "      <td>0.379535</td>\n",
       "    </tr>\n",
       "  </tbody>\n",
       "</table>\n",
       "</div>"
      ],
      "text/plain": [
       "                          order_date             ready_to_ship_date  \\\n",
       "count                           5010                            204   \n",
       "mean   2019-05-08 11:57:24.790419200  2020-07-07 01:03:31.764705792   \n",
       "min              2017-01-03 00:00:00            2019-09-02 00:00:00   \n",
       "25%              2018-05-31 00:00:00            2019-09-24 00:00:00   \n",
       "50%              2019-07-10 00:00:00            2020-11-12 00:00:00   \n",
       "75%              2020-05-19 18:00:00            2020-11-23 00:00:00   \n",
       "max              2020-12-30 00:00:00            2020-12-07 00:00:00   \n",
       "std                              NaN                            NaN   \n",
       "\n",
       "                         pickup_date              arrival_scan_date  \\\n",
       "count                           3003                            333   \n",
       "mean   2020-03-07 00:00:00.000000256  2019-10-14 19:36:12.972973056   \n",
       "min              2019-01-07 00:00:00            2019-05-03 00:00:00   \n",
       "25%              2019-09-20 00:00:00            2019-09-09 00:00:00   \n",
       "50%              2020-03-25 00:00:00            2019-10-21 00:00:00   \n",
       "75%              2020-09-18 00:00:00            2019-12-16 00:00:00   \n",
       "max              2021-01-06 00:00:00            2020-05-15 00:00:00   \n",
       "std                              NaN                            NaN   \n",
       "\n",
       "       order_weekend  \n",
       "count    5010.000000  \n",
       "mean        0.174451  \n",
       "min         0.000000  \n",
       "25%         0.000000  \n",
       "50%         0.000000  \n",
       "75%         0.000000  \n",
       "max         1.000000  \n",
       "std         0.379535  "
      ]
     },
     "execution_count": 39,
     "metadata": {},
     "output_type": "execute_result"
    }
   ],
   "source": [
    "orders_weekdays.describe()"
   ]
  },
  {
   "cell_type": "code",
   "execution_count": 16,
   "metadata": {},
   "outputs": [],
   "source": []
  },
  {
   "cell_type": "code",
   "execution_count": 17,
   "metadata": {},
   "outputs": [
    {
     "data": {
      "text/plain": [
       "0    0\n",
       "1    1\n",
       "2    0\n",
       "3    1\n",
       "4    1\n",
       "Name: order_weekend, dtype: int64"
      ]
     },
     "execution_count": 17,
     "metadata": {},
     "output_type": "execute_result"
    }
   ],
   "source": []
  },
  {
   "cell_type": "code",
   "execution_count": 18,
   "metadata": {},
   "outputs": [
    {
     "data": {
      "text/plain": [
       "2"
      ]
     },
     "execution_count": 18,
     "metadata": {},
     "output_type": "execute_result"
    }
   ],
   "source": [
    "orders_weekdays.order_weekend.nunique()"
   ]
  },
  {
   "cell_type": "code",
   "execution_count": 43,
   "metadata": {},
   "outputs": [
    {
     "data": {
      "text/plain": [
       "ship_mode\n",
       "Standard Processing    2340\n",
       "Standard Class         1222\n",
       "Express                 663\n",
       "Second Class            396\n",
       "First Class             389\n",
       "Name: count, dtype: int64"
      ]
     },
     "execution_count": 43,
     "metadata": {},
     "output_type": "execute_result"
    }
   ],
   "source": [
    "orders_weekdays.ship_mode.value_counts()"
   ]
  },
  {
   "cell_type": "code",
   "execution_count": 80,
   "metadata": {},
   "outputs": [
    {
     "data": {
      "text/plain": [
       "0            Standard Class\n",
       "1            Standard Class\n",
       "2            Standard Class\n",
       "3            Standard Class\n",
       "4            Standard Class\n",
       "               ...         \n",
       "5005    Standard Processing\n",
       "5006    Standard Processing\n",
       "5007                Express\n",
       "5008    Standard Processing\n",
       "5009                Express\n",
       "Name: ship_mode, Length: 5010, dtype: object"
      ]
     },
     "execution_count": 80,
     "metadata": {},
     "output_type": "execute_result"
    }
   ],
   "source": [
    "orders_weekdays.ship_mode\n"
   ]
  },
  {
   "cell_type": "code",
   "execution_count": 88,
   "metadata": {},
   "outputs": [],
   "source": [
    "orders_weekdays['ship_mode_cat']= orders_weekdays['ship_mode'].astype('category')\n"
   ]
  },
  {
   "cell_type": "code",
   "execution_count": 87,
   "metadata": {},
   "outputs": [
    {
     "data": {
      "text/plain": [
       "CategoricalDtype(categories=['Express', 'First Class', 'Second Class', 'Standard Class',\n",
       "                  'Standard Processing'],\n",
       ", ordered=False, categories_dtype=object)"
      ]
     },
     "execution_count": 87,
     "metadata": {},
     "output_type": "execute_result"
    }
   ],
   "source": [
    "orders_weekdays['ship_mode_cat'].dtypes"
   ]
  },
  {
   "cell_type": "markdown",
   "metadata": {},
   "source": [
    "###VISUALIZATIONS###"
   ]
  },
  {
   "cell_type": "code",
   "execution_count": 62,
   "metadata": {},
   "outputs": [
    {
     "data": {
      "image/png": "[encoded data removed]",
      "text/plain": [
       "<Figure size 640x480 with 1 Axes>"
      ]
     },
     "metadata": {},
     "output_type": "display_data"
    }
   ],
   "source": [
    "# KPI 1: Plot number of orders per weekday\n",
    "#plt.figure(figsize=(15,8)) # specify figure size\n",
    "\n",
    "weekday_order = [\"Monday\", \"Tuesday\", \"Wednesday\", \"Thursday\", \"Friday\", \"Saturday\",\"Sunday\"]\n",
    "f1 = sns.countplot(x=orders_weekdays['order_day'], order=weekday_order) # create countplot\n",
    "f1.tick_params(axis='x', rotation=90) # get x-ticks and rotate them\n",
    "f1.set_xlabel(\"Order day\", fontsize = 10)\n",
    "#f1.set_xticklabels(labels=[\"Monday\", \"Tuesday\", \"Wednesday\", \"Thursday\", \"Friday\", \"Saturday\", \"Sunday\"])\n",
    "f1.set_ylabel(\"No of orders\", fontsize = 10); # set label for y-axis\n",
    "f1.set_title('Number of orders per day', fontsize=20); # set title"
   ]
  },
  {
   "cell_type": "code",
   "execution_count": 78,
   "metadata": {},
   "outputs": [
    {
     "data": {
      "text/plain": [
       "ship_mode\n",
       "Standard Processing    2340\n",
       "Standard Class         1222\n",
       "Express                 663\n",
       "Second Class            396\n",
       "First Class             389\n",
       "Name: count, dtype: int64"
      ]
     },
     "execution_count": 78,
     "metadata": {},
     "output_type": "execute_result"
    }
   ],
   "source": [
    "orders_weekdays.ship_mode.value_counts()"
   ]
  },
  {
   "cell_type": "code",
   "execution_count": 79,
   "metadata": {},
   "outputs": [
    {
     "data": {
      "image/png": "[encoded data removed]",
      "text/plain": [
       "<Figure size 2000x1000 with 2 Axes>"
      ]
     },
     "metadata": {},
     "output_type": "display_data"
    }
   ],
   "source": [
    "#KPI 2: Number of orders differ according to day and ship mode\n",
    "fig, ax = plt.subplots(2,1, figsize=(20,10))\n",
    "plt.suptitle('Orders per day', fontsize=20)\n",
    "fig.tight_layout(h_pad=8) \n",
    "plt.subplots_adjust(hspace = .5, wspace = .2, top = .9)\n",
    "\n",
    "weekday_order = [\"Monday\", \"Tuesday\", \"Wednesday\", \"Thursday\", \"Friday\", \"Saturday\",\"Sunday\"]\n",
    "f1 = sns.countplot(x=orders_weekdays['order_day'], ax=ax[0], order=weekday_order) # create countplot\n",
    "\n",
    "f1.set_ylabel(\"No of orders\", fontsize = 10)\n",
    "f1.set_xlabel(\"Weekday of order\", fontsize = 10)\n",
    "f1.set_xticklabels(labels=[\"Monday\", \"Tuesday\", \"Wednesday\", \"Thursday\", \"Friday\", \"Saturday\", \"Sunday\"])\n",
    "f1.set_title(\"Number of orders per weekday\", fontsize = 15);\n",
    "\n",
    "f2 = sns.countplot(x=orders_weekdays['ship_mode'], ax=ax[1])\n",
    "\n",
    "f2.set_ylabel(\"No of orders\", fontsize = 10)\n",
    "f2.set_xlabel(\"Ship mode\", fontsize = 10)\n",
    "f2.set_title(\"Number of orders according to ship mode\", fontsize = 15);"
   ]
  },
  {
   "cell_type": "code",
   "execution_count": null,
   "metadata": {},
   "outputs": [],
   "source": [
    "#sns.scatterplot(x='order_month', y='region', data=orders_months, hue='species"
   ]
  },
  {
   "cell_type": "code",
   "execution_count": 40,
   "metadata": {},
   "outputs": [
    {
     "name": "stdout",
     "output_type": "stream",
     "text": [
      "Stored 'orders_weekdays' (DataFrame)\n"
     ]
    }
   ],
   "source": [
    "%store orders_weekdays"
   ]
  }
 ],
 "metadata": {
  "kernelspec": {
   "display_name": "nf_base",
   "language": "python",
   "name": "python3"
  },
  "language_info": {
   "codemirror_mode": {
    "name": "ipython",
    "version": 3
   },
   "file_extension": ".py",
   "mimetype": "text/x-python",
   "name": "python",
   "nbconvert_exporter": "python",
   "pygments_lexer": "ipython3",
   "version": "3.9.19"
  }
 },
 "nbformat": 4,
 "nbformat_minor": 2
}
