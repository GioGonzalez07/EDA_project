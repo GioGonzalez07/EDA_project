{
 "cells": [
  {
   "cell_type": "code",
   "execution_count": 1,
   "metadata": {},
   "outputs": [],
   "source": [
    "import pandas as pd"
   ]
  },
  {
   "cell_type": "code",
   "execution_count": 4,
   "metadata": {},
   "outputs": [],
   "source": [
    "%store -r  final_merge"
   ]
  },
  {
   "cell_type": "code",
   "execution_count": 5,
   "metadata": {},
   "outputs": [
    {
     "data": {
      "text/plain": [
       "0   2017-09-07\n",
       "1   2017-07-08\n",
       "2   2017-03-14\n",
       "3   2017-01-28\n",
       "4   2017-04-08\n",
       "Name: order_date, dtype: datetime64[ns]"
      ]
     },
     "execution_count": 5,
     "metadata": {},
     "output_type": "execute_result"
    }
   ],
   "source": [
    "final_merge['order_date'].head()"
   ]
  },
  {
   "cell_type": "code",
   "execution_count": 6,
   "metadata": {},
   "outputs": [],
   "source": [
    "final_merge['order_day_of_week'] = final_merge['order_date'].dt.day_name()"
   ]
  },
  {
   "cell_type": "code",
   "execution_count": 7,
   "metadata": {},
   "outputs": [
    {
     "data": {
      "text/plain": [
       "0    Thursday\n",
       "1    Saturday\n",
       "2     Tuesday\n",
       "3    Saturday\n",
       "4    Saturday\n",
       "Name: order_day_of_week, dtype: object"
      ]
     },
     "execution_count": 7,
     "metadata": {},
     "output_type": "execute_result"
    }
   ],
   "source": [
    "final_merge['order_day_of_week']. head()"
   ]
  },
  {
   "cell_type": "code",
   "execution_count": 9,
   "metadata": {},
   "outputs": [
    {
     "data": {
      "text/html": [
       "<div>\n",
       "<style scoped>\n",
       "    .dataframe tbody tr th:only-of-type {\n",
       "        vertical-align: middle;\n",
       "    }\n",
       "\n",
       "    .dataframe tbody tr th {\n",
       "        vertical-align: top;\n",
       "    }\n",
       "\n",
       "    .dataframe thead th {\n",
       "        text-align: right;\n",
       "    }\n",
       "</style>\n",
       "<table border=\"1\" class=\"dataframe\">\n",
       "  <thead>\n",
       "    <tr style=\"text-align: right;\">\n",
       "      <th></th>\n",
       "      <th>order_id</th>\n",
       "      <th>order_date</th>\n",
       "      <th>state</th>\n",
       "      <th>region</th>\n",
       "      <th>ship_mode</th>\n",
       "      <th>ready_to_ship_date</th>\n",
       "      <th>pickup_date</th>\n",
       "      <th>arrival_scan_date</th>\n",
       "      <th>order_day_of_week</th>\n",
       "    </tr>\n",
       "  </thead>\n",
       "  <tbody>\n",
       "    <tr>\n",
       "      <th>0</th>\n",
       "      <td>CA-2017-100006</td>\n",
       "      <td>2017-09-07</td>\n",
       "      <td>New York</td>\n",
       "      <td>East</td>\n",
       "      <td>Standard Class</td>\n",
       "      <td>NaT</td>\n",
       "      <td>NaT</td>\n",
       "      <td>NaT</td>\n",
       "      <td>Thursday</td>\n",
       "    </tr>\n",
       "    <tr>\n",
       "      <th>1</th>\n",
       "      <td>CA-2017-100090</td>\n",
       "      <td>2017-07-08</td>\n",
       "      <td>California</td>\n",
       "      <td>West</td>\n",
       "      <td>Standard Class</td>\n",
       "      <td>NaT</td>\n",
       "      <td>NaT</td>\n",
       "      <td>NaT</td>\n",
       "      <td>Saturday</td>\n",
       "    </tr>\n",
       "    <tr>\n",
       "      <th>2</th>\n",
       "      <td>CA-2017-100293</td>\n",
       "      <td>2017-03-14</td>\n",
       "      <td>Florida</td>\n",
       "      <td>South</td>\n",
       "      <td>Standard Class</td>\n",
       "      <td>NaT</td>\n",
       "      <td>NaT</td>\n",
       "      <td>NaT</td>\n",
       "      <td>Tuesday</td>\n",
       "    </tr>\n",
       "    <tr>\n",
       "      <th>3</th>\n",
       "      <td>CA-2017-100328</td>\n",
       "      <td>2017-01-28</td>\n",
       "      <td>New York</td>\n",
       "      <td>East</td>\n",
       "      <td>Standard Class</td>\n",
       "      <td>NaT</td>\n",
       "      <td>NaT</td>\n",
       "      <td>NaT</td>\n",
       "      <td>Saturday</td>\n",
       "    </tr>\n",
       "    <tr>\n",
       "      <th>4</th>\n",
       "      <td>CA-2017-100363</td>\n",
       "      <td>2017-04-08</td>\n",
       "      <td>Arizona</td>\n",
       "      <td>West</td>\n",
       "      <td>Standard Class</td>\n",
       "      <td>NaT</td>\n",
       "      <td>NaT</td>\n",
       "      <td>NaT</td>\n",
       "      <td>Saturday</td>\n",
       "    </tr>\n",
       "  </tbody>\n",
       "</table>\n",
       "</div>"
      ],
      "text/plain": [
       "         order_id order_date       state region       ship_mode  \\\n",
       "0  CA-2017-100006 2017-09-07    New York   East  Standard Class   \n",
       "1  CA-2017-100090 2017-07-08  California   West  Standard Class   \n",
       "2  CA-2017-100293 2017-03-14     Florida  South  Standard Class   \n",
       "3  CA-2017-100328 2017-01-28    New York   East  Standard Class   \n",
       "4  CA-2017-100363 2017-04-08     Arizona   West  Standard Class   \n",
       "\n",
       "  ready_to_ship_date pickup_date arrival_scan_date order_day_of_week  \n",
       "0                NaT         NaT               NaT          Thursday  \n",
       "1                NaT         NaT               NaT          Saturday  \n",
       "2                NaT         NaT               NaT           Tuesday  \n",
       "3                NaT         NaT               NaT          Saturday  \n",
       "4                NaT         NaT               NaT          Saturday  "
      ]
     },
     "execution_count": 9,
     "metadata": {},
     "output_type": "execute_result"
    }
   ],
   "source": [
    "final_merge.head()"
   ]
  },
  {
   "cell_type": "code",
   "execution_count": null,
   "metadata": {},
   "outputs": [],
   "source": []
  },
  {
   "cell_type": "code",
   "execution_count": 10,
   "metadata": {},
   "outputs": [],
   "source": [
    "final_merge['order_weekend'] = final_merge['order_day_of_week'].isin(['Saturday', 'Sunday']).astype(int)"
   ]
  },
  {
   "cell_type": "code",
   "execution_count": 11,
   "metadata": {},
   "outputs": [
    {
     "data": {
      "text/html": [
       "<div>\n",
       "<style scoped>\n",
       "    .dataframe tbody tr th:only-of-type {\n",
       "        vertical-align: middle;\n",
       "    }\n",
       "\n",
       "    .dataframe tbody tr th {\n",
       "        vertical-align: top;\n",
       "    }\n",
       "\n",
       "    .dataframe thead th {\n",
       "        text-align: right;\n",
       "    }\n",
       "</style>\n",
       "<table border=\"1\" class=\"dataframe\">\n",
       "  <thead>\n",
       "    <tr style=\"text-align: right;\">\n",
       "      <th></th>\n",
       "      <th>order_id</th>\n",
       "      <th>order_date</th>\n",
       "      <th>state</th>\n",
       "      <th>region</th>\n",
       "      <th>ship_mode</th>\n",
       "      <th>ready_to_ship_date</th>\n",
       "      <th>pickup_date</th>\n",
       "      <th>arrival_scan_date</th>\n",
       "      <th>order_day_of_week</th>\n",
       "      <th>order_weekend</th>\n",
       "    </tr>\n",
       "  </thead>\n",
       "  <tbody>\n",
       "    <tr>\n",
       "      <th>0</th>\n",
       "      <td>CA-2017-100006</td>\n",
       "      <td>2017-09-07</td>\n",
       "      <td>New York</td>\n",
       "      <td>East</td>\n",
       "      <td>Standard Class</td>\n",
       "      <td>NaT</td>\n",
       "      <td>NaT</td>\n",
       "      <td>NaT</td>\n",
       "      <td>Thursday</td>\n",
       "      <td>0</td>\n",
       "    </tr>\n",
       "    <tr>\n",
       "      <th>1</th>\n",
       "      <td>CA-2017-100090</td>\n",
       "      <td>2017-07-08</td>\n",
       "      <td>California</td>\n",
       "      <td>West</td>\n",
       "      <td>Standard Class</td>\n",
       "      <td>NaT</td>\n",
       "      <td>NaT</td>\n",
       "      <td>NaT</td>\n",
       "      <td>Saturday</td>\n",
       "      <td>1</td>\n",
       "    </tr>\n",
       "    <tr>\n",
       "      <th>2</th>\n",
       "      <td>CA-2017-100293</td>\n",
       "      <td>2017-03-14</td>\n",
       "      <td>Florida</td>\n",
       "      <td>South</td>\n",
       "      <td>Standard Class</td>\n",
       "      <td>NaT</td>\n",
       "      <td>NaT</td>\n",
       "      <td>NaT</td>\n",
       "      <td>Tuesday</td>\n",
       "      <td>0</td>\n",
       "    </tr>\n",
       "    <tr>\n",
       "      <th>3</th>\n",
       "      <td>CA-2017-100328</td>\n",
       "      <td>2017-01-28</td>\n",
       "      <td>New York</td>\n",
       "      <td>East</td>\n",
       "      <td>Standard Class</td>\n",
       "      <td>NaT</td>\n",
       "      <td>NaT</td>\n",
       "      <td>NaT</td>\n",
       "      <td>Saturday</td>\n",
       "      <td>1</td>\n",
       "    </tr>\n",
       "    <tr>\n",
       "      <th>4</th>\n",
       "      <td>CA-2017-100363</td>\n",
       "      <td>2017-04-08</td>\n",
       "      <td>Arizona</td>\n",
       "      <td>West</td>\n",
       "      <td>Standard Class</td>\n",
       "      <td>NaT</td>\n",
       "      <td>NaT</td>\n",
       "      <td>NaT</td>\n",
       "      <td>Saturday</td>\n",
       "      <td>1</td>\n",
       "    </tr>\n",
       "  </tbody>\n",
       "</table>\n",
       "</div>"
      ],
      "text/plain": [
       "         order_id order_date       state region       ship_mode  \\\n",
       "0  CA-2017-100006 2017-09-07    New York   East  Standard Class   \n",
       "1  CA-2017-100090 2017-07-08  California   West  Standard Class   \n",
       "2  CA-2017-100293 2017-03-14     Florida  South  Standard Class   \n",
       "3  CA-2017-100328 2017-01-28    New York   East  Standard Class   \n",
       "4  CA-2017-100363 2017-04-08     Arizona   West  Standard Class   \n",
       "\n",
       "  ready_to_ship_date pickup_date arrival_scan_date order_day_of_week  \\\n",
       "0                NaT         NaT               NaT          Thursday   \n",
       "1                NaT         NaT               NaT          Saturday   \n",
       "2                NaT         NaT               NaT           Tuesday   \n",
       "3                NaT         NaT               NaT          Saturday   \n",
       "4                NaT         NaT               NaT          Saturday   \n",
       "\n",
       "   order_weekend  \n",
       "0              0  \n",
       "1              1  \n",
       "2              0  \n",
       "3              1  \n",
       "4              1  "
      ]
     },
     "execution_count": 11,
     "metadata": {},
     "output_type": "execute_result"
    }
   ],
   "source": [
    "final_merge.head()"
   ]
  }
 ],
 "metadata": {
  "kernelspec": {
   "display_name": "nf_base",
   "language": "python",
   "name": "python3"
  },
  "language_info": {
   "codemirror_mode": {
    "name": "ipython",
    "version": 3
   },
   "file_extension": ".py",
   "mimetype": "text/x-python",
   "name": "python",
   "nbconvert_exporter": "python",
   "pygments_lexer": "ipython3",
   "version": "3.9.19"
  }
 },
 "nbformat": 4,
 "nbformat_minor": 2
}
