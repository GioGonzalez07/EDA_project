{
 "cells": [
  {
   "cell_type": "code",
   "execution_count": 1,
   "metadata": {},
   "outputs": [],
   "source": [
    "# imports\n",
    "\n",
    "# standard import of pandas\n",
    "import pandas as pd\n",
    "import matplotlib.pyplot as plt\n",
    "import seaborn as sns"
   ]
  },
  {
   "cell_type": "code",
   "execution_count": 2,
   "metadata": {},
   "outputs": [],
   "source": [
    "# Floats (decimal numbers) should be displayed rounded with 2 decimal places\n",
    "pd.options.display.float_format = \"{:,.2f}\".format\n",
    "# Set style for plots\n",
    "plt.style.use('fivethirtyeight') "
   ]
  },
  {
   "cell_type": "code",
   "execution_count": 3,
   "metadata": {},
   "outputs": [],
   "source": [
    "# getting dataframes\n",
    "\n",
    "%store -r final_merge"
   ]
  },
  {
   "cell_type": "markdown",
   "metadata": {},
   "source": [
    "### Order Prep Time = Days needed between order_date & ready_to_be_shipped"
   ]
  },
  {
   "cell_type": "code",
   "execution_count": 4,
   "metadata": {},
   "outputs": [
    {
     "data": {
      "text/html": [
       "<div>\n",
       "<style scoped>\n",
       "    .dataframe tbody tr th:only-of-type {\n",
       "        vertical-align: middle;\n",
       "    }\n",
       "\n",
       "    .dataframe tbody tr th {\n",
       "        vertical-align: top;\n",
       "    }\n",
       "\n",
       "    .dataframe thead th {\n",
       "        text-align: right;\n",
       "    }\n",
       "</style>\n",
       "<table border=\"1\" class=\"dataframe\">\n",
       "  <thead>\n",
       "    <tr style=\"text-align: right;\">\n",
       "      <th></th>\n",
       "      <th>order_id</th>\n",
       "      <th>order_date</th>\n",
       "      <th>state</th>\n",
       "      <th>region</th>\n",
       "      <th>ship_mode</th>\n",
       "      <th>ready_to_ship_date</th>\n",
       "      <th>pickup_date</th>\n",
       "      <th>arrival_scan_date</th>\n",
       "    </tr>\n",
       "  </thead>\n",
       "  <tbody>\n",
       "    <tr>\n",
       "      <th>2245</th>\n",
       "      <td>CA-2020-104927</td>\n",
       "      <td>2020-12-22</td>\n",
       "      <td>Texas</td>\n",
       "      <td>Central</td>\n",
       "      <td>Standard Processing</td>\n",
       "      <td>NaT</td>\n",
       "      <td>2020-12-30</td>\n",
       "      <td>NaT</td>\n",
       "    </tr>\n",
       "    <tr>\n",
       "      <th>1706</th>\n",
       "      <td>US-2020-110646</td>\n",
       "      <td>2020-10-26</td>\n",
       "      <td>Pennsylvania</td>\n",
       "      <td>East</td>\n",
       "      <td>Standard Processing</td>\n",
       "      <td>NaT</td>\n",
       "      <td>2020-11-04</td>\n",
       "      <td>NaT</td>\n",
       "    </tr>\n",
       "  </tbody>\n",
       "</table>\n",
       "</div>"
      ],
      "text/plain": [
       "            order_id order_date         state   region            ship_mode  \\\n",
       "2245  CA-2020-104927 2020-12-22         Texas  Central  Standard Processing   \n",
       "1706  US-2020-110646 2020-10-26  Pennsylvania     East  Standard Processing   \n",
       "\n",
       "     ready_to_ship_date pickup_date arrival_scan_date  \n",
       "2245                NaT  2020-12-30               NaT  \n",
       "1706                NaT  2020-11-04               NaT  "
      ]
     },
     "execution_count": 4,
     "metadata": {},
     "output_type": "execute_result"
    }
   ],
   "source": [
    "final_merge.sample(2)"
   ]
  },
  {
   "cell_type": "code",
   "execution_count": 5,
   "metadata": {},
   "outputs": [
    {
     "data": {
      "text/html": [
       "<div>\n",
       "<style scoped>\n",
       "    .dataframe tbody tr th:only-of-type {\n",
       "        vertical-align: middle;\n",
       "    }\n",
       "\n",
       "    .dataframe tbody tr th {\n",
       "        vertical-align: top;\n",
       "    }\n",
       "\n",
       "    .dataframe thead th {\n",
       "        text-align: right;\n",
       "    }\n",
       "</style>\n",
       "<table border=\"1\" class=\"dataframe\">\n",
       "  <thead>\n",
       "    <tr style=\"text-align: right;\">\n",
       "      <th></th>\n",
       "      <th>order_date</th>\n",
       "      <th>ready_to_ship_date</th>\n",
       "    </tr>\n",
       "  </thead>\n",
       "  <tbody>\n",
       "    <tr>\n",
       "      <th>1898</th>\n",
       "      <td>2017-09-30</td>\n",
       "      <td>NaT</td>\n",
       "    </tr>\n",
       "  </tbody>\n",
       "</table>\n",
       "</div>"
      ],
      "text/plain": [
       "     order_date ready_to_ship_date\n",
       "1898 2017-09-30                NaT"
      ]
     },
     "execution_count": 5,
     "metadata": {},
     "output_type": "execute_result"
    }
   ],
   "source": [
    "# Create new data frame\n",
    "order_prep_time2 = final_merge.copy()\n",
    "\n",
    "## keep only necessary columns\n",
    "# new_df = old_df.filter(items=['col1', 'col2']).copy()\n",
    "order_prep_time2 = order_prep_time2.filter(items=[\"order_date\", \"ready_to_ship_date\"]).copy()\n",
    "order_prep_time2.sample(1)"
   ]
  },
  {
   "cell_type": "code",
   "execution_count": 6,
   "metadata": {},
   "outputs": [
    {
     "data": {
      "text/plain": [
       "10020"
      ]
     },
     "execution_count": 6,
     "metadata": {},
     "output_type": "execute_result"
    }
   ],
   "source": [
    "order_prep_time2.size"
   ]
  },
  {
   "cell_type": "code",
   "execution_count": 7,
   "metadata": {},
   "outputs": [
    {
     "data": {
      "text/plain": [
       "0"
      ]
     },
     "execution_count": 7,
     "metadata": {},
     "output_type": "execute_result"
    }
   ],
   "source": [
    "# show me no. of cells that ARE NULL\n",
    "order_prep_time2['order_date'].isnull().sum()"
   ]
  },
  {
   "cell_type": "code",
   "execution_count": 8,
   "metadata": {},
   "outputs": [
    {
     "data": {
      "text/plain": [
       "4806"
      ]
     },
     "execution_count": 8,
     "metadata": {},
     "output_type": "execute_result"
    }
   ],
   "source": [
    "# show me no. of cells that ARE NULL\n",
    "order_prep_time2['ready_to_ship_date'].isnull().sum()"
   ]
  },
  {
   "cell_type": "code",
   "execution_count": 9,
   "metadata": {},
   "outputs": [
    {
     "data": {
      "text/plain": [
       "204"
      ]
     },
     "execution_count": 9,
     "metadata": {},
     "output_type": "execute_result"
    }
   ],
   "source": [
    "# show me no. of cells that are NOT NULL\n",
    "order_prep_time2['ready_to_ship_date'].notnull().sum()"
   ]
  },
  {
   "cell_type": "code",
   "execution_count": 10,
   "metadata": {},
   "outputs": [
    {
     "name": "stdout",
     "output_type": "stream",
     "text": [
      "<class 'pandas.core.frame.DataFrame'>\n",
      "Index: 204 entries, 8 to 5003\n",
      "Data columns (total 2 columns):\n",
      " #   Column              Non-Null Count  Dtype         \n",
      "---  ------              --------------  -----         \n",
      " 0   order_date          204 non-null    datetime64[ns]\n",
      " 1   ready_to_ship_date  204 non-null    datetime64[ns]\n",
      "dtypes: datetime64[ns](2)\n",
      "memory usage: 4.8 KB\n"
     ]
    }
   ],
   "source": [
    "# Drop rows if there are null values in column arrival scan date\n",
    "order_prep_time2.dropna(subset=['ready_to_ship_date'], inplace=True)\n",
    "order_prep_time2.info()"
   ]
  },
  {
   "cell_type": "code",
   "execution_count": 11,
   "metadata": {},
   "outputs": [
    {
     "data": {
      "text/html": [
       "<div>\n",
       "<style scoped>\n",
       "    .dataframe tbody tr th:only-of-type {\n",
       "        vertical-align: middle;\n",
       "    }\n",
       "\n",
       "    .dataframe tbody tr th {\n",
       "        vertical-align: top;\n",
       "    }\n",
       "\n",
       "    .dataframe thead th {\n",
       "        text-align: right;\n",
       "    }\n",
       "</style>\n",
       "<table border=\"1\" class=\"dataframe\">\n",
       "  <thead>\n",
       "    <tr style=\"text-align: right;\">\n",
       "      <th></th>\n",
       "      <th>order_date</th>\n",
       "      <th>ready_to_ship_date</th>\n",
       "      <th>order_prep_time</th>\n",
       "    </tr>\n",
       "  </thead>\n",
       "  <tbody>\n",
       "    <tr>\n",
       "      <th>8</th>\n",
       "      <td>2020-11-23</td>\n",
       "      <td>2020-11-30</td>\n",
       "      <td>7 days</td>\n",
       "    </tr>\n",
       "  </tbody>\n",
       "</table>\n",
       "</div>"
      ],
      "text/plain": [
       "  order_date ready_to_ship_date order_prep_time\n",
       "8 2020-11-23         2020-11-30          7 days"
      ]
     },
     "execution_count": 11,
     "metadata": {},
     "output_type": "execute_result"
    }
   ],
   "source": [
    "# Create new column to display the calculated order prep time\n",
    "order_prep_time2[\"order_prep_time\"] = order_prep_time2[\"ready_to_ship_date\"] - order_prep_time2[\"order_date\"]\n",
    "order_prep_time2.head(1)"
   ]
  },
  {
   "cell_type": "code",
   "execution_count": 12,
   "metadata": {},
   "outputs": [
    {
     "data": {
      "text/html": [
       "<div>\n",
       "<style scoped>\n",
       "    .dataframe tbody tr th:only-of-type {\n",
       "        vertical-align: middle;\n",
       "    }\n",
       "\n",
       "    .dataframe tbody tr th {\n",
       "        vertical-align: top;\n",
       "    }\n",
       "\n",
       "    .dataframe thead th {\n",
       "        text-align: right;\n",
       "    }\n",
       "</style>\n",
       "<table border=\"1\" class=\"dataframe\">\n",
       "  <thead>\n",
       "    <tr style=\"text-align: right;\">\n",
       "      <th></th>\n",
       "      <th>order_date</th>\n",
       "      <th>ready_to_ship_date</th>\n",
       "      <th>order_prep_time</th>\n",
       "      <th>order_prep_time_i</th>\n",
       "    </tr>\n",
       "  </thead>\n",
       "  <tbody>\n",
       "    <tr>\n",
       "      <th>8</th>\n",
       "      <td>2020-11-23</td>\n",
       "      <td>2020-11-30</td>\n",
       "      <td>7 days</td>\n",
       "      <td>7</td>\n",
       "    </tr>\n",
       "  </tbody>\n",
       "</table>\n",
       "</div>"
      ],
      "text/plain": [
       "  order_date ready_to_ship_date order_prep_time  order_prep_time_i\n",
       "8 2020-11-23         2020-11-30          7 days                  7"
      ]
     },
     "execution_count": 12,
     "metadata": {},
     "output_type": "execute_result"
    }
   ],
   "source": [
    "# Create new column for Days in INT format in case we need this for calculating\n",
    "order_prep_time2[\"order_prep_time_i\"] = order_prep_time2[\"order_prep_time\"].dt.days\n",
    "order_prep_time2.head(1)"
   ]
  },
  {
   "cell_type": "code",
   "execution_count": 13,
   "metadata": {},
   "outputs": [
    {
     "data": {
      "text/html": [
       "<div>\n",
       "<style scoped>\n",
       "    .dataframe tbody tr th:only-of-type {\n",
       "        vertical-align: middle;\n",
       "    }\n",
       "\n",
       "    .dataframe tbody tr th {\n",
       "        vertical-align: top;\n",
       "    }\n",
       "\n",
       "    .dataframe thead th {\n",
       "        text-align: right;\n",
       "    }\n",
       "</style>\n",
       "<table border=\"1\" class=\"dataframe\">\n",
       "  <thead>\n",
       "    <tr style=\"text-align: right;\">\n",
       "      <th></th>\n",
       "      <th>order_date</th>\n",
       "      <th>ready_to_ship_date</th>\n",
       "      <th>order_prep_time</th>\n",
       "      <th>order_prep_time_i</th>\n",
       "      <th>ordered_day</th>\n",
       "      <th>ready_ship_day</th>\n",
       "    </tr>\n",
       "  </thead>\n",
       "  <tbody>\n",
       "    <tr>\n",
       "      <th>4913</th>\n",
       "      <td>2020-11-20</td>\n",
       "      <td>2020-11-24</td>\n",
       "      <td>4 days</td>\n",
       "      <td>4</td>\n",
       "      <td>Friday</td>\n",
       "      <td>Tuesday</td>\n",
       "    </tr>\n",
       "    <tr>\n",
       "      <th>4997</th>\n",
       "      <td>2020-11-30</td>\n",
       "      <td>2020-12-03</td>\n",
       "      <td>3 days</td>\n",
       "      <td>3</td>\n",
       "      <td>Monday</td>\n",
       "      <td>Thursday</td>\n",
       "    </tr>\n",
       "    <tr>\n",
       "      <th>5003</th>\n",
       "      <td>2020-11-25</td>\n",
       "      <td>2020-11-30</td>\n",
       "      <td>5 days</td>\n",
       "      <td>5</td>\n",
       "      <td>Wednesday</td>\n",
       "      <td>Monday</td>\n",
       "    </tr>\n",
       "  </tbody>\n",
       "</table>\n",
       "</div>"
      ],
      "text/plain": [
       "     order_date ready_to_ship_date order_prep_time  order_prep_time_i  \\\n",
       "4913 2020-11-20         2020-11-24          4 days                  4   \n",
       "4997 2020-11-30         2020-12-03          3 days                  3   \n",
       "5003 2020-11-25         2020-11-30          5 days                  5   \n",
       "\n",
       "     ordered_day ready_ship_day  \n",
       "4913      Friday        Tuesday  \n",
       "4997      Monday       Thursday  \n",
       "5003   Wednesday         Monday  "
      ]
     },
     "execution_count": 13,
     "metadata": {},
     "output_type": "execute_result"
    }
   ],
   "source": [
    "## Want to calculate what day of week the order was made on, and shipped on - to see later if there are correlations\n",
    "\n",
    "# Day of order\n",
    "order_prep_time2[\"ordered_day\"] = order_prep_time2[\"order_date\"].dt.day_name()\n",
    "\n",
    "# Day of arrival\n",
    "order_prep_time2[\"ready_ship_day\"] = order_prep_time2[\"ready_to_ship_date\"].dt.day_name()\n",
    "order_prep_time2.tail(3)"
   ]
  },
  {
   "cell_type": "code",
   "execution_count": 14,
   "metadata": {},
   "outputs": [
    {
     "name": "stdout",
     "output_type": "stream",
     "text": [
      "Stored 'order_prep_time2' (DataFrame)\n"
     ]
    }
   ],
   "source": [
    "%store order_prep_time2"
   ]
  },
  {
   "cell_type": "markdown",
   "metadata": {},
   "source": [
    "``` \n",
    "Order received (Day 1) - order processed in the warehouse and made ready to ship (normally 2 days) - order leaves warehouse in the truck the following day\n",
    "```"
   ]
  },
  {
   "cell_type": "markdown",
   "metadata": {},
   "source": [
    "### What is the difference between expectation vs reality of prep time?"
   ]
  },
  {
   "cell_type": "code",
   "execution_count": 15,
   "metadata": {},
   "outputs": [
    {
     "data": {
      "text/html": [
       "<div>\n",
       "<style scoped>\n",
       "    .dataframe tbody tr th:only-of-type {\n",
       "        vertical-align: middle;\n",
       "    }\n",
       "\n",
       "    .dataframe tbody tr th {\n",
       "        vertical-align: top;\n",
       "    }\n",
       "\n",
       "    .dataframe thead th {\n",
       "        text-align: right;\n",
       "    }\n",
       "</style>\n",
       "<table border=\"1\" class=\"dataframe\">\n",
       "  <thead>\n",
       "    <tr style=\"text-align: right;\">\n",
       "      <th></th>\n",
       "      <th>order_date</th>\n",
       "      <th>ready_to_ship_date</th>\n",
       "      <th>order_prep_time</th>\n",
       "      <th>order_prep_time_i</th>\n",
       "      <th>ordered_day</th>\n",
       "      <th>ready_ship_day</th>\n",
       "      <th>expect_prep_finish</th>\n",
       "      <th>prep_diff</th>\n",
       "    </tr>\n",
       "  </thead>\n",
       "  <tbody>\n",
       "    <tr>\n",
       "      <th>8</th>\n",
       "      <td>2020-11-23</td>\n",
       "      <td>2020-11-30</td>\n",
       "      <td>7 days</td>\n",
       "      <td>7</td>\n",
       "      <td>Monday</td>\n",
       "      <td>Monday</td>\n",
       "      <td>2020-11-25</td>\n",
       "      <td>5 days</td>\n",
       "    </tr>\n",
       "    <tr>\n",
       "      <th>17</th>\n",
       "      <td>2019-09-11</td>\n",
       "      <td>2019-09-17</td>\n",
       "      <td>6 days</td>\n",
       "      <td>6</td>\n",
       "      <td>Wednesday</td>\n",
       "      <td>Tuesday</td>\n",
       "      <td>2019-09-13</td>\n",
       "      <td>4 days</td>\n",
       "    </tr>\n",
       "    <tr>\n",
       "      <th>41</th>\n",
       "      <td>2020-11-26</td>\n",
       "      <td>2020-11-27</td>\n",
       "      <td>1 days</td>\n",
       "      <td>1</td>\n",
       "      <td>Thursday</td>\n",
       "      <td>Friday</td>\n",
       "      <td>2020-11-28</td>\n",
       "      <td>-1 days</td>\n",
       "    </tr>\n",
       "    <tr>\n",
       "      <th>80</th>\n",
       "      <td>2019-09-06</td>\n",
       "      <td>2019-09-09</td>\n",
       "      <td>3 days</td>\n",
       "      <td>3</td>\n",
       "      <td>Friday</td>\n",
       "      <td>Monday</td>\n",
       "      <td>2019-09-08</td>\n",
       "      <td>1 days</td>\n",
       "    </tr>\n",
       "    <tr>\n",
       "      <th>95</th>\n",
       "      <td>2020-11-10</td>\n",
       "      <td>2020-11-11</td>\n",
       "      <td>1 days</td>\n",
       "      <td>1</td>\n",
       "      <td>Tuesday</td>\n",
       "      <td>Wednesday</td>\n",
       "      <td>2020-11-12</td>\n",
       "      <td>-1 days</td>\n",
       "    </tr>\n",
       "    <tr>\n",
       "      <th>...</th>\n",
       "      <td>...</td>\n",
       "      <td>...</td>\n",
       "      <td>...</td>\n",
       "      <td>...</td>\n",
       "      <td>...</td>\n",
       "      <td>...</td>\n",
       "      <td>...</td>\n",
       "      <td>...</td>\n",
       "    </tr>\n",
       "    <tr>\n",
       "      <th>4852</th>\n",
       "      <td>2020-11-14</td>\n",
       "      <td>2020-11-16</td>\n",
       "      <td>2 days</td>\n",
       "      <td>2</td>\n",
       "      <td>Saturday</td>\n",
       "      <td>Monday</td>\n",
       "      <td>2020-11-16</td>\n",
       "      <td>0 days</td>\n",
       "    </tr>\n",
       "    <tr>\n",
       "      <th>4859</th>\n",
       "      <td>2019-09-24</td>\n",
       "      <td>2019-10-01</td>\n",
       "      <td>7 days</td>\n",
       "      <td>7</td>\n",
       "      <td>Tuesday</td>\n",
       "      <td>Tuesday</td>\n",
       "      <td>2019-09-26</td>\n",
       "      <td>5 days</td>\n",
       "    </tr>\n",
       "    <tr>\n",
       "      <th>4913</th>\n",
       "      <td>2020-11-20</td>\n",
       "      <td>2020-11-24</td>\n",
       "      <td>4 days</td>\n",
       "      <td>4</td>\n",
       "      <td>Friday</td>\n",
       "      <td>Tuesday</td>\n",
       "      <td>2020-11-22</td>\n",
       "      <td>2 days</td>\n",
       "    </tr>\n",
       "    <tr>\n",
       "      <th>4997</th>\n",
       "      <td>2020-11-30</td>\n",
       "      <td>2020-12-03</td>\n",
       "      <td>3 days</td>\n",
       "      <td>3</td>\n",
       "      <td>Monday</td>\n",
       "      <td>Thursday</td>\n",
       "      <td>2020-12-02</td>\n",
       "      <td>1 days</td>\n",
       "    </tr>\n",
       "    <tr>\n",
       "      <th>5003</th>\n",
       "      <td>2020-11-25</td>\n",
       "      <td>2020-11-30</td>\n",
       "      <td>5 days</td>\n",
       "      <td>5</td>\n",
       "      <td>Wednesday</td>\n",
       "      <td>Monday</td>\n",
       "      <td>2020-11-27</td>\n",
       "      <td>3 days</td>\n",
       "    </tr>\n",
       "  </tbody>\n",
       "</table>\n",
       "<p>204 rows × 8 columns</p>\n",
       "</div>"
      ],
      "text/plain": [
       "     order_date ready_to_ship_date order_prep_time  order_prep_time_i  \\\n",
       "8    2020-11-23         2020-11-30          7 days                  7   \n",
       "17   2019-09-11         2019-09-17          6 days                  6   \n",
       "41   2020-11-26         2020-11-27          1 days                  1   \n",
       "80   2019-09-06         2019-09-09          3 days                  3   \n",
       "95   2020-11-10         2020-11-11          1 days                  1   \n",
       "...         ...                ...             ...                ...   \n",
       "4852 2020-11-14         2020-11-16          2 days                  2   \n",
       "4859 2019-09-24         2019-10-01          7 days                  7   \n",
       "4913 2020-11-20         2020-11-24          4 days                  4   \n",
       "4997 2020-11-30         2020-12-03          3 days                  3   \n",
       "5003 2020-11-25         2020-11-30          5 days                  5   \n",
       "\n",
       "     ordered_day ready_ship_day expect_prep_finish prep_diff  \n",
       "8         Monday         Monday         2020-11-25    5 days  \n",
       "17     Wednesday        Tuesday         2019-09-13    4 days  \n",
       "41      Thursday         Friday         2020-11-28   -1 days  \n",
       "80        Friday         Monday         2019-09-08    1 days  \n",
       "95       Tuesday      Wednesday         2020-11-12   -1 days  \n",
       "...          ...            ...                ...       ...  \n",
       "4852    Saturday         Monday         2020-11-16    0 days  \n",
       "4859     Tuesday        Tuesday         2019-09-26    5 days  \n",
       "4913      Friday        Tuesday         2020-11-22    2 days  \n",
       "4997      Monday       Thursday         2020-12-02    1 days  \n",
       "5003   Wednesday         Monday         2020-11-27    3 days  \n",
       "\n",
       "[204 rows x 8 columns]"
      ]
     },
     "execution_count": 15,
     "metadata": {},
     "output_type": "execute_result"
    }
   ],
   "source": [
    "# need to calc the expected prep finish (order day + 3) using DateOffSet method\n",
    "order_prep_time2[\"expect_prep_finish\"] = order_prep_time2[\"order_date\"]+pd.DateOffset(days=2)\n",
    "\n",
    "# diff between expectation vs reality\n",
    "order_prep_time2[\"prep_diff\"] = order_prep_time2[\"ready_to_ship_date\"] - order_prep_time2[\"expect_prep_finish\"]\n",
    "\n",
    "order_prep_time2"
   ]
  },
  {
   "cell_type": "code",
   "execution_count": 16,
   "metadata": {},
   "outputs": [
    {
     "data": {
      "text/plain": [
       "2.176470588235294"
      ]
     },
     "execution_count": 16,
     "metadata": {},
     "output_type": "execute_result"
    }
   ],
   "source": [
    "# Create new column for prep diff in INT \n",
    "order_prep_time2[\"prep_diff_i\"] = order_prep_time2[\"prep_diff\"].dt.days\n",
    "#order_prep_time2.sample(5)\n",
    "order_prep_time2.prep_diff_i.mean()"
   ]
  },
  {
   "cell_type": "code",
   "execution_count": 18,
   "metadata": {},
   "outputs": [
    {
     "data": {
      "text/html": [
       "<div>\n",
       "<style scoped>\n",
       "    .dataframe tbody tr th:only-of-type {\n",
       "        vertical-align: middle;\n",
       "    }\n",
       "\n",
       "    .dataframe tbody tr th {\n",
       "        vertical-align: top;\n",
       "    }\n",
       "\n",
       "    .dataframe thead th {\n",
       "        text-align: right;\n",
       "    }\n",
       "</style>\n",
       "<table border=\"1\" class=\"dataframe\">\n",
       "  <thead>\n",
       "    <tr style=\"text-align: right;\">\n",
       "      <th></th>\n",
       "      <th>order_date</th>\n",
       "      <th>ready_to_ship_date</th>\n",
       "      <th>order_prep_time</th>\n",
       "      <th>order_prep_time_i</th>\n",
       "      <th>ordered_day</th>\n",
       "      <th>ready_ship_day</th>\n",
       "      <th>expect_prep_finish</th>\n",
       "      <th>prep_diff</th>\n",
       "      <th>prep_diff_i</th>\n",
       "    </tr>\n",
       "  </thead>\n",
       "  <tbody>\n",
       "    <tr>\n",
       "      <th>41</th>\n",
       "      <td>2020-11-26</td>\n",
       "      <td>2020-11-27</td>\n",
       "      <td>1 days</td>\n",
       "      <td>1</td>\n",
       "      <td>Thursday</td>\n",
       "      <td>Friday</td>\n",
       "      <td>2020-11-28</td>\n",
       "      <td>-1 days</td>\n",
       "      <td>-1</td>\n",
       "    </tr>\n",
       "    <tr>\n",
       "      <th>80</th>\n",
       "      <td>2019-09-06</td>\n",
       "      <td>2019-09-09</td>\n",
       "      <td>3 days</td>\n",
       "      <td>3</td>\n",
       "      <td>Friday</td>\n",
       "      <td>Monday</td>\n",
       "      <td>2019-09-08</td>\n",
       "      <td>1 days</td>\n",
       "      <td>1</td>\n",
       "    </tr>\n",
       "    <tr>\n",
       "      <th>95</th>\n",
       "      <td>2020-11-10</td>\n",
       "      <td>2020-11-11</td>\n",
       "      <td>1 days</td>\n",
       "      <td>1</td>\n",
       "      <td>Tuesday</td>\n",
       "      <td>Wednesday</td>\n",
       "      <td>2020-11-12</td>\n",
       "      <td>-1 days</td>\n",
       "      <td>-1</td>\n",
       "    </tr>\n",
       "    <tr>\n",
       "      <th>151</th>\n",
       "      <td>2020-11-07</td>\n",
       "      <td>2020-11-09</td>\n",
       "      <td>2 days</td>\n",
       "      <td>2</td>\n",
       "      <td>Saturday</td>\n",
       "      <td>Monday</td>\n",
       "      <td>2020-11-09</td>\n",
       "      <td>0 days</td>\n",
       "      <td>0</td>\n",
       "    </tr>\n",
       "    <tr>\n",
       "      <th>194</th>\n",
       "      <td>2020-11-13</td>\n",
       "      <td>2020-11-16</td>\n",
       "      <td>3 days</td>\n",
       "      <td>3</td>\n",
       "      <td>Friday</td>\n",
       "      <td>Monday</td>\n",
       "      <td>2020-11-15</td>\n",
       "      <td>1 days</td>\n",
       "      <td>1</td>\n",
       "    </tr>\n",
       "    <tr>\n",
       "      <th>...</th>\n",
       "      <td>...</td>\n",
       "      <td>...</td>\n",
       "      <td>...</td>\n",
       "      <td>...</td>\n",
       "      <td>...</td>\n",
       "      <td>...</td>\n",
       "      <td>...</td>\n",
       "      <td>...</td>\n",
       "      <td>...</td>\n",
       "    </tr>\n",
       "    <tr>\n",
       "      <th>4555</th>\n",
       "      <td>2020-11-03</td>\n",
       "      <td>2020-11-05</td>\n",
       "      <td>2 days</td>\n",
       "      <td>2</td>\n",
       "      <td>Tuesday</td>\n",
       "      <td>Thursday</td>\n",
       "      <td>2020-11-05</td>\n",
       "      <td>0 days</td>\n",
       "      <td>0</td>\n",
       "    </tr>\n",
       "    <tr>\n",
       "      <th>4701</th>\n",
       "      <td>2019-09-24</td>\n",
       "      <td>2019-09-24</td>\n",
       "      <td>0 days</td>\n",
       "      <td>0</td>\n",
       "      <td>Tuesday</td>\n",
       "      <td>Tuesday</td>\n",
       "      <td>2019-09-26</td>\n",
       "      <td>-2 days</td>\n",
       "      <td>-2</td>\n",
       "    </tr>\n",
       "    <tr>\n",
       "      <th>4747</th>\n",
       "      <td>2019-09-02</td>\n",
       "      <td>2019-09-04</td>\n",
       "      <td>2 days</td>\n",
       "      <td>2</td>\n",
       "      <td>Monday</td>\n",
       "      <td>Wednesday</td>\n",
       "      <td>2019-09-04</td>\n",
       "      <td>0 days</td>\n",
       "      <td>0</td>\n",
       "    </tr>\n",
       "    <tr>\n",
       "      <th>4852</th>\n",
       "      <td>2020-11-14</td>\n",
       "      <td>2020-11-16</td>\n",
       "      <td>2 days</td>\n",
       "      <td>2</td>\n",
       "      <td>Saturday</td>\n",
       "      <td>Monday</td>\n",
       "      <td>2020-11-16</td>\n",
       "      <td>0 days</td>\n",
       "      <td>0</td>\n",
       "    </tr>\n",
       "    <tr>\n",
       "      <th>4997</th>\n",
       "      <td>2020-11-30</td>\n",
       "      <td>2020-12-03</td>\n",
       "      <td>3 days</td>\n",
       "      <td>3</td>\n",
       "      <td>Monday</td>\n",
       "      <td>Thursday</td>\n",
       "      <td>2020-12-02</td>\n",
       "      <td>1 days</td>\n",
       "      <td>1</td>\n",
       "    </tr>\n",
       "  </tbody>\n",
       "</table>\n",
       "<p>64 rows × 9 columns</p>\n",
       "</div>"
      ],
      "text/plain": [
       "     order_date ready_to_ship_date order_prep_time  order_prep_time_i  \\\n",
       "41   2020-11-26         2020-11-27          1 days                  1   \n",
       "80   2019-09-06         2019-09-09          3 days                  3   \n",
       "95   2020-11-10         2020-11-11          1 days                  1   \n",
       "151  2020-11-07         2020-11-09          2 days                  2   \n",
       "194  2020-11-13         2020-11-16          3 days                  3   \n",
       "...         ...                ...             ...                ...   \n",
       "4555 2020-11-03         2020-11-05          2 days                  2   \n",
       "4701 2019-09-24         2019-09-24          0 days                  0   \n",
       "4747 2019-09-02         2019-09-04          2 days                  2   \n",
       "4852 2020-11-14         2020-11-16          2 days                  2   \n",
       "4997 2020-11-30         2020-12-03          3 days                  3   \n",
       "\n",
       "     ordered_day ready_ship_day expect_prep_finish prep_diff  prep_diff_i  \n",
       "41      Thursday         Friday         2020-11-28   -1 days           -1  \n",
       "80        Friday         Monday         2019-09-08    1 days            1  \n",
       "95       Tuesday      Wednesday         2020-11-12   -1 days           -1  \n",
       "151     Saturday         Monday         2020-11-09    0 days            0  \n",
       "194       Friday         Monday         2020-11-15    1 days            1  \n",
       "...          ...            ...                ...       ...          ...  \n",
       "4555     Tuesday       Thursday         2020-11-05    0 days            0  \n",
       "4701     Tuesday        Tuesday         2019-09-26   -2 days           -2  \n",
       "4747      Monday      Wednesday         2019-09-04    0 days            0  \n",
       "4852    Saturday         Monday         2020-11-16    0 days            0  \n",
       "4997      Monday       Thursday         2020-12-02    1 days            1  \n",
       "\n",
       "[64 rows x 9 columns]"
      ]
     },
     "execution_count": 18,
     "metadata": {},
     "output_type": "execute_result"
    }
   ],
   "source": [
    "# Show me all rows with <=1 days in the PREP_DIFF column\n",
    "filt_df = order_prep_time2.loc[order_prep_time2['prep_diff_i'] <= 1]\n",
    "\n",
    "# count number of ready_ship_day values for each occurance\n",
    "total_times = filt_df['prep_diff'].value_counts()\n",
    "\n",
    "# count occurance for each region that appears to see if there are any correlations\n",
    "#region_counts = filt_df['region'].value_counts()\n",
    "\n",
    "#print(\"Filtered Rows:\")\n",
    "#print(\"\\nTotal Ready Ship Days:\", total_times)\n",
    "#print(\"\\nRegion Counts:\")\n",
    "#print(region_counts)\n",
    "filt_df"
   ]
  },
  {
   "cell_type": "code",
   "execution_count": 19,
   "metadata": {},
   "outputs": [
    {
     "data": {
      "image/png": "[encoded data removed]",
      "text/plain": [
       "<Figure size 640x480 with 1 Axes>"
      ]
     },
     "metadata": {},
     "output_type": "display_data"
    }
   ],
   "source": [
    "plt.suptitle('Order prep time difference', fontsize=20)\n",
    "plt.subplots_adjust(hspace = .5, wspace = .2, top = .9) # adjusts the space between the single subplots\n",
    "order_prep_time2.boxplot(column='prep_diff_i') # creates boxplot for order lead time\n",
    "plt.ylabel('Days');"
   ]
  },
  {
   "cell_type": "code",
   "execution_count": 31,
   "metadata": {},
   "outputs": [
    {
     "name": "stderr",
     "output_type": "stream",
     "text": [
      "/opt/homebrew/Caskroom/miniconda/base/envs/nf_base/lib/python3.9/site-packages/seaborn/_oldcore.py:1119: FutureWarning: use_inf_as_na option is deprecated and will be removed in a future version. Convert inf values to NaN before operating instead.\n",
      "  with pd.option_context('mode.use_inf_as_na', True):\n"
     ]
    },
    {
     "data": {
      "text/plain": [
       "''"
      ]
     },
     "execution_count": 31,
     "metadata": {},
     "output_type": "execute_result"
    },
    {
     "data": {
      "image/png": "[encoded data removed]",
      "text/plain": [
       "<Figure size 500x500 with 1 Axes>"
      ]
     },
     "metadata": {},
     "output_type": "display_data"
    }
   ],
   "source": [
    "sns.displot(order_prep_time2[['order_prep_time_i']],legend=False)\n",
    "plt.ylabel('frequency')\n",
    "plt.xlabel('no. of prep days')\n",
    ";"
   ]
  },
  {
   "cell_type": "markdown",
   "metadata": {},
   "source": [
    "### What is the average number of days it takes from order received and ready for shipping?"
   ]
  },
  {
   "cell_type": "code",
   "execution_count": null,
   "metadata": {},
   "outputs": [],
   "source": [
    "# Mean value = 4.18 days\n",
    "order_prep_time2.order_prep_time_i.mean()"
   ]
  },
  {
   "cell_type": "code",
   "execution_count": null,
   "metadata": {},
   "outputs": [],
   "source": [
    "# Describe the data\n",
    "order_prep_time2.order_prep_time_i.describe()"
   ]
  },
  {
   "cell_type": "code",
   "execution_count": null,
   "metadata": {},
   "outputs": [],
   "source": [
    "plt.suptitle('Distribution of order prep time', fontsize=20)\n",
    "plt.subplots_adjust(hspace = .5, wspace = .2, top = .9) # adjusts the space between the single subplots\n",
    "order_prep_time2.boxplot(column='order_prep_time_i') # creates boxplot for order lead time\n",
    "plt.ylabel('Days');"
   ]
  },
  {
   "cell_type": "code",
   "execution_count": null,
   "metadata": {},
   "outputs": [],
   "source": [
    "# What days do the customers receive their orders?\n",
    "order_prep_time2.order_prep_time_i.value_counts()"
   ]
  }
 ],
 "metadata": {
  "kernelspec": {
   "display_name": "nf_base",
   "language": "python",
   "name": "python3"
  },
  "language_info": {
   "codemirror_mode": {
    "name": "ipython",
    "version": 3
   },
   "file_extension": ".py",
   "mimetype": "text/x-python",
   "name": "python",
   "nbconvert_exporter": "python",
   "pygments_lexer": "ipython3",
   "version": "3.9.19"
  }
 },
 "nbformat": 4,
 "nbformat_minor": 2
}
