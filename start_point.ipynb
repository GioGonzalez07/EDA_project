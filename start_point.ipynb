{
 "cells": [
  {
   "cell_type": "code",
   "execution_count": 1,
   "metadata": {},
   "outputs": [],
   "source": [
    "import pandas as pd\n",
    "import matplotlib as plt\n",
    "import seaborn as sns\n",
    "%matplotlib inline "
   ]
  },
  {
   "cell_type": "code",
   "execution_count": 2,
   "metadata": {},
   "outputs": [],
   "source": [
    "# Floats (decimal numbers) should be displayed rounded with 2 decimal places\n",
    "pd.options.display.float_format = \"{:,.2f}\".format\n",
    "# Set style for plots\n",
    "plt.style.use('fivethirtyeight') "
   ]
  },
  {
   "cell_type": "code",
   "execution_count": 3,
   "metadata": {},
   "outputs": [],
   "source": [
    "start_orders = pd.read_csv('./data/orders.csv')\n",
    "start_order_process = pd.read_csv('./data/order_process_data.csv')\n",
    "start_intern_study = pd.read_csv('./data/interndata_study.csv')\n",
    "start_campaign = pd.read_csv('./data/campaign_data.csv')"
   ]
  },
  {
   "cell_type": "code",
   "execution_count": 4,
   "metadata": {},
   "outputs": [
    {
     "name": "stdout",
     "output_type": "stream",
     "text": [
      "Stored 'start_orders' (DataFrame)\n",
      "Stored 'start_order_process' (DataFrame)\n",
      "Stored 'start_intern_study' (DataFrame)\n",
      "Stored 'start_campaign' (DataFrame)\n"
     ]
    }
   ],
   "source": [
    "%store start_orders\n",
    "%store start_order_process\n",
    "%store start_intern_study\n",
    "%store start_campaign"
   ]
  },
  {
   "cell_type": "markdown",
   "metadata": {},
   "source": [
    "### Check overview of total data"
   ]
  },
  {
   "cell_type": "code",
   "execution_count": null,
   "metadata": {},
   "outputs": [],
   "source": [
    "# Reading start_orders\n",
    "\n",
    "#start_orders.columns\n",
    "#start_orders.shape\n",
    "#start_orders.duplicated().value_counts()\n",
    "#start_orders.info()\n",
    "#start_orders['Sub-Category'].unique()"
   ]
  },
  {
   "cell_type": "code",
   "execution_count": null,
   "metadata": {},
   "outputs": [],
   "source": [
    "# Reading orders process data\n",
    "\n",
    "#start_order_process.columns\n",
    "#start_order_process.shape\n",
    "#start_order_process.duplicated().value_counts()\n",
    "#start_order_process.info()\n",
    "#start_order_process['On Truck Scan Date'].unique()"
   ]
  },
  {
   "cell_type": "code",
   "execution_count": null,
   "metadata": {},
   "outputs": [],
   "source": [
    "# Reading intern data study\n",
    "\n",
    "#intern_study.columns\n",
    "#intern_study.shape\n",
    "#intern_study.duplicated().value_counts()\n",
    "#intern_study.info()"
   ]
  },
  {
   "cell_type": "code",
   "execution_count": null,
   "metadata": {},
   "outputs": [],
   "source": [
    "# Reading campaign data\n",
    "\n",
    "#campaign.columns\n",
    "#campaign.shape\n",
    "#campaign.duplicated().value_counts()\n",
    "#campaign.info()"
   ]
  },
  {
   "cell_type": "markdown",
   "metadata": {},
   "source": [
    "### Check head & tail of all DataFrames next to each other"
   ]
  },
  {
   "cell_type": "code",
   "execution_count": null,
   "metadata": {},
   "outputs": [],
   "source": [
    "## check ORDERS head & tail\n",
    "display(start_orders.head(2))\n",
    "print(\"-----------------------------\")\n",
    "display(start_orders.tail(2))"
   ]
  },
  {
   "cell_type": "code",
   "execution_count": null,
   "metadata": {},
   "outputs": [],
   "source": [
    "## check ORDER PROCESS head & tail\n",
    "display(start_order_process.head(2))\n",
    "print(\"-----------------------------\")\n",
    "display(start_order_process.tail(2))"
   ]
  },
  {
   "cell_type": "code",
   "execution_count": null,
   "metadata": {},
   "outputs": [],
   "source": [
    "## check INTERN STUDY head & tail\n",
    "display(start_intern_study.head(2))\n",
    "print(\"-----------------------------\")\n",
    "display(start_intern_study.tail(2))"
   ]
  },
  {
   "cell_type": "code",
   "execution_count": null,
   "metadata": {},
   "outputs": [],
   "source": [
    "## check CAMPAIGNS head & tail\n",
    "display(start_campaign.head(2))\n",
    "print(\"-----------------------------\")\n",
    "display(start_campaign.tail(2))"
   ]
  },
  {
   "cell_type": "markdown",
   "metadata": {},
   "source": [
    "### Check Shape, Size & Type of data across each DataFrame"
   ]
  },
  {
   "cell_type": "code",
   "execution_count": null,
   "metadata": {},
   "outputs": [],
   "source": [
    "## check ORDERS info\n",
    "display(start_orders.shape)\n",
    "display(start_orders.size)\n",
    "display(start_orders.dtypes)"
   ]
  },
  {
   "cell_type": "code",
   "execution_count": null,
   "metadata": {},
   "outputs": [],
   "source": [
    "## check ORDER PROCESS\n",
    "display(start_order_process.shape)\n",
    "display(start_order_process.size)\n",
    "display(start_order_process.dtypes)"
   ]
  },
  {
   "cell_type": "code",
   "execution_count": null,
   "metadata": {},
   "outputs": [],
   "source": [
    "## check INTERN STUDY info\n",
    "display(start_intern_study.shape)\n",
    "display(start_intern_study.size)\n",
    "display(start_intern_study.dtypes)"
   ]
  },
  {
   "cell_type": "code",
   "execution_count": null,
   "metadata": {},
   "outputs": [],
   "source": [
    "## check CAMPAIGN info\n",
    "display(start_campaign.shape)\n",
    "display(start_campaign.size)\n",
    "display(start_campaign.dtypes)"
   ]
  },
  {
   "cell_type": "markdown",
   "metadata": {},
   "source": [
    "### Do we have any duplicated Items or NULL values in each DataFrame?"
   ]
  },
  {
   "cell_type": "code",
   "execution_count": null,
   "metadata": {},
   "outputs": [],
   "source": [
    "# check for ORDERS\n",
    "display(start_orders.duplicated().value_counts())\n",
    "display(start_orders.isnull().sum())"
   ]
  },
  {
   "cell_type": "code",
   "execution_count": null,
   "metadata": {},
   "outputs": [],
   "source": [
    "# check for ORDER PROCESS\n",
    "display(start_order_process.duplicated().value_counts())\n",
    "display(start_order_process.isnull().sum())"
   ]
  },
  {
   "cell_type": "code",
   "execution_count": null,
   "metadata": {},
   "outputs": [],
   "source": [
    "# # check for INTERN STUDY\n",
    "display(start_intern_study.duplicated().value_counts())\n",
    "display(start_intern_study.isnull().sum())"
   ]
  },
  {
   "cell_type": "code",
   "execution_count": null,
   "metadata": {},
   "outputs": [],
   "source": [
    "# check for CAMPAIGN\n",
    "display(start_campaign.duplicated().value_counts())\n",
    "display(start_campaign.isnull().sum())"
   ]
  }
 ],
 "metadata": {
  "kernelspec": {
   "display_name": "nf_base",
   "language": "python",
   "name": "python3"
  },
  "language_info": {
   "codemirror_mode": {
    "name": "ipython",
    "version": 3
   },
   "file_extension": ".py",
   "mimetype": "text/x-python",
   "name": "python",
   "nbconvert_exporter": "python",
   "pygments_lexer": "ipython3",
   "version": "3.9.19"
  }
 },
 "nbformat": 4,
 "nbformat_minor": 2
}
