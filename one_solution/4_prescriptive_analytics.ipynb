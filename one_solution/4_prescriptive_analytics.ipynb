{
 "cells": [
  {
   "attachments": {},
   "cell_type": "markdown",
   "metadata": {},
   "source": [
    "# PRESCRIPTIVE ANALYTICS [ MUESLI PROJECT ]\n"
   ]
  },
  {
   "attachments": {},
   "cell_type": "markdown",
   "metadata": {},
   "source": [
    "#### **WHY PRESCRIPTIVE ANALYTICS?**\n",
    "\n",
    "We have taken a data-driven approach to find out:\n",
    "\n",
    "- What is happening --> Transforming Data into Information \n",
    "\n",
    "- Why it is happening. --> Transforming Information to Knowledge\n",
    "\n",
    "Now we will provide recommendations for the \"What should we do?\"\n",
    "\n",
    "Transform the knowledge into an action, that will ultimately benefit the client/stakeholder. \n",
    "\n",
    "\n",
    "\n"
   ]
  },
  {
   "attachments": {},
   "cell_type": "markdown",
   "metadata": {},
   "source": [
    "---\n",
    "#### **OBJECTIVE OF THIS NOTEBOOK:** \n",
    "\n",
    "This notebook is the transitionary point from Exploaratory Data Analysis to Explanatory Data Analysis.\n",
    "\n",
    "We have performed Descriptive Analytics to explore what is happening & Diagnostic Analytics to explore and understand why it is happening.\n",
    "\n",
    "Here we will use this Exploratory knowledge, the pearls that we have picked from the shells in the vast sea of data, to explain what the impact of our EDA has in the context of the Muesli Warehouse Company. \n",
    "\n",
    " \n",
    "We will prescribe the following options:\n",
    "\n",
    "    1.  Daily Trucks for pickup from Warehouse \n",
    "\n",
    "    2.  Express Ship mode only\n",
    "\n",
    "We will still use the KPIs to show the potential impact that these recommendations will have.\n"
   ]
  },
  {
   "attachments": {},
   "cell_type": "markdown",
   "metadata": {},
   "source": [
    "---\n",
    "\n",
    "## Import Packages"
   ]
  },
  {
   "cell_type": "code",
   "execution_count": 23,
   "metadata": {},
   "outputs": [],
   "source": [
    "# Package for processing data pandas with alias pd\n",
    "import pandas as pd\n",
    "\n",
    "# Package to enable us to perform some mathematical calculations\n",
    "import numpy as np\n"
   ]
  },
  {
   "attachments": {},
   "cell_type": "markdown",
   "metadata": {},
   "source": [
    "## Load the data\n"
   ]
  },
  {
   "cell_type": "code",
   "execution_count": 24,
   "metadata": {},
   "outputs": [],
   "source": [
    "\n",
    "# order_cycle_kpi\n",
    "order_cycle_kpi = pd.read_csv('../data/order_cylce_kpi.csv') \n",
    "# lead_time_kpi\n",
    "lead_time_kpi = pd.read_csv('../data/lead_time_kpi.csv')\n",
    "\n",
    "# shipping_kpi\n",
    "shipping_kpi = pd.read_csv('../data/shipping_kpi.csv')\n",
    "\n",
    "# pickup_time_kpi\n",
    "pickup_time_kpi = pd.read_csv('../data/pickup_time_kpi.csv')\n",
    "\n",
    "# order_processed_cleaned this contains information on ship mode\n",
    "order_process = pd.read_csv(\"../data/order_process_cleaned.csv\")\n",
    "\n",
    "# intern data \n",
    "intern_data = pd.read_csv(\"../data/intern_study_cleaned.csv\")\n",
    "\n",
    "# campaign data\n",
    "campaign = pd.read_csv(\"../data/campaign_cleaned.csv\")"
   ]
  },
  {
   "attachments": {},
   "cell_type": "markdown",
   "metadata": {},
   "source": [
    "---\n",
    "# Recommendations"
   ]
  },
  {
   "attachments": {},
   "cell_type": "markdown",
   "metadata": {},
   "source": [
    "## Scenarios Daily Trucks for Pickup"
   ]
  },
  {
   "attachments": {},
   "cell_type": "markdown",
   "metadata": {},
   "source": [
    "Let's re-draw our business flow chart for the scenario of daily truck pickups"
   ]
  },
  {
   "attachments": {},
   "cell_type": "markdown",
   "metadata": {},
   "source": [
    "![kpi_order_pickup_daily_trucks.png](images/kpi_order_pickup_daily_trucks.png)"
   ]
  },
  {
   "attachments": {},
   "cell_type": "markdown",
   "metadata": {},
   "source": [
    "In the last session we calculated the actual reality of this."
   ]
  },
  {
   "attachments": {},
   "cell_type": "markdown",
   "metadata": {},
   "source": [
    "#### General observations on order pickup time from last session\n",
    "\n",
    "* We could confirm our assumption that the ship mode really has an effect on the order pickup time.\n",
    "\n",
    "* The standard processing has 1 day of order pickup time only for 40% of cases, the other orders need 2 or 3 days. \n",
    "\n",
    "* The standard processing is delayed in 60% of cases because half of the orders are ready for pick up on Monday which takes two days to be on truck. If we can improve the shipping process for Monday it will have a noticable impact on the order pickup KPI for standard overall."
   ]
  },
  {
   "attachments": {},
   "cell_type": "markdown",
   "metadata": {},
   "source": [
    "### Let's first look into Standard"
   ]
  },
  {
   "attachments": {},
   "cell_type": "markdown",
   "metadata": {},
   "source": [
    "Let's recap the order pickup times for standard processing from the last session:"
   ]
  },
  {
   "attachments": {},
   "cell_type": "markdown",
   "metadata": {},
   "source": [
    "![order_ready_toship_weekdays_table_overview_standard.png](images/order_ready_toship_weekdays_table_overview_standard.png)"
   ]
  },
  {
   "attachments": {},
   "cell_type": "markdown",
   "metadata": {},
   "source": [
    "### Ideal Impact on daily truck pickups (for Standard)\n",
    "\n",
    "- Monday: from 2.0 to 1.0\n",
    "\n",
    "- Tuesday: same\n",
    "\n",
    "- Wednesday: from 2.0 to 1.0\n",
    "\n",
    "- Thursday: same\n",
    "\n",
    "- Friday: same"
   ]
  },
  {
   "attachments": {},
   "cell_type": "markdown",
   "metadata": {},
   "source": [
    "### What would be the impact on the order pickup time?\n",
    "\n",
    "We can solve this by a simple business case analysis ..."
   ]
  },
  {
   "attachments": {},
   "cell_type": "markdown",
   "metadata": {},
   "source": [
    "Let's calculate the general order pickup time again based on this table."
   ]
  },
  {
   "cell_type": "code",
   "execution_count": 88,
   "metadata": {},
   "outputs": [],
   "source": [
    "# general order pickup time - a simple weighted average calculation\n",
    "\n",
    "# number of order per day\n",
    "mon_count = 74\n",
    "tue_count = 24\n",
    "wed_count = 16\n",
    "thu_count = 15\n",
    "fri_count = 22\n",
    "\n",
    "weighted_sum = (2 * mon_count \n",
    "                + 1 * tue_count \n",
    "                + 2 * wed_count \n",
    "                + 1 * thu_count \n",
    "                + 1 * fri_count)\n",
    "counts_sum = mon_count + tue_count + wed_count + thu_count + fri_count\n",
    "\n",
    "avg_order_pickup = round(weighted_sum/counts_sum,2)"
   ]
  },
  {
   "cell_type": "code",
   "execution_count": 89,
   "metadata": {},
   "outputs": [
    {
     "name": "stdout",
     "output_type": "stream",
     "text": [
      "241\n",
      "151\n",
      "1.6\n"
     ]
    }
   ],
   "source": [
    "print(weighted_sum)\n",
    "print(counts_sum)\n",
    "print(avg_order_pickup)"
   ]
  },
  {
   "attachments": {},
   "cell_type": "markdown",
   "metadata": {},
   "source": [
    "### Let's take the formula above and adjust it according to our scenario. \n"
   ]
  },
  {
   "attachments": {},
   "cell_type": "markdown",
   "metadata": {},
   "source": [
    "![updated_order_to_ship_standard.png](images/updated_order_to_ship_standard.png)"
   ]
  },
  {
   "cell_type": "code",
   "execution_count": 90,
   "metadata": {},
   "outputs": [],
   "source": [
    "# solution\n",
    "# take the formula above and adjust \n",
    "new_weighted_sum = (  1 * mon_count \n",
    "                    + 1 * tue_count \n",
    "                    + 1 * wed_count \n",
    "                    + 1 * thu_count \n",
    "                    + 1 * fri_count)\n",
    "new_counts_sum = mon_count + tue_count + wed_count + thu_count + fri_count\n",
    "\n",
    "new_avg_order_pickup = round(new_weighted_sum/new_counts_sum,2)"
   ]
  },
  {
   "cell_type": "code",
   "execution_count": 91,
   "metadata": {},
   "outputs": [
    {
     "name": "stdout",
     "output_type": "stream",
     "text": [
      "1.0\n"
     ]
    }
   ],
   "source": [
    "print(new_avg_order_pickup)"
   ]
  },
  {
   "attachments": {},
   "cell_type": "markdown",
   "metadata": {},
   "source": [
    "#### How much did we improve in percentage?\n"
   ]
  },
  {
   "cell_type": "code",
   "execution_count": 92,
   "metadata": {},
   "outputs": [],
   "source": [
    "# solution\n",
    "improvement_perc = round((new_avg_order_pickup-avg_order_pickup)/avg_order_pickup,2)*100"
   ]
  },
  {
   "cell_type": "code",
   "execution_count": 93,
   "metadata": {},
   "outputs": [
    {
     "name": "stdout",
     "output_type": "stream",
     "text": [
      "-38.0 %\n"
     ]
    }
   ],
   "source": [
    "print(str(improvement_perc) + \" %\")\n"
   ]
  },
  {
   "attachments": {},
   "cell_type": "markdown",
   "metadata": {},
   "source": [
    "#### **Final outcome** for the impact on standard processing with daily truck pickups: `1 day (-38%)`"
   ]
  },
  {
   "attachments": {},
   "cell_type": "markdown",
   "metadata": {},
   "source": [
    "## Let's move to Express Shippings"
   ]
  },
  {
   "attachments": {},
   "cell_type": "markdown",
   "metadata": {},
   "source": [
    "A recap from the previous notebook's findings:"
   ]
  },
  {
   "attachments": {},
   "cell_type": "markdown",
   "metadata": {},
   "source": [
    "![order_ready_toship_weekdays_table_overview_express.png](images/order_ready_toship_weekdays_table_overview_express.png)\n"
   ]
  },
  {
   "cell_type": "code",
   "execution_count": 94,
   "metadata": {},
   "outputs": [],
   "source": [
    "# general order pickup time - a simple weighted average calculation\n",
    "\n",
    "# number of order per day\n",
    "mon_count_expr = 19\n",
    "tue_count_expr = 5\n",
    "wed_count_expr = 7\n",
    "thu_count_expr = 13\n",
    "fri_count_expr = 9\n",
    "\n",
    "weighted_sum_expr = (  0 * mon_count_expr \n",
    "                     + 1 * tue_count_expr \n",
    "                     + 0 * wed_count_expr \n",
    "                     + 1 * thu_count_expr \n",
    "                     + 0 * fri_count_expr)\n",
    "counts_sum_expr = mon_count_expr + tue_count_expr + wed_count_expr + thu_count_expr + fri_count_expr\n",
    "\n",
    "avg_order_pickup_expr = round(weighted_sum_expr/counts_sum_expr,2)"
   ]
  },
  {
   "cell_type": "code",
   "execution_count": 95,
   "metadata": {},
   "outputs": [
    {
     "name": "stdout",
     "output_type": "stream",
     "text": [
      "18\n",
      "53\n",
      "0.34\n"
     ]
    }
   ],
   "source": [
    "print(weighted_sum_expr)\n",
    "print(counts_sum_expr)\n",
    "print(avg_order_pickup_expr)"
   ]
  },
  {
   "attachments": {},
   "cell_type": "markdown",
   "metadata": {},
   "source": [
    "### What would be the impact on the order pickup time?"
   ]
  },
  {
   "attachments": {},
   "cell_type": "markdown",
   "metadata": {},
   "source": [
    "![updated_order_to_ship_express.png](images/updated_order_to_ship_express.png)"
   ]
  },
  {
   "attachments": {},
   "cell_type": "markdown",
   "metadata": {},
   "source": [
    "- Monday: same\n",
    "\n",
    "- Tuesday: from 1 to 0\n",
    "\n",
    "- Wednesday: same\n",
    "\n",
    "- Thursday: from 1 to 0\n",
    "\n",
    "- Friday: same"
   ]
  },
  {
   "cell_type": "code",
   "execution_count": 96,
   "metadata": {},
   "outputs": [],
   "source": [
    "# solution\n",
    "# take the formula above and adjust \n",
    "new_express_totals = (0 * mon_count_expr \n",
    "                    + 0 * tue_count_expr \n",
    "                    + 0 * wed_count_expr \n",
    "                    + 0 * thu_count_expr \n",
    "                    + 0 * fri_count_expr)\n",
    "new_express_counts = mon_count_expr + tue_count_expr + wed_count_expr + thu_count_expr + fri_count_expr\n",
    "\n",
    "new_express_avg_order_pickup = round(new_express_totals/new_express_counts,2)"
   ]
  },
  {
   "cell_type": "code",
   "execution_count": 97,
   "metadata": {},
   "outputs": [
    {
     "name": "stdout",
     "output_type": "stream",
     "text": [
      "0.0\n",
      "53\n",
      "0.0\n"
     ]
    }
   ],
   "source": [
    "print(new_express_totals)\n",
    "print(new_express_counts)\n",
    "print(new_express_avg_order_pickup)"
   ]
  },
  {
   "cell_type": "code",
   "execution_count": 98,
   "metadata": {},
   "outputs": [
    {
     "data": {
      "text/plain": [
       "0.0"
      ]
     },
     "execution_count": 98,
     "metadata": {},
     "output_type": "execute_result"
    }
   ],
   "source": [
    "new_express_avg_order_pickup"
   ]
  },
  {
   "attachments": {},
   "cell_type": "markdown",
   "metadata": {},
   "source": [
    "#### How much did we improve in percentage?"
   ]
  },
  {
   "cell_type": "code",
   "execution_count": 99,
   "metadata": {},
   "outputs": [],
   "source": [
    " # solution\n",
    "improvement_perc = round((new_express_avg_order_pickup-avg_order_pickup_expr)/avg_order_pickup_expr,2)*100"
   ]
  },
  {
   "cell_type": "code",
   "execution_count": 101,
   "metadata": {},
   "outputs": [
    {
     "name": "stdout",
     "output_type": "stream",
     "text": [
      "-100.0 %\n"
     ]
    }
   ],
   "source": [
    "\n",
    "print(str(improvement_perc) + \" %\")"
   ]
  },
  {
   "attachments": {},
   "cell_type": "markdown",
   "metadata": {},
   "source": [
    "#### **Final outcome** for the impact on express processing with daily truck pickups: `0.0day (-100%)`"
   ]
  },
  {
   "attachments": {},
   "cell_type": "markdown",
   "metadata": {},
   "source": [
    "### Differences in pickup times - original vs every day:\n",
    "\n",
    "| **Orders** | **Old pick up time** | **New every day pick up time** |\n",
    "| --- | --- | --- |\n",
    "| All ship modes | 1.27 days | 0.74 days |\n",
    "| Express | 0.34 days | 0.0 days [same day] |\n",
    "| Standard Processing | 1.6 days | 1.0 days |\n"
   ]
  },
  {
   "attachments": {},
   "cell_type": "markdown",
   "metadata": {},
   "source": [
    "----\n",
    "## Shipping Mode \n",
    "In the following we will explore the recommendation that all orders will be treated as Express only. This is a more difficult recommedation to explore.\n",
    "\n",
    "There are certain aspects of the process that we cannot explain yet.\n",
    "\n",
    "- Order Cycle KPI : We saw in the last session that this KPI does not meet the warehouse assumptions for both Standard and Express.\n",
    "\n",
    "- Pickup Time KPI: has a knock on effect due to the difference in Order Cycle. The Standard processed orders are supposed to also wait for 1 day to be shipped after they are ready for pickup.\n",
    "\n",
    "![](\"ad_alliance_mbc/muesli_project/images/order_cycle_time_by_shipmode.png\""
   ]
  },
  {
   "attachments": {},
   "cell_type": "markdown",
   "metadata": {},
   "source": [
    "![](./3_data_aggregation/static/kpi.png"
   ]
  },
  {
   "attachments": {},
   "cell_type": "markdown",
   "metadata": {},
   "source": [
    "These 2 KPIs affect the overall Lead Time for the orders. Therefore making a huge impact, we could spend a week easily to come up with expansive and exhaustive process to show the effect on going all Express shipping only.\n",
    "\n",
    "\n",
    "We will explore a method that will try to show possible impact of going all Express deliveries.\n",
    "\n",
    "1. **`Step 1:`** Adjust the Order pickup time for standard processing\n",
    "\n",
    "    in an ideal world we would have a difference of 1 day for the processing time of standard and express. However, we saw that also the order cycle time is affected by the ship mode, so the difference is actual more than 1 day for some orders. In order to account for the actual reality, we will work with the average difference between the processing times of standard and express. \n",
    "\n",
    "2. **`Step 2:`** Get the average values for each KPI by ship_mode.\n",
    "\n",
    "    `standard.mean() & express.mean()`\n",
    "\n",
    "3. **`Step 3:`** Take the difference between the averages\n",
    "\n",
    "    `delta = standard.mean()  - express.mean()`\n",
    "\n",
    "4. **`Step 4:`** Take the resultant and subtract every order with Standard processing in order to arrive at a scenario with all orders with Express.\n",
    "\n",
    "    `respective_kpi[\"new_column] = respective_kpi_rows - delta`\n",
    "\n",
    "5. **`Step 5:`** Take the average of the new column and compare the KPI values.\n",
    "\n",
    "    `respective_kpi[\"new_column].mean()`\n"
   ]
  },
  {
   "attachments": {},
   "cell_type": "markdown",
   "metadata": {},
   "source": [
    "## Order Cycle Time Shipping method\n"
   ]
  },
  {
   "attachments": {},
   "cell_type": "markdown",
   "metadata": {},
   "source": [
    "We will explore the first KPI in the process to determine on average what difference it would make to only use the Express shipping mode\n"
   ]
  },
  {
   "attachments": {},
   "cell_type": "markdown",
   "metadata": {},
   "source": [
    "#### Merging and cleaning "
   ]
  },
  {
   "cell_type": "code",
   "execution_count": 42,
   "metadata": {},
   "outputs": [],
   "source": [
    "# merge the order_cycle_kpi dataframe with the order_process in order to get the shipping modes\n",
    "mode_order_cycle_kpi = order_cycle_kpi.merge(order_process, on=\"order_id\")"
   ]
  },
  {
   "cell_type": "code",
   "execution_count": 43,
   "metadata": {},
   "outputs": [
    {
     "data": {
      "text/plain": [
       "Index(['order_id', 'order_date_x', 'origin_channel', 'region', 'category',\n",
       "       'sub_category', 'ready_to_ship_date', 'pickup_date',\n",
       "       'expected_ready_to_ship_date', 'order_year', 'order_to_ready',\n",
       "       'order_to_ready_int', 'order_weekday', 'ready_weekday',\n",
       "       'order_weekday_int', 'order_to_ready_int_no_weekend', 'order_date_y',\n",
       "       'on_truck_scan_date', 'ship_mode'],\n",
       "      dtype='object')"
      ]
     },
     "execution_count": 43,
     "metadata": {},
     "output_type": "execute_result"
    }
   ],
   "source": [
    "# Check the columns for \"mode_order_cycle_kpi\"\n",
    "mode_order_cycle_kpi.____"
   ]
  },
  {
   "attachments": {},
   "cell_type": "markdown",
   "metadata": {},
   "source": [
    "<details>\n",
    "\n",
    "<summary>Spoiler</summary>\n",
    "\n",
    "```python\n",
    "\n",
    "# Check the columns\n",
    "mode_order_cycle_kpi.columns\n",
    "               \n",
    "```\n",
    "</details>"
   ]
  },
  {
   "cell_type": "code",
   "execution_count": 44,
   "metadata": {},
   "outputs": [],
   "source": [
    "# rename the order_date_x to order_date\n",
    "mode_order_cycle_kpi.rename(columns={\"order_date_x\": \"order_date\"}, inplace= True)\n",
    "\n",
    "# drop order_date_y and other columns that are not important in calculation of the time \n",
    "mode_order_cycle_kpi.drop(columns=[\"order_date_y\", \"origin_channel\", \"region\",\"category\",\"sub_category\"], inplace=True)\n"
   ]
  },
  {
   "cell_type": "code",
   "execution_count": 45,
   "metadata": {},
   "outputs": [
    {
     "data": {
      "text/html": [
       "<div>\n",
       "<style scoped>\n",
       "    .dataframe tbody tr th:only-of-type {\n",
       "        vertical-align: middle;\n",
       "    }\n",
       "\n",
       "    .dataframe tbody tr th {\n",
       "        vertical-align: top;\n",
       "    }\n",
       "\n",
       "    .dataframe thead th {\n",
       "        text-align: right;\n",
       "    }\n",
       "</style>\n",
       "<table border=\"1\" class=\"dataframe\">\n",
       "  <thead>\n",
       "    <tr style=\"text-align: right;\">\n",
       "      <th></th>\n",
       "      <th>order_id</th>\n",
       "      <th>order_date</th>\n",
       "      <th>ready_to_ship_date</th>\n",
       "      <th>pickup_date</th>\n",
       "      <th>expected_ready_to_ship_date</th>\n",
       "      <th>order_year</th>\n",
       "      <th>order_to_ready</th>\n",
       "      <th>order_to_ready_int</th>\n",
       "      <th>order_weekday</th>\n",
       "      <th>ready_weekday</th>\n",
       "      <th>order_weekday_int</th>\n",
       "      <th>order_to_ready_int_no_weekend</th>\n",
       "      <th>on_truck_scan_date</th>\n",
       "      <th>ship_mode</th>\n",
       "    </tr>\n",
       "  </thead>\n",
       "  <tbody>\n",
       "    <tr>\n",
       "      <th>0</th>\n",
       "      <td>CA-2020-119004</td>\n",
       "      <td>2020-11-23</td>\n",
       "      <td>2020-11-30</td>\n",
       "      <td>2020-12-02</td>\n",
       "      <td>2020-11-25</td>\n",
       "      <td>2020</td>\n",
       "      <td>7 days</td>\n",
       "      <td>7</td>\n",
       "      <td>Monday</td>\n",
       "      <td>Monday</td>\n",
       "      <td>1</td>\n",
       "      <td>5</td>\n",
       "      <td>2020-12-02</td>\n",
       "      <td>Standard Processing</td>\n",
       "    </tr>\n",
       "    <tr>\n",
       "      <th>1</th>\n",
       "      <td>CA-2019-145625</td>\n",
       "      <td>2019-09-11</td>\n",
       "      <td>2019-09-17</td>\n",
       "      <td>2019-09-18</td>\n",
       "      <td>2019-09-13</td>\n",
       "      <td>2019</td>\n",
       "      <td>6 days</td>\n",
       "      <td>6</td>\n",
       "      <td>Wednesday</td>\n",
       "      <td>Tuesday</td>\n",
       "      <td>3</td>\n",
       "      <td>4</td>\n",
       "      <td>2019-09-18</td>\n",
       "      <td>Standard Processing</td>\n",
       "    </tr>\n",
       "    <tr>\n",
       "      <th>2</th>\n",
       "      <td>CA-2020-135307</td>\n",
       "      <td>2020-11-26</td>\n",
       "      <td>2020-11-27</td>\n",
       "      <td>2020-11-27</td>\n",
       "      <td>2020-11-28</td>\n",
       "      <td>2020</td>\n",
       "      <td>1 days</td>\n",
       "      <td>1</td>\n",
       "      <td>Thursday</td>\n",
       "      <td>Friday</td>\n",
       "      <td>4</td>\n",
       "      <td>1</td>\n",
       "      <td>2020-11-27</td>\n",
       "      <td>Express</td>\n",
       "    </tr>\n",
       "    <tr>\n",
       "      <th>3</th>\n",
       "      <td>CA-2019-102981</td>\n",
       "      <td>2019-09-06</td>\n",
       "      <td>2019-09-09</td>\n",
       "      <td>2019-09-11</td>\n",
       "      <td>2019-09-08</td>\n",
       "      <td>2019</td>\n",
       "      <td>3 days</td>\n",
       "      <td>3</td>\n",
       "      <td>Friday</td>\n",
       "      <td>Monday</td>\n",
       "      <td>5</td>\n",
       "      <td>1</td>\n",
       "      <td>2019-09-11</td>\n",
       "      <td>Standard Processing</td>\n",
       "    </tr>\n",
       "    <tr>\n",
       "      <th>4</th>\n",
       "      <td>US-2020-155425</td>\n",
       "      <td>2020-11-10</td>\n",
       "      <td>2020-11-11</td>\n",
       "      <td>2020-11-12</td>\n",
       "      <td>2020-11-12</td>\n",
       "      <td>2020</td>\n",
       "      <td>1 days</td>\n",
       "      <td>1</td>\n",
       "      <td>Tuesday</td>\n",
       "      <td>Wednesday</td>\n",
       "      <td>2</td>\n",
       "      <td>1</td>\n",
       "      <td>2020-11-12</td>\n",
       "      <td>Express</td>\n",
       "    </tr>\n",
       "  </tbody>\n",
       "</table>\n",
       "</div>"
      ],
      "text/plain": [
       "         order_id  order_date ready_to_ship_date pickup_date  \\\n",
       "0  CA-2020-119004  2020-11-23         2020-11-30  2020-12-02   \n",
       "1  CA-2019-145625  2019-09-11         2019-09-17  2019-09-18   \n",
       "2  CA-2020-135307  2020-11-26         2020-11-27  2020-11-27   \n",
       "3  CA-2019-102981  2019-09-06         2019-09-09  2019-09-11   \n",
       "4  US-2020-155425  2020-11-10         2020-11-11  2020-11-12   \n",
       "\n",
       "  expected_ready_to_ship_date  order_year order_to_ready  order_to_ready_int  \\\n",
       "0                  2020-11-25        2020         7 days                   7   \n",
       "1                  2019-09-13        2019         6 days                   6   \n",
       "2                  2020-11-28        2020         1 days                   1   \n",
       "3                  2019-09-08        2019         3 days                   3   \n",
       "4                  2020-11-12        2020         1 days                   1   \n",
       "\n",
       "  order_weekday ready_weekday  order_weekday_int  \\\n",
       "0        Monday        Monday                  1   \n",
       "1     Wednesday       Tuesday                  3   \n",
       "2      Thursday        Friday                  4   \n",
       "3        Friday        Monday                  5   \n",
       "4       Tuesday     Wednesday                  2   \n",
       "\n",
       "   order_to_ready_int_no_weekend on_truck_scan_date            ship_mode  \n",
       "0                              5         2020-12-02  Standard Processing  \n",
       "1                              4         2019-09-18  Standard Processing  \n",
       "2                              1         2020-11-27              Express  \n",
       "3                              1         2019-09-11  Standard Processing  \n",
       "4                              1         2020-11-12              Express  "
      ]
     },
     "execution_count": 45,
     "metadata": {},
     "output_type": "execute_result"
    }
   ],
   "source": [
    "# display the first 5 rows of the dataframe \"mode_order_cycle_kpi\"\n",
    "mode_order_cycle_kpi.____"
   ]
  },
  {
   "attachments": {},
   "cell_type": "markdown",
   "metadata": {},
   "source": [
    "<details>\n",
    "\n",
    "<summary>Spoiler</summary>\n",
    "\n",
    "```python\n",
    "\n",
    "# display the first 5 rows of the dataframe \"mode_order_cycle_kpi\"\n",
    "mode_order_cycle_kpi.head()\n",
    "               \n",
    "```\n",
    "</details>"
   ]
  },
  {
   "attachments": {},
   "cell_type": "markdown",
   "metadata": {},
   "source": [
    "#### Step 1: Splitting by the Ship Mode & Getting Averages\n"
   ]
  },
  {
   "cell_type": "code",
   "execution_count": 46,
   "metadata": {},
   "outputs": [],
   "source": [
    "# \"express_order_cycle\" is a subset of mode_order_cycle_kpi dataframe for orders that are express\n",
    "express_order_cycle = mode_order_cycle_kpi[mode_order_cycle_kpi[\"ship_mode\"] == \"Express\"]"
   ]
  },
  {
   "cell_type": "code",
   "execution_count": 48,
   "metadata": {},
   "outputs": [
    {
     "data": {
      "text/plain": [
       "(53, 14)"
      ]
     },
     "execution_count": 48,
     "metadata": {},
     "output_type": "execute_result"
    }
   ],
   "source": [
    "# inspect the shape of the \"express_order_cycle\" dataframe\n",
    "express_order_cycle._____"
   ]
  },
  {
   "attachments": {},
   "cell_type": "markdown",
   "metadata": {},
   "source": [
    "<details>\n",
    "\n",
    "<summary>Spoiler</summary>\n",
    "\n",
    "```python\n",
    "\n",
    "# inspect the shape of the \"express_order_cycle\" dataframe\n",
    "express_order_cycle.shape\n",
    "               \n",
    "```\n",
    "</details>"
   ]
  },
  {
   "cell_type": "code",
   "execution_count": 47,
   "metadata": {},
   "outputs": [],
   "source": [
    "# \"standard_order_cycle\" is a subset of mode_order_cycle_kpi dataframe for the number of orders that are standard\n",
    "\n",
    "standard_order_cycle = mode_order_cycle_kpi[mode_order_cycle_kpi[\"_________\"] == \"Standard Processing\"]"
   ]
  },
  {
   "attachments": {},
   "cell_type": "markdown",
   "metadata": {},
   "source": [
    "<details>\n",
    "\n",
    "<summary>Spoiler</summary>\n",
    "\n",
    "```python\n",
    "\n",
    "#standard_order_cycle is a subset of mode_order_cycle_kpi dataframe for the number of orders that are standard\n",
    "\n",
    "standard_order_cycle = mode_order_cycle_kpi[mode_order_cycle_kpi[\"ship_mode\"] == \"Standard Processing\"]\n",
    "               \n",
    "```\n",
    "</details>"
   ]
  },
  {
   "cell_type": "code",
   "execution_count": 49,
   "metadata": {},
   "outputs": [],
   "source": [
    "# average order_cycle_time for only express orders\n",
    "avg_express_order_cycle= express_order_cycle.order_to_ready_int_no_weekend.mean()"
   ]
  },
  {
   "cell_type": "code",
   "execution_count": 50,
   "metadata": {},
   "outputs": [],
   "source": [
    "# average order_cycle_time for only standard orders\n",
    "\n",
    "avg_standard_order_cycle = standard_order_cycle.order_to_ready_int_no_weekend.____"
   ]
  },
  {
   "attachments": {},
   "cell_type": "markdown",
   "metadata": {},
   "source": [
    "<details>\n",
    "\n",
    "<summary>Spoiler</summary>\n",
    "\n",
    "```python\n",
    "\n",
    "# average order_cycle_time for only standard orders\n",
    "\n",
    "avg_standard_order_cycle = standard_order_cycle.order_to_ready_int_no_weekend.mean()\n",
    "               \n",
    "```\n",
    "</details>"
   ]
  },
  {
   "attachments": {},
   "cell_type": "markdown",
   "metadata": {},
   "source": [
    "#### Average Order Cycle time per shipping mode"
   ]
  },
  {
   "cell_type": "code",
   "execution_count": 51,
   "metadata": {},
   "outputs": [
    {
     "data": {
      "text/plain": [
       "1.3962264150943395"
      ]
     },
     "execution_count": 51,
     "metadata": {},
     "output_type": "execute_result"
    }
   ],
   "source": [
    "avg_express_order_cycle"
   ]
  },
  {
   "cell_type": "code",
   "execution_count": 52,
   "metadata": {},
   "outputs": [
    {
     "data": {
      "text/plain": [
       "3.251655629139073"
      ]
     },
     "execution_count": 52,
     "metadata": {},
     "output_type": "execute_result"
    }
   ],
   "source": [
    "avg_standard_order_cycle"
   ]
  },
  {
   "cell_type": "code",
   "execution_count": 53,
   "metadata": {},
   "outputs": [
    {
     "data": {
      "text/html": [
       "<div>\n",
       "<style scoped>\n",
       "    .dataframe tbody tr th:only-of-type {\n",
       "        vertical-align: middle;\n",
       "    }\n",
       "\n",
       "    .dataframe tbody tr th {\n",
       "        vertical-align: top;\n",
       "    }\n",
       "\n",
       "    .dataframe thead th {\n",
       "        text-align: right;\n",
       "    }\n",
       "</style>\n",
       "<table border=\"1\" class=\"dataframe\">\n",
       "  <thead>\n",
       "    <tr style=\"text-align: right;\">\n",
       "      <th></th>\n",
       "      <th>order_id</th>\n",
       "      <th>order_date</th>\n",
       "      <th>ready_to_ship_date</th>\n",
       "      <th>pickup_date</th>\n",
       "      <th>expected_ready_to_ship_date</th>\n",
       "      <th>order_year</th>\n",
       "      <th>order_to_ready</th>\n",
       "      <th>order_to_ready_int</th>\n",
       "      <th>order_weekday</th>\n",
       "      <th>ready_weekday</th>\n",
       "      <th>order_weekday_int</th>\n",
       "      <th>order_to_ready_int_no_weekend</th>\n",
       "      <th>on_truck_scan_date</th>\n",
       "      <th>ship_mode</th>\n",
       "    </tr>\n",
       "  </thead>\n",
       "  <tbody>\n",
       "    <tr>\n",
       "      <th>6</th>\n",
       "      <td>CA-2020-122504</td>\n",
       "      <td>2020-11-07</td>\n",
       "      <td>2020-11-09</td>\n",
       "      <td>2020-11-12</td>\n",
       "      <td>2020-11-09</td>\n",
       "      <td>2020</td>\n",
       "      <td>2 days</td>\n",
       "      <td>2</td>\n",
       "      <td>Saturday</td>\n",
       "      <td>Monday</td>\n",
       "      <td>6</td>\n",
       "      <td>0</td>\n",
       "      <td>2020-11-12</td>\n",
       "      <td>Standard Processing</td>\n",
       "    </tr>\n",
       "    <tr>\n",
       "      <th>13</th>\n",
       "      <td>CA-2020-152737</td>\n",
       "      <td>2020-11-07</td>\n",
       "      <td>2020-11-09</td>\n",
       "      <td>2020-11-12</td>\n",
       "      <td>2020-11-09</td>\n",
       "      <td>2020</td>\n",
       "      <td>2 days</td>\n",
       "      <td>2</td>\n",
       "      <td>Saturday</td>\n",
       "      <td>Monday</td>\n",
       "      <td>6</td>\n",
       "      <td>0</td>\n",
       "      <td>2020-11-12</td>\n",
       "      <td>Standard Processing</td>\n",
       "    </tr>\n",
       "    <tr>\n",
       "      <th>170</th>\n",
       "      <td>CA-2020-117702</td>\n",
       "      <td>2020-11-28</td>\n",
       "      <td>2020-11-30</td>\n",
       "      <td>2020-12-02</td>\n",
       "      <td>2020-11-30</td>\n",
       "      <td>2020</td>\n",
       "      <td>2 days</td>\n",
       "      <td>2</td>\n",
       "      <td>Saturday</td>\n",
       "      <td>Monday</td>\n",
       "      <td>6</td>\n",
       "      <td>0</td>\n",
       "      <td>2020-12-02</td>\n",
       "      <td>Standard Processing</td>\n",
       "    </tr>\n",
       "    <tr>\n",
       "      <th>199</th>\n",
       "      <td>CA-2020-152142</td>\n",
       "      <td>2020-11-14</td>\n",
       "      <td>2020-11-16</td>\n",
       "      <td>2020-11-18</td>\n",
       "      <td>2020-11-16</td>\n",
       "      <td>2020</td>\n",
       "      <td>2 days</td>\n",
       "      <td>2</td>\n",
       "      <td>Saturday</td>\n",
       "      <td>Monday</td>\n",
       "      <td>6</td>\n",
       "      <td>0</td>\n",
       "      <td>2020-11-18</td>\n",
       "      <td>Standard Processing</td>\n",
       "    </tr>\n",
       "  </tbody>\n",
       "</table>\n",
       "</div>"
      ],
      "text/plain": [
       "           order_id  order_date ready_to_ship_date pickup_date  \\\n",
       "6    CA-2020-122504  2020-11-07         2020-11-09  2020-11-12   \n",
       "13   CA-2020-152737  2020-11-07         2020-11-09  2020-11-12   \n",
       "170  CA-2020-117702  2020-11-28         2020-11-30  2020-12-02   \n",
       "199  CA-2020-152142  2020-11-14         2020-11-16  2020-11-18   \n",
       "\n",
       "    expected_ready_to_ship_date  order_year order_to_ready  \\\n",
       "6                    2020-11-09        2020         2 days   \n",
       "13                   2020-11-09        2020         2 days   \n",
       "170                  2020-11-30        2020         2 days   \n",
       "199                  2020-11-16        2020         2 days   \n",
       "\n",
       "     order_to_ready_int order_weekday ready_weekday  order_weekday_int  \\\n",
       "6                     2      Saturday        Monday                  6   \n",
       "13                    2      Saturday        Monday                  6   \n",
       "170                   2      Saturday        Monday                  6   \n",
       "199                   2      Saturday        Monday                  6   \n",
       "\n",
       "     order_to_ready_int_no_weekend on_truck_scan_date            ship_mode  \n",
       "6                                0         2020-11-12  Standard Processing  \n",
       "13                               0         2020-11-12  Standard Processing  \n",
       "170                              0         2020-12-02  Standard Processing  \n",
       "199                              0         2020-11-18  Standard Processing  "
      ]
     },
     "execution_count": 53,
     "metadata": {},
     "output_type": "execute_result"
    }
   ],
   "source": [
    "# exploring if there are instances where the standard processing orders were ready on the same day excluding weekends\n",
    "standard_order_cycle[standard_order_cycle[\"order_to_ready_int_no_weekend\"] == 0]"
   ]
  },
  {
   "attachments": {},
   "cell_type": "markdown",
   "metadata": {},
   "source": [
    "There are 4 instances where the \"order_ready_int_no_weekend\" is 0 days, it will be something to keep in the back of the minds as in step 3 we would be subtracting the delta which we will calculate next.\n",
    "\n",
    "Can we really have a negative \"order_ready_int_no_weekend\"??"
   ]
  },
  {
   "attachments": {},
   "cell_type": "markdown",
   "metadata": {},
   "source": [
    "#### Step 2 : The delta between each ship_mode average"
   ]
  },
  {
   "cell_type": "code",
   "execution_count": 54,
   "metadata": {},
   "outputs": [],
   "source": [
    "# calculating the delta between the averages, this will be used to subract the order_cycle_time_no_weeekends\n",
    "delta = avg_standard_order_cycle - avg_express_order_cycle"
   ]
  },
  {
   "attachments": {},
   "cell_type": "markdown",
   "metadata": {},
   "source": [
    "#### Step 3 : Create new column taking into account the delta\n"
   ]
  },
  {
   "cell_type": "code",
   "execution_count": null,
   "metadata": {},
   "outputs": [],
   "source": [
    "# Subtract the value only for non-Express shipping method\n",
    "mode_order_cycle_kpi[\"expressed_no_weekend\"] = np.where(mode_order_cycle_kpi['ship_mode'] != 'Express', #selecting all non-express orders\n",
    "                                             mode_order_cycle_kpi[\"order_to_ready_int_no_weekend\"] - delta, # subtracting delta from them \n",
    "                                             mode_order_cycle_kpi[\"order_to_ready_int_no_weekend\"]) #for all instances that are express, leave the same values"
   ]
  },
  {
   "cell_type": "code",
   "execution_count": 56,
   "metadata": {},
   "outputs": [
    {
     "data": {
      "text/html": [
       "<div>\n",
       "<style scoped>\n",
       "    .dataframe tbody tr th:only-of-type {\n",
       "        vertical-align: middle;\n",
       "    }\n",
       "\n",
       "    .dataframe tbody tr th {\n",
       "        vertical-align: top;\n",
       "    }\n",
       "\n",
       "    .dataframe thead th {\n",
       "        text-align: right;\n",
       "    }\n",
       "</style>\n",
       "<table border=\"1\" class=\"dataframe\">\n",
       "  <thead>\n",
       "    <tr style=\"text-align: right;\">\n",
       "      <th></th>\n",
       "      <th>expressed_no_weekend</th>\n",
       "      <th>order_to_ready_int_no_weekend</th>\n",
       "      <th>ship_mode</th>\n",
       "    </tr>\n",
       "  </thead>\n",
       "  <tbody>\n",
       "    <tr>\n",
       "      <th>0</th>\n",
       "      <td>3.144571</td>\n",
       "      <td>5</td>\n",
       "      <td>Standard Processing</td>\n",
       "    </tr>\n",
       "    <tr>\n",
       "      <th>1</th>\n",
       "      <td>2.144571</td>\n",
       "      <td>4</td>\n",
       "      <td>Standard Processing</td>\n",
       "    </tr>\n",
       "    <tr>\n",
       "      <th>2</th>\n",
       "      <td>1.000000</td>\n",
       "      <td>1</td>\n",
       "      <td>Express</td>\n",
       "    </tr>\n",
       "    <tr>\n",
       "      <th>3</th>\n",
       "      <td>-0.855429</td>\n",
       "      <td>1</td>\n",
       "      <td>Standard Processing</td>\n",
       "    </tr>\n",
       "    <tr>\n",
       "      <th>4</th>\n",
       "      <td>1.000000</td>\n",
       "      <td>1</td>\n",
       "      <td>Express</td>\n",
       "    </tr>\n",
       "    <tr>\n",
       "      <th>...</th>\n",
       "      <td>...</td>\n",
       "      <td>...</td>\n",
       "      <td>...</td>\n",
       "    </tr>\n",
       "    <tr>\n",
       "      <th>199</th>\n",
       "      <td>-1.855429</td>\n",
       "      <td>0</td>\n",
       "      <td>Standard Processing</td>\n",
       "    </tr>\n",
       "    <tr>\n",
       "      <th>200</th>\n",
       "      <td>3.144571</td>\n",
       "      <td>5</td>\n",
       "      <td>Standard Processing</td>\n",
       "    </tr>\n",
       "    <tr>\n",
       "      <th>201</th>\n",
       "      <td>0.144571</td>\n",
       "      <td>2</td>\n",
       "      <td>Standard Processing</td>\n",
       "    </tr>\n",
       "    <tr>\n",
       "      <th>202</th>\n",
       "      <td>3.000000</td>\n",
       "      <td>3</td>\n",
       "      <td>Express</td>\n",
       "    </tr>\n",
       "    <tr>\n",
       "      <th>203</th>\n",
       "      <td>1.144571</td>\n",
       "      <td>3</td>\n",
       "      <td>Standard Processing</td>\n",
       "    </tr>\n",
       "  </tbody>\n",
       "</table>\n",
       "<p>204 rows × 3 columns</p>\n",
       "</div>"
      ],
      "text/plain": [
       "     expressed_no_weekend  order_to_ready_int_no_weekend            ship_mode\n",
       "0                3.144571                              5  Standard Processing\n",
       "1                2.144571                              4  Standard Processing\n",
       "2                1.000000                              1              Express\n",
       "3               -0.855429                              1  Standard Processing\n",
       "4                1.000000                              1              Express\n",
       "..                    ...                            ...                  ...\n",
       "199             -1.855429                              0  Standard Processing\n",
       "200              3.144571                              5  Standard Processing\n",
       "201              0.144571                              2  Standard Processing\n",
       "202              3.000000                              3              Express\n",
       "203              1.144571                              3  Standard Processing\n",
       "\n",
       "[204 rows x 3 columns]"
      ]
     },
     "execution_count": 56,
     "metadata": {},
     "output_type": "execute_result"
    }
   ],
   "source": [
    "#Investigating if the numbers make sense\n",
    "mode_order_cycle_kpi[[\"expressed_no_weekend\",\"order_to_ready_int_no_weekend\",\"ship_mode\"]]"
   ]
  },
  {
   "attachments": {},
   "cell_type": "markdown",
   "metadata": {},
   "source": [
    "Clearly they dont for the order instances that take 0 days  \"order_to_ready_int_no_weekend\"\n",
    "`i.e. index 199 and 201` \n",
    "\n",
    "\n",
    "**We cant process an order that we have not yet even received**\n",
    "\n"
   ]
  },
  {
   "cell_type": "code",
   "execution_count": 57,
   "metadata": {},
   "outputs": [],
   "source": [
    "# we take the maximum value for each row or replace it with 1 if less than 1 \n",
    "mode_order_cycle_kpi[\"expressed_no_weekend\"] = np.maximum(mode_order_cycle_kpi[\"expressed_no_weekend\"], 1)"
   ]
  },
  {
   "cell_type": "code",
   "execution_count": 58,
   "metadata": {},
   "outputs": [
    {
     "data": {
      "text/html": [
       "<div>\n",
       "<style scoped>\n",
       "    .dataframe tbody tr th:only-of-type {\n",
       "        vertical-align: middle;\n",
       "    }\n",
       "\n",
       "    .dataframe tbody tr th {\n",
       "        vertical-align: top;\n",
       "    }\n",
       "\n",
       "    .dataframe thead th {\n",
       "        text-align: right;\n",
       "    }\n",
       "</style>\n",
       "<table border=\"1\" class=\"dataframe\">\n",
       "  <thead>\n",
       "    <tr style=\"text-align: right;\">\n",
       "      <th></th>\n",
       "      <th>expressed_no_weekend</th>\n",
       "      <th>order_to_ready_int_no_weekend</th>\n",
       "      <th>ship_mode</th>\n",
       "    </tr>\n",
       "  </thead>\n",
       "  <tbody>\n",
       "    <tr>\n",
       "      <th>0</th>\n",
       "      <td>3.144571</td>\n",
       "      <td>5</td>\n",
       "      <td>Standard Processing</td>\n",
       "    </tr>\n",
       "    <tr>\n",
       "      <th>1</th>\n",
       "      <td>2.144571</td>\n",
       "      <td>4</td>\n",
       "      <td>Standard Processing</td>\n",
       "    </tr>\n",
       "    <tr>\n",
       "      <th>2</th>\n",
       "      <td>1.000000</td>\n",
       "      <td>1</td>\n",
       "      <td>Express</td>\n",
       "    </tr>\n",
       "    <tr>\n",
       "      <th>3</th>\n",
       "      <td>1.000000</td>\n",
       "      <td>1</td>\n",
       "      <td>Standard Processing</td>\n",
       "    </tr>\n",
       "    <tr>\n",
       "      <th>4</th>\n",
       "      <td>1.000000</td>\n",
       "      <td>1</td>\n",
       "      <td>Express</td>\n",
       "    </tr>\n",
       "    <tr>\n",
       "      <th>...</th>\n",
       "      <td>...</td>\n",
       "      <td>...</td>\n",
       "      <td>...</td>\n",
       "    </tr>\n",
       "    <tr>\n",
       "      <th>199</th>\n",
       "      <td>1.000000</td>\n",
       "      <td>0</td>\n",
       "      <td>Standard Processing</td>\n",
       "    </tr>\n",
       "    <tr>\n",
       "      <th>200</th>\n",
       "      <td>3.144571</td>\n",
       "      <td>5</td>\n",
       "      <td>Standard Processing</td>\n",
       "    </tr>\n",
       "    <tr>\n",
       "      <th>201</th>\n",
       "      <td>1.000000</td>\n",
       "      <td>2</td>\n",
       "      <td>Standard Processing</td>\n",
       "    </tr>\n",
       "    <tr>\n",
       "      <th>202</th>\n",
       "      <td>3.000000</td>\n",
       "      <td>3</td>\n",
       "      <td>Express</td>\n",
       "    </tr>\n",
       "    <tr>\n",
       "      <th>203</th>\n",
       "      <td>1.144571</td>\n",
       "      <td>3</td>\n",
       "      <td>Standard Processing</td>\n",
       "    </tr>\n",
       "  </tbody>\n",
       "</table>\n",
       "<p>204 rows × 3 columns</p>\n",
       "</div>"
      ],
      "text/plain": [
       "     expressed_no_weekend  order_to_ready_int_no_weekend            ship_mode\n",
       "0                3.144571                              5  Standard Processing\n",
       "1                2.144571                              4  Standard Processing\n",
       "2                1.000000                              1              Express\n",
       "3                1.000000                              1  Standard Processing\n",
       "4                1.000000                              1              Express\n",
       "..                    ...                            ...                  ...\n",
       "199              1.000000                              0  Standard Processing\n",
       "200              3.144571                              5  Standard Processing\n",
       "201              1.000000                              2  Standard Processing\n",
       "202              3.000000                              3              Express\n",
       "203              1.144571                              3  Standard Processing\n",
       "\n",
       "[204 rows x 3 columns]"
      ]
     },
     "execution_count": 58,
     "metadata": {},
     "output_type": "execute_result"
    }
   ],
   "source": [
    "mode_order_cycle_kpi[[\"expressed_no_weekend\",\"order_to_ready_int_no_weekend\",\"ship_mode\"]]"
   ]
  },
  {
   "attachments": {},
   "cell_type": "markdown",
   "metadata": {},
   "source": [
    "Aha looking at the 2 row 199 and 201 , the problem is fixed. "
   ]
  },
  {
   "attachments": {},
   "cell_type": "markdown",
   "metadata": {},
   "source": [
    "#### Step 4: The new KPI based on only Express ship_mode"
   ]
  },
  {
   "cell_type": "code",
   "execution_count": 59,
   "metadata": {},
   "outputs": [
    {
     "data": {
      "text/plain": [
       "1.702629896141888"
      ]
     },
     "execution_count": 59,
     "metadata": {},
     "output_type": "execute_result"
    }
   ],
   "source": [
    "# The new average order_cycle if only express using the column \"expressed_no_weekend\"\n",
    "new_order_cycle_kpi = mode_order_cycle_kpi.expressed_no_weekend._____"
   ]
  },
  {
   "attachments": {},
   "cell_type": "markdown",
   "metadata": {},
   "source": [
    "<details>\n",
    "\n",
    "<summary>Spoiler</summary>\n",
    "\n",
    "```python\n",
    "\n",
    "# The new average order_cycle if only express\n",
    "new_order_cycle_kpi = mode_order_cycle_kpi.expressed_no_weekend.mean()\n",
    "\n",
    "```\n",
    "</details>"
   ]
  },
  {
   "cell_type": "code",
   "execution_count": null,
   "metadata": {},
   "outputs": [],
   "source": [
    "#check the value \n",
    "new_order_cycle_kpi"
   ]
  },
  {
   "attachments": {},
   "cell_type": "markdown",
   "metadata": {},
   "source": [
    "|  **KPIs**                 | **Warehouse Assumption**|  **Without Weekend**|**Prescription Express** |\n",
    "|  -----------              |      -----------        |              ----      |        ----             |\n",
    "|  Order Cycle Time         |          2 days         |         2.80 days  |        1.72 days       |\n"
   ]
  },
  {
   "attachments": {},
   "cell_type": "markdown",
   "metadata": {},
   "source": [
    "## Pickup time with Express shipping\n"
   ]
  },
  {
   "attachments": {},
   "cell_type": "markdown",
   "metadata": {},
   "source": [
    "We now explore the second KPI, the pickup time and try to evaluate the impact of switching to only express orders"
   ]
  },
  {
   "cell_type": "code",
   "execution_count": 60,
   "metadata": {},
   "outputs": [
    {
     "data": {
      "text/html": [
       "<div>\n",
       "<style scoped>\n",
       "    .dataframe tbody tr th:only-of-type {\n",
       "        vertical-align: middle;\n",
       "    }\n",
       "\n",
       "    .dataframe tbody tr th {\n",
       "        vertical-align: top;\n",
       "    }\n",
       "\n",
       "    .dataframe thead th {\n",
       "        text-align: right;\n",
       "    }\n",
       "</style>\n",
       "<table border=\"1\" class=\"dataframe\">\n",
       "  <thead>\n",
       "    <tr style=\"text-align: right;\">\n",
       "      <th></th>\n",
       "      <th>order_id</th>\n",
       "      <th>ready_to_ship_date</th>\n",
       "      <th>pickup_date</th>\n",
       "      <th>order_date</th>\n",
       "      <th>on_truck_scan_date</th>\n",
       "      <th>ship_mode</th>\n",
       "      <th>pickup_time_delta</th>\n",
       "      <th>pickup_time_delta_int</th>\n",
       "      <th>order_weekday</th>\n",
       "      <th>on_truck_weekday</th>\n",
       "      <th>ready_to_ship_weekday</th>\n",
       "      <th>order_weekday_int</th>\n",
       "      <th>ready_to_ship_int</th>\n",
       "      <th>on_truck_int</th>\n",
       "      <th>pickup_time_delta_no_weekend</th>\n",
       "    </tr>\n",
       "  </thead>\n",
       "  <tbody>\n",
       "    <tr>\n",
       "      <th>0</th>\n",
       "      <td>CA-2019-116540</td>\n",
       "      <td>2019-09-02</td>\n",
       "      <td>2019-09-03</td>\n",
       "      <td>2019-09-02</td>\n",
       "      <td>2019-09-03</td>\n",
       "      <td>Express</td>\n",
       "      <td>1 days</td>\n",
       "      <td>1</td>\n",
       "      <td>Monday</td>\n",
       "      <td>Tuesday</td>\n",
       "      <td>Monday</td>\n",
       "      <td>1</td>\n",
       "      <td>1</td>\n",
       "      <td>2</td>\n",
       "      <td>1</td>\n",
       "    </tr>\n",
       "    <tr>\n",
       "      <th>1</th>\n",
       "      <td>CA-2019-129847</td>\n",
       "      <td>2019-09-04</td>\n",
       "      <td>2019-09-04</td>\n",
       "      <td>2019-09-02</td>\n",
       "      <td>2019-09-04</td>\n",
       "      <td>Express</td>\n",
       "      <td>0 days</td>\n",
       "      <td>0</td>\n",
       "      <td>Monday</td>\n",
       "      <td>Wednesday</td>\n",
       "      <td>Wednesday</td>\n",
       "      <td>1</td>\n",
       "      <td>3</td>\n",
       "      <td>3</td>\n",
       "      <td>0</td>\n",
       "    </tr>\n",
       "    <tr>\n",
       "      <th>2</th>\n",
       "      <td>CA-2019-129630</td>\n",
       "      <td>2019-09-04</td>\n",
       "      <td>2019-09-04</td>\n",
       "      <td>2019-09-04</td>\n",
       "      <td>2019-09-04</td>\n",
       "      <td>Express</td>\n",
       "      <td>0 days</td>\n",
       "      <td>0</td>\n",
       "      <td>Wednesday</td>\n",
       "      <td>Wednesday</td>\n",
       "      <td>Wednesday</td>\n",
       "      <td>3</td>\n",
       "      <td>3</td>\n",
       "      <td>3</td>\n",
       "      <td>0</td>\n",
       "    </tr>\n",
       "    <tr>\n",
       "      <th>3</th>\n",
       "      <td>CA-2019-106278</td>\n",
       "      <td>2019-09-05</td>\n",
       "      <td>2019-09-06</td>\n",
       "      <td>2019-09-02</td>\n",
       "      <td>2019-09-06</td>\n",
       "      <td>Standard Processing</td>\n",
       "      <td>1 days</td>\n",
       "      <td>1</td>\n",
       "      <td>Monday</td>\n",
       "      <td>Friday</td>\n",
       "      <td>Thursday</td>\n",
       "      <td>1</td>\n",
       "      <td>4</td>\n",
       "      <td>5</td>\n",
       "      <td>1</td>\n",
       "    </tr>\n",
       "    <tr>\n",
       "      <th>4</th>\n",
       "      <td>CA-2019-158099</td>\n",
       "      <td>2019-09-05</td>\n",
       "      <td>2019-09-06</td>\n",
       "      <td>2019-09-03</td>\n",
       "      <td>2019-09-06</td>\n",
       "      <td>Express</td>\n",
       "      <td>1 days</td>\n",
       "      <td>1</td>\n",
       "      <td>Tuesday</td>\n",
       "      <td>Friday</td>\n",
       "      <td>Thursday</td>\n",
       "      <td>2</td>\n",
       "      <td>4</td>\n",
       "      <td>5</td>\n",
       "      <td>1</td>\n",
       "    </tr>\n",
       "  </tbody>\n",
       "</table>\n",
       "</div>"
      ],
      "text/plain": [
       "         order_id ready_to_ship_date pickup_date  order_date  \\\n",
       "0  CA-2019-116540         2019-09-02  2019-09-03  2019-09-02   \n",
       "1  CA-2019-129847         2019-09-04  2019-09-04  2019-09-02   \n",
       "2  CA-2019-129630         2019-09-04  2019-09-04  2019-09-04   \n",
       "3  CA-2019-106278         2019-09-05  2019-09-06  2019-09-02   \n",
       "4  CA-2019-158099         2019-09-05  2019-09-06  2019-09-03   \n",
       "\n",
       "  on_truck_scan_date            ship_mode pickup_time_delta  \\\n",
       "0         2019-09-03              Express            1 days   \n",
       "1         2019-09-04              Express            0 days   \n",
       "2         2019-09-04              Express            0 days   \n",
       "3         2019-09-06  Standard Processing            1 days   \n",
       "4         2019-09-06              Express            1 days   \n",
       "\n",
       "   pickup_time_delta_int order_weekday on_truck_weekday ready_to_ship_weekday  \\\n",
       "0                      1        Monday          Tuesday                Monday   \n",
       "1                      0        Monday        Wednesday             Wednesday   \n",
       "2                      0     Wednesday        Wednesday             Wednesday   \n",
       "3                      1        Monday           Friday              Thursday   \n",
       "4                      1       Tuesday           Friday              Thursday   \n",
       "\n",
       "   order_weekday_int  ready_to_ship_int  on_truck_int  \\\n",
       "0                  1                  1             2   \n",
       "1                  1                  3             3   \n",
       "2                  3                  3             3   \n",
       "3                  1                  4             5   \n",
       "4                  2                  4             5   \n",
       "\n",
       "   pickup_time_delta_no_weekend  \n",
       "0                             1  \n",
       "1                             0  \n",
       "2                             0  \n",
       "3                             1  \n",
       "4                             1  "
      ]
     },
     "execution_count": 60,
     "metadata": {},
     "output_type": "execute_result"
    }
   ],
   "source": [
    "#Using the pickup_time_kpi dataframe., inspect the head\n",
    "pickup_time_kpi.____"
   ]
  },
  {
   "attachments": {},
   "cell_type": "markdown",
   "metadata": {},
   "source": [
    "<details>\n",
    "\n",
    "<summary>Spoiler</summary>\n",
    "\n",
    "```python\n",
    "\n",
    "#Using the pickup_time_kpi dataframe., inspect the head\n",
    "pickup_time_kpi.head()\n",
    "\n",
    "```\n",
    "</details>"
   ]
  },
  {
   "cell_type": "code",
   "execution_count": 61,
   "metadata": {},
   "outputs": [
    {
     "data": {
      "text/plain": [
       "(204, 15)"
      ]
     },
     "execution_count": 61,
     "metadata": {},
     "output_type": "execute_result"
    }
   ],
   "source": [
    "#check the shape\n",
    "pickup_time_kpi.shape"
   ]
  },
  {
   "attachments": {},
   "cell_type": "markdown",
   "metadata": {},
   "source": [
    "#### Step 1: Splitting by the Ship Mode & Getting Averages"
   ]
  },
  {
   "cell_type": "code",
   "execution_count": 62,
   "metadata": {},
   "outputs": [],
   "source": [
    "# create a subset containing only express orders called express_pickup\n",
    "express_pickup = pickup_time_kpi[pickup_time_kpi[\"ship_mode\"] == \"Express\"]"
   ]
  },
  {
   "cell_type": "code",
   "execution_count": null,
   "metadata": {},
   "outputs": [],
   "source": [
    "# create a subset containing only standard orders called standard_pickup from the \"pickup_time_kpi\" dataframe\n",
    "standard_pickup = pickup_time_kpi[_______[\"ship_mode\"] != \"Express\"]\n"
   ]
  },
  {
   "attachments": {},
   "cell_type": "markdown",
   "metadata": {},
   "source": [
    "<details>\n",
    "\n",
    "<summary>Spoiler</summary>\n",
    "\n",
    "```python\n",
    "\n",
    "# create a subset containing only standard orders called standard_pickup\n",
    "standard_pickup = pickup_time_kpi[pickup_time_kpi[\"ship_mode\"] != \"Express\"]\n",
    "\n",
    "```\n",
    "</details>"
   ]
  },
  {
   "attachments": {},
   "cell_type": "markdown",
   "metadata": {},
   "source": [
    "#### The Average for each ship mode"
   ]
  },
  {
   "cell_type": "code",
   "execution_count": 67,
   "metadata": {},
   "outputs": [
    {
     "data": {
      "text/plain": [
       "0.39622641509433965"
      ]
     },
     "execution_count": 67,
     "metadata": {},
     "output_type": "execute_result"
    }
   ],
   "source": [
    "# calculate the mean pickup time excluding the weekends\n",
    "avg_express_pickup = express_pickup[\"pickup_time_delta_no_weekend\"].mean()"
   ]
  },
  {
   "cell_type": "code",
   "execution_count": 68,
   "metadata": {},
   "outputs": [
    {
     "data": {
      "text/plain": [
       "1.695364238410596"
      ]
     },
     "execution_count": 68,
     "metadata": {},
     "output_type": "execute_result"
    }
   ],
   "source": [
    "# calculate the mean pickup time excluding the weekends\n",
    "avg_standard_pickup = standard_pickup[\"______\"].______()"
   ]
  },
  {
   "attachments": {},
   "cell_type": "markdown",
   "metadata": {},
   "source": [
    "<details>\n",
    "\n",
    "<summary>Spoiler</summary>\n",
    "\n",
    "```python\n",
    "\n",
    "# calculate the mean pickup time excluding the weekends\n",
    "avg_standard_pickup = standard_pickup[\"pickup_time_delta_no_weekend\"].mean()\n",
    "\n",
    "```\n",
    "</details>"
   ]
  },
  {
   "attachments": {},
   "cell_type": "markdown",
   "metadata": {},
   "source": [
    "#### Step 2 : The delta between each ship_mode average\n"
   ]
  },
  {
   "cell_type": "code",
   "execution_count": 69,
   "metadata": {},
   "outputs": [],
   "source": [
    "# calculate the delta for pickup_time by the modes, the difference between the standard and express mode\n",
    "avg_pickup_delta = avg_standard_pickup - _____"
   ]
  },
  {
   "attachments": {},
   "cell_type": "markdown",
   "metadata": {},
   "source": [
    "<details>\n",
    "\n",
    "<summary>Spoiler</summary>\n",
    "\n",
    "```python\n",
    "\n",
    "# calculate the delta for pickup_time by the modes\n",
    "avg_pickup_delta = avg_standard_pickup - avg_express_pickup\n",
    "\n",
    "```\n",
    "</details>"
   ]
  },
  {
   "attachments": {},
   "cell_type": "markdown",
   "metadata": {},
   "source": [
    "#### Step 3 : Create new column taking into account the delta"
   ]
  },
  {
   "cell_type": "code",
   "execution_count": 70,
   "metadata": {},
   "outputs": [],
   "source": [
    "# Subtract the value only for non-Express shipping method\n",
    "pickup_time_kpi[\"expressed_no_weekend\"] = np.where(pickup_time_kpi['_____'] != 'Express', #select orders that the ship_mode is not express\n",
    "                                          pickup_time_kpi[\"pickup_time_delta_no_weekend\"] - ______, # subtract the delta for those orders\n",
    "                                          pickup_time_kpi[\"pickup_time_delta_no_weekend\"]) # keep the express orders values as they"
   ]
  },
  {
   "attachments": {},
   "cell_type": "markdown",
   "metadata": {},
   "source": [
    "<details>\n",
    "\n",
    "<summary>Spoiler</summary>\n",
    "\n",
    "```python\n",
    "\n",
    "# Subtract the value only for non-Express shipping method\n",
    "pickup_time_kpi[\"expressed_no_weekend\"] = np.where(pickup_time_kpi['ship_mode'] != 'Express',\n",
    "                                          pickup_time_kpi[\"pickup_time_delta_no_weekend\"] - avg_pickup_delta,\n",
    "                                          pickup_time_kpi[\"pickup_time_delta_no_weekend\"])\n",
    "\n",
    "```\n",
    "</details>"
   ]
  },
  {
   "cell_type": "code",
   "execution_count": 71,
   "metadata": {},
   "outputs": [
    {
     "data": {
      "text/html": [
       "<div>\n",
       "<style scoped>\n",
       "    .dataframe tbody tr th:only-of-type {\n",
       "        vertical-align: middle;\n",
       "    }\n",
       "\n",
       "    .dataframe tbody tr th {\n",
       "        vertical-align: top;\n",
       "    }\n",
       "\n",
       "    .dataframe thead th {\n",
       "        text-align: right;\n",
       "    }\n",
       "</style>\n",
       "<table border=\"1\" class=\"dataframe\">\n",
       "  <thead>\n",
       "    <tr style=\"text-align: right;\">\n",
       "      <th></th>\n",
       "      <th>expressed_no_weekend</th>\n",
       "      <th>pickup_time_delta_no_weekend</th>\n",
       "      <th>ship_mode</th>\n",
       "    </tr>\n",
       "  </thead>\n",
       "  <tbody>\n",
       "    <tr>\n",
       "      <th>0</th>\n",
       "      <td>1.000000</td>\n",
       "      <td>1</td>\n",
       "      <td>Express</td>\n",
       "    </tr>\n",
       "    <tr>\n",
       "      <th>1</th>\n",
       "      <td>0.000000</td>\n",
       "      <td>0</td>\n",
       "      <td>Express</td>\n",
       "    </tr>\n",
       "    <tr>\n",
       "      <th>2</th>\n",
       "      <td>0.000000</td>\n",
       "      <td>0</td>\n",
       "      <td>Express</td>\n",
       "    </tr>\n",
       "    <tr>\n",
       "      <th>3</th>\n",
       "      <td>-0.299138</td>\n",
       "      <td>1</td>\n",
       "      <td>Standard Processing</td>\n",
       "    </tr>\n",
       "    <tr>\n",
       "      <th>4</th>\n",
       "      <td>1.000000</td>\n",
       "      <td>1</td>\n",
       "      <td>Express</td>\n",
       "    </tr>\n",
       "    <tr>\n",
       "      <th>...</th>\n",
       "      <td>...</td>\n",
       "      <td>...</td>\n",
       "      <td>...</td>\n",
       "    </tr>\n",
       "    <tr>\n",
       "      <th>199</th>\n",
       "      <td>1.000000</td>\n",
       "      <td>1</td>\n",
       "      <td>Express</td>\n",
       "    </tr>\n",
       "    <tr>\n",
       "      <th>200</th>\n",
       "      <td>-0.299138</td>\n",
       "      <td>1</td>\n",
       "      <td>Standard Processing</td>\n",
       "    </tr>\n",
       "    <tr>\n",
       "      <th>201</th>\n",
       "      <td>-0.299138</td>\n",
       "      <td>1</td>\n",
       "      <td>Standard Processing</td>\n",
       "    </tr>\n",
       "    <tr>\n",
       "      <th>202</th>\n",
       "      <td>-0.299138</td>\n",
       "      <td>1</td>\n",
       "      <td>Standard Processing</td>\n",
       "    </tr>\n",
       "    <tr>\n",
       "      <th>203</th>\n",
       "      <td>0.700862</td>\n",
       "      <td>2</td>\n",
       "      <td>Standard Processing</td>\n",
       "    </tr>\n",
       "  </tbody>\n",
       "</table>\n",
       "<p>204 rows × 3 columns</p>\n",
       "</div>"
      ],
      "text/plain": [
       "     expressed_no_weekend  pickup_time_delta_no_weekend            ship_mode\n",
       "0                1.000000                             1              Express\n",
       "1                0.000000                             0              Express\n",
       "2                0.000000                             0              Express\n",
       "3               -0.299138                             1  Standard Processing\n",
       "4                1.000000                             1              Express\n",
       "..                    ...                           ...                  ...\n",
       "199              1.000000                             1              Express\n",
       "200             -0.299138                             1  Standard Processing\n",
       "201             -0.299138                             1  Standard Processing\n",
       "202             -0.299138                             1  Standard Processing\n",
       "203              0.700862                             2  Standard Processing\n",
       "\n",
       "[204 rows x 3 columns]"
      ]
     },
     "execution_count": 71,
     "metadata": {},
     "output_type": "execute_result"
    }
   ],
   "source": [
    "# display the following columns for the pickup_time_df [\"expressed_no_weekend\",\"pickup_time_delta_no_weekend\",\"ship_mode\"]\n",
    "pickup_time_kpi[[\"expressed_no_weekend\",\"pickup_time_delta_no_weekend\",\"ship_mode\"]]"
   ]
  },
  {
   "attachments": {},
   "cell_type": "markdown",
   "metadata": {},
   "source": [
    "We once again have instances where the newly calculated column has negatives, which would not make any sense. So we will set the value to 1."
   ]
  },
  {
   "cell_type": "code",
   "execution_count": 72,
   "metadata": {},
   "outputs": [],
   "source": [
    "# we take the maximum value for each row or replace it with 1 if less than 1 \n",
    "pickup_time_kpi[\"expressed_no_weekend\"] = np.maximum(pickup_time_kpi[\"expressed_no_weekend\"], 1)"
   ]
  },
  {
   "cell_type": "code",
   "execution_count": 73,
   "metadata": {},
   "outputs": [
    {
     "data": {
      "text/html": [
       "<div>\n",
       "<style scoped>\n",
       "    .dataframe tbody tr th:only-of-type {\n",
       "        vertical-align: middle;\n",
       "    }\n",
       "\n",
       "    .dataframe tbody tr th {\n",
       "        vertical-align: top;\n",
       "    }\n",
       "\n",
       "    .dataframe thead th {\n",
       "        text-align: right;\n",
       "    }\n",
       "</style>\n",
       "<table border=\"1\" class=\"dataframe\">\n",
       "  <thead>\n",
       "    <tr style=\"text-align: right;\">\n",
       "      <th></th>\n",
       "      <th>expressed_no_weekend</th>\n",
       "      <th>pickup_time_delta_no_weekend</th>\n",
       "      <th>ship_mode</th>\n",
       "    </tr>\n",
       "  </thead>\n",
       "  <tbody>\n",
       "    <tr>\n",
       "      <th>0</th>\n",
       "      <td>1.0</td>\n",
       "      <td>1</td>\n",
       "      <td>Express</td>\n",
       "    </tr>\n",
       "    <tr>\n",
       "      <th>1</th>\n",
       "      <td>1.0</td>\n",
       "      <td>0</td>\n",
       "      <td>Express</td>\n",
       "    </tr>\n",
       "    <tr>\n",
       "      <th>2</th>\n",
       "      <td>1.0</td>\n",
       "      <td>0</td>\n",
       "      <td>Express</td>\n",
       "    </tr>\n",
       "    <tr>\n",
       "      <th>3</th>\n",
       "      <td>1.0</td>\n",
       "      <td>1</td>\n",
       "      <td>Standard Processing</td>\n",
       "    </tr>\n",
       "    <tr>\n",
       "      <th>4</th>\n",
       "      <td>1.0</td>\n",
       "      <td>1</td>\n",
       "      <td>Express</td>\n",
       "    </tr>\n",
       "    <tr>\n",
       "      <th>...</th>\n",
       "      <td>...</td>\n",
       "      <td>...</td>\n",
       "      <td>...</td>\n",
       "    </tr>\n",
       "    <tr>\n",
       "      <th>199</th>\n",
       "      <td>1.0</td>\n",
       "      <td>1</td>\n",
       "      <td>Express</td>\n",
       "    </tr>\n",
       "    <tr>\n",
       "      <th>200</th>\n",
       "      <td>1.0</td>\n",
       "      <td>1</td>\n",
       "      <td>Standard Processing</td>\n",
       "    </tr>\n",
       "    <tr>\n",
       "      <th>201</th>\n",
       "      <td>1.0</td>\n",
       "      <td>1</td>\n",
       "      <td>Standard Processing</td>\n",
       "    </tr>\n",
       "    <tr>\n",
       "      <th>202</th>\n",
       "      <td>1.0</td>\n",
       "      <td>1</td>\n",
       "      <td>Standard Processing</td>\n",
       "    </tr>\n",
       "    <tr>\n",
       "      <th>203</th>\n",
       "      <td>1.0</td>\n",
       "      <td>2</td>\n",
       "      <td>Standard Processing</td>\n",
       "    </tr>\n",
       "  </tbody>\n",
       "</table>\n",
       "<p>204 rows × 3 columns</p>\n",
       "</div>"
      ],
      "text/plain": [
       "     expressed_no_weekend  pickup_time_delta_no_weekend            ship_mode\n",
       "0                     1.0                             1              Express\n",
       "1                     1.0                             0              Express\n",
       "2                     1.0                             0              Express\n",
       "3                     1.0                             1  Standard Processing\n",
       "4                     1.0                             1              Express\n",
       "..                    ...                           ...                  ...\n",
       "199                   1.0                             1              Express\n",
       "200                   1.0                             1  Standard Processing\n",
       "201                   1.0                             1  Standard Processing\n",
       "202                   1.0                             1  Standard Processing\n",
       "203                   1.0                             2  Standard Processing\n",
       "\n",
       "[204 rows x 3 columns]"
      ]
     },
     "execution_count": 73,
     "metadata": {},
     "output_type": "execute_result"
    }
   ],
   "source": [
    "# display the following columns for the pickup_time_df [\"expressed_no_weekend\",\"pickup_time_delta_no_weekend\",\"ship_mode\"]\n",
    "pickup_time_kpi[[\"___________\",\"pickup_time_delta_no_weekend\",\"ship_mode\"]]"
   ]
  },
  {
   "attachments": {},
   "cell_type": "markdown",
   "metadata": {},
   "source": [
    "<details>\n",
    "\n",
    "<summary>Spoiler</summary>\n",
    "\n",
    "```python\n",
    "\n",
    "# display the following columns for the pickup_time_df [\"expressed_no_weekend\",\"pickup_time_delta_no_weekend\",\"ship_mode\"]\n",
    "pickup_time_kpi[[\"expressed_no_weekend\",\"pickup_time_delta_no_weekend\",\"ship_mode\"]]\n",
    "\n",
    "```\n",
    "</details>"
   ]
  },
  {
   "attachments": {},
   "cell_type": "markdown",
   "metadata": {},
   "source": [
    "#### Step 4: The new KPI based on only Express ship_mode"
   ]
  },
  {
   "cell_type": "code",
   "execution_count": 74,
   "metadata": {},
   "outputs": [
    {
     "data": {
      "text/plain": [
       "1.0461291476480634"
      ]
     },
     "execution_count": 74,
     "metadata": {},
     "output_type": "execute_result"
    }
   ],
   "source": [
    "# The new average order_cycle if only express using the column \"expressed_no_weekend\"\n",
    "new_pickup_time_kpi = pickup_time_kpi[\"_____\"].____"
   ]
  },
  {
   "attachments": {},
   "cell_type": "markdown",
   "metadata": {},
   "source": [
    "<details>\n",
    "\n",
    "<summary>Spoiler</summary>\n",
    "\n",
    "```python\n",
    "\n",
    "# The new average order_cycle if only express using the column \"expressed_no_weekend\"\n",
    "pickup_time_kpi[\"expressed_no_weekend\"].mean()\n",
    "\n",
    "```\n",
    "</details>"
   ]
  },
  {
   "cell_type": "code",
   "execution_count": null,
   "metadata": {},
   "outputs": [],
   "source": [
    "new_pickup_time_kpi "
   ]
  },
  {
   "attachments": {},
   "cell_type": "markdown",
   "metadata": {},
   "source": [
    "|  **KPIs**                 | **Warehouse Assumption**|  **Without Weekend**|**Prescription Express** |\n",
    "|  -----------              |      -----------        |              ----      |        ----             |\n",
    "|  Order Cycle Time         |          2 days         |         2.80 days  |        1.72 days       |\n",
    "|       Pickup Time         |          1 day          |        1.35 days |      1.05 days       |\n"
   ]
  },
  {
   "attachments": {},
   "cell_type": "markdown",
   "metadata": {},
   "source": [
    "# Delivery time KPI and ship mode\n"
   ]
  },
  {
   "attachments": {},
   "cell_type": "markdown",
   "metadata": {},
   "source": [
    "The final kpi to explore with just the express shipping mode"
   ]
  },
  {
   "attachments": {},
   "cell_type": "markdown",
   "metadata": {},
   "source": [
    "#### Step 1: Splitting by the Ship Mode & Getting Averages"
   ]
  },
  {
   "cell_type": "code",
   "execution_count": 75,
   "metadata": {},
   "outputs": [],
   "source": [
    "# express_shipping is a subset of all orders in the shipping_kpi dataframe that contains express orders only\n",
    "express_shipping = shipping_kpi[shipping_kpi[\"______\"] == \"____\"]"
   ]
  },
  {
   "attachments": {},
   "cell_type": "markdown",
   "metadata": {},
   "source": [
    "<details>\n",
    "\n",
    "<summary>Spoiler</summary>\n",
    "\n",
    "```python\n",
    "\n",
    "# express_shipping is a subset of all orders in the shipping_kpi dataframe that contains express orders only\n",
    "express_shipping = shipping_kpi[shipping_kpi[\"ship_mode\"] == \"Express\"]\n",
    "\n",
    "```\n",
    "</details>"
   ]
  },
  {
   "cell_type": "code",
   "execution_count": 76,
   "metadata": {},
   "outputs": [],
   "source": [
    "# standard_shipping is a subset of all orders in the shipping_kpi dataframe that contains the rest of the orders\n",
    "standard_shipping = ______[______[\"_____\"] != \"Express\"]"
   ]
  },
  {
   "attachments": {},
   "cell_type": "markdown",
   "metadata": {},
   "source": [
    "<details>\n",
    "\n",
    "<summary>Spoiler</summary>\n",
    "\n",
    "```python\n",
    "\n",
    "# standard_shipping is a subset of all orders in the shipping_kpi dataframe that contains the rest of the orders\n",
    "standard_shipping = shipping_kpi[shipping_kpi[\"ship_mode\"] != \"Express\"]\n",
    "\n",
    "```\n",
    "</details>"
   ]
  },
  {
   "attachments": {},
   "cell_type": "markdown",
   "metadata": {},
   "source": [
    "#### The averages for each ship mode"
   ]
  },
  {
   "cell_type": "code",
   "execution_count": 79,
   "metadata": {},
   "outputs": [
    {
     "data": {
      "text/plain": [
       "2.941860465116279"
      ]
     },
     "execution_count": 79,
     "metadata": {},
     "output_type": "execute_result"
    }
   ],
   "source": [
    "# averge delivery times for standard\n",
    "avg_standard_shipping = standard_shipping.package_delivered_int_no_weekend.mean()"
   ]
  },
  {
   "cell_type": "code",
   "execution_count": 80,
   "metadata": {},
   "outputs": [
    {
     "data": {
      "text/plain": [
       "2.8533333333333335"
      ]
     },
     "execution_count": 80,
     "metadata": {},
     "output_type": "execute_result"
    }
   ],
   "source": [
    "# average delivery times for express \n",
    "avg_express_shipping = express_shipping.package_delivered_int_no_weekend.mean()"
   ]
  },
  {
   "attachments": {},
   "cell_type": "markdown",
   "metadata": {},
   "source": [
    "#### Step 2 : The delta between each ship mode average"
   ]
  },
  {
   "cell_type": "code",
   "execution_count": 82,
   "metadata": {},
   "outputs": [],
   "source": [
    "avg_shipping_delta = _____ - avg_express_shipping"
   ]
  },
  {
   "attachments": {},
   "cell_type": "markdown",
   "metadata": {},
   "source": [
    "<details>\n",
    "\n",
    "<summary>Spoiler</summary>\n",
    "\n",
    "```python\n",
    "\n",
    "avg_shipping_delta = avg_standard_shipping - avg_express_shipping\n",
    "               \n",
    "```\n",
    "</details>"
   ]
  },
  {
   "attachments": {},
   "cell_type": "markdown",
   "metadata": {},
   "source": [
    "#### Step 3 : Create new column taking into account the delta\n"
   ]
  },
  {
   "cell_type": "code",
   "execution_count": 83,
   "metadata": {},
   "outputs": [
    {
     "data": {
      "text/html": [
       "<div>\n",
       "<style scoped>\n",
       "    .dataframe tbody tr th:only-of-type {\n",
       "        vertical-align: middle;\n",
       "    }\n",
       "\n",
       "    .dataframe tbody tr th {\n",
       "        vertical-align: top;\n",
       "    }\n",
       "\n",
       "    .dataframe thead th {\n",
       "        text-align: right;\n",
       "    }\n",
       "</style>\n",
       "<table border=\"1\" class=\"dataframe\">\n",
       "  <thead>\n",
       "    <tr style=\"text-align: right;\">\n",
       "      <th></th>\n",
       "      <th>expressed_no_weekend</th>\n",
       "      <th>package_delivered_int_no_weekend</th>\n",
       "      <th>ship_mode</th>\n",
       "    </tr>\n",
       "  </thead>\n",
       "  <tbody>\n",
       "    <tr>\n",
       "      <th>0</th>\n",
       "      <td>4.000000</td>\n",
       "      <td>4</td>\n",
       "      <td>Express</td>\n",
       "    </tr>\n",
       "    <tr>\n",
       "      <th>1</th>\n",
       "      <td>2.700862</td>\n",
       "      <td>4</td>\n",
       "      <td>Standard Processing</td>\n",
       "    </tr>\n",
       "    <tr>\n",
       "      <th>2</th>\n",
       "      <td>3.700862</td>\n",
       "      <td>5</td>\n",
       "      <td>Standard Processing</td>\n",
       "    </tr>\n",
       "    <tr>\n",
       "      <th>3</th>\n",
       "      <td>1.700862</td>\n",
       "      <td>3</td>\n",
       "      <td>Standard Processing</td>\n",
       "    </tr>\n",
       "    <tr>\n",
       "      <th>4</th>\n",
       "      <td>2.700862</td>\n",
       "      <td>4</td>\n",
       "      <td>Standard Processing</td>\n",
       "    </tr>\n",
       "    <tr>\n",
       "      <th>...</th>\n",
       "      <td>...</td>\n",
       "      <td>...</td>\n",
       "      <td>...</td>\n",
       "    </tr>\n",
       "    <tr>\n",
       "      <th>328</th>\n",
       "      <td>3.700862</td>\n",
       "      <td>5</td>\n",
       "      <td>Standard Processing</td>\n",
       "    </tr>\n",
       "    <tr>\n",
       "      <th>329</th>\n",
       "      <td>2.700862</td>\n",
       "      <td>4</td>\n",
       "      <td>Standard Processing</td>\n",
       "    </tr>\n",
       "    <tr>\n",
       "      <th>330</th>\n",
       "      <td>2.000000</td>\n",
       "      <td>2</td>\n",
       "      <td>Express</td>\n",
       "    </tr>\n",
       "    <tr>\n",
       "      <th>331</th>\n",
       "      <td>1.000000</td>\n",
       "      <td>2</td>\n",
       "      <td>Standard Processing</td>\n",
       "    </tr>\n",
       "    <tr>\n",
       "      <th>332</th>\n",
       "      <td>1.000000</td>\n",
       "      <td>2</td>\n",
       "      <td>Standard Processing</td>\n",
       "    </tr>\n",
       "  </tbody>\n",
       "</table>\n",
       "<p>333 rows × 3 columns</p>\n",
       "</div>"
      ],
      "text/plain": [
       "     expressed_no_weekend  package_delivered_int_no_weekend  \\\n",
       "0                4.000000                                 4   \n",
       "1                2.700862                                 4   \n",
       "2                3.700862                                 5   \n",
       "3                1.700862                                 3   \n",
       "4                2.700862                                 4   \n",
       "..                    ...                               ...   \n",
       "328              3.700862                                 5   \n",
       "329              2.700862                                 4   \n",
       "330              2.000000                                 2   \n",
       "331              1.000000                                 2   \n",
       "332              1.000000                                 2   \n",
       "\n",
       "               ship_mode  \n",
       "0                Express  \n",
       "1    Standard Processing  \n",
       "2    Standard Processing  \n",
       "3    Standard Processing  \n",
       "4    Standard Processing  \n",
       "..                   ...  \n",
       "328  Standard Processing  \n",
       "329  Standard Processing  \n",
       "330              Express  \n",
       "331  Standard Processing  \n",
       "332  Standard Processing  \n",
       "\n",
       "[333 rows x 3 columns]"
      ]
     },
     "execution_count": 83,
     "metadata": {},
     "output_type": "execute_result"
    }
   ],
   "source": [
    "# Subtract the value only for non-Express shipping method\n",
    "shipping_kpi[\"expressed_no_weekend\"] = np.where(_______['ship_mode'] != 'Express', #select orders that the ship_mode is not express\n",
    "                                       _______[\"package_delivered_int_no_weekend\"] - ______, # subtract the delta for those orders\n",
    "                                       _______[\"package_delivered_int_no_weekend\"]) # keep the express values as they are\n"
   ]
  },
  {
   "attachments": {},
   "cell_type": "markdown",
   "metadata": {},
   "source": [
    "<details>\n",
    "\n",
    "<summary>Spoiler</summary>\n",
    "\n",
    "```python\n",
    "\n",
    "# Subtract the value only for non-Express shipping method\n",
    "shipping_kpi[\"expressed_no_weekend\"] = np.where(shipping_kpi['ship_mode'] != 'Express', #select orders that the ship_mode is not express\n",
    "                                       shipping_kpi[\"package_delivered_int_no_weekend\"] - avg_shipping_delta, # subtract the delta for those orders\n",
    "                                       shipping_kpi[\"package_delivered_int_no_weekend\"]) # keep the express values as they are\n",
    "               \n",
    "```\n",
    "</details>"
   ]
  },
  {
   "cell_type": "code",
   "execution_count": null,
   "metadata": {},
   "outputs": [],
   "source": [
    "# we take the maximum value for each row in the new column \"expressed_no_weekend\" or replace it with 1 if less than 1 \n",
    "shipping_kpi[\"expressed_no_weekend\"] = np.maximum(shipping_kpi[\"______\"], 1)\n"
   ]
  },
  {
   "attachments": {},
   "cell_type": "markdown",
   "metadata": {},
   "source": [
    "<details>\n",
    "\n",
    "<summary>Answer</summary>\n",
    "\n",
    "```python\n",
    "\n",
    "# we take the maximum value for each row in the new column \"expressed_no_weekend\" or replace it with 1 if less than 1 \n",
    "shipping_kpi[\"expressed_no_weekend\"] = np.maximum(shipping_kpi[\"expressed_no_weekend\"], 1)\n",
    "               \n",
    "```\n",
    "</details>"
   ]
  },
  {
   "cell_type": "code",
   "execution_count": null,
   "metadata": {},
   "outputs": [],
   "source": [
    "# displaying the columns to get an overview\n",
    "shipping_kpi[[\"expressed_no_weekend\",\"package_delivered_int_no_weekend\",\"ship_mode\"]]"
   ]
  },
  {
   "attachments": {},
   "cell_type": "markdown",
   "metadata": {},
   "source": [
    "#### Step 4: The new KPI based on only Express ship_mode"
   ]
  },
  {
   "cell_type": "code",
   "execution_count": 84,
   "metadata": {},
   "outputs": [
    {
     "data": {
      "text/plain": [
       "2.0251579831737274"
      ]
     },
     "execution_count": 84,
     "metadata": {},
     "output_type": "execute_result"
    }
   ],
   "source": [
    "new_shipping_kpi = shipping_kpi[\"expressed_no_weekend\"].mean()"
   ]
  },
  {
   "cell_type": "code",
   "execution_count": null,
   "metadata": {},
   "outputs": [],
   "source": [
    "new_shipping_kpi"
   ]
  },
  {
   "attachments": {},
   "cell_type": "markdown",
   "metadata": {},
   "source": [
    "|  **KPIs**                 | **Warehouse Assumption**|  **Without Weekend**|**Prescription Express** |\n",
    "|  -----------              |      -----------        |              ----      |        ----             |\n",
    "|  Order Cycle Time         |          2 days         |         2.80 days  |        1.72 days       |\n",
    "|       Pickup Time         |          1 day          |        1.35 days |      1.05 days       |\n",
    "| Delivery Time             |          3 days         |         2.92 days   |       2.03 days       |\n"
   ]
  },
  {
   "attachments": {},
   "cell_type": "markdown",
   "metadata": {},
   "source": [
    "# Bringing it all together"
   ]
  },
  {
   "cell_type": "code",
   "execution_count": 85,
   "metadata": {},
   "outputs": [],
   "source": [
    "# Order_cycle_time + pickup_time + delivery_time\n",
    "new_order_lead_time_kpi = new_order_cycle_kpi +  new_pickup_time_kpi + new_shipping_kpi "
   ]
  },
  {
   "cell_type": "code",
   "execution_count": 86,
   "metadata": {},
   "outputs": [
    {
     "data": {
      "text/plain": [
       "4.8"
      ]
     },
     "execution_count": 86,
     "metadata": {},
     "output_type": "execute_result"
    }
   ],
   "source": [
    "new_order_lead_time_kpi"
   ]
  },
  {
   "attachments": {},
   "cell_type": "markdown",
   "metadata": {},
   "source": [
    "# Final outlook on the KPIs "
   ]
  },
  {
   "attachments": {},
   "cell_type": "markdown",
   "metadata": {},
   "source": [
    "|  **KPIs**                 | **Warehouse Assumption**| **Data Driven Reality**| **Without Weekend**|**Prescription Daily Trucks**|**Prescription Express** |\n",
    "|  -----------              |      -----------        |        -----------     |       ----         |    ----                     |        ----             |\n",
    "|  Order Cycle Time         |          2 days         |       4.18 days        |         2.80 days  | 2.80 days                            |         1.72 days       |\n",
    "|       Pickup Time         |          1 day          |       1.57 days        |          1.35 days |0.74 days|         1.05 days       |\n",
    "| Delivery Time             |          3 days         |       4.6 days         |        2.92 days   | 2.92 days                            |         2.03 days       |\n",
    "|     Order Lead Time       |  2 + 3(delivery) =5 days|       10.87 days       |          7.39 days |        6.46 days                     |         4.8 days        |\n"
   ]
  },
  {
   "attachments": {},
   "cell_type": "markdown",
   "metadata": {},
   "source": [
    "You have now managed to:\n",
    "\n",
    "- Explore the data & Prepped it.\n",
    "\n",
    "- Perform Descriptive Analytics : the WHAT\n",
    "\n",
    "- Perform Diagnostic Analytics : the WHY\n",
    "\n",
    "- Realized it is an interative process for all the above\n",
    "\n",
    "- And now Precriptive Analytics.\n",
    "\n",
    "**What's left?** \n",
    "\n",
    "Well bringing it all together, cherry pick the graphs that you think will best showcase and emphasize your findings and help in telling your story "
   ]
  },
  {
   "cell_type": "markdown",
   "metadata": {},
   "source": []
  }
 ],
 "metadata": {
  "kernelspec": {
   "display_name": "nf_athena",
   "language": "python",
   "name": "python3"
  },
  "language_info": {
   "codemirror_mode": {
    "name": "ipython",
    "version": 3
   },
   "file_extension": ".py",
   "mimetype": "text/x-python",
   "name": "python",
   "nbconvert_exporter": "python",
   "pygments_lexer": "ipython3",
   "version": "3.8.16"
  },
  "orig_nbformat": 4
 },
 "nbformat": 4,
 "nbformat_minor": 2
}
