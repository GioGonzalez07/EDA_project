{
 "cells": [
  {
   "attachments": {},
   "cell_type": "markdown",
   "metadata": {},
   "source": [
    "# Muesli Project - Data Preparation"
   ]
  },
  {
   "attachments": {},
   "cell_type": "markdown",
   "metadata": {},
   "source": [
    "**WHY DATA PREPARATION?** <br>\n",
    "Data preparation is important because it ensures data quality, facilitates data integration and feature engineering, handles missing data, reduces data dimensionality, and ensures compatibility with analysis or modeling techniques. By investing time and effort in data preparation, you can enhance the accuracy, reliability, and effectiveness of your data analysis."
   ]
  },
  {
   "attachments": {},
   "cell_type": "markdown",
   "metadata": {},
   "source": [
    "**OBJECTIVE OF THIS NOTEBOOK** <br>\n",
    "1. Load the provided data into pandas and perform data preparation steps to describe what data exists including checking for duplicates, identify missing values and any outliers.\n",
    "2. Prepare your data for further analysis."
   ]
  },
  {
   "attachments": {},
   "cell_type": "markdown",
   "metadata": {},
   "source": [
    "#### Let's start by importing the necessary libraries"
   ]
  },
  {
   "cell_type": "code",
   "execution_count": null,
   "metadata": {},
   "outputs": [],
   "source": [
    "# import the necessary library you need for your data preparation: pandas package\n",
    "import pandas as pd\n",
    "\n",
    "# to be able to display the plots directly in the jupyter notebook:\n",
    "%matplotlib inline "
   ]
  },
  {
   "attachments": {},
   "cell_type": "markdown",
   "metadata": {},
   "source": [
    "## Data Collection\n",
    "\n",
    "Data can come from internal and external data sources.\n",
    "\n",
    "In our case, the warehouse manager of the muesli distribution company provided us with a spreadsheet containing four sheets:\n",
    "- Orders\n",
    "- Campaign Data\n",
    "- Order Process Data\n",
    "- InternData Study"
   ]
  },
  {
   "attachments": {},
   "cell_type": "markdown",
   "metadata": {},
   "source": [
    "In this step, we want to explore our data to better understand what it contains. We will look for inconsistencies, anomalies, missing values and other issues that we might need to address."
   ]
  },
  {
   "attachments": {},
   "cell_type": "markdown",
   "metadata": {},
   "source": [
    "### Reading in data\n",
    "\n",
    "Before we can start with the data preparation, we need to read in the data first. Luckily pandas provides us with `read` functions."
   ]
  },
  {
   "cell_type": "code",
   "execution_count": null,
   "metadata": {},
   "outputs": [],
   "source": [
    "# Remember to mount your drive first and replace the path below with the path to your data files\n",
    "from google.colab import drive\n",
    "drive.mount('/content/drive')"
   ]
  },
  {
   "attachments": {},
   "cell_type": "markdown",
   "metadata": {},
   "source": [
    "Based on the file types your data is stored in, run the correct code below to read in the data."
   ]
  },
  {
   "cell_type": "code",
   "execution_count": null,
   "metadata": {},
   "outputs": [],
   "source": [
    "# read in excel\n",
    "orders = pd.read_excel('../data/5 - Muesli Project raw data.xlsx', 0)\n",
    "campaign = pd.read_excel('../data/5 - Muesli Project raw data.xlsx', 1)\n",
    "order_process = pd.read_excel('../data/5 - Muesli Project raw data.xlsx', 2)\n",
    "intern_study = pd.read_excel('../data/5 - Muesli Project raw data.xlsx', 3)"
   ]
  },
  {
   "cell_type": "code",
   "execution_count": null,
   "metadata": {},
   "outputs": [],
   "source": [
    "# read in csv file\n",
    "orders = pd.read_csv('../data/orders.csv')\n",
    "order_process = pd.read_csv('../data/order_process_data.csv')\n",
    "intern_study = pd.read_csv('../data/intern_data_study.csv')\n",
    "campaign = pd.read_csv('../data/campaign_data.csv')"
   ]
  },
  {
   "attachments": {},
   "cell_type": "markdown",
   "metadata": {},
   "source": [
    "### Explore the data: First Look\n",
    "\n",
    "What information do you have in your datasets? What needs to be done to prepare the data for the upcoming analysis?"
   ]
  },
  {
   "attachments": {},
   "cell_type": "markdown",
   "metadata": {},
   "source": [
    "Use `head()` to look at the first rows of the tables."
   ]
  },
  {
   "cell_type": "code",
   "execution_count": null,
   "metadata": {},
   "outputs": [],
   "source": [
    "orders.head(2)"
   ]
  },
  {
   "cell_type": "code",
   "execution_count": null,
   "metadata": {},
   "outputs": [],
   "source": [
    "order_process.head(2)"
   ]
  },
  {
   "cell_type": "code",
   "execution_count": null,
   "metadata": {},
   "outputs": [],
   "source": [
    "intern_study.head(2)"
   ]
  },
  {
   "cell_type": "code",
   "execution_count": null,
   "metadata": {},
   "outputs": [],
   "source": [
    "campaign.head(2)"
   ]
  },
  {
   "attachments": {},
   "cell_type": "markdown",
   "metadata": {},
   "source": [
    "Use `tail()` to look at the last rows of the table."
   ]
  },
  {
   "cell_type": "code",
   "execution_count": null,
   "metadata": {},
   "outputs": [],
   "source": [
    "orders.tail()"
   ]
  },
  {
   "cell_type": "code",
   "execution_count": null,
   "metadata": {},
   "outputs": [],
   "source": [
    "order_process.tail()"
   ]
  },
  {
   "cell_type": "code",
   "execution_count": null,
   "metadata": {},
   "outputs": [],
   "source": [
    "intern_study.tail()"
   ]
  },
  {
   "cell_type": "code",
   "execution_count": null,
   "metadata": {},
   "outputs": [],
   "source": [
    "campaign.tail()"
   ]
  },
  {
   "attachments": {},
   "cell_type": "markdown",
   "metadata": {},
   "source": [
    "**Question:**\n",
    "- How many datasets do you have?\n",
    "- Provide a description of what each table is about.\n",
    "\n",
    "Create a text block below and answer the questions."
   ]
  },
  {
   "attachments": {},
   "cell_type": "markdown",
   "metadata": {},
   "source": [
    "<details><summary>\n",
    "Click here for the answers:\n",
    "</summary>\n",
    "\n",
    "You have four datasets:\n",
    "- The orders table gives you an overview of who ordered what when, and has in general a lot of information in it, including Sales and Profit.\n",
    "- The order process table gives you information on which order was received when and was loaded onto a truck when; additional information on ship mode.\n",
    "- The intern study data gives information on when a particular order was ready for shipping and when it actually was picked up (loaded onto the truck).\n",
    "- The campaign data gives information on when an order arrived at the customer (that is when the customer scanned the QR code on the package).\n",
    "\n",
    "</details>"
   ]
  },
  {
   "attachments": {},
   "cell_type": "markdown",
   "metadata": {},
   "source": [
    "Use the `shape` attribute to look at the dimensions of each dataframe."
   ]
  },
  {
   "cell_type": "code",
   "execution_count": null,
   "metadata": {},
   "outputs": [],
   "source": [
    "orders.shape"
   ]
  },
  {
   "cell_type": "code",
   "execution_count": null,
   "metadata": {},
   "outputs": [],
   "source": [
    "order_process.______"
   ]
  },
  {
   "cell_type": "code",
   "execution_count": null,
   "metadata": {},
   "outputs": [],
   "source": [
    "intern_study._______"
   ]
  },
  {
   "cell_type": "code",
   "execution_count": null,
   "metadata": {},
   "outputs": [],
   "source": [
    "campaign.______"
   ]
  },
  {
   "attachments": {},
   "cell_type": "markdown",
   "metadata": {},
   "source": [
    "Use the `columns` attribute to get the column names of each dataframe."
   ]
  },
  {
   "cell_type": "code",
   "execution_count": null,
   "metadata": {},
   "outputs": [],
   "source": [
    "orders._____"
   ]
  },
  {
   "cell_type": "code",
   "execution_count": null,
   "metadata": {},
   "outputs": [],
   "source": [
    "order_process.______"
   ]
  },
  {
   "cell_type": "code",
   "execution_count": null,
   "metadata": {},
   "outputs": [],
   "source": [
    "intern_study._______"
   ]
  },
  {
   "cell_type": "code",
   "execution_count": null,
   "metadata": {},
   "outputs": [],
   "source": [
    "campaign._______"
   ]
  },
  {
   "attachments": {},
   "cell_type": "markdown",
   "metadata": {},
   "source": [
    "**Questions:**\n",
    "- How big are the datasets in terms of rows and columns?\n",
    "- Can you see any problems with the column names?\n",
    "- Can you already spot some columns that don't really provide any useful information?\n",
    "\n",
    "Create a text block below and answer the questions."
   ]
  },
  {
   "attachments": {},
   "cell_type": "markdown",
   "metadata": {},
   "source": [
    "<details><summary>\n",
    "Click here for the answers:\n",
    "</summary>\n",
    "\n",
    "Size:\n",
    "- We can see that our datasets have very different numbers of rows and columns.\n",
    "- The most rows and columns can be found in the orders table (9994, 19).\n",
    "- The intern study table and the campaign table are both relatively small with only around 300 rows.\n",
    "\n",
    "Columns:\n",
    "- Column names are not \"pythonic\" (whitespace between words, upper case, etc.) --> change them in the data cleaning part\n",
    "- Some columns might not be useful, like \"Index\" in the \"Orders\" table or \"Row ID\" in the \"Order Process\" table --> drop them later\n",
    "\n",
    "</details>"
   ]
  },
  {
   "attachments": {},
   "cell_type": "markdown",
   "metadata": {},
   "source": [
    "Use the `info()` method to get more information about the data, including the data types of each column."
   ]
  },
  {
   "cell_type": "code",
   "execution_count": null,
   "metadata": {},
   "outputs": [],
   "source": [
    "orders.info()"
   ]
  },
  {
   "cell_type": "code",
   "execution_count": null,
   "metadata": {},
   "outputs": [],
   "source": [
    "order_process._____"
   ]
  },
  {
   "cell_type": "code",
   "execution_count": null,
   "metadata": {},
   "outputs": [],
   "source": [
    "intern_study._____"
   ]
  },
  {
   "cell_type": "code",
   "execution_count": null,
   "metadata": {},
   "outputs": [],
   "source": [
    "campaign._____"
   ]
  },
  {
   "attachments": {},
   "cell_type": "markdown",
   "metadata": {},
   "source": [
    "Use `describe()` to get some basic statistics about your data."
   ]
  },
  {
   "cell_type": "code",
   "execution_count": null,
   "metadata": {},
   "outputs": [],
   "source": [
    "# use describe on the orders table\n",
    "_______________"
   ]
  },
  {
   "cell_type": "code",
   "execution_count": null,
   "metadata": {},
   "outputs": [],
   "source": [
    "# use describe on the order_process table\n",
    "_______________"
   ]
  },
  {
   "cell_type": "code",
   "execution_count": null,
   "metadata": {},
   "outputs": [],
   "source": [
    "# use describe on the intern_study table\n",
    "_______________"
   ]
  },
  {
   "cell_type": "code",
   "execution_count": null,
   "metadata": {},
   "outputs": [],
   "source": [
    "# use describe on the campaign table\n",
    "_______________"
   ]
  },
  {
   "attachments": {},
   "cell_type": "markdown",
   "metadata": {},
   "source": [
    "**Questions:**\n",
    "- What data types do we have? Are they all as we expect them to be?\n",
    "- What can you see in the basic statistics?\n",
    "\n",
    "Create a text block below and answer the questions."
   ]
  },
  {
   "attachments": {},
   "cell_type": "markdown",
   "metadata": {},
   "source": [
    "<details><summary>\n",
    "Click here for answer:\n",
    "</summary>\n",
    "\n",
    "Data types:\n",
    "- We have a lot of \"object\" data types.\n",
    "- Sales, Quantity, Discount and Profit are all (different) numerical types (as expected).\n",
    "- ONLY from CSV read data: We can also see that all the date columns are of type \"object\" - since later in our analysis we will work with these dates, it will be much more convenient to have them as datetime. We will address this issue in the data transformation part.\n",
    "- From EXCEL read data: Dates are already in datetime format.\n",
    "\n",
    "Basic statistics:\n",
    "- You can see that only for the orders table you can get proper statistical measures like mean, since you need numerical values for that.\n",
    "- Not all values, that are generated, are useful, but it gives you a first overview. We will come back to that later.\n",
    "\n",
    "</details>"
   ]
  },
  {
   "attachments": {},
   "cell_type": "markdown",
   "metadata": {},
   "source": [
    "## Data Cleaning\n",
    "\n",
    "In this part we will address any issues that might need to be dealt with before further analysis. This includes:\n",
    "- Changing/ Dropping columns\n",
    "- Handling missing values\n",
    "- Dealing with duplicates\n",
    "- Checking for outliers"
   ]
  },
  {
   "attachments": {},
   "cell_type": "markdown",
   "metadata": {},
   "source": [
    "### Change column names\n",
    "\n",
    "We saw earlier that the column names are not \"pythonic\".\n",
    "To do this we will use the `str.lower()` function. First, let's call the docstrings with `?` to figure out what this function does."
   ]
  },
  {
   "cell_type": "code",
   "execution_count": null,
   "metadata": {},
   "outputs": [],
   "source": [
    "# use `?` to view the docstring of the function str.lower()\n",
    "str.lower?"
   ]
  },
  {
   "cell_type": "code",
   "execution_count": null,
   "metadata": {},
   "outputs": [],
   "source": [
    "# make all column names lower case\n",
    "orders.columns = orders.columns.str.lower()\n",
    "order_process.columns = order_process.columns.str.lower()\n",
    "intern_study.columns = intern_study.columns.str.lower()\n",
    "campaign.columns = campaign.columns.str.lower()"
   ]
  },
  {
   "attachments": {},
   "cell_type": "markdown",
   "metadata": {},
   "source": [
    "Next, let's fix the spaces in the column names.  \n",
    "For this we will use the `str.replace()` function. Before we do, check the docstring to figure out what this function does."
   ]
  },
  {
   "cell_type": "code",
   "execution_count": null,
   "metadata": {},
   "outputs": [],
   "source": [
    "# use `?` to view the docstring of the function\n",
    "__________"
   ]
  },
  {
   "cell_type": "code",
   "execution_count": null,
   "metadata": {},
   "outputs": [],
   "source": [
    "# replace spaces with underscores\n",
    "orders.columns = orders.columns.str.replace(' ','_')\n",
    "order_process.columns = order_process.columns.str.replace(' ','_')\n",
    "intern_study.columns = intern_study.columns.str.replace(' ','_')\n",
    "campaign.columns = campaign.columns.str.replace(' ','_')"
   ]
  },
  {
   "cell_type": "code",
   "execution_count": null,
   "metadata": {},
   "outputs": [],
   "source": [
    "# replace dash (-) and slash (/) with underscores\n",
    "orders.columns = orders.columns.str.replace(___, ___)\n",
    "orders.columns = orders.columns.str.replace(___/____)"
   ]
  },
  {
   "cell_type": "code",
   "execution_count": null,
   "metadata": {},
   "outputs": [],
   "source": [
    "# check result\n",
    "display(orders.columns)\n",
    "display(order_process.columns)\n",
    "display(intern_study.columns)\n",
    "display(campaign.columns)"
   ]
  },
  {
   "attachments": {},
   "cell_type": "markdown",
   "metadata": {},
   "source": [
    "### Drop unnecessary columns\n",
    "\n",
    "When we first looked at the tables, there were some columns that did not yield any meaning.\n",
    "\n",
    "- For orders table: Index\n",
    "- For order process table: Row ID"
   ]
  },
  {
   "cell_type": "code",
   "execution_count": null,
   "metadata": {},
   "outputs": [],
   "source": [
    "# We specify the column(s) that we want to drop, the axis (1 for column) and with inplace=True we can change the data frame directly\n",
    "orders.drop('index', axis=1, inplace=True)\n",
    "\n",
    "# check result\n",
    "orders.head(2)"
   ]
  },
  {
   "cell_type": "code",
   "execution_count": null,
   "metadata": {},
   "outputs": [],
   "source": [
    "# similar for order_process table and row_id column\n",
    "order_process.drop('row_id', axis=1, inplace=True)\n",
    "\n",
    "# check result\n",
    "order_process.head(2)"
   ]
  },
  {
   "attachments": {},
   "cell_type": "markdown",
   "metadata": {},
   "source": [
    "### Check for Missing Values\n",
    "\n",
    "We also want to check for missing values.\n",
    "\n",
    "This can be done by using `isnull()` in combination with `sum()`."
   ]
  },
  {
   "cell_type": "code",
   "execution_count": null,
   "metadata": {},
   "outputs": [],
   "source": [
    "orders.isnull().sum()"
   ]
  },
  {
   "cell_type": "code",
   "execution_count": null,
   "metadata": {},
   "outputs": [],
   "source": [
    "order_process.________"
   ]
  },
  {
   "cell_type": "code",
   "execution_count": null,
   "metadata": {},
   "outputs": [],
   "source": [
    "intern_study._________"
   ]
  },
  {
   "cell_type": "code",
   "execution_count": null,
   "metadata": {},
   "outputs": [],
   "source": [
    "campaign.___________"
   ]
  },
  {
   "attachments": {},
   "cell_type": "markdown",
   "metadata": {},
   "source": [
    "**Question:**\n",
    "- We have 11 null values in the postal code column of the orders table. How could we handle these missing values?\n",
    "\n",
    "Create a text block below and answer the question."
   ]
  },
  {
   "attachments": {},
   "cell_type": "markdown",
   "metadata": {},
   "source": [
    "<details><summary>\n",
    "Click here for the answer:\n",
    "</summary>\n",
    "\n",
    "- Drop the 11 rows with null values.\n",
    "- Drop the postal code column\n",
    "- Fill the missing values with a plausible value.\n",
    "\n",
    "</details>"
   ]
  },
  {
   "attachments": {},
   "cell_type": "markdown",
   "metadata": {},
   "source": [
    "### Dealing with missing values\n",
    "\n",
    "There are different ways to handle outliers. In our case, we want to fill them, so we need to find out which values are missing exactly and if there is a value, that we can fill in, that makes sense."
   ]
  },
  {
   "attachments": {},
   "cell_type": "markdown",
   "metadata": {},
   "source": [
    "Let's take a look at the rows with the missing values to see if they have something in common"
   ]
  },
  {
   "cell_type": "code",
   "execution_count": null,
   "metadata": {},
   "outputs": [],
   "source": [
    "# We can filter our dataset for the missing values\n",
    "orders.query('postal_code.isnull()==True')"
   ]
  },
  {
   "attachments": {},
   "cell_type": "markdown",
   "metadata": {},
   "source": [
    "All missing values belong to Burlington in Vermont. Let's see if we can find other Burlington, Vermont, in the data.\n",
    "\n",
    "This time we filter for a specific city and state -  why both? Try out what happens if you only filter for Burlington as a city..."
   ]
  },
  {
   "cell_type": "code",
   "execution_count": null,
   "metadata": {},
   "outputs": [],
   "source": [
    "# Filter for Burlington, Vermont\n",
    "orders.query('city==\"Burlington\" and state==\"Vermont\"')"
   ]
  },
  {
   "attachments": {},
   "cell_type": "markdown",
   "metadata": {},
   "source": [
    "Since we do not have any postal codes for Burlington, Vermont, we need to find other resources if we want to have a value for the postal code.\n",
    "\n",
    "An internet search reveals that the most common postal code is: 05401"
   ]
  },
  {
   "cell_type": "code",
   "execution_count": null,
   "metadata": {},
   "outputs": [],
   "source": [
    "# We fill all nan values with the most common postal code for Burlington, Vermont\n",
    "orders.fillna('05401', inplace=True)"
   ]
  },
  {
   "cell_type": "code",
   "execution_count": null,
   "metadata": {},
   "outputs": [],
   "source": [
    "# check result\n",
    "orders.isnull().sum()"
   ]
  },
  {
   "attachments": {},
   "cell_type": "markdown",
   "metadata": {},
   "source": [
    "### Check for duplicates\n",
    "\n",
    "We cannot only check for missing values, but also for duplicates."
   ]
  },
  {
   "cell_type": "code",
   "execution_count": null,
   "metadata": {},
   "outputs": [],
   "source": [
    "orders.duplicated().value_counts()"
   ]
  },
  {
   "cell_type": "code",
   "execution_count": null,
   "metadata": {},
   "outputs": [],
   "source": [
    "order_process.________"
   ]
  },
  {
   "cell_type": "code",
   "execution_count": null,
   "metadata": {},
   "outputs": [],
   "source": [
    "intern_study._________"
   ]
  },
  {
   "cell_type": "code",
   "execution_count": null,
   "metadata": {},
   "outputs": [],
   "source": [
    "campaign.___________"
   ]
  },
  {
   "attachments": {},
   "cell_type": "markdown",
   "metadata": {},
   "source": [
    "**Question:** \n",
    "- Do we have a problem with duplicates in any of the tables?\n",
    "\n",
    "Create a text block below and answer the questions."
   ]
  },
  {
   "attachments": {},
   "cell_type": "markdown",
   "metadata": {},
   "source": [
    "<details><summary>\n",
    "Click here for the answer:\n",
    "</summary>\n",
    "\n",
    "- Yes, in all tables except the campaign data.\n",
    "- We can drop those in the next step.\n",
    "\n",
    "</details>"
   ]
  },
  {
   "attachments": {},
   "cell_type": "markdown",
   "metadata": {},
   "source": [
    "### Drop duplicates\n",
    "\n",
    "We can now drop the duplicates with `drop_duplicates()`. Remember the `inplace=True`!"
   ]
  },
  {
   "cell_type": "code",
   "execution_count": null,
   "metadata": {},
   "outputs": [],
   "source": [
    "# shape before dropping\n",
    "display(orders.shape)\n",
    "display(order_process.shape)\n",
    "display(intern_study.shape)"
   ]
  },
  {
   "cell_type": "code",
   "execution_count": null,
   "metadata": {},
   "outputs": [],
   "source": [
    "orders.drop_duplicates(inplace=____)"
   ]
  },
  {
   "cell_type": "code",
   "execution_count": null,
   "metadata": {},
   "outputs": [],
   "source": [
    "order_process._____________________"
   ]
  },
  {
   "cell_type": "code",
   "execution_count": null,
   "metadata": {},
   "outputs": [],
   "source": [
    "intern_study._____________________"
   ]
  },
  {
   "cell_type": "code",
   "execution_count": null,
   "metadata": {},
   "outputs": [],
   "source": [
    "# check result\n",
    "display(orders.shape)\n",
    "display(order_process.shape)\n",
    "display(intern_study.shape)"
   ]
  },
  {
   "attachments": {},
   "cell_type": "markdown",
   "metadata": {},
   "source": [
    "### Check for Outliers\n",
    "\n",
    "We can check the orders table for potential outliers. We can use the describe method to get an overview of the numerical columns, and to see if any value seems weird.\n",
    "\n",
    "Boxplots can show us how our data is distributed, plus they mark outliers with circles."
   ]
  },
  {
   "cell_type": "code",
   "execution_count": null,
   "metadata": {},
   "outputs": [],
   "source": [
    "# Let's take a look at the basic statistics again, this time rounded to two decimal places\n",
    "orders.describe().round(2)"
   ]
  },
  {
   "attachments": {},
   "cell_type": "markdown",
   "metadata": {},
   "source": [
    "An easy and quick way to identify outliers is by visualising a column's distribution with a boxplot."
   ]
  },
  {
   "cell_type": "code",
   "execution_count": null,
   "metadata": {},
   "outputs": [],
   "source": [
    "orders.boxplot(['sales'])"
   ]
  },
  {
   "cell_type": "code",
   "execution_count": null,
   "metadata": {},
   "outputs": [],
   "source": [
    "orders._______(['profit'])"
   ]
  },
  {
   "cell_type": "code",
   "execution_count": null,
   "metadata": {},
   "outputs": [],
   "source": [
    "orders._______(['quantity'])"
   ]
  },
  {
   "cell_type": "code",
   "execution_count": null,
   "metadata": {},
   "outputs": [],
   "source": [
    "orders._______(['discount'])"
   ]
  },
  {
   "attachments": {},
   "cell_type": "markdown",
   "metadata": {},
   "source": [
    "**Questions:**\n",
    "- What is a boxplot?\n",
    "- Having seen the boxplots for the sales, profit, quantitiy and discount column, were you able to identify outliers?"
   ]
  },
  {
   "attachments": {},
   "cell_type": "markdown",
   "metadata": {},
   "source": [
    "<details><summary>\n",
    "Click here for the answers:\n",
    "</summary>\n",
    "\n",
    "- There are many extreme values/outliers in Sales and Profit.\n",
    "- Quantity and Discount only have a handful of outliers.\n",
    "</details>"
   ]
  },
  {
   "attachments": {},
   "cell_type": "markdown",
   "metadata": {},
   "source": [
    "### Handling Outliers\n",
    "\n",
    "This is one possible way to remove outliers, but keep in mind that removing outliers can distort your data. So, when in doubt, keep them.\n",
    "\n",
    "Let's take the profit column as an example."
   ]
  },
  {
   "cell_type": "code",
   "execution_count": null,
   "metadata": {},
   "outputs": [],
   "source": [
    "orders.shape"
   ]
  },
  {
   "cell_type": "code",
   "execution_count": null,
   "metadata": {},
   "outputs": [],
   "source": [
    "# here we define the lower and upper boundary of the data\n",
    "q_low = orders[\"profit\"].quantile(0.05)\n",
    "q_hi  = orders[\"profit\"].quantile(0.95)\n",
    "\n",
    "# now we can filter the data with these boundaries\n",
    "orders_filtered = orders[(orders[\"profit\"] < q_hi) & (orders[\"profit\"] > q_low)]"
   ]
  },
  {
   "cell_type": "code",
   "execution_count": null,
   "metadata": {},
   "outputs": [],
   "source": [
    "# new shape of the data\n",
    "orders_filtered.shape"
   ]
  },
  {
   "cell_type": "code",
   "execution_count": null,
   "metadata": {},
   "outputs": [],
   "source": [
    "# boxplot again\n",
    "orders_filtered.boxplot('profit')"
   ]
  },
  {
   "attachments": {},
   "cell_type": "markdown",
   "metadata": {},
   "source": [
    "Although we filtered 10% of our data out, we still have a lot of outliers.\n",
    "\n",
    "We will continue working with the original dataset, that is with all the extreme values in it."
   ]
  },
  {
   "attachments": {},
   "cell_type": "markdown",
   "metadata": {},
   "source": [
    "### Check for other inconsistencies\n",
    "\n",
    "Did we get all inconsistencies in the data? Let's take one more look at the data!"
   ]
  },
  {
   "cell_type": "code",
   "execution_count": null,
   "metadata": {},
   "outputs": [],
   "source": [
    "orders.head(2)"
   ]
  },
  {
   "cell_type": "code",
   "execution_count": null,
   "metadata": {},
   "outputs": [],
   "source": [
    "order_process.head(2)"
   ]
  },
  {
   "cell_type": "code",
   "execution_count": null,
   "metadata": {},
   "outputs": [],
   "source": [
    "intern_study.head(2)"
   ]
  },
  {
   "cell_type": "code",
   "execution_count": null,
   "metadata": {},
   "outputs": [],
   "source": [
    "campaign.head(2)"
   ]
  },
  {
   "attachments": {},
   "cell_type": "markdown",
   "metadata": {},
   "source": [
    "**Question:**  \n",
    "\n",
    "- Take a look at the ship mode columns. Can you see anything weird?"
   ]
  },
  {
   "attachments": {},
   "cell_type": "markdown",
   "metadata": {},
   "source": [
    "<details><summary>\n",
    "Click here for the answer:\n",
    "</summary>\n",
    "\n",
    "Yes, in the orders table the ship mode is called differently than in the order process table.\n",
    "\n",
    "</details>"
   ]
  },
  {
   "attachments": {},
   "cell_type": "markdown",
   "metadata": {},
   "source": [
    "Let's take a look at the unique values of the ship mode in orders and order process.\n",
    "Use the `unique()` function on the ship mode in the orders and and order_process table."
   ]
  },
  {
   "cell_type": "code",
   "execution_count": null,
   "metadata": {},
   "outputs": [],
   "source": [
    "# unique ship mode values in the orders table\n",
    "orders['ship_mode'].________"
   ]
  },
  {
   "cell_type": "code",
   "execution_count": null,
   "metadata": {},
   "outputs": [],
   "source": [
    "# compare to unique ship mode values in the order process table\n",
    "order_process['ship_mode'].________"
   ]
  },
  {
   "attachments": {},
   "cell_type": "markdown",
   "metadata": {},
   "source": [
    "There is a difference in the ship mode in these tables. The ship mode in the order process table is in line with the information we have from the warehouse manager.\n",
    "\n",
    "Let's assume that we asked the warehouse manager and we got the information that the ship mode in the orders table is legacy data. It is therefore useless for us.\n",
    "This can happen from time to time that we have information in our tables that is outdated or in some other way not relevant any more.\n",
    "\n",
    "We can now drop this column without losing any vital information."
   ]
  },
  {
   "cell_type": "code",
   "execution_count": null,
   "metadata": {},
   "outputs": [],
   "source": [
    "# drop ship mode in orders\n",
    "orders.drop('ship_mode', axis=1, inplace=True)"
   ]
  },
  {
   "cell_type": "code",
   "execution_count": null,
   "metadata": {},
   "outputs": [],
   "source": [
    "# check result\n",
    "orders.columns"
   ]
  },
  {
   "attachments": {},
   "cell_type": "markdown",
   "metadata": {},
   "source": [
    "## Data Transformation\n",
    "\n",
    "In this step, we will convert the dates from object to datetime (if necessary).\n",
    "\n",
    "Any other data transformation steps will be done later, when we will look into the descriptive analysis."
   ]
  },
  {
   "attachments": {},
   "cell_type": "markdown",
   "metadata": {},
   "source": [
    "### Changing dates\n",
    "\n",
    "ONLY FOR CSV DATA\n",
    "\n",
    "We can convert all date columns into datetime with the help of pandas to_datetime function.\n",
    "\n",
    "Note that we have to specify the format the date is *originally* in - it will be automatically converted into the datetime format. <br>\n",
    "Example: **11/3/2019** in the table orders has the format **'%d/%m/%Y'** and will be turned into **2019-03-11**.\n",
    "\n",
    "Notice the capital **Y** for year, since we have a year with century: **20**19"
   ]
  },
  {
   "cell_type": "code",
   "execution_count": null,
   "metadata": {},
   "outputs": [],
   "source": [
    "# convert object to datetime format\n",
    "orders['order_date'] = pd.to_datetime(orders['order_date'],format='%d/%m/%Y')\n",
    "order_process['order_date'] = pd.to_datetime(order_process['order_date'], format='%d/%m/%Y')\n",
    "order_process['on_truck_scan_date'] = pd.to_datetime(order_process['on_truck_scan_date'], format='%d/%m/%Y')\n",
    "intern_study['ready_to_ship_date'] = pd.to_datetime(intern_study['ready_to_ship_date'], format='%d/%m/%Y')\n",
    "intern_study['pickup_date'] = pd.to_datetime(intern_study['pickup_date'], format='%d/%m/%Y')\n",
    "campaign['arrival_scan_date'] = pd.to_datetime(campaign['arrival_scan_date'], format='%d/%m/%Y')"
   ]
  },
  {
   "attachments": {},
   "cell_type": "markdown",
   "metadata": {},
   "source": [
    "Make sure the transoformation worked as expected by using the `info()` function on all datasets."
   ]
  },
  {
   "cell_type": "code",
   "execution_count": null,
   "metadata": {},
   "outputs": [],
   "source": [
    "# check results\n",
    "orders._____"
   ]
  },
  {
   "cell_type": "code",
   "execution_count": null,
   "metadata": {},
   "outputs": [],
   "source": [
    "# check results\n",
    "order_process._____"
   ]
  },
  {
   "cell_type": "code",
   "execution_count": null,
   "metadata": {},
   "outputs": [],
   "source": [
    "# check results\n",
    "intern_study._____"
   ]
  },
  {
   "cell_type": "code",
   "execution_count": null,
   "metadata": {},
   "outputs": [],
   "source": [
    "# check results\n",
    "campaign._____"
   ]
  },
  {
   "attachments": {},
   "cell_type": "markdown",
   "metadata": {},
   "source": [
    "## Publishing\n",
    "\n",
    "The last step is save our progress and export the data back into csv files. To not lose the old raw files we will change the file names and add `_cleaned`.  \n",
    "Just like reading in data, there are also functions to write data into files. The function we'll use below is called `to_csv()` which saves our datasets to our local drive."
   ]
  },
  {
   "cell_type": "code",
   "execution_count": null,
   "metadata": {},
   "outputs": [],
   "source": [
    "orders.to_csv('../data/orders_cleaned.csv', index=False)\n",
    "order_process.to_csv('../data/order_process_cleaned.csv', index=False)\n",
    "intern_study.to_csv('../data/intern_study_cleaned.csv', index=False)\n",
    "campaign.to_csv('../data/campaign_cleaned.csv', index=False)"
   ]
  },
  {
   "attachments": {},
   "cell_type": "markdown",
   "metadata": {},
   "source": [
    "Good job! This concludes the data preparation part for now. Remember, in reality you will often have to go back and perform tasks like data cleaning or transformation later in your analysis again."
   ]
  }
 ],
 "metadata": {
  "kernelspec": {
   "display_name": "nf_base",
   "language": "python",
   "name": "python3"
  },
  "language_info": {
   "codemirror_mode": {
    "name": "ipython",
    "version": 3
   },
   "file_extension": ".py",
   "mimetype": "text/x-python",
   "name": "python",
   "nbconvert_exporter": "python",
   "pygments_lexer": "ipython3",
   "version": "3.9.12"
  },
  "orig_nbformat": 4
 },
 "nbformat": 4,
 "nbformat_minor": 2
}
