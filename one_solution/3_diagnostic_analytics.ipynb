{
 "cells": [
  {
   "attachments": {},
   "cell_type": "markdown",
   "id": "3909dc7d",
   "metadata": {},
   "source": [
    "# Muesli Project - Diagnostic Analysis "
   ]
  },
  {
   "attachments": {},
   "cell_type": "markdown",
   "id": "f749a536",
   "metadata": {},
   "source": [
    "#### **WHY DIAGNOSTIC ANALYSIS?**\n",
    "\n",
    "Previously we looked into what is happening, using our magnifying glass on the data to perform descriptive analysis.\n",
    "\n",
    "Now we will go one step further to explain what is happening i.e **WHY Is it Happening**\n",
    "\n",
    "This entails that we go even deeper and explore further the key points of interest with the aim to exlpain why this takes place vs what is assumed."
   ]
  },
  {
   "attachments": {},
   "cell_type": "markdown",
   "id": "ed490c9f",
   "metadata": {},
   "source": [
    "---\n",
    "## **How to use the notebook**\n",
    "\n",
    "This is a guided notebook with instances where you will also code to practice what you just covered.\n",
    "There are 3 cases of code blocks that you will come across \n",
    "\n",
    "- Case 1: **complete working code**\n",
    "\n",
    "    - You will come across code blocks that are complete to give you an idea what is being done.\n",
    "\n",
    "- Case 2: **fill in the blanks** :\n",
    "\n",
    "    -  The comments in the code blocks will have hints to help you. \n",
    "\n",
    "    -  If you are completely stuck there is toggle markdown **`Spoiler`** that you can use\n",
    "\n",
    "- Case 3: **completely empty** \n",
    "    -  When a step has been repeated multiple times you will find a codeblock that is with only the comment there to guide you \n",
    "    - If you are completely stuck there is toggle markdown **`Answer`** that you can use\n",
    "\n",
    "Lastly there are scenarios where you have to write down your thoughts, interpretation into a Markdown cell, simply double click on the cell that says:\n",
    "\n",
    "`Your Answer here:`"
   ]
  },
  {
   "attachments": {},
   "cell_type": "markdown",
   "id": "32139432",
   "metadata": {},
   "source": [
    "---\n",
    "## Import Packages"
   ]
  },
  {
   "cell_type": "code",
   "execution_count": 3,
   "id": "b2e77b09",
   "metadata": {},
   "outputs": [],
   "source": [
    "# Package for processing data\n",
    "import pandas as pd\n",
    "pd.set_option('display.max_columns', None)\n",
    "pd.set_option('display.max_rows', None)\n",
    "import numpy as np\n",
    "\n",
    "# Packages for plotting & visualization purposes\n",
    "import matplotlib.pyplot as plt\n",
    "import seaborn as sns\n",
    "\n",
    "# import datetime to allow us to add days to a datetype entry\n",
    "from datetime import datetime\n"
   ]
  },
  {
   "attachments": {},
   "cell_type": "markdown",
   "id": "c5462f33",
   "metadata": {},
   "source": [
    "## Load the data processed in the previous Notebook\n",
    "\n",
    "In the first notebook you prepped the data i.e. cleaning and transforming the data. \n",
    "\n",
    "Use this **\"cleaned data\"** to perform further exploratory data analysis on the muesli data to identify whether the Warehouse manager's assumptions hold true or not with a data-driven approach.\n",
    "\n",
    "The focus will be on the 4 warehouse KPIs defined and saved from the Descriptive section of the project."
   ]
  },
  {
   "cell_type": "code",
   "execution_count": 2,
   "id": "7c569b69",
   "metadata": {},
   "outputs": [
    {
     "ename": "FileNotFoundError",
     "evalue": "[Errno 2] No such file or directory: './data/order_cylce_kpi.csv'",
     "output_type": "error",
     "traceback": [
      "\u001b[0;31m---------------------------------------------------------------------------\u001b[0m",
      "\u001b[0;31mFileNotFoundError\u001b[0m                         Traceback (most recent call last)",
      "\u001b[1;32m/Users/alexandramai/neuefische/internal/ad_alliance_mbc/muesli_project/3_diagnostic_analytics.ipynb Cell 7\u001b[0m line \u001b[0;36m8\n\u001b[1;32m      <a href='vscode-notebook-cell:/Users/alexandramai/neuefische/internal/ad_alliance_mbc/muesli_project/3_diagnostic_analytics.ipynb#W6sZmlsZQ%3D%3D?line=4'>5</a>\u001b[0m campaign \u001b[39m=\u001b[39m pd\u001b[39m.\u001b[39mread_csv(\u001b[39m'\u001b[39m\u001b[39m./data/campaign_cleaned.csv\u001b[39m\u001b[39m'\u001b[39m)\n\u001b[1;32m      <a href='vscode-notebook-cell:/Users/alexandramai/neuefische/internal/ad_alliance_mbc/muesli_project/3_diagnostic_analytics.ipynb#W6sZmlsZQ%3D%3D?line=6'>7</a>\u001b[0m \u001b[39m# read in order_cycle dataframe from last session\u001b[39;00m\n\u001b[0;32m----> <a href='vscode-notebook-cell:/Users/alexandramai/neuefische/internal/ad_alliance_mbc/muesli_project/3_diagnostic_analytics.ipynb#W6sZmlsZQ%3D%3D?line=7'>8</a>\u001b[0m order_cycle \u001b[39m=\u001b[39m pd\u001b[39m.\u001b[39;49mread_csv(\u001b[39m'\u001b[39;49m\u001b[39m./data/order_cylce_kpi.csv\u001b[39;49m\u001b[39m'\u001b[39;49m)\n\u001b[1;32m      <a href='vscode-notebook-cell:/Users/alexandramai/neuefische/internal/ad_alliance_mbc/muesli_project/3_diagnostic_analytics.ipynb#W6sZmlsZQ%3D%3D?line=8'>9</a>\u001b[0m lead_time \u001b[39m=\u001b[39m pd\u001b[39m.\u001b[39mread_csv(\u001b[39m'\u001b[39m\u001b[39m./data/lead_time_kpi.csv\u001b[39m\u001b[39m'\u001b[39m)\n\u001b[1;32m     <a href='vscode-notebook-cell:/Users/alexandramai/neuefische/internal/ad_alliance_mbc/muesli_project/3_diagnostic_analytics.ipynb#W6sZmlsZQ%3D%3D?line=9'>10</a>\u001b[0m shipping \u001b[39m=\u001b[39m pd\u001b[39m.\u001b[39mread_csv(\u001b[39m'\u001b[39m\u001b[39m./data/shipping_kpi.csv\u001b[39m\u001b[39m'\u001b[39m)\n",
      "File \u001b[0;32m/opt/homebrew/Caskroom/miniconda/base/envs/nf_base/lib/python3.9/site-packages/pandas/util/_decorators.py:211\u001b[0m, in \u001b[0;36mdeprecate_kwarg.<locals>._deprecate_kwarg.<locals>.wrapper\u001b[0;34m(*args, **kwargs)\u001b[0m\n\u001b[1;32m    209\u001b[0m     \u001b[39melse\u001b[39;00m:\n\u001b[1;32m    210\u001b[0m         kwargs[new_arg_name] \u001b[39m=\u001b[39m new_arg_value\n\u001b[0;32m--> 211\u001b[0m \u001b[39mreturn\u001b[39;00m func(\u001b[39m*\u001b[39;49margs, \u001b[39m*\u001b[39;49m\u001b[39m*\u001b[39;49mkwargs)\n",
      "File \u001b[0;32m/opt/homebrew/Caskroom/miniconda/base/envs/nf_base/lib/python3.9/site-packages/pandas/util/_decorators.py:331\u001b[0m, in \u001b[0;36mdeprecate_nonkeyword_arguments.<locals>.decorate.<locals>.wrapper\u001b[0;34m(*args, **kwargs)\u001b[0m\n\u001b[1;32m    325\u001b[0m \u001b[39mif\u001b[39;00m \u001b[39mlen\u001b[39m(args) \u001b[39m>\u001b[39m num_allow_args:\n\u001b[1;32m    326\u001b[0m     warnings\u001b[39m.\u001b[39mwarn(\n\u001b[1;32m    327\u001b[0m         msg\u001b[39m.\u001b[39mformat(arguments\u001b[39m=\u001b[39m_format_argument_list(allow_args)),\n\u001b[1;32m    328\u001b[0m         \u001b[39mFutureWarning\u001b[39;00m,\n\u001b[1;32m    329\u001b[0m         stacklevel\u001b[39m=\u001b[39mfind_stack_level(),\n\u001b[1;32m    330\u001b[0m     )\n\u001b[0;32m--> 331\u001b[0m \u001b[39mreturn\u001b[39;00m func(\u001b[39m*\u001b[39;49margs, \u001b[39m*\u001b[39;49m\u001b[39m*\u001b[39;49mkwargs)\n",
      "File \u001b[0;32m/opt/homebrew/Caskroom/miniconda/base/envs/nf_base/lib/python3.9/site-packages/pandas/io/parsers/readers.py:950\u001b[0m, in \u001b[0;36mread_csv\u001b[0;34m(filepath_or_buffer, sep, delimiter, header, names, index_col, usecols, squeeze, prefix, mangle_dupe_cols, dtype, engine, converters, true_values, false_values, skipinitialspace, skiprows, skipfooter, nrows, na_values, keep_default_na, na_filter, verbose, skip_blank_lines, parse_dates, infer_datetime_format, keep_date_col, date_parser, dayfirst, cache_dates, iterator, chunksize, compression, thousands, decimal, lineterminator, quotechar, quoting, doublequote, escapechar, comment, encoding, encoding_errors, dialect, error_bad_lines, warn_bad_lines, on_bad_lines, delim_whitespace, low_memory, memory_map, float_precision, storage_options)\u001b[0m\n\u001b[1;32m    935\u001b[0m kwds_defaults \u001b[39m=\u001b[39m _refine_defaults_read(\n\u001b[1;32m    936\u001b[0m     dialect,\n\u001b[1;32m    937\u001b[0m     delimiter,\n\u001b[0;32m   (...)\u001b[0m\n\u001b[1;32m    946\u001b[0m     defaults\u001b[39m=\u001b[39m{\u001b[39m\"\u001b[39m\u001b[39mdelimiter\u001b[39m\u001b[39m\"\u001b[39m: \u001b[39m\"\u001b[39m\u001b[39m,\u001b[39m\u001b[39m\"\u001b[39m},\n\u001b[1;32m    947\u001b[0m )\n\u001b[1;32m    948\u001b[0m kwds\u001b[39m.\u001b[39mupdate(kwds_defaults)\n\u001b[0;32m--> 950\u001b[0m \u001b[39mreturn\u001b[39;00m _read(filepath_or_buffer, kwds)\n",
      "File \u001b[0;32m/opt/homebrew/Caskroom/miniconda/base/envs/nf_base/lib/python3.9/site-packages/pandas/io/parsers/readers.py:605\u001b[0m, in \u001b[0;36m_read\u001b[0;34m(filepath_or_buffer, kwds)\u001b[0m\n\u001b[1;32m    602\u001b[0m _validate_names(kwds\u001b[39m.\u001b[39mget(\u001b[39m\"\u001b[39m\u001b[39mnames\u001b[39m\u001b[39m\"\u001b[39m, \u001b[39mNone\u001b[39;00m))\n\u001b[1;32m    604\u001b[0m \u001b[39m# Create the parser.\u001b[39;00m\n\u001b[0;32m--> 605\u001b[0m parser \u001b[39m=\u001b[39m TextFileReader(filepath_or_buffer, \u001b[39m*\u001b[39;49m\u001b[39m*\u001b[39;49mkwds)\n\u001b[1;32m    607\u001b[0m \u001b[39mif\u001b[39;00m chunksize \u001b[39mor\u001b[39;00m iterator:\n\u001b[1;32m    608\u001b[0m     \u001b[39mreturn\u001b[39;00m parser\n",
      "File \u001b[0;32m/opt/homebrew/Caskroom/miniconda/base/envs/nf_base/lib/python3.9/site-packages/pandas/io/parsers/readers.py:1442\u001b[0m, in \u001b[0;36mTextFileReader.__init__\u001b[0;34m(self, f, engine, **kwds)\u001b[0m\n\u001b[1;32m   1439\u001b[0m     \u001b[39mself\u001b[39m\u001b[39m.\u001b[39moptions[\u001b[39m\"\u001b[39m\u001b[39mhas_index_names\u001b[39m\u001b[39m\"\u001b[39m] \u001b[39m=\u001b[39m kwds[\u001b[39m\"\u001b[39m\u001b[39mhas_index_names\u001b[39m\u001b[39m\"\u001b[39m]\n\u001b[1;32m   1441\u001b[0m \u001b[39mself\u001b[39m\u001b[39m.\u001b[39mhandles: IOHandles \u001b[39m|\u001b[39m \u001b[39mNone\u001b[39;00m \u001b[39m=\u001b[39m \u001b[39mNone\u001b[39;00m\n\u001b[0;32m-> 1442\u001b[0m \u001b[39mself\u001b[39m\u001b[39m.\u001b[39m_engine \u001b[39m=\u001b[39m \u001b[39mself\u001b[39;49m\u001b[39m.\u001b[39;49m_make_engine(f, \u001b[39mself\u001b[39;49m\u001b[39m.\u001b[39;49mengine)\n",
      "File \u001b[0;32m/opt/homebrew/Caskroom/miniconda/base/envs/nf_base/lib/python3.9/site-packages/pandas/io/parsers/readers.py:1735\u001b[0m, in \u001b[0;36mTextFileReader._make_engine\u001b[0;34m(self, f, engine)\u001b[0m\n\u001b[1;32m   1733\u001b[0m     \u001b[39mif\u001b[39;00m \u001b[39m\"\u001b[39m\u001b[39mb\u001b[39m\u001b[39m\"\u001b[39m \u001b[39mnot\u001b[39;00m \u001b[39min\u001b[39;00m mode:\n\u001b[1;32m   1734\u001b[0m         mode \u001b[39m+\u001b[39m\u001b[39m=\u001b[39m \u001b[39m\"\u001b[39m\u001b[39mb\u001b[39m\u001b[39m\"\u001b[39m\n\u001b[0;32m-> 1735\u001b[0m \u001b[39mself\u001b[39m\u001b[39m.\u001b[39mhandles \u001b[39m=\u001b[39m get_handle(\n\u001b[1;32m   1736\u001b[0m     f,\n\u001b[1;32m   1737\u001b[0m     mode,\n\u001b[1;32m   1738\u001b[0m     encoding\u001b[39m=\u001b[39;49m\u001b[39mself\u001b[39;49m\u001b[39m.\u001b[39;49moptions\u001b[39m.\u001b[39;49mget(\u001b[39m\"\u001b[39;49m\u001b[39mencoding\u001b[39;49m\u001b[39m\"\u001b[39;49m, \u001b[39mNone\u001b[39;49;00m),\n\u001b[1;32m   1739\u001b[0m     compression\u001b[39m=\u001b[39;49m\u001b[39mself\u001b[39;49m\u001b[39m.\u001b[39;49moptions\u001b[39m.\u001b[39;49mget(\u001b[39m\"\u001b[39;49m\u001b[39mcompression\u001b[39;49m\u001b[39m\"\u001b[39;49m, \u001b[39mNone\u001b[39;49;00m),\n\u001b[1;32m   1740\u001b[0m     memory_map\u001b[39m=\u001b[39;49m\u001b[39mself\u001b[39;49m\u001b[39m.\u001b[39;49moptions\u001b[39m.\u001b[39;49mget(\u001b[39m\"\u001b[39;49m\u001b[39mmemory_map\u001b[39;49m\u001b[39m\"\u001b[39;49m, \u001b[39mFalse\u001b[39;49;00m),\n\u001b[1;32m   1741\u001b[0m     is_text\u001b[39m=\u001b[39;49mis_text,\n\u001b[1;32m   1742\u001b[0m     errors\u001b[39m=\u001b[39;49m\u001b[39mself\u001b[39;49m\u001b[39m.\u001b[39;49moptions\u001b[39m.\u001b[39;49mget(\u001b[39m\"\u001b[39;49m\u001b[39mencoding_errors\u001b[39;49m\u001b[39m\"\u001b[39;49m, \u001b[39m\"\u001b[39;49m\u001b[39mstrict\u001b[39;49m\u001b[39m\"\u001b[39;49m),\n\u001b[1;32m   1743\u001b[0m     storage_options\u001b[39m=\u001b[39;49m\u001b[39mself\u001b[39;49m\u001b[39m.\u001b[39;49moptions\u001b[39m.\u001b[39;49mget(\u001b[39m\"\u001b[39;49m\u001b[39mstorage_options\u001b[39;49m\u001b[39m\"\u001b[39;49m, \u001b[39mNone\u001b[39;49;00m),\n\u001b[1;32m   1744\u001b[0m )\n\u001b[1;32m   1745\u001b[0m \u001b[39massert\u001b[39;00m \u001b[39mself\u001b[39m\u001b[39m.\u001b[39mhandles \u001b[39mis\u001b[39;00m \u001b[39mnot\u001b[39;00m \u001b[39mNone\u001b[39;00m\n\u001b[1;32m   1746\u001b[0m f \u001b[39m=\u001b[39m \u001b[39mself\u001b[39m\u001b[39m.\u001b[39mhandles\u001b[39m.\u001b[39mhandle\n",
      "File \u001b[0;32m/opt/homebrew/Caskroom/miniconda/base/envs/nf_base/lib/python3.9/site-packages/pandas/io/common.py:856\u001b[0m, in \u001b[0;36mget_handle\u001b[0;34m(path_or_buf, mode, encoding, compression, memory_map, is_text, errors, storage_options)\u001b[0m\n\u001b[1;32m    851\u001b[0m \u001b[39melif\u001b[39;00m \u001b[39misinstance\u001b[39m(handle, \u001b[39mstr\u001b[39m):\n\u001b[1;32m    852\u001b[0m     \u001b[39m# Check whether the filename is to be opened in binary mode.\u001b[39;00m\n\u001b[1;32m    853\u001b[0m     \u001b[39m# Binary mode does not support 'encoding' and 'newline'.\u001b[39;00m\n\u001b[1;32m    854\u001b[0m     \u001b[39mif\u001b[39;00m ioargs\u001b[39m.\u001b[39mencoding \u001b[39mand\u001b[39;00m \u001b[39m\"\u001b[39m\u001b[39mb\u001b[39m\u001b[39m\"\u001b[39m \u001b[39mnot\u001b[39;00m \u001b[39min\u001b[39;00m ioargs\u001b[39m.\u001b[39mmode:\n\u001b[1;32m    855\u001b[0m         \u001b[39m# Encoding\u001b[39;00m\n\u001b[0;32m--> 856\u001b[0m         handle \u001b[39m=\u001b[39m \u001b[39mopen\u001b[39;49m(\n\u001b[1;32m    857\u001b[0m             handle,\n\u001b[1;32m    858\u001b[0m             ioargs\u001b[39m.\u001b[39;49mmode,\n\u001b[1;32m    859\u001b[0m             encoding\u001b[39m=\u001b[39;49mioargs\u001b[39m.\u001b[39;49mencoding,\n\u001b[1;32m    860\u001b[0m             errors\u001b[39m=\u001b[39;49merrors,\n\u001b[1;32m    861\u001b[0m             newline\u001b[39m=\u001b[39;49m\u001b[39m\"\u001b[39;49m\u001b[39m\"\u001b[39;49m,\n\u001b[1;32m    862\u001b[0m         )\n\u001b[1;32m    863\u001b[0m     \u001b[39melse\u001b[39;00m:\n\u001b[1;32m    864\u001b[0m         \u001b[39m# Binary mode\u001b[39;00m\n\u001b[1;32m    865\u001b[0m         handle \u001b[39m=\u001b[39m \u001b[39mopen\u001b[39m(handle, ioargs\u001b[39m.\u001b[39mmode)\n",
      "\u001b[0;31mFileNotFoundError\u001b[0m: [Errno 2] No such file or directory: './data/order_cylce_kpi.csv'"
     ]
    }
   ],
   "source": [
    "# read the four cleaned csv files \n",
    "orders = pd.read_csv('./data/orders_cleaned.csv') # first row of this csv file is empty\n",
    "order_process = pd.read_csv('./data/order_process_cleaned.csv')\n",
    "intern_study = pd.read_csv('./data/intern_study_cleaned.csv')\n",
    "campaign = pd.read_csv('./data/campaign_cleaned.csv')\n",
    "\n",
    "# read in order_cycle dataframe from last session\n",
    "order_cycle = pd.read_csv('./data/order_cylce_kpi.csv')\n",
    "lead_time = pd.read_csv('./data/lead_time_kpi.csv')\n",
    "shipping = pd.read_csv('./data/shipping_kpi.csv')\n",
    "pickup_time = pd.read_csv(\"./data/pickup_time_kpi.csv\")"
   ]
  },
  {
   "attachments": {},
   "cell_type": "markdown",
   "id": "5cc9ce2a",
   "metadata": {},
   "source": [
    "# Summary Last Practice Session\n",
    "\n",
    "- **We gained a general understanding of the business of the muesli company**\n",
    "\n",
    "#### Investigated our 4 main KPIs\n",
    "\n",
    "- KPI1: 3002 dp, avg 4.17\n",
    "\n",
    "- KPI2: 204 dp, avg 1.5\n",
    "\n",
    "- KPI3: 333 dp, avg 4.6\n",
    "\n",
    "- KPI4 (total): 333 dp, avg 10.9\n",
    "\n",
    "Main insight is that this is very different to the numbers the management team gave us...\n",
    "\n",
    "- First task is done, so these are the KPIs we need to track the health of the delivery process.\n",
    "\n",
    "- Now we will help the business to understand why these delivery times are actually longer than planned."
   ]
  },
  {
   "attachments": {},
   "cell_type": "markdown",
   "id": "1bb0b3ea",
   "metadata": {},
   "source": [
    "### ...let's understand the 'WHY'"
   ]
  },
  {
   "attachments": {},
   "cell_type": "markdown",
   "id": "49d98e42",
   "metadata": {},
   "source": [
    "why is the delivery process delayed?"
   ]
  },
  {
   "attachments": {},
   "cell_type": "markdown",
   "id": "7fee7348",
   "metadata": {},
   "source": [
    "![KPI overview](images/kpi.png)"
   ]
  },
  {
   "attachments": {},
   "cell_type": "markdown",
   "id": "9d44fed7",
   "metadata": {},
   "source": [
    "in order to understand the overall delay for the order lead time, we can study each KPI that represents one step in the delivery process by itself.\n",
    "We start with KPI 1 - the order cycle time."
   ]
  },
  {
   "attachments": {},
   "cell_type": "markdown",
   "id": "6896e95d",
   "metadata": {},
   "source": [
    "## Investigation of delay in order cycle time"
   ]
  },
  {
   "attachments": {},
   "cell_type": "markdown",
   "id": "fe6aa898",
   "metadata": {},
   "source": [
    "Let's recap, \n",
    "- how would the order cycle time look like according to the warehouse?\n",
    "- how would the order cycle time look like in an ideal world? \n",
    "- What are the most relevant factors affecting the delivery process? \n",
    "- What are our assumptions we want to test?\n"
   ]
  },
  {
   "attachments": {},
   "cell_type": "markdown",
   "id": "8bb0f8c3",
   "metadata": {},
   "source": [
    "![Order Cycle Time With Weekend](images/order_cycle_time_weekend.png)"
   ]
  },
  {
   "attachments": {},
   "cell_type": "markdown",
   "id": "a93f8674",
   "metadata": {},
   "source": [
    "#### Observations\n",
    "- We see that the weekend has a big effect on the effective order cycle time from the customers perspective. \n",
    "- However, as the warehouse only works Mondays to Fridays, the factor of the delays by the weekend should be taken out when studying root-causes for the delay from the companies point of view. In an ideal world the order cycle time should be always 2. \n",
    "- the ship mode has no impact on the order cycle time. We can confirm this later with out data.\n",
    "- the day of order has an impact on the order cycle time if we include the weekend. \n",
    "\n",
    "#### next steps\n",
    "- draw process without weekend.\n",
    "- investigate impact of ship mode and confirm our assumption with data.\n",
    "- investigate relationship with weekday of order and confirm our assumption with data."
   ]
  },
  {
   "attachments": {},
   "cell_type": "markdown",
   "id": "98c4cc40",
   "metadata": {},
   "source": [
    "![Order Cycle Time No Weekend](images/order_cycle_time_no_weekend.png)"
   ]
  },
  {
   "attachments": {},
   "cell_type": "markdown",
   "id": "c5b800c5",
   "metadata": {},
   "source": [
    "#### Observations\n",
    "- the ship mode has no impact on the order cycle time. We can confirm this later with out data.\n",
    "- the day of order has no impact on the order cycle time if we exclude the weekend. \n",
    "- the order cycle time is always 2. We have seen already that the data-driven reality is 2.8.\n",
    "\n",
    "#### next\n",
    "- investigate impact of ship mode and confirm our assumption with data.\n",
    "- investigate relationship with weekday of order and confirm our assumption with data."
   ]
  },
  {
   "cell_type": "code",
   "execution_count": null,
   "id": "36be4b68",
   "metadata": {},
   "outputs": [],
   "source": [
    "# step to calculate metrics without weekend \n",
    "# this here is called a lambda function: \n",
    "# lambda row: np.busday_count(row['order_date'].date(), row['ready_to_ship_date'].date())\n",
    "# it enables us to apply the busday_count function to each row of our dataframe.\n",
    "\n",
    "# order cycle time\n",
    "order_cycle['order_date'] = pd.to_datetime(order_cycle[\"order_date\"])\n",
    "order_cycle['ready_to_ship_date'] = pd.to_datetime(order_cycle[\"ready_to_ship_date\"])\n",
    "\n",
    "order_cycle['order_to_ready_int_no_weekend'] = order_cycle.apply(lambda row: np.busday_count(\n",
    "                                                                        row['order_date'].date(), \n",
    "                                                                        row['ready_to_ship_date'].date()),axis=1)"
   ]
  },
  {
   "cell_type": "code",
   "execution_count": null,
   "id": "4435fd02",
   "metadata": {},
   "outputs": [
    {
     "data": {
      "text/plain": [
       "order_to_ready_int_no_weekend    2.769608\n",
       "order_to_ready_int               4.176471\n",
       "dtype: float64"
      ]
     },
     "execution_count": 70,
     "metadata": {},
     "output_type": "execute_result"
    }
   ],
   "source": [
    "# Let's compare the weekend effect on the average order cycle time\n",
    "order_cycle[['order_to_ready_int_no_weekend','order_to_ready_int']].mean()"
   ]
  },
  {
   "attachments": {},
   "cell_type": "markdown",
   "id": "aea6b2fa",
   "metadata": {},
   "source": [
    "Even with only counting business days the `average order cycle time` is more than the expected `2 days`."
   ]
  },
  {
   "attachments": {},
   "cell_type": "markdown",
   "id": "bbbf9977",
   "metadata": {},
   "source": [
    "As a first step it's a good idea to look at the average metric in more detail and plot it's distribution."
   ]
  },
  {
   "attachments": {},
   "cell_type": "markdown",
   "id": "d7b2347f",
   "metadata": {},
   "source": [
    "---\n",
    "# Step 1 - Study Distributions"
   ]
  },
  {
   "attachments": {},
   "cell_type": "markdown",
   "id": "cd9ce1fe",
   "metadata": {},
   "source": [
    "## KPI 1 - Order Cycle Time KPI"
   ]
  },
  {
   "cell_type": "code",
   "execution_count": null,
   "id": "70798404",
   "metadata": {},
   "outputs": [
    {
     "data": {
      "text/plain": [
       "2.769607843137255"
      ]
     },
     "execution_count": 71,
     "metadata": {},
     "output_type": "execute_result"
    }
   ],
   "source": [
    "# let's calculate the average order cycle time again\n",
    "order_cycle[\"order_to_ready_int_no_weekend\"].mean()"
   ]
  },
  {
   "cell_type": "code",
   "execution_count": null,
   "id": "68923618",
   "metadata": {},
   "outputs": [
    {
     "data": {
      "text/plain": [
       "<seaborn.axisgrid.FacetGrid at 0x14c8968b0>"
      ]
     },
     "execution_count": 72,
     "metadata": {},
     "output_type": "execute_result"
    },
    {
     "data": {
      "image/png": "[encoded data removed]",
      "text/plain": [
       "<Figure size 773.375x500 with 1 Axes>"
      ]
     },
     "metadata": {},
     "output_type": "display_data"
    }
   ],
   "source": [
    "# now, let's look at the distribution of the order cycle time KPI\n",
    "# we do this via seaborn's displot function...\n",
    "sns.displot(order_cycle[['order_id','order_to_ready_int_no_weekend']],discrete=True,shrink=.7)"
   ]
  },
  {
   "cell_type": "code",
   "execution_count": null,
   "id": "7c1f214d",
   "metadata": {},
   "outputs": [
    {
     "name": "stdout",
     "output_type": "stream",
     "text": [
      "Number of order with 0 days for order cycle time: 22\n"
     ]
    }
   ],
   "source": [
    "print(\"Number of order with 0 days for order cycle time: \"+str(order_cycle[order_cycle.order_to_ready_int_no_weekend==0]['order_id'].count()))"
   ]
  },
  {
   "cell_type": "code",
   "execution_count": null,
   "id": "4ea77db8",
   "metadata": {},
   "outputs": [
    {
     "name": "stdout",
     "output_type": "stream",
     "text": [
      "Number of order with 4 or more days for order cycle time: 68\n"
     ]
    }
   ],
   "source": [
    "print(\"Number of order with 4 or more days for order cycle time: \"+str(order_cycle[order_cycle.order_to_ready_int_no_weekend>=4]['order_id'].count()))"
   ]
  },
  {
   "cell_type": "code",
   "execution_count": null,
   "id": "f135c277",
   "metadata": {
    "scrolled": false
   },
   "outputs": [
    {
     "data": {
      "text/plain": [
       "<Axes: >"
      ]
     },
     "execution_count": 75,
     "metadata": {},
     "output_type": "execute_result"
    },
    {
     "data": {
      "image/png": "[encoded data removed]",
      "text/plain": [
       "<Figure size 640x480 with 1 Axes>"
      ]
     },
     "metadata": {},
     "output_type": "display_data"
    }
   ],
   "source": [
    "# or in the same way we can look at it with a boxplot...\n",
    "\n",
    "order_cycle.order_to_ready_int_no_weekend.plot(kind=\"box\", vert=False)"
   ]
  },
  {
   "attachments": {},
   "cell_type": "markdown",
   "id": "f03a780b",
   "metadata": {},
   "source": [
    "### **Observations**\n",
    "- in the boxplot we see that the median is 3. The median and the average is 2.76 higher than the warehouse assumption of 2 days.\n",
    "\n",
    "- there are 22 outliers that have 0 as a order cycle time, meaning the same day they got ordered they were made already 'ready to ship'....this seems a bit odd so let's look into them later in more detail.\n",
    "\n",
    "- there are 68 outliers that have high order cycle times with 4 or more days. Also these ones we should investigate later in more detail.\n",
    "\n",
    "    **-->  After analyzing the distribution of our KPI we have a better understanding of our average metric and some next steps what to analyse further.**\n",
    "\n",
    "---\n",
    "#### Derived next steps\n",
    "- why do some orders have an order cycle time of 0 days?\n",
    "\n",
    "- why do some orders have an order cycle time of 4 or more days?"
   ]
  },
  {
   "attachments": {},
   "cell_type": "markdown",
   "id": "9fa59c9e",
   "metadata": {},
   "source": [
    "---\n",
    "## Step 2 - Data Segmentation"
   ]
  },
  {
   "attachments": {},
   "cell_type": "markdown",
   "id": "99183dad",
   "metadata": {},
   "source": [
    "--> Let's try to prove our assumption that the ship mode has no affect on the order cycle time."
   ]
  },
  {
   "attachments": {},
   "cell_type": "markdown",
   "id": "704bf265",
   "metadata": {},
   "source": [
    "## Order cycle time KPI per ship mode\n",
    "\n",
    "Quick reminder for everyone what the ship modes are about: Customers can pay for Express processing that means the orders leave on the truck the day the order is ready for shipping.\n"
   ]
  },
  {
   "cell_type": "code",
   "execution_count": null,
   "id": "18bf82a4",
   "metadata": {},
   "outputs": [
    {
     "data": {
      "text/plain": [
       "Index(['order_id', 'order_date', 'origin_channel', 'region', 'category',\n",
       "       'sub_category', 'ready_to_ship_date', 'pickup_date',\n",
       "       'expected_ready_to_ship_date', 'order_year', 'order_to_ready',\n",
       "       'order_to_ready_no_weekend', 'order_to_ready_int', 'order_weekday',\n",
       "       'ready_weekday', 'order_weekday_int', 'order_to_ready_int_no_weekend'],\n",
       "      dtype='object')"
      ]
     },
     "execution_count": 76,
     "metadata": {},
     "output_type": "execute_result"
    }
   ],
   "source": [
    "# let's look the ship mode column\n",
    "order_cycle.columns"
   ]
  },
  {
   "cell_type": "code",
   "execution_count": null,
   "id": "78847d9d",
   "metadata": {},
   "outputs": [
    {
     "data": {
      "text/plain": [
       "Index(['order_id', 'order_date', 'on_truck_scan_date', 'ship_mode'], dtype='object')"
      ]
     },
     "execution_count": 77,
     "metadata": {},
     "output_type": "execute_result"
    }
   ],
   "source": [
    "# we see, it's not there, which dataset contains the ship mode and can we join it?\n",
    "order_process.columns"
   ]
  },
  {
   "cell_type": "code",
   "execution_count": null,
   "id": "59d38b8c",
   "metadata": {},
   "outputs": [
    {
     "name": "stdout",
     "output_type": "stream",
     "text": [
      "3003\n",
      "3002\n"
     ]
    }
   ],
   "source": [
    "# remember that order_process had multiple columns per order_id\n",
    "print(order_process['order_id'].count())\n",
    "print(order_process['order_id'].nunique())"
   ]
  },
  {
   "cell_type": "code",
   "execution_count": null,
   "id": "76f47da8",
   "metadata": {},
   "outputs": [
    {
     "name": "stdout",
     "output_type": "stream",
     "text": [
      "any orders with two ship modes? shipmode_count_unique    0\n",
      "dtype: int64\n"
     ]
    }
   ],
   "source": [
    "# double check that order_process has only one shipmode per order_id\n",
    "# this here is called a lambda function: 'lambda x: x.nunique()' it enables to cound unique order_ids\n",
    "\n",
    "test = order_process.groupby('order_id').agg(shipmode_count_unique=('ship_mode',lambda x: x.nunique()))\n",
    "print(\"any orders with two ship modes? \" + str(test[test.shipmode_count_unique>1].count()))"
   ]
  },
  {
   "cell_type": "code",
   "execution_count": null,
   "id": "73ced823",
   "metadata": {},
   "outputs": [],
   "source": [
    "# create unique lookup for ship mode\n",
    "shipmode_lookup = order_process[['order_id','ship_mode']].drop_duplicates()"
   ]
  },
  {
   "cell_type": "code",
   "execution_count": null,
   "id": "f3d64c4f",
   "metadata": {},
   "outputs": [],
   "source": [
    "# let's join order_process to get the ship mode\n",
    "order_cycle_ship_mode = order_cycle.merge(shipmode_lookup, on='order_id', how='left') "
   ]
  },
  {
   "cell_type": "code",
   "execution_count": null,
   "id": "39def1aa",
   "metadata": {},
   "outputs": [
    {
     "name": "stdout",
     "output_type": "stream",
     "text": [
      "204\n",
      "204\n"
     ]
    }
   ],
   "source": [
    "# double check counts after join\n",
    "print(order_cycle_ship_mode['order_id'].count())\n",
    "print(order_cycle['order_id'].count())"
   ]
  },
  {
   "attachments": {},
   "cell_type": "markdown",
   "id": "d1e00d6f",
   "metadata": {},
   "source": [
    "#### Let's get average order cycle time KPIs broken down by ship mode"
   ]
  },
  {
   "cell_type": "code",
   "execution_count": null,
   "id": "59d2b322",
   "metadata": {},
   "outputs": [
    {
     "data": {
      "text/html": [
       "<div>\n",
       "<style scoped>\n",
       "    .dataframe tbody tr th:only-of-type {\n",
       "        vertical-align: middle;\n",
       "    }\n",
       "\n",
       "    .dataframe tbody tr th {\n",
       "        vertical-align: top;\n",
       "    }\n",
       "\n",
       "    .dataframe thead th {\n",
       "        text-align: right;\n",
       "    }\n",
       "</style>\n",
       "<table border=\"1\" class=\"dataframe\">\n",
       "  <thead>\n",
       "    <tr style=\"text-align: right;\">\n",
       "      <th></th>\n",
       "      <th>order_count</th>\n",
       "      <th>avg_order_cycle_time</th>\n",
       "    </tr>\n",
       "    <tr>\n",
       "      <th>ship_mode</th>\n",
       "      <th></th>\n",
       "      <th></th>\n",
       "    </tr>\n",
       "  </thead>\n",
       "  <tbody>\n",
       "    <tr>\n",
       "      <th>Express</th>\n",
       "      <td>53</td>\n",
       "      <td>1.396226</td>\n",
       "    </tr>\n",
       "    <tr>\n",
       "      <th>Standard Processing</th>\n",
       "      <td>151</td>\n",
       "      <td>3.251656</td>\n",
       "    </tr>\n",
       "  </tbody>\n",
       "</table>\n",
       "</div>"
      ],
      "text/plain": [
       "                     order_count  avg_order_cycle_time\n",
       "ship_mode                                             \n",
       "Express                       53              1.396226\n",
       "Standard Processing          151              3.251656"
      ]
     },
     "execution_count": 83,
     "metadata": {},
     "output_type": "execute_result"
    }
   ],
   "source": [
    "#todo explain: lambda x: x.nunique()\n",
    "order_cycle_avg_by_ship_mode = order_cycle_ship_mode.groupby('ship_mode')\\\n",
    "                                .agg(order_count=('order_id',lambda x: x.nunique()),\n",
    "                                    avg_order_cycle_time=('order_to_ready_int_no_weekend','mean'))\n",
    "\n",
    "# let's take a look\n",
    "order_cycle_avg_by_ship_mode\n",
    "\n"
   ]
  },
  {
   "cell_type": "code",
   "execution_count": null,
   "id": "9acbce72",
   "metadata": {},
   "outputs": [],
   "source": [
    "# let's compare this to what the manager told us about the delivery times for standard and express\n",
    "# we do this by adding a new column with the warehouse assumptions for the order cycle time.\n",
    "order_cycle_avg_by_ship_mode['warehouse_assumption'] = ['2','2']"
   ]
  },
  {
   "cell_type": "code",
   "execution_count": null,
   "id": "1aee2420",
   "metadata": {},
   "outputs": [
    {
     "data": {
      "text/html": [
       "<div>\n",
       "<style scoped>\n",
       "    .dataframe tbody tr th:only-of-type {\n",
       "        vertical-align: middle;\n",
       "    }\n",
       "\n",
       "    .dataframe tbody tr th {\n",
       "        vertical-align: top;\n",
       "    }\n",
       "\n",
       "    .dataframe thead th {\n",
       "        text-align: right;\n",
       "    }\n",
       "</style>\n",
       "<table border=\"1\" class=\"dataframe\">\n",
       "  <thead>\n",
       "    <tr style=\"text-align: right;\">\n",
       "      <th></th>\n",
       "      <th>order_count</th>\n",
       "      <th>avg_order_cycle_time</th>\n",
       "      <th>warehouse_assumption</th>\n",
       "    </tr>\n",
       "    <tr>\n",
       "      <th>ship_mode</th>\n",
       "      <th></th>\n",
       "      <th></th>\n",
       "      <th></th>\n",
       "    </tr>\n",
       "  </thead>\n",
       "  <tbody>\n",
       "    <tr>\n",
       "      <th>Express</th>\n",
       "      <td>53</td>\n",
       "      <td>1.396226</td>\n",
       "      <td>2</td>\n",
       "    </tr>\n",
       "    <tr>\n",
       "      <th>Standard Processing</th>\n",
       "      <td>151</td>\n",
       "      <td>3.251656</td>\n",
       "      <td>2</td>\n",
       "    </tr>\n",
       "  </tbody>\n",
       "</table>\n",
       "</div>"
      ],
      "text/plain": [
       "                     order_count  avg_order_cycle_time warehouse_assumption\n",
       "ship_mode                                                                  \n",
       "Express                       53              1.396226                    2\n",
       "Standard Processing          151              3.251656                    2"
      ]
     },
     "execution_count": 85,
     "metadata": {},
     "output_type": "execute_result"
    }
   ],
   "source": [
    "order_cycle_avg_by_ship_mode"
   ]
  },
  {
   "attachments": {},
   "cell_type": "markdown",
   "id": "aedd8948",
   "metadata": {},
   "source": [
    "#### **Observations**\n",
    "\n",
    "so that's interesting, \n",
    "- we see that the average of 2.8 splits into 1.4 days for express deliveries and 3.3 days for standard processing.\n",
    "\n",
    "- for express mode the avg. order cycle time is even faster than what the warehouse assumes.\n",
    "\n",
    "- for standard processing the avg order cycle time is slower by 1.3 days than what the warehouse assumes.\n",
    "\n",
    "- we tested our assumption to be wrong as the ship mode has an effect on the order cycle time.\n",
    "\n",
    "#### Next steps\n",
    "Let's explore the average in more detail with the help of distributions."
   ]
  },
  {
   "cell_type": "code",
   "execution_count": null,
   "id": "43610136",
   "metadata": {},
   "outputs": [],
   "source": [
    "# For that, create two subsets of our data - one for Express, one for standard\n",
    "order_cycle_standard = order_cycle_ship_mode[order_cycle_ship_mode.ship_mode=='Standard Processing']\n",
    "order_cycle_express = order_cycle_ship_mode[order_cycle_ship_mode.ship_mode=='Express']"
   ]
  },
  {
   "attachments": {},
   "cell_type": "markdown",
   "id": "9b021776",
   "metadata": {},
   "source": [
    "#### Distribution for Order Cycle Time - Standard Processing"
   ]
  },
  {
   "cell_type": "code",
   "execution_count": null,
   "id": "a03fc46c",
   "metadata": {},
   "outputs": [
    {
     "data": {
      "text/plain": [
       "<seaborn.axisgrid.FacetGrid at 0x14c9c3c40>"
      ]
     },
     "execution_count": 87,
     "metadata": {},
     "output_type": "execute_result"
    },
    {
     "data": {
      "image/png": "[encoded data removed]",
      "text/plain": [
       "<Figure size 773.375x500 with 1 Axes>"
      ]
     },
     "metadata": {},
     "output_type": "display_data"
    }
   ],
   "source": [
    "sns.displot(order_cycle_standard[['order_id','order_to_ready_int_no_weekend']],discrete=True,shrink=.7)\n",
    "# todo seaborn align the whole integer numbers exactly"
   ]
  },
  {
   "attachments": {},
   "cell_type": "markdown",
   "id": "401dca5a",
   "metadata": {},
   "source": [
    " #### **Observations**\n",
    " \n",
    "- standard processing has more outliers of 3 or more days than outliers of 1 or less days.  "
   ]
  },
  {
   "attachments": {},
   "cell_type": "markdown",
   "id": "f67d9e3c",
   "metadata": {},
   "source": [
    "#### Distribution for Order Cycle Time - Express"
   ]
  },
  {
   "cell_type": "code",
   "execution_count": null,
   "id": "275a7712",
   "metadata": {
    "scrolled": false
   },
   "outputs": [
    {
     "data": {
      "text/plain": [
       "<seaborn.axisgrid.FacetGrid at 0x14d946e20>"
      ]
     },
     "execution_count": 88,
     "metadata": {},
     "output_type": "execute_result"
    },
    {
     "data": {
      "image/png": "[encoded data removed]",
      "text/plain": [
       "<Figure size 773.375x500 with 1 Axes>"
      ]
     },
     "metadata": {},
     "output_type": "display_data"
    }
   ],
   "source": [
    "sns.displot(order_cycle_express[['order_id','order_to_ready_int_no_weekend']],discrete=True,shrink=.7)"
   ]
  },
  {
   "cell_type": "code",
   "execution_count": null,
   "id": "ee9074d0",
   "metadata": {},
   "outputs": [
    {
     "name": "stdout",
     "output_type": "stream",
     "text": [
      "Number of express order with 0 days for order cycle time: 18\n"
     ]
    }
   ],
   "source": [
    "print(\"Number of express order with 0 days for order cycle time: \"+str(order_cycle_express[order_cycle_express.order_to_ready_int_no_weekend==0]['order_id'].count()))\n"
   ]
  },
  {
   "attachments": {},
   "cell_type": "markdown",
   "id": "b21a14d1",
   "metadata": {},
   "source": [
    "#### **Observations**\n",
    "\n",
    "- express processing has more outliers with 1 or 0 days than outliers towards the other side.\n",
    "\n",
    "- express processing has no outliers with more than 3 days of order cycle time.\n",
    "\n",
    "- 82% of outliers with 0 days happen with express processing. This seems ok, that sometimes order for express shipping are received and processed within one day. \n"
   ]
  },
  {
   "attachments": {},
   "cell_type": "markdown",
   "id": "f9169d6f",
   "metadata": {},
   "source": [
    "#### **Observation for combined view on standard versus express shipping mode**\n",
    "\n",
    "Again, we can confirm our assumption regarding ship mode is not true. the ship mode really has an effect on the order cycle time as the two subsets of our data are differently distributed."
   ]
  },
  {
   "attachments": {},
   "cell_type": "markdown",
   "id": "e289093a",
   "metadata": {},
   "source": [
    "#### Next step \n",
    "\n",
    "As we study a process over time it'll be interesting to study the relationship of the processing time and the different weekdays. "
   ]
  },
  {
   "attachments": {},
   "cell_type": "markdown",
   "id": "00a1e462",
   "metadata": {},
   "source": [
    "---\n",
    "## Step 3 -  Discover Relationships between Variables"
   ]
  },
  {
   "attachments": {},
   "cell_type": "markdown",
   "id": "34ad0d4a",
   "metadata": {},
   "source": [
    "### Order Cycle KPI and weekday of order"
   ]
  },
  {
   "cell_type": "code",
   "execution_count": null,
   "id": "5334209e",
   "metadata": {},
   "outputs": [
    {
     "data": {
      "text/plain": [
       "Index(['order_id', 'order_date', 'origin_channel', 'region', 'category',\n",
       "       'sub_category', 'ready_to_ship_date', 'pickup_date',\n",
       "       'expected_ready_to_ship_date', 'order_year', 'order_to_ready',\n",
       "       'order_to_ready_no_weekend', 'order_to_ready_int', 'order_weekday',\n",
       "       'ready_weekday', 'order_weekday_int', 'order_to_ready_int_no_weekend',\n",
       "       'ship_mode'],\n",
       "      dtype='object')"
      ]
     },
     "execution_count": 90,
     "metadata": {},
     "output_type": "execute_result"
    }
   ],
   "source": [
    "order_cycle_standard.columns"
   ]
  },
  {
   "cell_type": "code",
   "execution_count": null,
   "id": "51d941d1",
   "metadata": {},
   "outputs": [],
   "source": [
    "order_cycle_time_by_weekday = order_cycle.groupby([\"order_weekday\",\"order_weekday_int\"]).agg(\n",
    "                                        order_count=('order_id',lambda x: x.nunique()),\n",
    "                                        avg_order_cycle_time_no_weekend=('order_to_ready_int_no_weekend','mean')\n",
    "                                        )\n",
    "order_cycle_time_by_weekday.sort_values('order_weekday_int', inplace=True)"
   ]
  },
  {
   "cell_type": "code",
   "execution_count": null,
   "id": "44ad11af",
   "metadata": {},
   "outputs": [
    {
     "data": {
      "text/html": [
       "<div>\n",
       "<style scoped>\n",
       "    .dataframe tbody tr th:only-of-type {\n",
       "        vertical-align: middle;\n",
       "    }\n",
       "\n",
       "    .dataframe tbody tr th {\n",
       "        vertical-align: top;\n",
       "    }\n",
       "\n",
       "    .dataframe thead th {\n",
       "        text-align: right;\n",
       "    }\n",
       "</style>\n",
       "<table border=\"1\" class=\"dataframe\">\n",
       "  <thead>\n",
       "    <tr style=\"text-align: right;\">\n",
       "      <th></th>\n",
       "      <th></th>\n",
       "      <th>order_count</th>\n",
       "      <th>avg_order_cycle_time_no_weekend</th>\n",
       "    </tr>\n",
       "    <tr>\n",
       "      <th>order_weekday</th>\n",
       "      <th>order_weekday_int</th>\n",
       "      <th></th>\n",
       "      <th></th>\n",
       "    </tr>\n",
       "  </thead>\n",
       "  <tbody>\n",
       "    <tr>\n",
       "      <th>Monday</th>\n",
       "      <th>1</th>\n",
       "      <td>35</td>\n",
       "      <td>3.314286</td>\n",
       "    </tr>\n",
       "    <tr>\n",
       "      <th>Tuesday</th>\n",
       "      <th>2</th>\n",
       "      <td>48</td>\n",
       "      <td>3.145833</td>\n",
       "    </tr>\n",
       "    <tr>\n",
       "      <th>Wednesday</th>\n",
       "      <th>3</th>\n",
       "      <td>37</td>\n",
       "      <td>2.621622</td>\n",
       "    </tr>\n",
       "    <tr>\n",
       "      <th>Thursday</th>\n",
       "      <th>4</th>\n",
       "      <td>31</td>\n",
       "      <td>2.129032</td>\n",
       "    </tr>\n",
       "    <tr>\n",
       "      <th>Friday</th>\n",
       "      <th>5</th>\n",
       "      <td>37</td>\n",
       "      <td>2.594595</td>\n",
       "    </tr>\n",
       "    <tr>\n",
       "      <th>Saturday</th>\n",
       "      <th>6</th>\n",
       "      <td>13</td>\n",
       "      <td>2.000000</td>\n",
       "    </tr>\n",
       "    <tr>\n",
       "      <th>Sunday</th>\n",
       "      <th>7</th>\n",
       "      <td>3</td>\n",
       "      <td>4.333333</td>\n",
       "    </tr>\n",
       "  </tbody>\n",
       "</table>\n",
       "</div>"
      ],
      "text/plain": [
       "                                 order_count  avg_order_cycle_time_no_weekend\n",
       "order_weekday order_weekday_int                                              \n",
       "Monday        1                           35                         3.314286\n",
       "Tuesday       2                           48                         3.145833\n",
       "Wednesday     3                           37                         2.621622\n",
       "Thursday      4                           31                         2.129032\n",
       "Friday        5                           37                         2.594595\n",
       "Saturday      6                           13                         2.000000\n",
       "Sunday        7                            3                         4.333333"
      ]
     },
     "execution_count": 92,
     "metadata": {},
     "output_type": "execute_result"
    }
   ],
   "source": [
    "order_cycle_time_by_weekday"
   ]
  },
  {
   "attachments": {},
   "cell_type": "markdown",
   "id": "28918307",
   "metadata": {},
   "source": [
    "#### **Observations**\n",
    "- Sunday looks weird. is the sample size maybe too low? is there maybe one mistake? Look at the distribution for Sunday.\n",
    "\n",
    "- We see a variablity in the weekdays. technically this should be all the same."
   ]
  },
  {
   "cell_type": "code",
   "execution_count": null,
   "id": "37c96f84",
   "metadata": {},
   "outputs": [],
   "source": [
    "order_cycle['cycletime_1day_count'] = np.where(order_cycle['order_to_ready_int_no_weekend']==1,1,0)\n",
    "order_cycle['cycletime_2day_count'] = np.where(order_cycle['order_to_ready_int_no_weekend']==2,1,0)\n",
    "order_cycle['cycletime_3day_count'] = np.where(order_cycle['order_to_ready_int_no_weekend']==3,1,0)\n",
    "order_cycle['cycletime_4day_count'] = np.where(order_cycle['order_to_ready_int_no_weekend']==4,1,0)\n",
    "order_cycle['cycletime_5day_count'] = np.where(order_cycle['order_to_ready_int_no_weekend']==5,1,0)"
   ]
  },
  {
   "cell_type": "code",
   "execution_count": null,
   "id": "258ac7e9",
   "metadata": {},
   "outputs": [],
   "source": [
    "order_cycle_time_by_weekday = order_cycle.groupby([\"order_weekday\",\"order_weekday_int\"]).agg(\n",
    "                                        order_count=('order_id',lambda x: x.nunique()),\n",
    "                                        cycletime_1day_count=('cycletime_1day_count','sum'),\n",
    "                                        cycletime_2day_count=('cycletime_2day_count','sum'),\n",
    "                                        cycletime_3day_count=('cycletime_3day_count','sum'),\n",
    "                                        cycletime_4day_count=('cycletime_4day_count','sum'),\n",
    "                                        cycletime_5day_count=('cycletime_5day_count','sum'),\n",
    "                                        avg_cycle_time_no_weekend=('order_to_ready_int_no_weekend','mean')\n",
    "                                        )\n",
    "order_cycle_time_by_weekday.sort_values('order_weekday_int', inplace=True)"
   ]
  },
  {
   "cell_type": "code",
   "execution_count": null,
   "id": "9e234584",
   "metadata": {},
   "outputs": [
    {
     "data": {
      "text/html": [
       "<div>\n",
       "<style scoped>\n",
       "    .dataframe tbody tr th:only-of-type {\n",
       "        vertical-align: middle;\n",
       "    }\n",
       "\n",
       "    .dataframe tbody tr th {\n",
       "        vertical-align: top;\n",
       "    }\n",
       "\n",
       "    .dataframe thead th {\n",
       "        text-align: right;\n",
       "    }\n",
       "</style>\n",
       "<table border=\"1\" class=\"dataframe\">\n",
       "  <thead>\n",
       "    <tr style=\"text-align: right;\">\n",
       "      <th></th>\n",
       "      <th></th>\n",
       "      <th>order_count</th>\n",
       "      <th>cycletime_1day_count</th>\n",
       "      <th>cycletime_2day_count</th>\n",
       "      <th>cycletime_3day_count</th>\n",
       "      <th>cycletime_4day_count</th>\n",
       "      <th>cycletime_5day_count</th>\n",
       "      <th>avg_cycle_time_no_weekend</th>\n",
       "    </tr>\n",
       "    <tr>\n",
       "      <th>order_weekday</th>\n",
       "      <th>order_weekday_int</th>\n",
       "      <th></th>\n",
       "      <th></th>\n",
       "      <th></th>\n",
       "      <th></th>\n",
       "      <th></th>\n",
       "      <th></th>\n",
       "      <th></th>\n",
       "    </tr>\n",
       "  </thead>\n",
       "  <tbody>\n",
       "    <tr>\n",
       "      <th>Monday</th>\n",
       "      <th>1</th>\n",
       "      <td>35</td>\n",
       "      <td>0</td>\n",
       "      <td>4</td>\n",
       "      <td>8</td>\n",
       "      <td>11</td>\n",
       "      <td>8</td>\n",
       "      <td>3.314286</td>\n",
       "    </tr>\n",
       "    <tr>\n",
       "      <th>Tuesday</th>\n",
       "      <th>2</th>\n",
       "      <td>48</td>\n",
       "      <td>1</td>\n",
       "      <td>10</td>\n",
       "      <td>4</td>\n",
       "      <td>22</td>\n",
       "      <td>6</td>\n",
       "      <td>3.145833</td>\n",
       "    </tr>\n",
       "    <tr>\n",
       "      <th>Wednesday</th>\n",
       "      <th>3</th>\n",
       "      <td>37</td>\n",
       "      <td>1</td>\n",
       "      <td>4</td>\n",
       "      <td>24</td>\n",
       "      <td>4</td>\n",
       "      <td>0</td>\n",
       "      <td>2.621622</td>\n",
       "    </tr>\n",
       "    <tr>\n",
       "      <th>Thursday</th>\n",
       "      <th>4</th>\n",
       "      <td>31</td>\n",
       "      <td>2</td>\n",
       "      <td>19</td>\n",
       "      <td>6</td>\n",
       "      <td>2</td>\n",
       "      <td>0</td>\n",
       "      <td>2.129032</td>\n",
       "    </tr>\n",
       "    <tr>\n",
       "      <th>Friday</th>\n",
       "      <th>5</th>\n",
       "      <td>37</td>\n",
       "      <td>8</td>\n",
       "      <td>8</td>\n",
       "      <td>12</td>\n",
       "      <td>4</td>\n",
       "      <td>4</td>\n",
       "      <td>2.594595</td>\n",
       "    </tr>\n",
       "    <tr>\n",
       "      <th>Saturday</th>\n",
       "      <th>6</th>\n",
       "      <td>13</td>\n",
       "      <td>0</td>\n",
       "      <td>0</td>\n",
       "      <td>2</td>\n",
       "      <td>5</td>\n",
       "      <td>0</td>\n",
       "      <td>2.000000</td>\n",
       "    </tr>\n",
       "    <tr>\n",
       "      <th>Sunday</th>\n",
       "      <th>7</th>\n",
       "      <td>3</td>\n",
       "      <td>0</td>\n",
       "      <td>0</td>\n",
       "      <td>1</td>\n",
       "      <td>0</td>\n",
       "      <td>2</td>\n",
       "      <td>4.333333</td>\n",
       "    </tr>\n",
       "  </tbody>\n",
       "</table>\n",
       "</div>"
      ],
      "text/plain": [
       "                                 order_count  cycletime_1day_count  \\\n",
       "order_weekday order_weekday_int                                      \n",
       "Monday        1                           35                     0   \n",
       "Tuesday       2                           48                     1   \n",
       "Wednesday     3                           37                     1   \n",
       "Thursday      4                           31                     2   \n",
       "Friday        5                           37                     8   \n",
       "Saturday      6                           13                     0   \n",
       "Sunday        7                            3                     0   \n",
       "\n",
       "                                 cycletime_2day_count  cycletime_3day_count  \\\n",
       "order_weekday order_weekday_int                                               \n",
       "Monday        1                                     4                     8   \n",
       "Tuesday       2                                    10                     4   \n",
       "Wednesday     3                                     4                    24   \n",
       "Thursday      4                                    19                     6   \n",
       "Friday        5                                     8                    12   \n",
       "Saturday      6                                     0                     2   \n",
       "Sunday        7                                     0                     1   \n",
       "\n",
       "                                 cycletime_4day_count  cycletime_5day_count  \\\n",
       "order_weekday order_weekday_int                                               \n",
       "Monday        1                                    11                     8   \n",
       "Tuesday       2                                    22                     6   \n",
       "Wednesday     3                                     4                     0   \n",
       "Thursday      4                                     2                     0   \n",
       "Friday        5                                     4                     4   \n",
       "Saturday      6                                     5                     0   \n",
       "Sunday        7                                     0                     2   \n",
       "\n",
       "                                 avg_cycle_time_no_weekend  \n",
       "order_weekday order_weekday_int                             \n",
       "Monday        1                                   3.314286  \n",
       "Tuesday       2                                   3.145833  \n",
       "Wednesday     3                                   2.621622  \n",
       "Thursday      4                                   2.129032  \n",
       "Friday        5                                   2.594595  \n",
       "Saturday      6                                   2.000000  \n",
       "Sunday        7                                   4.333333  "
      ]
     },
     "execution_count": 95,
     "metadata": {},
     "output_type": "execute_result"
    }
   ],
   "source": [
    "order_cycle_time_by_weekday"
   ]
  },
  {
   "attachments": {},
   "cell_type": "markdown",
   "id": "7d89d224",
   "metadata": {},
   "source": [
    "There are only 3 orders that were received on a sunday. We need to collect more data for sunday orders to make some further investigations into this."
   ]
  },
  {
   "attachments": {},
   "cell_type": "markdown",
   "id": "06b27160",
   "metadata": {},
   "source": [
    "#### Next step\n",
    "Let's take a deeper look into average order cycle time by weekday and split it by ship mode as well. Maybe we can narrow down the problem...."
   ]
  },
  {
   "cell_type": "code",
   "execution_count": null,
   "id": "ab7ec9c6",
   "metadata": {
    "scrolled": true
   },
   "outputs": [],
   "source": [
    "# do the same by ship mode\n",
    "order_cycle_time_standard_by_weekday = order_cycle_standard.groupby([\"order_weekday\",\"order_weekday_int\"])[[\"order_to_ready_int_no_weekend\"]].mean()\n",
    "order_cycle_time_express_by_weekday = order_cycle_express.groupby([\"order_weekday\",\"order_weekday_int\"])[[\"order_to_ready_int_no_weekend\"]].mean()\n",
    "order_cycle_time_standard_by_weekday.sort_values('order_weekday_int', inplace=True)\n",
    "order_cycle_time_express_by_weekday.sort_values('order_weekday_int', inplace=True)"
   ]
  },
  {
   "cell_type": "code",
   "execution_count": null,
   "id": "2670a5da",
   "metadata": {},
   "outputs": [
    {
     "data": {
      "text/plain": [
       "<Axes: xlabel='order_weekday', ylabel='avg_cycle_time_no_weekend'>"
      ]
     },
     "execution_count": 97,
     "metadata": {},
     "output_type": "execute_result"
    },
    {
     "data": {
      "image/png": "[encoded data removed]",
      "text/plain": [
       "<Figure size 640x480 with 1 Axes>"
      ]
     },
     "metadata": {},
     "output_type": "display_data"
    }
   ],
   "source": [
    "sns.scatterplot(x = \"order_weekday\", \n",
    "               y = \"avg_cycle_time_no_weekend\", \n",
    "               data = order_cycle_time_by_weekday)"
   ]
  },
  {
   "attachments": {},
   "cell_type": "markdown",
   "id": "ed7ff050",
   "metadata": {},
   "source": [
    "#### Scatter Plot for Order Cycle Time - Standard Processing"
   ]
  },
  {
   "cell_type": "code",
   "execution_count": null,
   "id": "3597f59f",
   "metadata": {},
   "outputs": [
    {
     "data": {
      "text/plain": [
       "<Axes: xlabel='order_weekday', ylabel='order_to_ready_int_no_weekend'>"
      ]
     },
     "execution_count": 98,
     "metadata": {},
     "output_type": "execute_result"
    },
    {
     "data": {
      "image/png": "[encoded data removed]",
      "text/plain": [
       "<Figure size 640x480 with 1 Axes>"
      ]
     },
     "metadata": {},
     "output_type": "display_data"
    }
   ],
   "source": [
    "sns.scatterplot(x = \"order_weekday\", \n",
    "               y = \"order_to_ready_int_no_weekend\", \n",
    "               data = order_cycle_time_standard_by_weekday)"
   ]
  },
  {
   "attachments": {},
   "cell_type": "markdown",
   "id": "0e177d96",
   "metadata": {},
   "source": [
    "#### **Observation**\n",
    "\n",
    "We see a variablity in the weekdays. They seem to take longer in the beginning of the week. Technically this should be all the same."
   ]
  },
  {
   "attachments": {},
   "cell_type": "markdown",
   "id": "2d05f98e",
   "metadata": {},
   "source": [
    "#### Scatter Plot for Order Cycle Time - Express"
   ]
  },
  {
   "cell_type": "code",
   "execution_count": null,
   "id": "3e6f98d1",
   "metadata": {},
   "outputs": [
    {
     "data": {
      "text/plain": [
       "<Axes: xlabel='order_weekday', ylabel='order_to_ready_int_no_weekend'>"
      ]
     },
     "execution_count": 99,
     "metadata": {},
     "output_type": "execute_result"
    },
    {
     "data": {
      "image/png": "[encoded data removed]",
      "text/plain": [
       "<Figure size 640x480 with 1 Axes>"
      ]
     },
     "metadata": {},
     "output_type": "display_data"
    }
   ],
   "source": [
    "sns.scatterplot(x = \"order_weekday\", \n",
    "               y = \"order_to_ready_int_no_weekend\", \n",
    "               data = order_cycle_time_express_by_weekday)"
   ]
  },
  {
   "attachments": {},
   "cell_type": "markdown",
   "id": "cbddb363",
   "metadata": {},
   "source": [
    "#### **Observation**\n",
    "- For Express processing we see overall slightly less variability. \n",
    "\n",
    "- For fridays we see the shortest order cycle time on average. "
   ]
  },
  {
   "attachments": {},
   "cell_type": "markdown",
   "id": "0ffb26d3",
   "metadata": {},
   "source": [
    "## Summary of observations for order cycle time - it's a wrap\n",
    "\n",
    "- Technically we expect two days for every order to be processed but its not. \n",
    "\n",
    "- We learned the ship mode has a clear effect although this shouldn't be the case according to the warehouse managers description.\n",
    "\n",
    "- We see a variability in the weekdays. Technically this should be all the same.\n",
    "\n",
    "- Overall we have only 204 data points. In order to identify trends and be less affected by outliers, we need to collect more data.\n",
    "\n",
    "#### Next steps\n",
    "\n",
    "- Collect more data!\n",
    "\n",
    "- Take these insights back to your team and brainstorm together. \n",
    "\n",
    "- Feedback loop with the warehouse manager.\n",
    "\n",
    "- Brainstorm and discuss new ideas:\n",
    "    - public holidays?\n",
    "    - time of day the order was placed?\n"
   ]
  },
  {
   "attachments": {},
   "cell_type": "markdown",
   "id": "72134af8",
   "metadata": {},
   "source": [
    "---\n",
    "# Let's move to the next KPI...."
   ]
  },
  {
   "attachments": {},
   "cell_type": "markdown",
   "id": "408800a2",
   "metadata": {},
   "source": [
    "![KPI overview](images/kpi.png)"
   ]
  },
  {
   "attachments": {},
   "cell_type": "markdown",
   "id": "93699fc7",
   "metadata": {},
   "source": [
    "## Investigation of delay in order pickup time"
   ]
  },
  {
   "attachments": {},
   "cell_type": "markdown",
   "id": "90e258ed",
   "metadata": {},
   "source": [
    "Let's recap, \n",
    "- how would the order cycle time look like in an ideal world? \n",
    "\n",
    "- What are the most relevant factors affecting the delivery process? \n",
    "\n",
    "- What are our assumptions we want to test?\n"
   ]
  },
  {
   "attachments": {},
   "cell_type": "markdown",
   "id": "8545d22e",
   "metadata": {},
   "source": [
    "Exercise: Draw a business process chart for order pick up time"
   ]
  },
  {
   "attachments": {},
   "cell_type": "markdown",
   "id": "5c675a7a",
   "metadata": {},
   "source": [
    "\n",
    "The cell below contains a possible solution.\n",
    "To compare your solution simply add a **`)`** at the end\n"
   ]
  },
  {
   "attachments": {},
   "cell_type": "markdown",
   "id": "06a2f842",
   "metadata": {},
   "source": [
    "![Order Pickup Time With Weekend](images/order_pickup_time_weekend.png)"
   ]
  },
  {
   "attachments": {},
   "cell_type": "markdown",
   "id": "a3577cd4",
   "metadata": {},
   "source": [
    "#### **Observations**\n",
    "- Same here, we see that the weekend has a big effect on the effective order cycle time from the customers perspective. For our root-cause analysis we'll take out the weekend here, as well. \n",
    "\n",
    "- In an ideal world the order pickup time should be 1 or 2 days for standard processing and 0 or 1 days for express. \n",
    "\n",
    "- The ship mode has an impact on the order pickup time.\n",
    "\n",
    "- We see that truck availability has an impact on the order pickup time. We'll explore this with our data.\n",
    "\n",
    "- We see that the day of order has an impact on the pickup order time. We'll explore this with our data.\n",
    "\n",
    "#### Next steps\n",
    "- Draw process without weekend\n",
    "\n",
    "- Investigate impact of ship mode and confirm our assumption with data.\n",
    "\n",
    "- Investigate relationship with weekday of 'ready to ship' and confirm our assumption with data.\n",
    "\n",
    "- Investigate impact of truck availability and confirm our assumption with data.\n"
   ]
  },
  {
   "attachments": {},
   "cell_type": "markdown",
   "id": "d0352d1d",
   "metadata": {},
   "source": [
    "The cell below contains a possible solution.\n",
    "To compare your solution simply double click on the cell and add a **`)`** at the end\n"
   ]
  },
  {
   "attachments": {},
   "cell_type": "markdown",
   "id": "e782146e",
   "metadata": {},
   "source": [
    "![Order Pickup Time No Weekend](images/order_pickup_time_no_weekend.png)"
   ]
  },
  {
   "attachments": {},
   "cell_type": "markdown",
   "id": "7681577a",
   "metadata": {},
   "source": [
    "#### **Observations**\n",
    "- In an ideal world the order pick time should be 1 or 2 days for standard processing and 0 or 1 days for express. \n",
    "\n",
    "- The ship mode is affecting the pickup order time.\n",
    "\n",
    "- We see that truck availability has an impact one the order pickup time. We'll explore this with our data.\n",
    "\n",
    "- The day of order is impacting the pickup time.\n",
    "\n",
    "\n",
    "#### Next steps\n",
    "- Investigate impact of ship mode and confirm our assumption with data.\n",
    "\n",
    "- Investigate relationship with weekday of 'ready to ship' and confirm our assumption with data.\n",
    "\n",
    "- Investigate impact of truck availability and confirm our assumption with data.\n"
   ]
  },
  {
   "cell_type": "code",
   "execution_count": null,
   "id": "ab3d4d6f",
   "metadata": {},
   "outputs": [],
   "source": [
    "# order pick up\n",
    "# convert the \"on_truck_scan_date\" to datetime and save as on the same column 'on_truck_scan_date'\n",
    "pickup_time['_______'] = pd.to_datetime(pickup_time[\"on_truck_scan_date\"])\n",
    "\n",
    "# doing the same for \"ready_to_ship_date\",using .to_datetime \n",
    "pickup_time['ready_to_ship_date'] = pd.______(pickup_time[\"________\"])\n",
    "\n",
    "# We are excluding the weekends using np.busday_count on every data entry for both columns.\n",
    "# It takes only business days into account between the 2 dates i.e. number of days that are working\n",
    "# days between \"ready_to_ship_date\" and \"on_truck_scan_date\"\n",
    "pickup_time['pickup_time_delta_no_weekend'] = pickup_time.apply(lambda row: np.busday_count(\n",
    "                                                                        row['ready_to_ship_date'].date(), \n",
    "                                                                        row['on_truck_scan_date'].date()),axis=1)\n"
   ]
  },
  {
   "attachments": {},
   "cell_type": "markdown",
   "id": "1d65aea6",
   "metadata": {},
   "source": [
    "<details>\n",
    "\n",
    "<summary>Spoiler</summary>\n",
    "\n",
    "```python\n",
    "\n",
    "# order pick up\n",
    "# convert the \"on_truck_scan_date\" to datetime and save as on the same column 'on_truck_scan_date'\n",
    "pickup_time['on_truck_scan_date'] = pd.to_datetime(pickup_time[\"on_truck_scan_date\"])\n",
    "\n",
    "# doing the same for \"ready_to_ship_date\",using to_datetime \n",
    "pickup_time['ready_to_ship_date'] = pd.to_datetime(pickup_time[\"ready_to_ship_date\"])\n",
    "\n",
    "# We are excluding the weekends using np.busday_count on every data entry for both columns.\n",
    "# It takes only business days into account between the 2 dates i.e. number of days that are working\n",
    "# days between \"ready_to_ship_date\" and \"on_truck_scan_date\"\n",
    "pickup_time['pickup_time_delta_no_weekend'] = pickup_time.apply(lambda row: np.busday_count(\n",
    "                                                                        row['ready_to_ship_date'].date(), \n",
    "                                                                        row['on_truck_scan_date'].date()),axis=1)\n",
    "\n",
    "```\n",
    "</details>"
   ]
  },
  {
   "cell_type": "code",
   "execution_count": null,
   "id": "a601f6e4",
   "metadata": {},
   "outputs": [
    {
     "name": "stderr",
     "output_type": "stream",
     "text": [
      "/var/folders/6y/fp51t1kd1_343ds2msjm1xtr0000gn/T/ipykernel_63270/200831547.py:2: FutureWarning: The default value of numeric_only in DataFrame.mean is deprecated. In a future version, it will default to False. In addition, specifying 'numeric_only=None' is deprecated. Select only valid columns or specify the value of numeric_only to silence this warning.\n",
      "  pickup_time[['pickup_time_delta_no_weekend','pickup_time_delta']].mean()\n"
     ]
    },
    {
     "data": {
      "text/plain": [
       "pickup_time_delta_no_weekend    1.357843\n",
       "dtype: float64"
      ]
     },
     "execution_count": 101,
     "metadata": {},
     "output_type": "execute_result"
    }
   ],
   "source": [
    "# Calculating the .mean() for the columns we are interested in i.e. with and without weekends\n",
    "pickup_time[['pickup_time_delta_no_weekend','pickup_time_delta']].mean()"
   ]
  },
  {
   "cell_type": "code",
   "execution_count": null,
   "id": "dcd54ae8",
   "metadata": {},
   "outputs": [
    {
     "data": {
      "text/plain": [
       "1.357843137254902"
      ]
     },
     "execution_count": 103,
     "metadata": {},
     "output_type": "execute_result"
    }
   ],
   "source": [
    "# Validating \n",
    "pickup_time['pickup_time_delta_no_weekend'].mean()"
   ]
  },
  {
   "attachments": {},
   "cell_type": "markdown",
   "id": "f3465c80",
   "metadata": {},
   "source": [
    "With only counting business days the average order pickup time is slightly less than the pickup time including the weekends."
   ]
  },
  {
   "attachments": {},
   "cell_type": "markdown",
   "id": "22c3e0ba",
   "metadata": {},
   "source": [
    "`As this KPI is directly affected by the ship mode`. We should split our dataset in two groups and confirm if the average meets our assumptions."
   ]
  },
  {
   "attachments": {},
   "cell_type": "markdown",
   "id": "154b6d1c",
   "metadata": {},
   "source": [
    "---\n",
    "## Step 1 - Order Pickup Time by Ship Mode"
   ]
  },
  {
   "cell_type": "code",
   "execution_count": null,
   "id": "f61285ef",
   "metadata": {},
   "outputs": [
    {
     "data": {
      "text/plain": [
       "Index(['order_id', 'ready_to_ship_date', 'pickup_date', 'order_date',\n",
       "       'on_truck_scan_date', 'ship_mode', 'pickup_time_delta',\n",
       "       'pickup_time_delta_int', 'order_weekday', 'on_truck_weekday',\n",
       "       'ready_to_ship_weekday', 'order_weekday_int', 'ready_to_ship_int',\n",
       "       'on_truck_int', 'pickup_time_delta_no_weekend'],\n",
       "      dtype='object')"
      ]
     },
     "execution_count": 104,
     "metadata": {},
     "output_type": "execute_result"
    }
   ],
   "source": [
    "# Retrieving the column names for the pickup_time\n",
    "\n",
    "pickup_time.columns"
   ]
  },
  {
   "attachments": {},
   "cell_type": "markdown",
   "id": "8f5967fa",
   "metadata": {},
   "source": [
    "#### Let's get average order cycle time KPIs broken down by ship mode"
   ]
  },
  {
   "cell_type": "code",
   "execution_count": null,
   "id": "a9fb77de",
   "metadata": {},
   "outputs": [
    {
     "data": {
      "text/html": [
       "<div>\n",
       "<style scoped>\n",
       "    .dataframe tbody tr th:only-of-type {\n",
       "        vertical-align: middle;\n",
       "    }\n",
       "\n",
       "    .dataframe tbody tr th {\n",
       "        vertical-align: top;\n",
       "    }\n",
       "\n",
       "    .dataframe thead th {\n",
       "        text-align: right;\n",
       "    }\n",
       "</style>\n",
       "<table border=\"1\" class=\"dataframe\">\n",
       "  <thead>\n",
       "    <tr style=\"text-align: right;\">\n",
       "      <th></th>\n",
       "      <th>order_count</th>\n",
       "      <th>avg_order_cycle_time</th>\n",
       "    </tr>\n",
       "    <tr>\n",
       "      <th>ship_mode</th>\n",
       "      <th></th>\n",
       "      <th></th>\n",
       "    </tr>\n",
       "  </thead>\n",
       "  <tbody>\n",
       "    <tr>\n",
       "      <th>Express</th>\n",
       "      <td>53</td>\n",
       "      <td>0.396226</td>\n",
       "    </tr>\n",
       "    <tr>\n",
       "      <th>Standard Processing</th>\n",
       "      <td>151</td>\n",
       "      <td>1.695364</td>\n",
       "    </tr>\n",
       "  </tbody>\n",
       "</table>\n",
       "</div>"
      ],
      "text/plain": [
       "                     order_count  avg_order_cycle_time\n",
       "ship_mode                                             \n",
       "Express                       53              0.396226\n",
       "Standard Processing          151              1.695364"
      ]
     },
     "execution_count": 105,
     "metadata": {},
     "output_type": "execute_result"
    }
   ],
   "source": [
    "# this here is called a lambda function: 'lambda x: x.nunique()' it enables to cound unique order_ids\n",
    "pickup_time_avg_by_ship_mode = pickup_time.groupby('ship_mode')\\\n",
    "                                .agg(order_count=('order_id',lambda x: x.nunique()),\n",
    "                                    avg_order_cycle_time=('pickup_time_delta_no_weekend','mean'))\n",
    "\n",
    "# let's take a look\n",
    "pickup_time_avg_by_ship_mode\n"
   ]
  },
  {
   "attachments": {},
   "cell_type": "markdown",
   "id": "9604e64a",
   "metadata": {},
   "source": [
    "#### **Observation**\n",
    "- The data-driven reality is longer for express shipping mode, it's 0.4 instead of 0 days. Investigate this further.\n",
    "\n",
    "- The data-driven reality is between 1 and 2 for standard shipping mode, with 1.7 it's closer to 2 days. Investigate this further.\n",
    "\n",
    "#### Next step \n",
    "- Study distributions of the average order pickup time for express and standard ship mode."
   ]
  },
  {
   "cell_type": "code",
   "execution_count": null,
   "id": "64d21ffe",
   "metadata": {},
   "outputs": [],
   "source": [
    "# For that, create two subsets of our data - one for Express, one for standard\n",
    "pickup_time_standard = pickup_time[pickup_time.ship_mode=='Standard Processing']\n",
    "pickup_time_express = pickup_time[pickup_time.ship_mode=='Express']"
   ]
  },
  {
   "attachments": {},
   "cell_type": "markdown",
   "id": "09c55b9a",
   "metadata": {},
   "source": [
    "#### Distribution for Order Pickup Time - Standard Processing"
   ]
  },
  {
   "cell_type": "code",
   "execution_count": null,
   "id": "86022a10",
   "metadata": {},
   "outputs": [
    {
     "data": {
      "text/plain": [
       "<seaborn.axisgrid.FacetGrid at 0x14e398fa0>"
      ]
     },
     "execution_count": 43,
     "metadata": {},
     "output_type": "execute_result"
    },
    {
     "data": {
      "image/png": "[encoded data removed]",
      "text/plain": [
       "<Figure size 769.875x500 with 1 Axes>"
      ]
     },
     "metadata": {},
     "output_type": "display_data"
    }
   ],
   "source": [
    "# Use seaborn displot to check the distribution on the \"order_id\" and \"pickup_time_delta_no_weekend\"\n",
    "___.____(pickup_time_standard[['order_id','_____']],discrete=True,shrink=.7)"
   ]
  },
  {
   "attachments": {},
   "cell_type": "markdown",
   "id": "647e2df9",
   "metadata": {},
   "source": [
    "<details>\n",
    "\n",
    "<summary>Spoiler</summary>\n",
    "\n",
    "```python\n",
    "# Use displot to check the distribution on the \"order_id\" and \"pickup_time_delta_no_weekend\"\n",
    "sns.displot(pickup_time_standard[['order_id','pickup_time_delta_no_weekend']],discrete=True,shrink=.7)\n",
    "\n",
    "```\n",
    "</details>"
   ]
  },
  {
   "attachments": {},
   "cell_type": "markdown",
   "id": "8a4853a7",
   "metadata": {},
   "source": [
    "#### **Observations**\n",
    "- Around 60% of standard orders need 2 or 3 days.\n",
    "\n",
    "- The ideal scenario where an order should only take 1 to be picked up happens in only 40% of cases."
   ]
  },
  {
   "attachments": {},
   "cell_type": "markdown",
   "id": "38a79b2b",
   "metadata": {},
   "source": [
    "#### Distribution for Order Pickup Time - Express Processing"
   ]
  },
  {
   "cell_type": "code",
   "execution_count": null,
   "id": "6f2bd302",
   "metadata": {},
   "outputs": [
    {
     "data": {
      "text/plain": [
       "<seaborn.axisgrid.FacetGrid at 0x14e924ee0>"
      ]
     },
     "execution_count": 44,
     "metadata": {},
     "output_type": "execute_result"
    },
    {
     "data": {
      "image/png": "[encoded data removed]",
      "text/plain": [
       "<Figure size 769.875x500 with 1 Axes>"
      ]
     },
     "metadata": {},
     "output_type": "display_data"
    }
   ],
   "source": [
    "# We do the same for the express processing now\n",
    "sns.displot(________[['_____','_____']],discrete=True,shrink=.7)"
   ]
  },
  {
   "attachments": {},
   "cell_type": "markdown",
   "id": "8f9dfb1e",
   "metadata": {},
   "source": [
    "\n",
    "\n",
    "<details>\n",
    "\n",
    "<summary>Spoiler</summary>\n",
    "\n",
    "```python\n",
    "\n",
    "# We do the same for the express processing now\n",
    "sns.displot(pickup_time_express[['order_id','pickup_time_delta_no_weekend']],discrete=True,shrink=.7)\n",
    "```\n",
    "</details>"
   ]
  },
  {
   "attachments": {},
   "cell_type": "markdown",
   "id": "9f873eaa",
   "metadata": {},
   "source": [
    "#### **Observations**\n",
    "- For express this looks better. the ideal scenario where an order should be picked up the same day happens in around 70% of cases.\n",
    "\n",
    "- In our small sample size is only one express order that took 2 days to be picked.\n",
    "\n",
    "- Around 30% of orders need 1 day for order pickup."
   ]
  },
  {
   "attachments": {},
   "cell_type": "markdown",
   "id": "6073ebe5",
   "metadata": {},
   "source": [
    "#### **Observation for combined view on standard versus express shipping mode**\n",
    "- We can confirm our assumption that the ship mode really has an effect on the order pickup time as the two subsets of our data are differently distributed.\n",
    "\n",
    "- The standard processing has order pickup time in 1 day only for 40% of cases. this might be due to the truck availability. we should investigate this further.\n",
    "\n",
    "#### Next step\n",
    "- Investigate relationship with weekday of order and confirm our assumption with data.\n",
    "\n",
    "- Investigate impact of truck availability and confirm our assumption with data."
   ]
  },
  {
   "attachments": {},
   "cell_type": "markdown",
   "id": "dfcef5dd",
   "metadata": {},
   "source": [
    "## Order Pickup time and weekday of order per ship mode"
   ]
  },
  {
   "cell_type": "code",
   "execution_count": null,
   "id": "23d1f764",
   "metadata": {},
   "outputs": [
    {
     "data": {
      "text/plain": [
       "Index(['order_id', 'ready_to_ship_date', 'pickup_date', 'order_date',\n",
       "       'on_truck_scan_date', 'ship_mode', 'pickup_time_delta',\n",
       "       'pickup_time_delta_int', 'order_weekday', 'on_truck_weekday',\n",
       "       'ready_to_ship_weekday', 'order_weekday_int', 'ready_to_ship_int',\n",
       "       'on_truck_int', 'pickup_time_delta_no_weekend'],\n",
       "      dtype='object')"
      ]
     },
     "execution_count": 45,
     "metadata": {},
     "output_type": "execute_result"
    }
   ],
   "source": [
    "# retrieving the columns for the dataframe pickup_time_standard\n",
    "pickup_time_standard._____"
   ]
  },
  {
   "attachments": {},
   "cell_type": "markdown",
   "id": "9e6a041a",
   "metadata": {},
   "source": [
    "<details>\n",
    "\n",
    "<summary>Spoiler</summary>\n",
    "\n",
    "```python\n",
    "\n",
    "# retrieving the columns for the dataframe pickup_time_standard\n",
    "pickup_time_standard.columns\n",
    "\n",
    "```\n",
    "</details>"
   ]
  },
  {
   "attachments": {},
   "cell_type": "markdown",
   "id": "c5358dd1",
   "metadata": {},
   "source": [
    "### Standard Processing"
   ]
  },
  {
   "cell_type": "code",
   "execution_count": null,
   "id": "dd9e2a35",
   "metadata": {},
   "outputs": [],
   "source": [
    "# this here is called a lambda function: 'lambda x: x.nunique()' it enables to cound unique order_ids\n",
    "pickup_time_standard_by_weekday = pickup_time_standard.groupby([\"ready_to_ship_weekday\",\"ready_to_ship_int\"]).agg(\n",
    "                                        order_count=('order_id',lambda x: x.nunique()),\n",
    "                                        avg_pickup_time_no_weekend=('pickup_time_delta_no_weekend','mean')\n",
    "                                        )\n",
    "pickup_time_standard_by_weekday.sort_values('ready_to_ship_int', inplace=True)"
   ]
  },
  {
   "cell_type": "code",
   "execution_count": null,
   "id": "1a3b61a4",
   "metadata": {},
   "outputs": [
    {
     "data": {
      "text/plain": [
       "<Axes: xlabel='ready_to_ship_weekday', ylabel='avg_pickup_time_no_weekend'>"
      ]
     },
     "execution_count": 47,
     "metadata": {},
     "output_type": "execute_result"
    },
    {
     "data": {
      "image/png": "[encoded data removed]",
      "text/plain": [
       "<Figure size 640x480 with 1 Axes>"
      ]
     },
     "metadata": {},
     "output_type": "display_data"
    }
   ],
   "source": [
    "# Plotting a sns.scatterplot with \"ready_to_ship_weekday\" on the x-axis and \"avg_pickup_time_no_weekend\"\n",
    "# on the y-axis\n",
    "____(x = \"_____\", \n",
    "               ___ = \"avg_pickup_time_no_weekend\", \n",
    "               data = pickup_time_standard_by_weekday)"
   ]
  },
  {
   "attachments": {},
   "cell_type": "markdown",
   "id": "8dc3e01f",
   "metadata": {},
   "source": [
    "<details>\n",
    "\n",
    "<summary>Spoiler</summary>\n",
    "\n",
    "```python\n",
    "\n",
    "# Plotting a scatterplot with \"ready_to_ship_weekday\" on the x-axis and \"avg_pickup_time_no_weekend\"\n",
    "# on the y-axis\n",
    "sns.scatterplot(x = \"ready_to_ship_weekday\", \n",
    "               y = \"avg_pickup_time_no_weekend\", \n",
    "               data = pickup_time_standard_by_weekday)\n",
    "\n",
    "```\n",
    "</details>"
   ]
  },
  {
   "cell_type": "code",
   "execution_count": null,
   "id": "d08d755b",
   "metadata": {},
   "outputs": [
    {
     "data": {
      "text/html": [
       "<div>\n",
       "<style scoped>\n",
       "    .dataframe tbody tr th:only-of-type {\n",
       "        vertical-align: middle;\n",
       "    }\n",
       "\n",
       "    .dataframe tbody tr th {\n",
       "        vertical-align: top;\n",
       "    }\n",
       "\n",
       "    .dataframe thead th {\n",
       "        text-align: right;\n",
       "    }\n",
       "</style>\n",
       "<table border=\"1\" class=\"dataframe\">\n",
       "  <thead>\n",
       "    <tr style=\"text-align: right;\">\n",
       "      <th></th>\n",
       "      <th></th>\n",
       "      <th>order_count</th>\n",
       "      <th>avg_pickup_time_no_weekend</th>\n",
       "    </tr>\n",
       "    <tr>\n",
       "      <th>ready_to_ship_weekday</th>\n",
       "      <th>ready_to_ship_int</th>\n",
       "      <th></th>\n",
       "      <th></th>\n",
       "    </tr>\n",
       "  </thead>\n",
       "  <tbody>\n",
       "    <tr>\n",
       "      <th>Monday</th>\n",
       "      <th>1</th>\n",
       "      <td>74</td>\n",
       "      <td>2.162162</td>\n",
       "    </tr>\n",
       "    <tr>\n",
       "      <th>Tuesday</th>\n",
       "      <th>2</th>\n",
       "      <td>24</td>\n",
       "      <td>1.125000</td>\n",
       "    </tr>\n",
       "    <tr>\n",
       "      <th>Wednesday</th>\n",
       "      <th>3</th>\n",
       "      <td>16</td>\n",
       "      <td>2.000000</td>\n",
       "    </tr>\n",
       "    <tr>\n",
       "      <th>Thursday</th>\n",
       "      <th>4</th>\n",
       "      <td>15</td>\n",
       "      <td>1.000000</td>\n",
       "    </tr>\n",
       "    <tr>\n",
       "      <th>Friday</th>\n",
       "      <th>5</th>\n",
       "      <td>22</td>\n",
       "      <td>1.000000</td>\n",
       "    </tr>\n",
       "  </tbody>\n",
       "</table>\n",
       "</div>"
      ],
      "text/plain": [
       "                                         order_count  \\\n",
       "ready_to_ship_weekday ready_to_ship_int                \n",
       "Monday                1                           74   \n",
       "Tuesday               2                           24   \n",
       "Wednesday             3                           16   \n",
       "Thursday              4                           15   \n",
       "Friday                5                           22   \n",
       "\n",
       "                                         avg_pickup_time_no_weekend  \n",
       "ready_to_ship_weekday ready_to_ship_int                              \n",
       "Monday                1                                    2.162162  \n",
       "Tuesday               2                                    1.125000  \n",
       "Wednesday             3                                    2.000000  \n",
       "Thursday              4                                    1.000000  \n",
       "Friday                5                                    1.000000  "
      ]
     },
     "execution_count": 109,
     "metadata": {},
     "output_type": "execute_result"
    }
   ],
   "source": [
    "# Displaying the table by weekday\n",
    "pickup_time_standard_by_weekday"
   ]
  },
  {
   "cell_type": "code",
   "execution_count": null,
   "id": "8cb40911",
   "metadata": {},
   "outputs": [],
   "source": [
    "# let's compare this to what the manager told us about the delivery times for standard and express\n",
    "# we do this by adding a new column with the warehouse assumptions for the order cycle time.\n",
    "pickup_time_standard_by_weekday['warehouse_assumption'] = ['2','1','2','1','1']"
   ]
  },
  {
   "cell_type": "code",
   "execution_count": null,
   "id": "0d3c9348",
   "metadata": {},
   "outputs": [
    {
     "data": {
      "text/html": [
       "<div>\n",
       "<style scoped>\n",
       "    .dataframe tbody tr th:only-of-type {\n",
       "        vertical-align: middle;\n",
       "    }\n",
       "\n",
       "    .dataframe tbody tr th {\n",
       "        vertical-align: top;\n",
       "    }\n",
       "\n",
       "    .dataframe thead th {\n",
       "        text-align: right;\n",
       "    }\n",
       "</style>\n",
       "<table border=\"1\" class=\"dataframe\">\n",
       "  <thead>\n",
       "    <tr style=\"text-align: right;\">\n",
       "      <th></th>\n",
       "      <th></th>\n",
       "      <th>order_count</th>\n",
       "      <th>avg_pickup_time_no_weekend</th>\n",
       "      <th>warehouse_assumption</th>\n",
       "    </tr>\n",
       "    <tr>\n",
       "      <th>ready_to_ship_weekday</th>\n",
       "      <th>ready_to_ship_int</th>\n",
       "      <th></th>\n",
       "      <th></th>\n",
       "      <th></th>\n",
       "    </tr>\n",
       "  </thead>\n",
       "  <tbody>\n",
       "    <tr>\n",
       "      <th>Monday</th>\n",
       "      <th>1</th>\n",
       "      <td>74</td>\n",
       "      <td>2.162162</td>\n",
       "      <td>2</td>\n",
       "    </tr>\n",
       "    <tr>\n",
       "      <th>Tuesday</th>\n",
       "      <th>2</th>\n",
       "      <td>24</td>\n",
       "      <td>1.125000</td>\n",
       "      <td>1</td>\n",
       "    </tr>\n",
       "    <tr>\n",
       "      <th>Wednesday</th>\n",
       "      <th>3</th>\n",
       "      <td>16</td>\n",
       "      <td>2.000000</td>\n",
       "      <td>2</td>\n",
       "    </tr>\n",
       "    <tr>\n",
       "      <th>Thursday</th>\n",
       "      <th>4</th>\n",
       "      <td>15</td>\n",
       "      <td>1.000000</td>\n",
       "      <td>1</td>\n",
       "    </tr>\n",
       "    <tr>\n",
       "      <th>Friday</th>\n",
       "      <th>5</th>\n",
       "      <td>22</td>\n",
       "      <td>1.000000</td>\n",
       "      <td>1</td>\n",
       "    </tr>\n",
       "  </tbody>\n",
       "</table>\n",
       "</div>"
      ],
      "text/plain": [
       "                                         order_count  \\\n",
       "ready_to_ship_weekday ready_to_ship_int                \n",
       "Monday                1                           74   \n",
       "Tuesday               2                           24   \n",
       "Wednesday             3                           16   \n",
       "Thursday              4                           15   \n",
       "Friday                5                           22   \n",
       "\n",
       "                                         avg_pickup_time_no_weekend  \\\n",
       "ready_to_ship_weekday ready_to_ship_int                               \n",
       "Monday                1                                    2.162162   \n",
       "Tuesday               2                                    1.125000   \n",
       "Wednesday             3                                    2.000000   \n",
       "Thursday              4                                    1.000000   \n",
       "Friday                5                                    1.000000   \n",
       "\n",
       "                                        warehouse_assumption  \n",
       "ready_to_ship_weekday ready_to_ship_int                       \n",
       "Monday                1                                    2  \n",
       "Tuesday               2                                    1  \n",
       "Wednesday             3                                    2  \n",
       "Thursday              4                                    1  \n",
       "Friday                5                                    1  "
      ]
     },
     "execution_count": 111,
     "metadata": {},
     "output_type": "execute_result"
    }
   ],
   "source": [
    "# Adding the warehouse assumption\n",
    "\n",
    "pickup_time_standard_by_weekday"
   ]
  },
  {
   "attachments": {},
   "cell_type": "markdown",
   "id": "f2ff8912",
   "metadata": {},
   "source": [
    "#### **Observations**\n",
    "\n",
    "- We see in our small sample most orders are made readty to be picked up on monday (50%)\n",
    "\n",
    "- We see orders that are ready to ship on monday and wednesday take on average 2 days\n",
    "\n",
    "- Orders ready to ship on thursday or friday take only 1 day to be ready for pickup.\n",
    "\n",
    "- Average pickup times for standard processing on mostly in line with the warehouse assumptions."
   ]
  },
  {
   "attachments": {},
   "cell_type": "markdown",
   "id": "b3cc1a2c",
   "metadata": {},
   "source": [
    "### Express Processing"
   ]
  },
  {
   "cell_type": "code",
   "execution_count": null,
   "id": "0ad8aa7b",
   "metadata": {},
   "outputs": [],
   "source": [
    "# this here is called a lambda function: 'lambda x: x.nunique()' it enables to cound unique order_ids\n",
    "pickup_time_express_by_weekday = pickup_time_express.groupby([\"ready_to_ship_weekday\",\"ready_to_ship_int\"]).agg(\n",
    "                                        order_count=('order_id',lambda x: x.nunique()),\n",
    "                                        avg_pickup_time_no_weekend=('pickup_time_delta_no_weekend','mean')\n",
    "                                        )\n",
    "pickup_time_express_by_weekday.sort_values('ready_to_ship_int', inplace=True)"
   ]
  },
  {
   "cell_type": "code",
   "execution_count": null,
   "id": "7c7cd2da",
   "metadata": {},
   "outputs": [
    {
     "data": {
      "text/plain": [
       "<Axes: xlabel='ready_to_ship_weekday', ylabel='avg_pickup_time_no_weekend'>"
      ]
     },
     "execution_count": 53,
     "metadata": {},
     "output_type": "execute_result"
    },
    {
     "data": {
      "image/png": "[encoded data removed]",
      "text/plain": [
       "<Figure size 640x480 with 1 Axes>"
      ]
     },
     "metadata": {},
     "output_type": "display_data"
    }
   ],
   "source": [
    "# try plotting the same scatterplot for Express Processing that we did for Standard Processing \n",
    "# data = pickup_time_express_by_weekday\n",
    "\n",
    "______.______(x = \"_________\", \n",
    "               y = \"___________\", \n",
    "               data = _________)"
   ]
  },
  {
   "attachments": {},
   "cell_type": "markdown",
   "id": "826c3c2c",
   "metadata": {},
   "source": [
    "<details>\n",
    "\n",
    "<summary>Answer</summary>\n",
    "\n",
    "```python\n",
    "\n",
    "# try plotting the same scatterplot that we did for Standard Processing \n",
    "sns.scatterplot(x = \"ready_to_ship_weekday\", \n",
    "               y = \"avg_pickup_time_no_weekend\", \n",
    "               data = pickup_time_express_by_weekday)\n",
    "               \n",
    "```\n",
    "</details>"
   ]
  },
  {
   "cell_type": "code",
   "execution_count": null,
   "id": "1ba1e2be",
   "metadata": {},
   "outputs": [
    {
     "data": {
      "text/html": [
       "<div>\n",
       "<style scoped>\n",
       "    .dataframe tbody tr th:only-of-type {\n",
       "        vertical-align: middle;\n",
       "    }\n",
       "\n",
       "    .dataframe tbody tr th {\n",
       "        vertical-align: top;\n",
       "    }\n",
       "\n",
       "    .dataframe thead th {\n",
       "        text-align: right;\n",
       "    }\n",
       "</style>\n",
       "<table border=\"1\" class=\"dataframe\">\n",
       "  <thead>\n",
       "    <tr style=\"text-align: right;\">\n",
       "      <th></th>\n",
       "      <th></th>\n",
       "      <th>order_count</th>\n",
       "      <th>avg_pickup_time_no_weekend</th>\n",
       "    </tr>\n",
       "    <tr>\n",
       "      <th>ready_to_ship_weekday</th>\n",
       "      <th>ready_to_ship_int</th>\n",
       "      <th></th>\n",
       "      <th></th>\n",
       "    </tr>\n",
       "  </thead>\n",
       "  <tbody>\n",
       "    <tr>\n",
       "      <th>Monday</th>\n",
       "      <th>1</th>\n",
       "      <td>19</td>\n",
       "      <td>0.052632</td>\n",
       "    </tr>\n",
       "    <tr>\n",
       "      <th>Tuesday</th>\n",
       "      <th>2</th>\n",
       "      <td>5</td>\n",
       "      <td>1.200000</td>\n",
       "    </tr>\n",
       "    <tr>\n",
       "      <th>Wednesday</th>\n",
       "      <th>3</th>\n",
       "      <td>7</td>\n",
       "      <td>0.142857</td>\n",
       "    </tr>\n",
       "    <tr>\n",
       "      <th>Thursday</th>\n",
       "      <th>4</th>\n",
       "      <td>13</td>\n",
       "      <td>1.000000</td>\n",
       "    </tr>\n",
       "    <tr>\n",
       "      <th>Friday</th>\n",
       "      <th>5</th>\n",
       "      <td>9</td>\n",
       "      <td>0.000000</td>\n",
       "    </tr>\n",
       "  </tbody>\n",
       "</table>\n",
       "</div>"
      ],
      "text/plain": [
       "                                         order_count  \\\n",
       "ready_to_ship_weekday ready_to_ship_int                \n",
       "Monday                1                           19   \n",
       "Tuesday               2                            5   \n",
       "Wednesday             3                            7   \n",
       "Thursday              4                           13   \n",
       "Friday                5                            9   \n",
       "\n",
       "                                         avg_pickup_time_no_weekend  \n",
       "ready_to_ship_weekday ready_to_ship_int                              \n",
       "Monday                1                                    0.052632  \n",
       "Tuesday               2                                    1.200000  \n",
       "Wednesday             3                                    0.142857  \n",
       "Thursday              4                                    1.000000  \n",
       "Friday                5                                    0.000000  "
      ]
     },
     "execution_count": 54,
     "metadata": {},
     "output_type": "execute_result"
    }
   ],
   "source": [
    "pickup_time_express_by_weekday"
   ]
  },
  {
   "cell_type": "code",
   "execution_count": null,
   "id": "6a807b04",
   "metadata": {},
   "outputs": [],
   "source": [
    "# let's compare this to what the manager told us about the delivery times for standard and express\n",
    "# we do this by adding a new column with the warehouse assumptions for the order cycle time.\n",
    "pickup_time_express_by_weekday['warehouse_assumption'] = ['0','1','0','1','0']"
   ]
  },
  {
   "cell_type": "code",
   "execution_count": null,
   "id": "82f0efec",
   "metadata": {},
   "outputs": [
    {
     "data": {
      "text/html": [
       "<div>\n",
       "<style scoped>\n",
       "    .dataframe tbody tr th:only-of-type {\n",
       "        vertical-align: middle;\n",
       "    }\n",
       "\n",
       "    .dataframe tbody tr th {\n",
       "        vertical-align: top;\n",
       "    }\n",
       "\n",
       "    .dataframe thead th {\n",
       "        text-align: right;\n",
       "    }\n",
       "</style>\n",
       "<table border=\"1\" class=\"dataframe\">\n",
       "  <thead>\n",
       "    <tr style=\"text-align: right;\">\n",
       "      <th></th>\n",
       "      <th></th>\n",
       "      <th>order_count</th>\n",
       "      <th>avg_pickup_time_no_weekend</th>\n",
       "      <th>warehouse_assumption</th>\n",
       "    </tr>\n",
       "    <tr>\n",
       "      <th>ready_to_ship_weekday</th>\n",
       "      <th>ready_to_ship_int</th>\n",
       "      <th></th>\n",
       "      <th></th>\n",
       "      <th></th>\n",
       "    </tr>\n",
       "  </thead>\n",
       "  <tbody>\n",
       "    <tr>\n",
       "      <th>Monday</th>\n",
       "      <th>1</th>\n",
       "      <td>19</td>\n",
       "      <td>0.052632</td>\n",
       "      <td>0</td>\n",
       "    </tr>\n",
       "    <tr>\n",
       "      <th>Tuesday</th>\n",
       "      <th>2</th>\n",
       "      <td>5</td>\n",
       "      <td>1.200000</td>\n",
       "      <td>1</td>\n",
       "    </tr>\n",
       "    <tr>\n",
       "      <th>Wednesday</th>\n",
       "      <th>3</th>\n",
       "      <td>7</td>\n",
       "      <td>0.142857</td>\n",
       "      <td>0</td>\n",
       "    </tr>\n",
       "    <tr>\n",
       "      <th>Thursday</th>\n",
       "      <th>4</th>\n",
       "      <td>13</td>\n",
       "      <td>1.000000</td>\n",
       "      <td>1</td>\n",
       "    </tr>\n",
       "    <tr>\n",
       "      <th>Friday</th>\n",
       "      <th>5</th>\n",
       "      <td>9</td>\n",
       "      <td>0.000000</td>\n",
       "      <td>0</td>\n",
       "    </tr>\n",
       "  </tbody>\n",
       "</table>\n",
       "</div>"
      ],
      "text/plain": [
       "                                         order_count  \\\n",
       "ready_to_ship_weekday ready_to_ship_int                \n",
       "Monday                1                           19   \n",
       "Tuesday               2                            5   \n",
       "Wednesday             3                            7   \n",
       "Thursday              4                           13   \n",
       "Friday                5                            9   \n",
       "\n",
       "                                         avg_pickup_time_no_weekend  \\\n",
       "ready_to_ship_weekday ready_to_ship_int                               \n",
       "Monday                1                                    0.052632   \n",
       "Tuesday               2                                    1.200000   \n",
       "Wednesday             3                                    0.142857   \n",
       "Thursday              4                                    1.000000   \n",
       "Friday                5                                    0.000000   \n",
       "\n",
       "                                        warehouse_assumption  \n",
       "ready_to_ship_weekday ready_to_ship_int                       \n",
       "Monday                1                                    0  \n",
       "Tuesday               2                                    1  \n",
       "Wednesday             3                                    0  \n",
       "Thursday              4                                    1  \n",
       "Friday                5                                    0  "
      ]
     },
     "execution_count": 114,
     "metadata": {},
     "output_type": "execute_result"
    }
   ],
   "source": [
    "pickup_time_express_by_weekday"
   ]
  },
  {
   "attachments": {},
   "cell_type": "markdown",
   "id": "a705bc58",
   "metadata": {},
   "source": [
    "#### **Observations**\n",
    "\n",
    "- We see in our small sample most orders are made ready to be picked up on monday and thursday (65%)\n",
    "\n",
    "- We see orders that are ready to ship on tuesday and thursday take on average 1 day with one outlier that takes 2 days.\n",
    "\n",
    "- Orders ready to ship on monday, wednesday and friday are to be ready for pickup the same day.\n",
    "\n",
    "- Average pickup times for express processing are pretty much in line with the warehouse assumptions. \n",
    "\n",
    "- We see the impact of truck availability is as expected."
   ]
  },
  {
   "attachments": {},
   "cell_type": "markdown",
   "id": "b9ddea30",
   "metadata": {},
   "source": [
    "### Summary of observations for order pickup time - it's a wrap\n",
    "\n",
    "- Impact of truck availability and weekday of ready to ship is in line with our assumption.\n",
    "\n",
    "- Monday seems to be a bottleneck: for standard processing the fact that half of all order were ready to ship on monday has a negative effect on the total average order pickup time. \n",
    "\n",
    "- Overall we have only 204 data points. In order to identify trends and be less affected by outliers, we need to collect more data.\n",
    "\n",
    "#### Next steps\n",
    "- Collect more data!\n",
    "\n",
    "- Take these insights back to your team and brainstorm together. \n",
    "\n",
    "- Feedback loop with the warehouse manager.\n",
    "\n",
    "- Brainstorm and discuss new ideas:\n",
    "    - public holidays?\n",
    "    - time of day the order was placed?\n"
   ]
  },
  {
   "cell_type": "code",
   "execution_count": null,
   "id": "85480964",
   "metadata": {},
   "outputs": [],
   "source": []
  }
 ],
 "metadata": {
  "kernelspec": {
   "display_name": "Python 3 (ipykernel)",
   "language": "python",
   "name": "python3"
  },
  "language_info": {
   "codemirror_mode": {
    "name": "ipython",
    "version": 3
   },
   "file_extension": ".py",
   "mimetype": "text/x-python",
   "name": "python",
   "nbconvert_exporter": "python",
   "pygments_lexer": "ipython3",
   "version": "3.9.17"
  }
 },
 "nbformat": 4,
 "nbformat_minor": 5
}
