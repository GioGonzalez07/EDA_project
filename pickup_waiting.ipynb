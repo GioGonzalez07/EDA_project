{
 "cells": [
  {
   "cell_type": "code",
   "execution_count": 16,
   "metadata": {},
   "outputs": [],
   "source": [
    "# imports\n",
    "\n",
    "# standard import of pandas\n",
    "import pandas as pd\n",
    "import matplotlib.pyplot as plt\n",
    "import seaborn as sns"
   ]
  },
  {
   "cell_type": "code",
   "execution_count": 2,
   "metadata": {},
   "outputs": [],
   "source": [
    "# Floats (decimal numbers) should be displayed rounded with 2 decimal places\n",
    "pd.options.display.float_format = \"{:,.2f}\".format\n",
    "# Set style for plots\n",
    "plt.style.use('fivethirtyeight') "
   ]
  },
  {
   "cell_type": "code",
   "execution_count": 3,
   "metadata": {},
   "outputs": [],
   "source": [
    "# getting dataframe\n",
    "\n",
    "%store -r final_merge\n",
    "%store -r lead_time"
   ]
  },
  {
   "cell_type": "markdown",
   "metadata": {},
   "source": [
    "### Pickup Waiting time = time between ready_to_be_shipped & pickup_date)"
   ]
  },
  {
   "cell_type": "code",
   "execution_count": 4,
   "metadata": {},
   "outputs": [
    {
     "data": {
      "text/html": [
       "<div>\n",
       "<style scoped>\n",
       "    .dataframe tbody tr th:only-of-type {\n",
       "        vertical-align: middle;\n",
       "    }\n",
       "\n",
       "    .dataframe tbody tr th {\n",
       "        vertical-align: top;\n",
       "    }\n",
       "\n",
       "    .dataframe thead th {\n",
       "        text-align: right;\n",
       "    }\n",
       "</style>\n",
       "<table border=\"1\" class=\"dataframe\">\n",
       "  <thead>\n",
       "    <tr style=\"text-align: right;\">\n",
       "      <th></th>\n",
       "      <th>order_id</th>\n",
       "      <th>order_date</th>\n",
       "      <th>state</th>\n",
       "      <th>region</th>\n",
       "      <th>ship_mode</th>\n",
       "      <th>ready_to_ship_date</th>\n",
       "      <th>pickup_date</th>\n",
       "      <th>arrival_scan_date</th>\n",
       "    </tr>\n",
       "  </thead>\n",
       "  <tbody>\n",
       "    <tr>\n",
       "      <th>2996</th>\n",
       "      <td>CA-2020-104388</td>\n",
       "      <td>2020-07-05</td>\n",
       "      <td>Nebraska</td>\n",
       "      <td>Central</td>\n",
       "      <td>Express</td>\n",
       "      <td>NaT</td>\n",
       "      <td>2020-07-08</td>\n",
       "      <td>NaT</td>\n",
       "    </tr>\n",
       "    <tr>\n",
       "      <th>2894</th>\n",
       "      <td>CA-2020-134796</td>\n",
       "      <td>2020-06-25</td>\n",
       "      <td>Illinois</td>\n",
       "      <td>Central</td>\n",
       "      <td>Standard Processing</td>\n",
       "      <td>NaT</td>\n",
       "      <td>2020-07-03</td>\n",
       "      <td>NaT</td>\n",
       "    </tr>\n",
       "  </tbody>\n",
       "</table>\n",
       "</div>"
      ],
      "text/plain": [
       "            order_id order_date     state   region            ship_mode  \\\n",
       "2996  CA-2020-104388 2020-07-05  Nebraska  Central              Express   \n",
       "2894  CA-2020-134796 2020-06-25  Illinois  Central  Standard Processing   \n",
       "\n",
       "     ready_to_ship_date pickup_date arrival_scan_date  \n",
       "2996                NaT  2020-07-08               NaT  \n",
       "2894                NaT  2020-07-03               NaT  "
      ]
     },
     "execution_count": 4,
     "metadata": {},
     "output_type": "execute_result"
    }
   ],
   "source": [
    "final_merge.sample(2)"
   ]
  },
  {
   "cell_type": "code",
   "execution_count": 5,
   "metadata": {},
   "outputs": [
    {
     "data": {
      "text/html": [
       "<div>\n",
       "<style scoped>\n",
       "    .dataframe tbody tr th:only-of-type {\n",
       "        vertical-align: middle;\n",
       "    }\n",
       "\n",
       "    .dataframe tbody tr th {\n",
       "        vertical-align: top;\n",
       "    }\n",
       "\n",
       "    .dataframe thead th {\n",
       "        text-align: right;\n",
       "    }\n",
       "</style>\n",
       "<table border=\"1\" class=\"dataframe\">\n",
       "  <thead>\n",
       "    <tr style=\"text-align: right;\">\n",
       "      <th></th>\n",
       "      <th>state</th>\n",
       "      <th>region</th>\n",
       "      <th>order_date</th>\n",
       "      <th>ready_to_ship_date</th>\n",
       "      <th>pickup_date</th>\n",
       "    </tr>\n",
       "  </thead>\n",
       "  <tbody>\n",
       "    <tr>\n",
       "      <th>0</th>\n",
       "      <td>California</td>\n",
       "      <td>West</td>\n",
       "      <td>2019-01-16</td>\n",
       "      <td>NaT</td>\n",
       "      <td>2019-01-23</td>\n",
       "    </tr>\n",
       "  </tbody>\n",
       "</table>\n",
       "</div>"
      ],
      "text/plain": [
       "        state region order_date ready_to_ship_date pickup_date\n",
       "0  California   West 2019-01-16                NaT  2019-01-23"
      ]
     },
     "execution_count": 5,
     "metadata": {},
     "output_type": "execute_result"
    }
   ],
   "source": [
    "# Create new data frame\n",
    "pickup_waiting = final_merge.copy()\n",
    "\n",
    "## keep only necessary columns\n",
    "pickup_waiting = pickup_waiting.filter(items=[\"state\", \"region\", \"order_date\", \"ready_to_ship_date\", \"pickup_date\"]).copy()\n",
    "pickup_waiting.head(1)"
   ]
  },
  {
   "cell_type": "code",
   "execution_count": 6,
   "metadata": {},
   "outputs": [],
   "source": [
    "# Drop rows if there are null values in column arrival scan date\n",
    "pickup_waiting.dropna(subset=['pickup_date'], inplace=True)\n",
    "\n",
    "# Same for read to be shipped\n",
    "pickup_waiting.dropna(subset=['ready_to_ship_date'], inplace=True)"
   ]
  },
  {
   "cell_type": "code",
   "execution_count": 7,
   "metadata": {},
   "outputs": [
    {
     "data": {
      "text/plain": [
       "0"
      ]
     },
     "execution_count": 7,
     "metadata": {},
     "output_type": "execute_result"
    }
   ],
   "source": [
    "# show me no. of cells that ARE NULL\n",
    "pickup_waiting['ready_to_ship_date'].isnull().sum()\n",
    "\n",
    "# show me no. of cells that ARE NULL\n",
    "pickup_waiting['pickup_date'].isnull().sum()"
   ]
  },
  {
   "cell_type": "code",
   "execution_count": 8,
   "metadata": {},
   "outputs": [
    {
     "data": {
      "text/plain": [
       "(204, 5)"
      ]
     },
     "execution_count": 8,
     "metadata": {},
     "output_type": "execute_result"
    }
   ],
   "source": [
    "pickup_waiting['ready_to_ship_date'].isnull().sum()\n",
    "pickup_waiting.shape"
   ]
  },
  {
   "cell_type": "code",
   "execution_count": 9,
   "metadata": {},
   "outputs": [
    {
     "data": {
      "text/plain": [
       "8      2 days\n",
       "17     1 days\n",
       "41     0 days\n",
       "80     2 days\n",
       "95     1 days\n",
       "        ...  \n",
       "4852   2 days\n",
       "4859   1 days\n",
       "4913   1 days\n",
       "4997   1 days\n",
       "5003   2 days\n",
       "Name: waiting_for_pickup, Length: 204, dtype: timedelta64[ns]"
      ]
     },
     "execution_count": 9,
     "metadata": {},
     "output_type": "execute_result"
    }
   ],
   "source": [
    "# Calculate time between Ready to be shipped & Pickup date\n",
    "pickup_waiting[\"waiting_for_pickup\"] = pickup_waiting[\"pickup_date\"] - pickup_waiting[\"ready_to_ship_date\"]\n",
    "\n",
    "# Display new column waiting_for_pickup and results \n",
    "pickup_waiting[\"waiting_for_pickup\"]"
   ]
  },
  {
   "cell_type": "code",
   "execution_count": 10,
   "metadata": {},
   "outputs": [
    {
     "data": {
      "text/html": [
       "<div>\n",
       "<style scoped>\n",
       "    .dataframe tbody tr th:only-of-type {\n",
       "        vertical-align: middle;\n",
       "    }\n",
       "\n",
       "    .dataframe tbody tr th {\n",
       "        vertical-align: top;\n",
       "    }\n",
       "\n",
       "    .dataframe thead th {\n",
       "        text-align: right;\n",
       "    }\n",
       "</style>\n",
       "<table border=\"1\" class=\"dataframe\">\n",
       "  <thead>\n",
       "    <tr style=\"text-align: right;\">\n",
       "      <th></th>\n",
       "      <th>state</th>\n",
       "      <th>region</th>\n",
       "      <th>order_date</th>\n",
       "      <th>ready_to_ship_date</th>\n",
       "      <th>pickup_date</th>\n",
       "      <th>waiting_for_pickup</th>\n",
       "      <th>waiting_for_pickup_i</th>\n",
       "    </tr>\n",
       "  </thead>\n",
       "  <tbody>\n",
       "    <tr>\n",
       "      <th>8</th>\n",
       "      <td>North Carolina</td>\n",
       "      <td>South</td>\n",
       "      <td>2020-11-23</td>\n",
       "      <td>2020-11-30</td>\n",
       "      <td>2020-12-02</td>\n",
       "      <td>2 days</td>\n",
       "      <td>2</td>\n",
       "    </tr>\n",
       "    <tr>\n",
       "      <th>17</th>\n",
       "      <td>California</td>\n",
       "      <td>West</td>\n",
       "      <td>2019-09-11</td>\n",
       "      <td>2019-09-17</td>\n",
       "      <td>2019-09-18</td>\n",
       "      <td>1 days</td>\n",
       "      <td>1</td>\n",
       "    </tr>\n",
       "    <tr>\n",
       "      <th>41</th>\n",
       "      <td>Missouri</td>\n",
       "      <td>Central</td>\n",
       "      <td>2020-11-26</td>\n",
       "      <td>2020-11-27</td>\n",
       "      <td>2020-11-27</td>\n",
       "      <td>0 days</td>\n",
       "      <td>0</td>\n",
       "    </tr>\n",
       "    <tr>\n",
       "      <th>80</th>\n",
       "      <td>New York</td>\n",
       "      <td>East</td>\n",
       "      <td>2019-09-06</td>\n",
       "      <td>2019-09-09</td>\n",
       "      <td>2019-09-11</td>\n",
       "      <td>2 days</td>\n",
       "      <td>2</td>\n",
       "    </tr>\n",
       "    <tr>\n",
       "      <th>95</th>\n",
       "      <td>Arizona</td>\n",
       "      <td>West</td>\n",
       "      <td>2020-11-10</td>\n",
       "      <td>2020-11-11</td>\n",
       "      <td>2020-11-12</td>\n",
       "      <td>1 days</td>\n",
       "      <td>1</td>\n",
       "    </tr>\n",
       "  </tbody>\n",
       "</table>\n",
       "</div>"
      ],
      "text/plain": [
       "             state   region order_date ready_to_ship_date pickup_date  \\\n",
       "8   North Carolina    South 2020-11-23         2020-11-30  2020-12-02   \n",
       "17      California     West 2019-09-11         2019-09-17  2019-09-18   \n",
       "41        Missouri  Central 2020-11-26         2020-11-27  2020-11-27   \n",
       "80        New York     East 2019-09-06         2019-09-09  2019-09-11   \n",
       "95         Arizona     West 2020-11-10         2020-11-11  2020-11-12   \n",
       "\n",
       "   waiting_for_pickup  waiting_for_pickup_i  \n",
       "8              2 days                     2  \n",
       "17             1 days                     1  \n",
       "41             0 days                     0  \n",
       "80             2 days                     2  \n",
       "95             1 days                     1  "
      ]
     },
     "execution_count": 10,
     "metadata": {},
     "output_type": "execute_result"
    }
   ],
   "source": [
    "# Create new column for Days in INT format in case we need this for calculating\n",
    "pickup_waiting[\"waiting_for_pickup_i\"] = pickup_waiting[\"waiting_for_pickup\"].dt.days\n",
    "pickup_waiting.head(5)"
   ]
  },
  {
   "cell_type": "markdown",
   "metadata": {},
   "source": [
    "### What is the avg. no of days waiting for pickup?"
   ]
  },
  {
   "cell_type": "code",
   "execution_count": 11,
   "metadata": {},
   "outputs": [
    {
     "data": {
      "text/plain": [
       "count   204.00\n",
       "mean      1.57\n",
       "std       0.95\n",
       "min       0.00\n",
       "25%       1.00\n",
       "50%       2.00\n",
       "75%       2.00\n",
       "max       3.00\n",
       "Name: waiting_for_pickup_i, dtype: float64"
      ]
     },
     "execution_count": 11,
     "metadata": {},
     "output_type": "execute_result"
    }
   ],
   "source": [
    "# describe  the data \n",
    "pickup_waiting[\"waiting_for_pickup_i\"].describe()\n",
    "\n",
    "# Avg waiting time for pickup is 2 days\n",
    "# max is 3 days\n",
    "# min is 1 day"
   ]
  },
  {
   "cell_type": "markdown",
   "metadata": {},
   "source": [
    "pickup_waiting[\"waiting_for_pickup_i\"].mode()\n"
   ]
  },
  {
   "cell_type": "markdown",
   "metadata": {},
   "source": [
    "### How many orders went over the 2 day time frame?"
   ]
  },
  {
   "cell_type": "code",
   "execution_count": 12,
   "metadata": {},
   "outputs": [
    {
     "data": {
      "text/plain": [
       "state                   34\n",
       "region                  34\n",
       "order_date              34\n",
       "ready_to_ship_date      34\n",
       "pickup_date             34\n",
       "waiting_for_pickup      34\n",
       "waiting_for_pickup_i    34\n",
       "dtype: int64"
      ]
     },
     "execution_count": 12,
     "metadata": {},
     "output_type": "execute_result"
    }
   ],
   "source": [
    "# show me data where orders waited 3 days for pickup\n",
    "# We have 34 cases from 204 orders, that were \n",
    "\n",
    "filt_pickup_waiting = pickup_waiting.loc[pickup_waiting['waiting_for_pickup_i'] >= 3]\n",
    "filt_pickup_waiting.count()"
   ]
  },
  {
   "cell_type": "markdown",
   "metadata": {},
   "source": [
    "### Are there days that cause some orders to take 3 days before being picked up?"
   ]
  },
  {
   "cell_type": "code",
   "execution_count": 13,
   "metadata": {},
   "outputs": [
    {
     "data": {
      "text/html": [
       "<div>\n",
       "<style scoped>\n",
       "    .dataframe tbody tr th:only-of-type {\n",
       "        vertical-align: middle;\n",
       "    }\n",
       "\n",
       "    .dataframe tbody tr th {\n",
       "        vertical-align: top;\n",
       "    }\n",
       "\n",
       "    .dataframe thead th {\n",
       "        text-align: right;\n",
       "    }\n",
       "</style>\n",
       "<table border=\"1\" class=\"dataframe\">\n",
       "  <thead>\n",
       "    <tr style=\"text-align: right;\">\n",
       "      <th></th>\n",
       "      <th>state</th>\n",
       "      <th>region</th>\n",
       "      <th>order_date</th>\n",
       "      <th>ready_to_ship_date</th>\n",
       "      <th>pickup_date</th>\n",
       "      <th>waiting_for_pickup</th>\n",
       "      <th>waiting_for_pickup_i</th>\n",
       "      <th>ready_ship_day</th>\n",
       "      <th>pickup_day</th>\n",
       "      <th>order_day</th>\n",
       "    </tr>\n",
       "  </thead>\n",
       "  <tbody>\n",
       "    <tr>\n",
       "      <th>8</th>\n",
       "      <td>North Carolina</td>\n",
       "      <td>South</td>\n",
       "      <td>2020-11-23</td>\n",
       "      <td>2020-11-30</td>\n",
       "      <td>2020-12-02</td>\n",
       "      <td>2 days</td>\n",
       "      <td>2</td>\n",
       "      <td>Monday</td>\n",
       "      <td>Wednesday</td>\n",
       "      <td>Monday</td>\n",
       "    </tr>\n",
       "  </tbody>\n",
       "</table>\n",
       "</div>"
      ],
      "text/plain": [
       "            state region order_date ready_to_ship_date pickup_date  \\\n",
       "8  North Carolina  South 2020-11-23         2020-11-30  2020-12-02   \n",
       "\n",
       "  waiting_for_pickup  waiting_for_pickup_i ready_ship_day pickup_day order_day  \n",
       "8             2 days                     2         Monday  Wednesday    Monday  "
      ]
     },
     "execution_count": 13,
     "metadata": {},
     "output_type": "execute_result"
    }
   ],
   "source": [
    "pickup_waiting[\"ready_ship_day\"] = pickup_waiting[\"ready_to_ship_date\"].dt.day_name()\n",
    "pickup_waiting[\"pickup_day\"] = pickup_waiting[\"pickup_date\"].dt.day_name()\n",
    "pickup_waiting[\"order_day\"] = pickup_waiting[\"order_date\"].dt.day_name()\n",
    "\n",
    "pickup_waiting.head(1)"
   ]
  },
  {
   "cell_type": "code",
   "execution_count": 26,
   "metadata": {},
   "outputs": [
    {
     "name": "stdout",
     "output_type": "stream",
     "text": [
      "\n",
      "Order Days: order_day\n",
      "Monday       11\n",
      "Saturday      7\n",
      "Tuesday       6\n",
      "Friday        5\n",
      "Wednesday     4\n",
      "Thursday      1\n",
      "Name: count, dtype: int64\n",
      "\n",
      "Total Ready Ship Days: ready_ship_day\n",
      "Friday    22\n",
      "Monday    12\n",
      "Name: count, dtype: int64\n",
      "\n",
      "Region Counts:\n",
      "region\n",
      "West       12\n",
      "South      10\n",
      "East        9\n",
      "Central     3\n",
      "Name: count, dtype: int64\n"
     ]
    }
   ],
   "source": [
    "# Show me all rows with 3 days or more\n",
    "filt_pickup_waiting2 = pickup_waiting.loc[pickup_waiting['waiting_for_pickup_i'] >= 3]\n",
    "\n",
    "# count number of ready_ship_day values for each occurance\n",
    "total_ready_ship_days = filt_pickup_waiting2['ready_ship_day'].value_counts()\n",
    "\n",
    "# count number of ready_ship_day values for each occurance\n",
    "total_order_days = filt_pickup_waiting2['order_day'].value_counts()\n",
    "\n",
    "# count occurance for each region that appears to see if there are any correlations\n",
    "region_counts = filt_pickup_waiting2['region'].value_counts()\n",
    "\n",
    "#print(\"Filtered Rows:\")\n",
    "print(\"\\nOrder Days:\", total_order_days)\n",
    "print(\"\\nTotal Ready Ship Days:\", total_ready_ship_days)\n",
    "print(\"\\nRegion Counts:\")\n",
    "print(region_counts)"
   ]
  },
  {
   "cell_type": "code",
   "execution_count": null,
   "metadata": {},
   "outputs": [],
   "source": [
    "# SINGLE PLOT - DAYS OF ORDERS\n",
    "plt.figure(figsize=(15,8)) # specify figure size\n",
    "f1 = sns.countplot(x=filt_pickup_waiting2['order_day']) # create countplot\n",
    "f1.tick_params(axis='x', rotation=90) # get x-ticks and rotate them\n",
    "f1.set(xlabel=None) # set no label for x-axis \n",
    "f1.set_ylabel(\"Frequency\", fontsize = 10); # set label for y-axis\n",
    "f1.set_title('Days of orders: which lead to 3+ days in waiting', fontsize=20); # set title"
   ]
  },
  {
   "cell_type": "code",
   "execution_count": null,
   "metadata": {},
   "outputs": [],
   "source": [
    "# SINGLE PLOT - DAYS OF READY FOR SHIPPING\n",
    "plt.figure(figsize=(15,8)) # specify figure size\n",
    "f1 = sns.countplot(x=filt_pickup_waiting2['ready_ship_day']) # create countplot\n",
    "f1.tick_params(axis='x', rotation=90) # get x-ticks and rotate them\n",
    "f1.set(xlabel=None) # set no label for x-axis \n",
    "f1.set_ylabel(\"Frequency\", fontsize = 10); # set label for y-axis\n",
    "f1.set_title('Days of ready for shipping: which lead to 3+ days in waiting', fontsize=20); # set title"
   ]
  },
  {
   "cell_type": "code",
   "execution_count": 68,
   "metadata": {},
   "outputs": [
    {
     "data": {
      "text/plain": [
       "''"
      ]
     },
     "execution_count": 68,
     "metadata": {},
     "output_type": "execute_result"
    },
    {
     "data": {
      "image/png": "[encoded data removed]",
      "text/plain": [
       "<Figure size 2500x1500 with 4 Axes>"
      ]
     },
     "metadata": {},
     "output_type": "display_data"
    }
   ],
   "source": [
    "# Plot both charts side by side for Order Day and Ready Ship Day\n",
    "\n",
    "fig, ax = plt.subplots(2,2, figsize=(25,15)) # create subplots on 2 rows and 2 columns\n",
    "plt.suptitle('Days that result in orders to be delayed for pickup', fontsize=30, fontweight='bold') \n",
    "fig.tight_layout()   # tight_layout automatically adjusts subplot params so that the subplot(s) fits in to the figure area\n",
    "plt.subplots_adjust(hspace = .6, wspace = .2, top = .9) # adjusts the space between the single subplots\n",
    "\n",
    "f1 = sns.countplot(x=filt_pickup_waiting2['order_day'], ax=ax[0,0]) # creates barchart \n",
    "f1.tick_params(axis='x', labelrotation=90) # sets the label y-axis\n",
    "f1.set(xlabel=None) # sets the x-axis label\n",
    "f1.set_xlabel(\"\", fontsize = 25) # limits the x-axis values from 0 to 1000000\n",
    "f1.set_title('Day order made: which lead to 3+ days in waiting', fontsize=20); # set title;\n",
    "\n",
    "f2 = sns.countplot(x=filt_pickup_waiting2['ready_ship_day'], ax=ax[0,1]) # creates barchart \n",
    "f2.tick_params(axis='x', labelrotation=90)\n",
    "f2.set(xlabel=None)\n",
    "f2.set_ylabel(\"Frequency\", fontsize = 13)\n",
    "f2.set_title('Day ready for shipping: which lead to 3+ days in waiting', fontsize=20); # set title\n",
    ";"
   ]
  },
  {
   "cell_type": "markdown",
   "metadata": {},
   "source": [
    "### Regions most affected\n",
    "West       12\\\n",
    "South      10\\\n",
    "East        9\\\n",
    "Central     3"
   ]
  }
 ],
 "metadata": {
  "kernelspec": {
   "display_name": "nf_base",
   "language": "python",
   "name": "python3"
  },
  "language_info": {
   "codemirror_mode": {
    "name": "ipython",
    "version": 3
   },
   "file_extension": ".py",
   "mimetype": "text/x-python",
   "name": "python",
   "nbconvert_exporter": "python",
   "pygments_lexer": "ipython3",
   "version": "3.9.19"
  }
 },
 "nbformat": 4,
 "nbformat_minor": 2
}
