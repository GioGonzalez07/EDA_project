{
 "cells": [
  {
   "cell_type": "markdown",
   "metadata": {},
   "source": [
    "## Order pending time\n",
    "\n",
    "This KPI measures the time between the time a order is receive to the time the order is processed and ready to be shipped."
   ]
  },
  {
   "cell_type": "code",
   "execution_count": 16,
   "metadata": {},
   "outputs": [],
   "source": [
    "# imports\n",
    "\n",
    "import pandas as pd\n",
    "from matplotlib import pyplot as plt\n",
    "import seaborn as sns"
   ]
  },
  {
   "cell_type": "code",
   "execution_count": 2,
   "metadata": {},
   "outputs": [
    {
     "data": {
      "text/html": [
       "<div>\n",
       "<style scoped>\n",
       "    .dataframe tbody tr th:only-of-type {\n",
       "        vertical-align: middle;\n",
       "    }\n",
       "\n",
       "    .dataframe tbody tr th {\n",
       "        vertical-align: top;\n",
       "    }\n",
       "\n",
       "    .dataframe thead th {\n",
       "        text-align: right;\n",
       "    }\n",
       "</style>\n",
       "<table border=\"1\" class=\"dataframe\">\n",
       "  <thead>\n",
       "    <tr style=\"text-align: right;\">\n",
       "      <th></th>\n",
       "      <th>order_id</th>\n",
       "      <th>order_date</th>\n",
       "      <th>state</th>\n",
       "      <th>region</th>\n",
       "      <th>ship_mode</th>\n",
       "      <th>ready_to_ship_date</th>\n",
       "      <th>pickup_date</th>\n",
       "      <th>arrival_scan_date</th>\n",
       "    </tr>\n",
       "  </thead>\n",
       "  <tbody>\n",
       "    <tr>\n",
       "      <th>5000</th>\n",
       "      <td>US-2020-167570</td>\n",
       "      <td>2020-12-08</td>\n",
       "      <td>Pennsylvania</td>\n",
       "      <td>East</td>\n",
       "      <td>Standard Processing</td>\n",
       "      <td>NaT</td>\n",
       "      <td>2020-12-16</td>\n",
       "      <td>NaT</td>\n",
       "    </tr>\n",
       "    <tr>\n",
       "      <th>5001</th>\n",
       "      <td>US-2020-167920</td>\n",
       "      <td>2020-12-09</td>\n",
       "      <td>Kentucky</td>\n",
       "      <td>South</td>\n",
       "      <td>Standard Processing</td>\n",
       "      <td>NaT</td>\n",
       "      <td>2020-12-16</td>\n",
       "      <td>NaT</td>\n",
       "    </tr>\n",
       "    <tr>\n",
       "      <th>5002</th>\n",
       "      <td>US-2020-168116</td>\n",
       "      <td>2020-11-04</td>\n",
       "      <td>North Carolina</td>\n",
       "      <td>South</td>\n",
       "      <td>Express</td>\n",
       "      <td>2020-11-04</td>\n",
       "      <td>2020-11-04</td>\n",
       "      <td>NaT</td>\n",
       "    </tr>\n",
       "    <tr>\n",
       "      <th>5003</th>\n",
       "      <td>US-2020-168613</td>\n",
       "      <td>2020-10-08</td>\n",
       "      <td>New York</td>\n",
       "      <td>East</td>\n",
       "      <td>Standard Processing</td>\n",
       "      <td>NaT</td>\n",
       "      <td>2020-10-16</td>\n",
       "      <td>NaT</td>\n",
       "    </tr>\n",
       "    <tr>\n",
       "      <th>5004</th>\n",
       "      <td>US-2020-168690</td>\n",
       "      <td>2020-01-07</td>\n",
       "      <td>Florida</td>\n",
       "      <td>South</td>\n",
       "      <td>Standard Processing</td>\n",
       "      <td>NaT</td>\n",
       "      <td>2020-01-15</td>\n",
       "      <td>2020-01-20</td>\n",
       "    </tr>\n",
       "    <tr>\n",
       "      <th>5005</th>\n",
       "      <td>US-2020-168802</td>\n",
       "      <td>2020-11-03</td>\n",
       "      <td>Washington</td>\n",
       "      <td>West</td>\n",
       "      <td>Standard Processing</td>\n",
       "      <td>2020-11-09</td>\n",
       "      <td>2020-11-12</td>\n",
       "      <td>NaT</td>\n",
       "    </tr>\n",
       "    <tr>\n",
       "      <th>5006</th>\n",
       "      <td>US-2020-169320</td>\n",
       "      <td>2020-07-23</td>\n",
       "      <td>Indiana</td>\n",
       "      <td>Central</td>\n",
       "      <td>Standard Processing</td>\n",
       "      <td>NaT</td>\n",
       "      <td>2020-07-29</td>\n",
       "      <td>NaT</td>\n",
       "    </tr>\n",
       "    <tr>\n",
       "      <th>5007</th>\n",
       "      <td>US-2020-169488</td>\n",
       "      <td>2020-09-07</td>\n",
       "      <td>Rhode Island</td>\n",
       "      <td>East</td>\n",
       "      <td>Express</td>\n",
       "      <td>NaT</td>\n",
       "      <td>2020-09-09</td>\n",
       "      <td>NaT</td>\n",
       "    </tr>\n",
       "    <tr>\n",
       "      <th>5008</th>\n",
       "      <td>US-2020-169502</td>\n",
       "      <td>2020-08-28</td>\n",
       "      <td>Wisconsin</td>\n",
       "      <td>Central</td>\n",
       "      <td>Standard Processing</td>\n",
       "      <td>NaT</td>\n",
       "      <td>2020-09-02</td>\n",
       "      <td>NaT</td>\n",
       "    </tr>\n",
       "    <tr>\n",
       "      <th>5009</th>\n",
       "      <td>US-2020-169551</td>\n",
       "      <td>2020-07-07</td>\n",
       "      <td>Pennsylvania</td>\n",
       "      <td>East</td>\n",
       "      <td>Express</td>\n",
       "      <td>NaT</td>\n",
       "      <td>2020-07-10</td>\n",
       "      <td>NaT</td>\n",
       "    </tr>\n",
       "  </tbody>\n",
       "</table>\n",
       "</div>"
      ],
      "text/plain": [
       "            order_id order_date           state   region            ship_mode  \\\n",
       "5000  US-2020-167570 2020-12-08    Pennsylvania     East  Standard Processing   \n",
       "5001  US-2020-167920 2020-12-09        Kentucky    South  Standard Processing   \n",
       "5002  US-2020-168116 2020-11-04  North Carolina    South              Express   \n",
       "5003  US-2020-168613 2020-10-08        New York     East  Standard Processing   \n",
       "5004  US-2020-168690 2020-01-07         Florida    South  Standard Processing   \n",
       "5005  US-2020-168802 2020-11-03      Washington     West  Standard Processing   \n",
       "5006  US-2020-169320 2020-07-23         Indiana  Central  Standard Processing   \n",
       "5007  US-2020-169488 2020-09-07    Rhode Island     East              Express   \n",
       "5008  US-2020-169502 2020-08-28       Wisconsin  Central  Standard Processing   \n",
       "5009  US-2020-169551 2020-07-07    Pennsylvania     East              Express   \n",
       "\n",
       "     ready_to_ship_date pickup_date arrival_scan_date  \n",
       "5000                NaT  2020-12-16               NaT  \n",
       "5001                NaT  2020-12-16               NaT  \n",
       "5002         2020-11-04  2020-11-04               NaT  \n",
       "5003                NaT  2020-10-16               NaT  \n",
       "5004                NaT  2020-01-15        2020-01-20  \n",
       "5005         2020-11-09  2020-11-12               NaT  \n",
       "5006                NaT  2020-07-29               NaT  \n",
       "5007                NaT  2020-09-09               NaT  \n",
       "5008                NaT  2020-09-02               NaT  \n",
       "5009                NaT  2020-07-10               NaT  "
      ]
     },
     "execution_count": 2,
     "metadata": {},
     "output_type": "execute_result"
    }
   ],
   "source": [
    "%store -r final_merge\n",
    "\n",
    "df = final_merge.copy()\n",
    "df.tail(10)"
   ]
  },
  {
   "cell_type": "code",
   "execution_count": 3,
   "metadata": {},
   "outputs": [],
   "source": [
    "# order_date - day the order is received\n",
    "# ready_to_ship_date - date the order is ready to be shipped"
   ]
  },
  {
   "cell_type": "code",
   "execution_count": 4,
   "metadata": {},
   "outputs": [
    {
     "data": {
      "text/html": [
       "<div>\n",
       "<style scoped>\n",
       "    .dataframe tbody tr th:only-of-type {\n",
       "        vertical-align: middle;\n",
       "    }\n",
       "\n",
       "    .dataframe tbody tr th {\n",
       "        vertical-align: top;\n",
       "    }\n",
       "\n",
       "    .dataframe thead th {\n",
       "        text-align: right;\n",
       "    }\n",
       "</style>\n",
       "<table border=\"1\" class=\"dataframe\">\n",
       "  <thead>\n",
       "    <tr style=\"text-align: right;\">\n",
       "      <th></th>\n",
       "      <th>order_id</th>\n",
       "      <th>ship_mode</th>\n",
       "      <th>order_date</th>\n",
       "      <th>ready_to_ship_date</th>\n",
       "    </tr>\n",
       "  </thead>\n",
       "  <tbody>\n",
       "    <tr>\n",
       "      <th>0</th>\n",
       "      <td>CA-2017-100006</td>\n",
       "      <td>Standard Processing</td>\n",
       "      <td>2017-09-07</td>\n",
       "      <td>NaT</td>\n",
       "    </tr>\n",
       "    <tr>\n",
       "      <th>1</th>\n",
       "      <td>CA-2017-100090</td>\n",
       "      <td>Standard Processing</td>\n",
       "      <td>2017-07-08</td>\n",
       "      <td>NaT</td>\n",
       "    </tr>\n",
       "  </tbody>\n",
       "</table>\n",
       "</div>"
      ],
      "text/plain": [
       "         order_id            ship_mode order_date ready_to_ship_date\n",
       "0  CA-2017-100006  Standard Processing 2017-09-07                NaT\n",
       "1  CA-2017-100090  Standard Processing 2017-07-08                NaT"
      ]
     },
     "execution_count": 4,
     "metadata": {},
     "output_type": "execute_result"
    }
   ],
   "source": [
    "\n",
    "order_date_df = df[[\"order_id\", \"ship_mode\", \"order_date\", \"ready_to_ship_date\"]]\n",
    "\n",
    "order_date_df.head(2)\n"
   ]
  },
  {
   "cell_type": "code",
   "execution_count": 5,
   "metadata": {},
   "outputs": [],
   "source": [
    "df_group_mode = order_date_df.groupby(\"ship_mode\")"
   ]
  },
  {
   "cell_type": "code",
   "execution_count": 55,
   "metadata": {},
   "outputs": [
    {
     "data": {
      "image/png": "[encoded data removed]",
      "text/plain": [
       "<Figure size 640x480 with 1 Axes>"
      ]
     },
     "metadata": {},
     "output_type": "display_data"
    }
   ],
   "source": [
    "standard = df_group_mode.get_group(\"Standard Processing\")\n",
    "standard_notnull = standard.dropna()\n",
    "standard_notnull.insert(4, \"days_between_dates\", (standard_notnull[\"ready_to_ship_date\"] - standard_notnull[\"order_date\"]).dt.days)\n",
    "standard_notnull\n",
    "\n",
    "# histogram with only the data that was provided to us\n",
    "standard_notnull_plt = plt.hist(standard_notnull[\"days_between_dates\"], color='#F6995C')"
   ]
  },
  {
   "cell_type": "code",
   "execution_count": 57,
   "metadata": {},
   "outputs": [
    {
     "data": {
      "image/png": "[encoded data removed]",
      "text/plain": [
       "<Figure size 640x480 with 1 Axes>"
      ]
     },
     "metadata": {},
     "output_type": "display_data"
    }
   ],
   "source": [
    "express = df_group_mode.get_group(\"Express\")\n",
    "\n",
    "express_notnull = express.dropna()\n",
    "express_notnull.insert(4, \"days_between_dates\", (express_notnull[\"ready_to_ship_date\"] - express_notnull[\"order_date\"]).dt.days)\n",
    "\n",
    "# histogram with only the data that was provided to us\n",
    "express_notnull_plt = plt.hist(express_notnull[\"days_between_dates\"], color='#51829B')"
   ]
  },
  {
   "cell_type": "code",
   "execution_count": 61,
   "metadata": {},
   "outputs": [
    {
     "data": {
      "text/plain": [
       "(array([16.,  0.,  4.,  0., 11.,  0., 11.,  0.,  6.,  5.]),\n",
       " array([0. , 0.5, 1. , 1.5, 2. , 2.5, 3. , 3.5, 4. , 4.5, 5. ]),\n",
       " <BarContainer object of 10 artists>)"
      ]
     },
     "execution_count": 61,
     "metadata": {},
     "output_type": "execute_result"
    },
    {
     "data": {
      "image/png": "[encoded data removed]",
      "text/plain": [
       "<Figure size 640x480 with 1 Axes>"
      ]
     },
     "metadata": {},
     "output_type": "display_data"
    }
   ],
   "source": [
    "plt.hist(standard_notnull[\"days_between_dates\"], color='#F6995C')\n",
    "plt.hist(express_notnull[\"days_between_dates\"], color='#51829B')\n"
   ]
  },
  {
   "cell_type": "code",
   "execution_count": 62,
   "metadata": {},
   "outputs": [
    {
     "name": "stderr",
     "output_type": "stream",
     "text": [
      "/var/folders/5g/31htd3cs1cjd_gg__zpcdhmc0000gn/T/ipykernel_57622/1245485468.py:4: FutureWarning: A value is trying to be set on a copy of a DataFrame or Series through chained assignment using an inplace method.\n",
      "The behavior will change in pandas 3.0. This inplace method will never work because the intermediate object on which we are setting values always behaves as a copy.\n",
      "\n",
      "For example, when doing 'df[col].method(value, inplace=True)', try using 'df.method({col: value}, inplace=True)' or df[col] = df[col].method(value) instead, to perform the operation inplace on the original object.\n",
      "\n",
      "\n",
      "  standard_with_mean['ready_to_ship_date'].fillna(pd.to_datetime(standard_with_mean['order_date']) + pd.DateOffset(days=mean), inplace=True)\n"
     ]
    },
    {
     "data": {
      "image/png": "[encoded data removed]",
      "text/plain": [
       "<Figure size 640x480 with 1 Axes>"
      ]
     },
     "metadata": {},
     "output_type": "display_data"
    }
   ],
   "source": [
    "\n",
    "mean = standard_notnull[\"days_between_dates\"].mean().round()\n",
    "\n",
    "standard_with_mean = standard.copy()\n",
    "standard_with_mean['ready_to_ship_date'].fillna(pd.to_datetime(standard_with_mean['order_date']) + pd.DateOffset(days=mean), inplace=True)\n",
    "standard_with_mean.insert(4, \"days_between_dates\", (standard_with_mean[\"ready_to_ship_date\"] - standard_with_mean[\"order_date\"]).dt.days)\n",
    "standard_with_mean\n",
    "\n",
    "# histogram with the data that was insert with adding the mean to the order_date\n",
    "standard_with_mean_plt = plt.hist(standard_notnull[\"days_between_dates\"], color='#F6995C')"
   ]
  },
  {
   "cell_type": "code",
   "execution_count": 63,
   "metadata": {},
   "outputs": [
    {
     "name": "stderr",
     "output_type": "stream",
     "text": [
      "/var/folders/5g/31htd3cs1cjd_gg__zpcdhmc0000gn/T/ipykernel_57622/2266745808.py:4: FutureWarning: A value is trying to be set on a copy of a DataFrame or Series through chained assignment using an inplace method.\n",
      "The behavior will change in pandas 3.0. This inplace method will never work because the intermediate object on which we are setting values always behaves as a copy.\n",
      "\n",
      "For example, when doing 'df[col].method(value, inplace=True)', try using 'df.method({col: value}, inplace=True)' or df[col] = df[col].method(value) instead, to perform the operation inplace on the original object.\n",
      "\n",
      "\n",
      "  express_with_mean['ready_to_ship_date'].fillna(pd.to_datetime(express_with_mean['order_date']) + pd.DateOffset(days=mean), inplace=True)\n"
     ]
    },
    {
     "data": {
      "image/png": "[encoded data removed]",
      "text/plain": [
       "<Figure size 640x480 with 1 Axes>"
      ]
     },
     "metadata": {},
     "output_type": "display_data"
    }
   ],
   "source": [
    "mean = express_notnull[\"days_between_dates\"].mean().round()\n",
    "\n",
    "express_with_mean = express.copy()\n",
    "express_with_mean['ready_to_ship_date'].fillna(pd.to_datetime(express_with_mean['order_date']) + pd.DateOffset(days=mean), inplace=True)\n",
    "express_with_mean.insert(4, \"days_between_dates\", (express_with_mean[\"ready_to_ship_date\"] - express_with_mean[\"order_date\"]).dt.days)\n",
    "express_with_mean\n",
    "\n",
    "# histogram with the data that was insert with adding the mean to the order_date\n",
    "express_with_mean_plt = plt.hist(express_with_mean[\"days_between_dates\"], color='#51829B')\n"
   ]
  },
  {
   "cell_type": "code",
   "execution_count": 64,
   "metadata": {},
   "outputs": [
    {
     "data": {
      "text/plain": [
       "(array([  16.,    0.,    4.,    0., 1010.,    0.,   11.,    0.,    6.,\n",
       "           5.]),\n",
       " array([0. , 0.5, 1. , 1.5, 2. , 2.5, 3. , 3.5, 4. , 4.5, 5. ]),\n",
       " <BarContainer object of 10 artists>)"
      ]
     },
     "execution_count": 64,
     "metadata": {},
     "output_type": "execute_result"
    },
    {
     "data": {
      "image/png": "[encoded data removed]",
      "text/plain": [
       "<Figure size 640x480 with 1 Axes>"
      ]
     },
     "metadata": {},
     "output_type": "display_data"
    }
   ],
   "source": [
    "plt.hist(standard_notnull[\"days_between_dates\"], color='#F6995C')\n",
    "plt.hist(express_with_mean[\"days_between_dates\"], color='#51829B')"
   ]
  },
  {
   "cell_type": "code",
   "execution_count": null,
   "metadata": {},
   "outputs": [],
   "source": [
    "%stored standard_notnull_plt\n",
    "%store standard_with_mean_plt\n",
    "%store express_notnull_plt\n",
    "%store express_with_mean_plt"
   ]
  }
 ],
 "metadata": {
  "kernelspec": {
   "display_name": "nf_base",
   "language": "python",
   "name": "python3"
  },
  "language_info": {
   "codemirror_mode": {
    "name": "ipython",
    "version": 3
   },
   "file_extension": ".py",
   "mimetype": "text/x-python",
   "name": "python",
   "nbconvert_exporter": "python",
   "pygments_lexer": "ipython3",
   "version": "3.9.19"
  }
 },
 "nbformat": 4,
 "nbformat_minor": 2
}
