{
 "cells": [
  {
   "cell_type": "markdown",
   "metadata": {},
   "source": [
    "## Order pending time\n",
    "\n",
    "This KPI measures the time between the time a order is receive to the time the order is processed and ready to be shipped.\n",
    "\n",
    "To do:\n",
    "- Compare dates with states or regions"
   ]
  },
  {
   "cell_type": "code",
   "execution_count": null,
   "metadata": {},
   "outputs": [],
   "source": [
    "# imports\n",
    "\n",
    "import pandas as pd\n",
    "from matplotlib import pyplot as plt\n",
    "import seaborn as sns"
   ]
  },
  {
   "cell_type": "code",
   "execution_count": null,
   "metadata": {},
   "outputs": [],
   "source": [
    "%store -r final_merge\n",
    "\n",
    "df = final_merge.copy()\n",
    "df.tail(10)"
   ]
  },
  {
   "cell_type": "code",
   "execution_count": null,
   "metadata": {},
   "outputs": [],
   "source": [
    "# order_date - day the order is received\n",
    "# ready_to_ship_date - date the order is ready to be shipped"
   ]
  },
  {
   "cell_type": "code",
   "execution_count": null,
   "metadata": {},
   "outputs": [],
   "source": [
    "\n",
    "order_date_df = df[[\"order_id\", \"ship_mode\", \"order_date\", \"ready_to_ship_date\"]]\n",
    "\n",
    "order_date_df.head(2)\n"
   ]
  },
  {
   "cell_type": "code",
   "execution_count": null,
   "metadata": {},
   "outputs": [],
   "source": [
    "df_group_mode = order_date_df.groupby(\"ship_mode\")"
   ]
  },
  {
   "cell_type": "code",
   "execution_count": null,
   "metadata": {},
   "outputs": [],
   "source": [
    "standard = df_group_mode.get_group(\"Standard Processing\")\n",
    "standard_notnull = standard.dropna()\n",
    "standard_notnull.insert(4, \"days_between_dates\", (standard_notnull[\"ready_to_ship_date\"] - standard_notnull[\"order_date\"]).dt.days)\n",
    "standard_notnull\n",
    "\n",
    "# histogram with only the data that was provided to us\n",
    "standard_notnull_plt = plt.hist(standard_notnull[\"days_between_dates\"], color='#F6995C')"
   ]
  },
  {
   "cell_type": "code",
   "execution_count": null,
   "metadata": {},
   "outputs": [],
   "source": [
    "express = df_group_mode.get_group(\"Express\")\n",
    "\n",
    "express_notnull = express.dropna()\n",
    "express_notnull.insert(4, \"days_between_dates\", (express_notnull[\"ready_to_ship_date\"] - express_notnull[\"order_date\"]).dt.days)\n",
    "\n",
    "# histogram with only the data that was provided to us\n",
    "express_notnull_plt = plt.hist(express_notnull[\"days_between_dates\"], color='#51829B')"
   ]
  },
  {
   "cell_type": "code",
   "execution_count": null,
   "metadata": {},
   "outputs": [],
   "source": [
    "plt.hist(standard_notnull[\"days_between_dates\"], color='#F6995C')\n",
    "plt.hist(express_notnull[\"days_between_dates\"], color='#51829B')\n"
   ]
  },
  {
   "cell_type": "code",
   "execution_count": null,
   "metadata": {},
   "outputs": [],
   "source": [
    "\n",
    "mean = standard_notnull[\"days_between_dates\"].mean().round()\n",
    "\n",
    "standard_with_mean = standard.copy()\n",
    "standard_with_mean['ready_to_ship_date'].fillna(pd.to_datetime(standard_with_mean['order_date']) + pd.DateOffset(days=mean), inplace=True)\n",
    "standard_with_mean.insert(4, \"days_between_dates\", (standard_with_mean[\"ready_to_ship_date\"] - standard_with_mean[\"order_date\"]).dt.days)\n",
    "standard_with_mean\n",
    "\n",
    "# histogram with the data that was insert with adding the mean to the order_date\n",
    "standard_with_mean_plt = plt.hist(standard_notnull[\"days_between_dates\"], color='#F6995C')"
   ]
  },
  {
   "cell_type": "code",
   "execution_count": null,
   "metadata": {},
   "outputs": [],
   "source": [
    "mean = express_notnull[\"days_between_dates\"].mean().round()\n",
    "\n",
    "express_with_mean = express.copy()\n",
    "express_with_mean['ready_to_ship_date'].fillna(pd.to_datetime(express_with_mean['order_date']) + pd.DateOffset(days=mean), inplace=True)\n",
    "express_with_mean.insert(4, \"days_between_dates\", (express_with_mean[\"ready_to_ship_date\"] - express_with_mean[\"order_date\"]).dt.days)\n",
    "express_with_mean\n",
    "\n",
    "# histogram with the data that was insert with adding the mean to the order_date\n",
    "express_with_mean_plt = plt.hist(express_with_mean[\"days_between_dates\"], color='#51829B')\n"
   ]
  },
  {
   "cell_type": "code",
   "execution_count": null,
   "metadata": {},
   "outputs": [],
   "source": [
    "plt.hist(standard_notnull[\"days_between_dates\"], color='#F6995C')\n",
    "plt.hist(express_with_mean[\"days_between_dates\"], color='#51829B')"
   ]
  },
  {
   "cell_type": "code",
   "execution_count": null,
   "metadata": {},
   "outputs": [],
   "source": [
    "%stored standard_notnull_plt\n",
    "%store standard_with_mean_plt\n",
    "%store express_notnull_plt\n",
    "%store express_with_mean_plt"
   ]
  },
  {
   "cell_type": "markdown",
   "metadata": {},
   "source": [
    "### Extra:"
   ]
  },
  {
   "cell_type": "code",
   "execution_count": null,
   "metadata": {},
   "outputs": [],
   "source": [
    "order_date_region_df = df[[\"order_id\", \"state\", \"region\", \"ship_mode\", \"order_date\", \"ready_to_ship_date\"]]"
   ]
  },
  {
   "cell_type": "code",
   "execution_count": null,
   "metadata": {},
   "outputs": [],
   "source": [
    "order_date_region_mode = order_date_region_df.groupby(\"region\", dropna=True)"
   ]
  },
  {
   "cell_type": "code",
   "execution_count": null,
   "metadata": {},
   "outputs": [],
   "source": [
    "#standard_mode_notnull = standard_mode.dropna()\n",
    "#standard_region = standard_mode_notnull.groupby(\"ship_mode\")\n",
    "#standard_mode = standard_region.get_group(\"Standard Processing\")\n",
    "#standard_region[\"days_between_dates\"] = standard_region[\"ready_to_ship_date\"] - standard_region[\"order_date\"]\n",
    "\n",
    "#standard_region\n",
    "\n",
    "\n",
    "\n",
    "# histogram with only the data that was provided to us\n",
    "#standard_region_notnull_plt = plt.hist(standard_notnull[\"days_between_dates\"], color='#F6995C')"
   ]
  },
  {
   "cell_type": "code",
   "execution_count": null,
   "metadata": {},
   "outputs": [],
   "source": [
    "\n",
    "#per_year = sns.barplot(x=order_group_region['region'], y = order_group_region['order_id'])\n",
    "#per_year.tick_params(axis='x', rotation=50)\n",
    "#per_year.set_ylabel(\"No of orders\", fontsize = 10); \n",
    "#per_year.set(xlabel=None) \n",
    "#per_year.set_title('Number of orders per region in USA', fontsize=20);"
   ]
  }
 ],
 "metadata": {
  "kernelspec": {
   "display_name": "nf_base",
   "language": "python",
   "name": "python3"
  },
  "language_info": {
   "codemirror_mode": {
    "name": "ipython",
    "version": 3
   },
   "file_extension": ".py",
   "mimetype": "text/x-python",
   "name": "python",
   "nbconvert_exporter": "python",
   "pygments_lexer": "ipython3",
   "version": "3.9.19"
  }
 },
 "nbformat": 4,
 "nbformat_minor": 2
}
